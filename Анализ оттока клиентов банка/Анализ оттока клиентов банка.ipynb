{
 "cells": [
  {
   "cell_type": "markdown",
   "metadata": {},
   "source": [
    "# Анализ оттока клиентов «Метанпромбанка»"
   ]
  },
  {
   "cell_type": "markdown",
   "metadata": {},
   "source": [
    "Материалы\n",
    "* [Презентация](https://drive.google.com/drive/folders/16yPJ002mGxASOcAp_jm5duVx65ftb5Nh)"
   ]
  },
  {
   "cell_type": "markdown",
   "metadata": {},
   "source": [
    "1. [Декомпозиция](#decomposition)\n",
    "2. [Введение](#introduction)\n",
    "3. [Загрузка данных](#getting)\n",
    "    * [Вывод по разделу](#conclusion_getting)\n",
    "4. [Предобработка данных](#preprocessing)\n",
    "    * [Переименование столбцов](#columns_rename)\n",
    "    * [Проверка на наличие некорректных значений](#incorrect_values)\n",
    "    * [Проверка на наличие неявных дубликатов](#implicit_duplicates)\n",
    "    * [Кодирование данных](#data_encoding)\n",
    "    * [Обработка пропущенных значений](#missing_values)\n",
    "    * [Создание дополнительных столбцов 'balance_thousand' , 'est_salary_thousand' и 'churn_word'](#converting_values)\n",
    "    * [Вывод по разделу](#preprocessing_conclusion)\n",
    "5. [Исследовательский анализ данных](#analys)  \n",
    "* [Анализ распределения признаков](#analys_distribution)\n",
    "   * [Анализ распределения непрерывных признаков](#analys_distribution_continuous_attribute)\n",
    "     * [Анализ распределения клиентов по признаку \"Баллы кредитного скоринга\" в разрезе оттока](#analys_score)\n",
    "     * [Анализ распределения клиентов по признаку \"Возраст клиента\" в разрезе оттока](#analys_age)\n",
    "     * [Анализ распределения клиентов по признаку \"Баланс на счете\" в разрезе оттока](#analys_balance)\n",
    "     * [Анализ распределения клиентов по признаку \"Оценочный доход\" в разрезе оттока](#analys_est_salary)  \n",
    "   * [Анализ распределения дискретных и категориальных признаков](#analys_distribution_discrete_attribute)    \n",
    "     * [Анализ распределения клиентов по признаку \"Город\" в разрезе оттока](#analys_city)\n",
    "     * [Анализ распределения клиентов по признаку \"Пол\" в разрезе оттока](#analys_gender)\n",
    "     * [Анализ распределения клиентов по признаку \"Количество продуктов\" в разрезе оттока](#analys_product)\n",
    "     * [Анализ распределения клиентов по признаку \"Количество баллов собственности\" в разрезе оттока](#analys_equity)    \n",
    "     * [Анализ распределения клиентов по признаку \"Наличие кредитной карты\" в разрезе оттока](#analys_credit_card)\n",
    "     * [Анализ распределения клиентов по признаку \"Активность клиента\" в разрезе оттока](#analys_last_activity)\n",
    "* [Корреляция признаков](#feature_correlation)  \n",
    "* [Портрет клиента](#client_portret)\n",
    "* [Статистический анализ данных](#hypothesis_testing)\n",
    "  * [Проверка гипотезы о  различии дохода между теми клиентами, которые ушли, и теми, которые остались](#hypothesis_est_salary)\n",
    "  * [Проверка гипотезы о  различии количества баллов собственности между теми клиентами, которые ушли, и теми, которые остались](#hypothesis_equity)\n",
    "* [Вывод по разделу](#analys_conclusion)\n",
    "6. [Сегментация клиентов](#customer_segmentation) \n",
    "* [Сегмент №1](#segment_one)\n",
    "* [Сегмент №2](#segment_two)\n",
    "* [Сегмент №3](#segment_three)\n",
    "* [Вывод по разделу](#segment_conclusion)\n",
    "7. [Приоритизация сегментов](#segment_prioritization)\n",
    "* [Вывод по разделу](#segment_prioritization_conclusion)\n",
    "8. [Вывод](#conclusion)\n",
    "9. [Презентация](https://drive.google.com/drive/folders/16yPJ002mGxASOcAp_jm5duVx65ftb5Nh)"
   ]
  },
  {
   "cell_type": "markdown",
   "metadata": {},
   "source": [
    "<a id=\"decomposition\"></a> \n",
    "### Декомпозиция"
   ]
  },
  {
   "cell_type": "markdown",
   "metadata": {},
   "source": [
    "1. Введение\n",
    "* актуальность темы\n",
    "* цель проекта\n",
    "* задачи проекта\n",
    "* структура данных\n",
    "* этапы работы\n",
    "2. Загрузка, первичный осмотр и предобработка данных\n",
    "* переименование столбцов 'USERID', 'EST_SALARY'\n",
    "* исследование и обработка некорректных значений\n",
    "* исследование и обработка дубликатов\n",
    "* исследование и обработка пропусков\n",
    "  * кодирование данных столбцов 'gender', 'city'\n",
    "  * кодирование данных столбцов 'age', 'balance' \n",
    "* выводы по разделу"
   ]
  },
  {
   "cell_type": "markdown",
   "metadata": {},
   "source": [
    "3. Проведение исследовательского анализа данных\n",
    "* анализ распределения признаков\n",
    "  * без деления на выборки\n",
    "  * в разрезе оттока\n",
    "* анализ портретов клиентов в разрезе оттока\n",
    "* корреляционный анализ\n",
    "* выводы по разделу"
   ]
  },
  {
   "cell_type": "markdown",
   "metadata": {},
   "source": [
    "4. Проверка статистическийх гипотез\n",
    "* гипотеза о различии дохода между теми клиентами, которые ушли, и теми, которые остались\n",
    "* гипотеза будет определена по мере проведения исследования \n",
    "* выводы по разделу"
   ]
  },
  {
   "cell_type": "markdown",
   "metadata": {},
   "source": [
    "5. Работа с сегментами клиентов\n",
    "* сегментация клиентов по уровню оттока\n",
    "* приоритизация сегментов"
   ]
  },
  {
   "cell_type": "markdown",
   "metadata": {},
   "source": [
    "* формирование таргетированных рекомендаций\n",
    "* выводы по разделу"
   ]
  },
  {
   "cell_type": "markdown",
   "metadata": {},
   "source": [
    "6. Презентация"
   ]
  },
  {
   "cell_type": "markdown",
   "metadata": {},
   "source": [
    "<a id=\"introduction\"></a> \n",
    "### Введение"
   ]
  },
  {
   "cell_type": "markdown",
   "metadata": {},
   "source": [
    "__Актуальность темы исследования.__ «Метанпромбанк» в срочном порядке ищет аналитиков с уверенным владением «Python». Нашей главной задачей станет анализ оттока клиентов. Анализ покажет, какие клиенты уходят из банка, а так же поможет нам составить сегменты клиентов, которые склонны уходить из банка.\n",
    "\n",
    "__Цель проекта:__ провести анализ оттока клиентов «Метанпромбанка».\n",
    "\n",
    "__Задачи__ проекта:\n",
    "1. Поиск и анализ оттока клиентов\n",
    "2. Сегментирование клиентов  \n",
    "3. Формирование таргетированных рекомендаций для отдела маркетинга\n",
    "\n",
    "\n",
    "__Объект__ исследования: отток клиентов «Метанпромбанка».\n",
    "\n",
    "__Предмет__ исследования: датасет bank_scrooge.csv, который содержит данные о клиентах «Метанпромбанка». \n",
    "\n",
    "__Структура__   bank_scrooge.csv:\n",
    "\n",
    "* USERID — идентификатор пользователя,\n",
    "* score — баллы кредитного скоринга,\n",
    "* city — город,\n",
    "* gender — пол,\n",
    "* age — возраст,\n",
    "* equity — количество баллов собственности\n",
    "* balance — баланс на счёте,\n",
    "* products — количество продуктов, которыми пользуется клиент,\n",
    "* credit_card — есть ли кредитная карта,\n",
    "* last_activity — активный клиент,\n",
    "* EST_SALARY — оценочный доход клиента,\n",
    "* сhurn — признак оттока.\n",
    "\n",
    "    \n",
    "В дорожную карту проекта включили следующие этапы:\n",
    "1. Загрузка, первичный осмотр данных\n",
    "2. Предварительная обработка данных \n",
    "3. Проведение исследовательского анализа данных\n",
    "4. Сегментация клиентов\n",
    "5. Приоритизация сегментов\n",
    "6. Выводы\n",
    "7. Презентация"
   ]
  },
  {
   "cell_type": "markdown",
   "metadata": {},
   "source": [
    "<a id=\"getting\"></a> \n",
    "### Загрузим данные и подготовим их к анализу"
   ]
  },
  {
   "cell_type": "code",
   "execution_count": 1,
   "metadata": {},
   "outputs": [],
   "source": [
    "import pandas as pd\n",
    "import matplotlib.pyplot as plt\n",
    "import seaborn as sns\n",
    "import numpy as np\n",
    "from scipy import stats as st"
   ]
  },
  {
   "cell_type": "code",
   "execution_count": 2,
   "metadata": {},
   "outputs": [],
   "source": [
    "pd.set_option('display.max_columns', None)\n",
    "pd.set_option('display.float_format', '{:.2f}'.format)"
   ]
  },
  {
   "cell_type": "code",
   "execution_count": 3,
   "metadata": {},
   "outputs": [],
   "source": [
    "# пишем функцию, которая даст информацию о датасете\n",
    "def get_know_date(table):\n",
    "    \"\"\"Эта функция дает основную информацию о датасете, количестве пропущенных значений, количестве дубликатов.\n",
    "\n",
    "    В качестве аргумента функция принимает название таблицы.\n",
    "    \"\"\"\n",
    "    table.info()\n",
    "    print('*'*50)\n",
    "    print('Количество пропущенных значений:')\n",
    "    print(table.isna().sum())\n",
    "    print('*'*50)\n",
    "    print('Количество дубликатов:', table.duplicated().sum())\n",
    "    print('*'*50)      "
   ]
  },
  {
   "cell_type": "code",
   "execution_count": 4,
   "metadata": {},
   "outputs": [
    {
     "name": "stdout",
     "output_type": "stream",
     "text": [
      "<class 'pandas.core.frame.DataFrame'>\n",
      "RangeIndex: 10000 entries, 0 to 9999\n",
      "Data columns (total 12 columns):\n",
      " #   Column         Non-Null Count  Dtype  \n",
      "---  ------         --------------  -----  \n",
      " 0   USERID         10000 non-null  int64  \n",
      " 1   score          10000 non-null  float64\n",
      " 2   city           10000 non-null  object \n",
      " 3   gender         10000 non-null  object \n",
      " 4   age            9974 non-null   float64\n",
      " 5   equity         10000 non-null  int64  \n",
      " 6   balance        7705 non-null   float64\n",
      " 7   products       10000 non-null  int64  \n",
      " 8   credit_card    10000 non-null  int64  \n",
      " 9   last_activity  10000 non-null  int64  \n",
      " 10  EST_SALARY     10000 non-null  float64\n",
      " 11  churn          10000 non-null  int64  \n",
      "dtypes: float64(4), int64(6), object(2)\n",
      "memory usage: 937.6+ KB\n",
      "**************************************************\n",
      "Количество пропущенных значений:\n",
      "USERID              0\n",
      "score               0\n",
      "city                0\n",
      "gender              0\n",
      "age                26\n",
      "equity              0\n",
      "balance          2295\n",
      "products            0\n",
      "credit_card         0\n",
      "last_activity       0\n",
      "EST_SALARY          0\n",
      "churn               0\n",
      "dtype: int64\n",
      "**************************************************\n",
      "Количество дубликатов: 0\n",
      "**************************************************\n"
     ]
    }
   ],
   "source": [
    "# знакомимся с датасетом\n",
    "bank = pd.read_csv('https://code.s3.yandex.net/datasets/bank_scrooge.csv')\n",
    "get_know_date(bank)"
   ]
  },
  {
   "cell_type": "code",
   "execution_count": 5,
   "metadata": {},
   "outputs": [
    {
     "data": {
      "text/html": [
       "<div>\n",
       "<style scoped>\n",
       "    .dataframe tbody tr th:only-of-type {\n",
       "        vertical-align: middle;\n",
       "    }\n",
       "\n",
       "    .dataframe tbody tr th {\n",
       "        vertical-align: top;\n",
       "    }\n",
       "\n",
       "    .dataframe thead th {\n",
       "        text-align: right;\n",
       "    }\n",
       "</style>\n",
       "<table border=\"1\" class=\"dataframe\">\n",
       "  <thead>\n",
       "    <tr style=\"text-align: right;\">\n",
       "      <th></th>\n",
       "      <th>USERID</th>\n",
       "      <th>score</th>\n",
       "      <th>city</th>\n",
       "      <th>gender</th>\n",
       "      <th>age</th>\n",
       "      <th>equity</th>\n",
       "      <th>balance</th>\n",
       "      <th>products</th>\n",
       "      <th>credit_card</th>\n",
       "      <th>last_activity</th>\n",
       "      <th>EST_SALARY</th>\n",
       "      <th>churn</th>\n",
       "    </tr>\n",
       "  </thead>\n",
       "  <tbody>\n",
       "    <tr>\n",
       "      <th>0</th>\n",
       "      <td>183012</td>\n",
       "      <td>850.00</td>\n",
       "      <td>Рыбинск</td>\n",
       "      <td>Ж</td>\n",
       "      <td>25.00</td>\n",
       "      <td>1</td>\n",
       "      <td>59214.82</td>\n",
       "      <td>2</td>\n",
       "      <td>0</td>\n",
       "      <td>1</td>\n",
       "      <td>75719.14</td>\n",
       "      <td>1</td>\n",
       "    </tr>\n",
       "    <tr>\n",
       "      <th>1</th>\n",
       "      <td>146556</td>\n",
       "      <td>861.00</td>\n",
       "      <td>Рыбинск</td>\n",
       "      <td>Ж</td>\n",
       "      <td>37.00</td>\n",
       "      <td>5</td>\n",
       "      <td>850594.33</td>\n",
       "      <td>3</td>\n",
       "      <td>1</td>\n",
       "      <td>0</td>\n",
       "      <td>86621.77</td>\n",
       "      <td>0</td>\n",
       "    </tr>\n",
       "    <tr>\n",
       "      <th>2</th>\n",
       "      <td>120722</td>\n",
       "      <td>892.00</td>\n",
       "      <td>Рыбинск</td>\n",
       "      <td>Ж</td>\n",
       "      <td>30.00</td>\n",
       "      <td>0</td>\n",
       "      <td>NaN</td>\n",
       "      <td>1</td>\n",
       "      <td>1</td>\n",
       "      <td>1</td>\n",
       "      <td>107683.34</td>\n",
       "      <td>0</td>\n",
       "    </tr>\n",
       "    <tr>\n",
       "      <th>3</th>\n",
       "      <td>225363</td>\n",
       "      <td>866.00</td>\n",
       "      <td>Ярославль</td>\n",
       "      <td>Ж</td>\n",
       "      <td>51.00</td>\n",
       "      <td>5</td>\n",
       "      <td>1524746.26</td>\n",
       "      <td>2</td>\n",
       "      <td>0</td>\n",
       "      <td>1</td>\n",
       "      <td>174423.53</td>\n",
       "      <td>1</td>\n",
       "    </tr>\n",
       "    <tr>\n",
       "      <th>4</th>\n",
       "      <td>157978</td>\n",
       "      <td>730.00</td>\n",
       "      <td>Ярославль</td>\n",
       "      <td>М</td>\n",
       "      <td>34.00</td>\n",
       "      <td>5</td>\n",
       "      <td>174.00</td>\n",
       "      <td>1</td>\n",
       "      <td>1</td>\n",
       "      <td>0</td>\n",
       "      <td>67353.16</td>\n",
       "      <td>1</td>\n",
       "    </tr>\n",
       "  </tbody>\n",
       "</table>\n",
       "</div>"
      ],
      "text/plain": [
       "   USERID  score       city gender   age  equity    balance  products  \\\n",
       "0  183012 850.00    Рыбинск      Ж 25.00       1   59214.82         2   \n",
       "1  146556 861.00    Рыбинск      Ж 37.00       5  850594.33         3   \n",
       "2  120722 892.00    Рыбинск      Ж 30.00       0        NaN         1   \n",
       "3  225363 866.00  Ярославль      Ж 51.00       5 1524746.26         2   \n",
       "4  157978 730.00  Ярославль      М 34.00       5     174.00         1   \n",
       "\n",
       "   credit_card  last_activity  EST_SALARY  churn  \n",
       "0            0              1    75719.14      1  \n",
       "1            1              0    86621.77      0  \n",
       "2            1              1   107683.34      0  \n",
       "3            0              1   174423.53      1  \n",
       "4            1              0    67353.16      1  "
      ]
     },
     "execution_count": 5,
     "metadata": {},
     "output_type": "execute_result"
    }
   ],
   "source": [
    "bank.head()"
   ]
  },
  {
   "cell_type": "markdown",
   "metadata": {},
   "source": [
    "<a id=\"conclusion_getting\"></a> \n",
    "__Мы познакомились с данными. Что имеем:__\n",
    "1. Таблица 'bank_scrooge.csv':\n",
    "* содержит  10000 строк, 12 столбцов;\n",
    "* столбцы 'USERID', 'EST_SALARY' имеют некорректные названия;\n",
    "* тип данных в столбцах соответствует содержанию;\n",
    "* есть пропущенные значения в столбцах 'age' (26), 'balance' (2295); \n",
    "* дубликаты отсутствуют.\n",
    "            \n",
    "__Вывод:__ необходимо сделать предварительную обработку данных."
   ]
  },
  {
   "cell_type": "markdown",
   "metadata": {},
   "source": [
    "<a id=\"preprocessing\"></a> \n",
    "### Предобработка данных"
   ]
  },
  {
   "cell_type": "markdown",
   "metadata": {},
   "source": [
    "<a id=\"columns_rename\"></a> \n",
    "#### Переименование столбцов"
   ]
  },
  {
   "cell_type": "code",
   "execution_count": 6,
   "metadata": {},
   "outputs": [],
   "source": [
    "# дадим корректные названия столбцам\n",
    "bank = bank.rename(columns = {'USERID':'user_id', 'EST_SALARY':'est_salary'})"
   ]
  },
  {
   "cell_type": "markdown",
   "metadata": {},
   "source": [
    "<a id=\"incorrect_values\"></a> \n",
    "#### Проверка  на наличие некорректных значений"
   ]
  },
  {
   "cell_type": "code",
   "execution_count": 7,
   "metadata": {},
   "outputs": [
    {
     "data": {
      "text/plain": [
       "array(['Рыбинск', 'Ярославль', 'Ростов'], dtype=object)"
      ]
     },
     "execution_count": 7,
     "metadata": {},
     "output_type": "execute_result"
    }
   ],
   "source": [
    "# посмотрим уникальные значения в столбце 'city'\n",
    "bank['city'].unique()"
   ]
  },
  {
   "cell_type": "markdown",
   "metadata": {},
   "source": [
    "Значения в столбце 'city' соответствуют техническому заданию"
   ]
  },
  {
   "cell_type": "code",
   "execution_count": 8,
   "metadata": {},
   "outputs": [
    {
     "data": {
      "text/plain": [
       "array(['Ж', 'М'], dtype=object)"
      ]
     },
     "execution_count": 8,
     "metadata": {},
     "output_type": "execute_result"
    }
   ],
   "source": [
    "# посмотрим уникальные значения в столбце 'gender'\n",
    "bank['gender'].unique()"
   ]
  },
  {
   "cell_type": "markdown",
   "metadata": {},
   "source": [
    "Значения в столбце 'gender' соответствуют техническому заданию"
   ]
  },
  {
   "cell_type": "code",
   "execution_count": 9,
   "metadata": {
    "scrolled": true
   },
   "outputs": [
    {
     "data": {
      "text/plain": [
       "array([2, 3, 1, 4, 5, 0])"
      ]
     },
     "execution_count": 9,
     "metadata": {},
     "output_type": "execute_result"
    }
   ],
   "source": [
    "# посмотрим уникальные значения в столбце 'product'\n",
    "bank['products'].unique()"
   ]
  },
  {
   "cell_type": "markdown",
   "metadata": {},
   "source": [
    "* Значение '0' в столбце 'products' некорректно. Если человек является клиентом банка, то значит он пользуется как минимум одним продуктом\n",
    "* Найдем строки, в которых 'products' = 0"
   ]
  },
  {
   "cell_type": "code",
   "execution_count": 10,
   "metadata": {
    "scrolled": true
   },
   "outputs": [
    {
     "data": {
      "text/html": [
       "<div>\n",
       "<style scoped>\n",
       "    .dataframe tbody tr th:only-of-type {\n",
       "        vertical-align: middle;\n",
       "    }\n",
       "\n",
       "    .dataframe tbody tr th {\n",
       "        vertical-align: top;\n",
       "    }\n",
       "\n",
       "    .dataframe thead th {\n",
       "        text-align: right;\n",
       "    }\n",
       "</style>\n",
       "<table border=\"1\" class=\"dataframe\">\n",
       "  <thead>\n",
       "    <tr style=\"text-align: right;\">\n",
       "      <th></th>\n",
       "      <th>user_id</th>\n",
       "      <th>score</th>\n",
       "      <th>city</th>\n",
       "      <th>gender</th>\n",
       "      <th>age</th>\n",
       "      <th>equity</th>\n",
       "      <th>balance</th>\n",
       "      <th>products</th>\n",
       "      <th>credit_card</th>\n",
       "      <th>last_activity</th>\n",
       "      <th>est_salary</th>\n",
       "      <th>churn</th>\n",
       "    </tr>\n",
       "  </thead>\n",
       "  <tbody>\n",
       "    <tr>\n",
       "      <th>8957</th>\n",
       "      <td>147837</td>\n",
       "      <td>962.00</td>\n",
       "      <td>Рыбинск</td>\n",
       "      <td>Ж</td>\n",
       "      <td>79.00</td>\n",
       "      <td>3</td>\n",
       "      <td>NaN</td>\n",
       "      <td>0</td>\n",
       "      <td>0</td>\n",
       "      <td>0</td>\n",
       "      <td>25063.96</td>\n",
       "      <td>1</td>\n",
       "    </tr>\n",
       "  </tbody>\n",
       "</table>\n",
       "</div>"
      ],
      "text/plain": [
       "      user_id  score     city gender   age  equity  balance  products  \\\n",
       "8957   147837 962.00  Рыбинск      Ж 79.00       3      NaN         0   \n",
       "\n",
       "      credit_card  last_activity  est_salary  churn  \n",
       "8957            0              0    25063.96      1  "
      ]
     },
     "execution_count": 10,
     "metadata": {},
     "output_type": "execute_result"
    }
   ],
   "source": [
    "bank.query('products == 0')"
   ]
  },
  {
   "cell_type": "markdown",
   "metadata": {},
   "source": [
    "* Найден один клиент - женщина в возрасте 79 лет с отсутствием сведений по признаку 'balance', без кредитной карты, без банковских продуктов, без активности, с признаком оттока.\n",
    "* Удалим эту строку, как строку с некорректным значением в столбце 'products'."
   ]
  },
  {
   "cell_type": "code",
   "execution_count": 11,
   "metadata": {},
   "outputs": [],
   "source": [
    "bank = bank.query('products !=0')"
   ]
  },
  {
   "cell_type": "code",
   "execution_count": 12,
   "metadata": {
    "scrolled": true
   },
   "outputs": [
    {
     "data": {
      "text/plain": [
       "array([1, 5, 0, 4, 3, 2, 6, 7, 8, 9])"
      ]
     },
     "execution_count": 12,
     "metadata": {},
     "output_type": "execute_result"
    }
   ],
   "source": [
    "# посмотрим уникальные значения в столбце 'equity'\n",
    "bank['equity'].unique()"
   ]
  },
  {
   "cell_type": "markdown",
   "metadata": {},
   "source": [
    "Значения в столбце 'equity' корректные"
   ]
  },
  {
   "cell_type": "code",
   "execution_count": 13,
   "metadata": {},
   "outputs": [
    {
     "data": {
      "text/plain": [
       "array([1, 0])"
      ]
     },
     "execution_count": 13,
     "metadata": {},
     "output_type": "execute_result"
    }
   ],
   "source": [
    "# посмотрим уникальные значения в столбце 'churn'\n",
    "bank['churn'].unique()"
   ]
  },
  {
   "cell_type": "markdown",
   "metadata": {},
   "source": [
    "Значения в столбце 'churn' соответствуют техническому заданию"
   ]
  },
  {
   "cell_type": "code",
   "execution_count": 14,
   "metadata": {},
   "outputs": [
    {
     "data": {
      "text/plain": [
       "array([0, 1])"
      ]
     },
     "execution_count": 14,
     "metadata": {},
     "output_type": "execute_result"
    }
   ],
   "source": [
    "# посмотрим уникальные значения в столбце 'credit_card'\n",
    "bank['credit_card'].unique()"
   ]
  },
  {
   "cell_type": "markdown",
   "metadata": {},
   "source": [
    "Значения в столбце 'credit_card' соответствуют техническому заданию"
   ]
  },
  {
   "cell_type": "code",
   "execution_count": 15,
   "metadata": {},
   "outputs": [
    {
     "data": {
      "text/plain": [
       "array([1, 0])"
      ]
     },
     "execution_count": 15,
     "metadata": {},
     "output_type": "execute_result"
    }
   ],
   "source": [
    "# посмотрим уникальные значения в столбце 'last_activity'\n",
    "bank['last_activity'].unique()"
   ]
  },
  {
   "cell_type": "markdown",
   "metadata": {},
   "source": [
    "Значения в столбце 'last_activity' соответствуют техническому заданию"
   ]
  },
  {
   "cell_type": "markdown",
   "metadata": {},
   "source": [
    "<a id=\"implicit_duplicates\"></a> \n",
    "#### Проверка  на наличие неявных дубликатов"
   ]
  },
  {
   "cell_type": "code",
   "execution_count": 16,
   "metadata": {},
   "outputs": [
    {
     "data": {
      "text/plain": [
       "73"
      ]
     },
     "execution_count": 16,
     "metadata": {},
     "output_type": "execute_result"
    }
   ],
   "source": [
    "# проверим наличие дубликатов в столбце 'user_id'\n",
    "bank.duplicated(['user_id']).sum()"
   ]
  },
  {
   "cell_type": "code",
   "execution_count": 17,
   "metadata": {},
   "outputs": [
    {
     "data": {
      "text/plain": [
       "0"
      ]
     },
     "execution_count": 17,
     "metadata": {},
     "output_type": "execute_result"
    }
   ],
   "source": [
    "# проверим наличие дубликатов по столбцам 'user_id' и 'city'\n",
    "bank.duplicated(['user_id','city']).sum()"
   ]
  },
  {
   "cell_type": "markdown",
   "metadata": {},
   "source": [
    "Так как по полям 'user_id' и 'city' строки не дублируются, позволим себе предположить, что значительное количество дубликатов по столбцу'user_id' объясняется тем, что в разных филиалах банка разным клиентам были присвоены одинаковые идентификационные номера."
   ]
  },
  {
   "cell_type": "markdown",
   "metadata": {},
   "source": [
    "<a id=\"data_encoding\"></a> \n",
    "#### Кодирование данных"
   ]
  },
  {
   "cell_type": "markdown",
   "metadata": {},
   "source": [
    "Для дальнейшего анализа выполним кодирование столбцов с категориальными значениями 'gender', 'city'"
   ]
  },
  {
   "cell_type": "code",
   "execution_count": 18,
   "metadata": {},
   "outputs": [],
   "source": [
    "# создадим копии столбцов 'gender' и'city'\n",
    "bank['gender_kod'] = bank['gender']\n",
    "bank['city_kod'] = bank['city']"
   ]
  },
  {
   "cell_type": "code",
   "execution_count": 19,
   "metadata": {},
   "outputs": [
    {
     "data": {
      "text/html": [
       "<div>\n",
       "<style scoped>\n",
       "    .dataframe tbody tr th:only-of-type {\n",
       "        vertical-align: middle;\n",
       "    }\n",
       "\n",
       "    .dataframe tbody tr th {\n",
       "        vertical-align: top;\n",
       "    }\n",
       "\n",
       "    .dataframe thead th {\n",
       "        text-align: right;\n",
       "    }\n",
       "</style>\n",
       "<table border=\"1\" class=\"dataframe\">\n",
       "  <thead>\n",
       "    <tr style=\"text-align: right;\">\n",
       "      <th></th>\n",
       "      <th>user_id</th>\n",
       "      <th>score</th>\n",
       "      <th>city</th>\n",
       "      <th>gender</th>\n",
       "      <th>age</th>\n",
       "      <th>equity</th>\n",
       "      <th>balance</th>\n",
       "      <th>products</th>\n",
       "      <th>credit_card</th>\n",
       "      <th>last_activity</th>\n",
       "      <th>est_salary</th>\n",
       "      <th>churn</th>\n",
       "      <th>women</th>\n",
       "      <th>men</th>\n",
       "      <th>rostov</th>\n",
       "      <th>rybinsk</th>\n",
       "      <th>yaroslavl</th>\n",
       "    </tr>\n",
       "  </thead>\n",
       "  <tbody>\n",
       "    <tr>\n",
       "      <th>0</th>\n",
       "      <td>183012</td>\n",
       "      <td>850.00</td>\n",
       "      <td>Рыбинск</td>\n",
       "      <td>Ж</td>\n",
       "      <td>25.00</td>\n",
       "      <td>1</td>\n",
       "      <td>59214.82</td>\n",
       "      <td>2</td>\n",
       "      <td>0</td>\n",
       "      <td>1</td>\n",
       "      <td>75719.14</td>\n",
       "      <td>1</td>\n",
       "      <td>1</td>\n",
       "      <td>0</td>\n",
       "      <td>0</td>\n",
       "      <td>1</td>\n",
       "      <td>0</td>\n",
       "    </tr>\n",
       "    <tr>\n",
       "      <th>1</th>\n",
       "      <td>146556</td>\n",
       "      <td>861.00</td>\n",
       "      <td>Рыбинск</td>\n",
       "      <td>Ж</td>\n",
       "      <td>37.00</td>\n",
       "      <td>5</td>\n",
       "      <td>850594.33</td>\n",
       "      <td>3</td>\n",
       "      <td>1</td>\n",
       "      <td>0</td>\n",
       "      <td>86621.77</td>\n",
       "      <td>0</td>\n",
       "      <td>1</td>\n",
       "      <td>0</td>\n",
       "      <td>0</td>\n",
       "      <td>1</td>\n",
       "      <td>0</td>\n",
       "    </tr>\n",
       "    <tr>\n",
       "      <th>2</th>\n",
       "      <td>120722</td>\n",
       "      <td>892.00</td>\n",
       "      <td>Рыбинск</td>\n",
       "      <td>Ж</td>\n",
       "      <td>30.00</td>\n",
       "      <td>0</td>\n",
       "      <td>NaN</td>\n",
       "      <td>1</td>\n",
       "      <td>1</td>\n",
       "      <td>1</td>\n",
       "      <td>107683.34</td>\n",
       "      <td>0</td>\n",
       "      <td>1</td>\n",
       "      <td>0</td>\n",
       "      <td>0</td>\n",
       "      <td>1</td>\n",
       "      <td>0</td>\n",
       "    </tr>\n",
       "    <tr>\n",
       "      <th>3</th>\n",
       "      <td>225363</td>\n",
       "      <td>866.00</td>\n",
       "      <td>Ярославль</td>\n",
       "      <td>Ж</td>\n",
       "      <td>51.00</td>\n",
       "      <td>5</td>\n",
       "      <td>1524746.26</td>\n",
       "      <td>2</td>\n",
       "      <td>0</td>\n",
       "      <td>1</td>\n",
       "      <td>174423.53</td>\n",
       "      <td>1</td>\n",
       "      <td>1</td>\n",
       "      <td>0</td>\n",
       "      <td>0</td>\n",
       "      <td>0</td>\n",
       "      <td>1</td>\n",
       "    </tr>\n",
       "    <tr>\n",
       "      <th>4</th>\n",
       "      <td>157978</td>\n",
       "      <td>730.00</td>\n",
       "      <td>Ярославль</td>\n",
       "      <td>М</td>\n",
       "      <td>34.00</td>\n",
       "      <td>5</td>\n",
       "      <td>174.00</td>\n",
       "      <td>1</td>\n",
       "      <td>1</td>\n",
       "      <td>0</td>\n",
       "      <td>67353.16</td>\n",
       "      <td>1</td>\n",
       "      <td>0</td>\n",
       "      <td>1</td>\n",
       "      <td>0</td>\n",
       "      <td>0</td>\n",
       "      <td>1</td>\n",
       "    </tr>\n",
       "  </tbody>\n",
       "</table>\n",
       "</div>"
      ],
      "text/plain": [
       "   user_id  score       city gender   age  equity    balance  products  \\\n",
       "0   183012 850.00    Рыбинск      Ж 25.00       1   59214.82         2   \n",
       "1   146556 861.00    Рыбинск      Ж 37.00       5  850594.33         3   \n",
       "2   120722 892.00    Рыбинск      Ж 30.00       0        NaN         1   \n",
       "3   225363 866.00  Ярославль      Ж 51.00       5 1524746.26         2   \n",
       "4   157978 730.00  Ярославль      М 34.00       5     174.00         1   \n",
       "\n",
       "   credit_card  last_activity  est_salary  churn  women  men  rostov  rybinsk  \\\n",
       "0            0              1    75719.14      1      1    0       0        1   \n",
       "1            1              0    86621.77      0      1    0       0        1   \n",
       "2            1              1   107683.34      0      1    0       0        1   \n",
       "3            0              1   174423.53      1      1    0       0        0   \n",
       "4            1              0    67353.16      1      0    1       0        0   \n",
       "\n",
       "   yaroslavl  \n",
       "0          0  \n",
       "1          0  \n",
       "2          0  \n",
       "3          1  \n",
       "4          1  "
      ]
     },
     "execution_count": 19,
     "metadata": {},
     "output_type": "execute_result"
    }
   ],
   "source": [
    "# выполним кодирование данных\n",
    "bank = pd.get_dummies(bank, columns = ['gender_kod', 'city_kod'])\n",
    "bank = bank.rename (\n",
    "            columns = ({'gender_kod_Ж':'women', 'gender_kod_М':'men',\n",
    "                        'city_kod_Ростов':'rostov', 'city_kod_Рыбинск':'rybinsk','city_kod_Ярославль':'yaroslavl'}))\n",
    "bank.head()"
   ]
  },
  {
   "cell_type": "markdown",
   "metadata": {},
   "source": [
    "<a id=\"missing_values\"></a> \n",
    "#### Обработка пропущенных значений"
   ]
  },
  {
   "cell_type": "markdown",
   "metadata": {},
   "source": [
    "Мы обнаружили пропуски в столбцах 'balance' и 'age'. Принимать решение об обработке пропусков в этих столбцах будем на основе матрицы корреляции Пирсона."
   ]
  },
  {
   "cell_type": "code",
   "execution_count": 20,
   "metadata": {},
   "outputs": [],
   "source": [
    "# создадим столбцы 'balance_nan' и 'age_nan' с новым признаком, принимающим '1', если в столбце пропущено значение признака,\n",
    "# и 0, если значение признака не пропущено. \n",
    "bank['balance_nan'] = bank['balance'].apply(lambda x: 0 if x>=0 else 1)\n",
    "bank['age_nan']     = bank['age'].apply(lambda x: 0 if x>=0 else 1)"
   ]
  },
  {
   "cell_type": "code",
   "execution_count": 21,
   "metadata": {},
   "outputs": [
    {
     "data": {
      "text/html": [
       "<div>\n",
       "<style scoped>\n",
       "    .dataframe tbody tr th:only-of-type {\n",
       "        vertical-align: middle;\n",
       "    }\n",
       "\n",
       "    .dataframe tbody tr th {\n",
       "        vertical-align: top;\n",
       "    }\n",
       "\n",
       "    .dataframe thead th {\n",
       "        text-align: right;\n",
       "    }\n",
       "</style>\n",
       "<table border=\"1\" class=\"dataframe\">\n",
       "  <thead>\n",
       "    <tr style=\"text-align: right;\">\n",
       "      <th></th>\n",
       "      <th>user_id</th>\n",
       "      <th>score</th>\n",
       "      <th>city</th>\n",
       "      <th>gender</th>\n",
       "      <th>age</th>\n",
       "      <th>equity</th>\n",
       "      <th>balance</th>\n",
       "      <th>products</th>\n",
       "      <th>credit_card</th>\n",
       "      <th>last_activity</th>\n",
       "      <th>est_salary</th>\n",
       "      <th>churn</th>\n",
       "      <th>women</th>\n",
       "      <th>men</th>\n",
       "      <th>rostov</th>\n",
       "      <th>rybinsk</th>\n",
       "      <th>yaroslavl</th>\n",
       "      <th>balance_nan</th>\n",
       "      <th>age_nan</th>\n",
       "    </tr>\n",
       "  </thead>\n",
       "  <tbody>\n",
       "    <tr>\n",
       "      <th>0</th>\n",
       "      <td>183012</td>\n",
       "      <td>850.00</td>\n",
       "      <td>Рыбинск</td>\n",
       "      <td>Ж</td>\n",
       "      <td>25.00</td>\n",
       "      <td>1</td>\n",
       "      <td>59214.82</td>\n",
       "      <td>2</td>\n",
       "      <td>0</td>\n",
       "      <td>1</td>\n",
       "      <td>75719.14</td>\n",
       "      <td>1</td>\n",
       "      <td>1</td>\n",
       "      <td>0</td>\n",
       "      <td>0</td>\n",
       "      <td>1</td>\n",
       "      <td>0</td>\n",
       "      <td>0</td>\n",
       "      <td>0</td>\n",
       "    </tr>\n",
       "    <tr>\n",
       "      <th>1</th>\n",
       "      <td>146556</td>\n",
       "      <td>861.00</td>\n",
       "      <td>Рыбинск</td>\n",
       "      <td>Ж</td>\n",
       "      <td>37.00</td>\n",
       "      <td>5</td>\n",
       "      <td>850594.33</td>\n",
       "      <td>3</td>\n",
       "      <td>1</td>\n",
       "      <td>0</td>\n",
       "      <td>86621.77</td>\n",
       "      <td>0</td>\n",
       "      <td>1</td>\n",
       "      <td>0</td>\n",
       "      <td>0</td>\n",
       "      <td>1</td>\n",
       "      <td>0</td>\n",
       "      <td>0</td>\n",
       "      <td>0</td>\n",
       "    </tr>\n",
       "    <tr>\n",
       "      <th>2</th>\n",
       "      <td>120722</td>\n",
       "      <td>892.00</td>\n",
       "      <td>Рыбинск</td>\n",
       "      <td>Ж</td>\n",
       "      <td>30.00</td>\n",
       "      <td>0</td>\n",
       "      <td>NaN</td>\n",
       "      <td>1</td>\n",
       "      <td>1</td>\n",
       "      <td>1</td>\n",
       "      <td>107683.34</td>\n",
       "      <td>0</td>\n",
       "      <td>1</td>\n",
       "      <td>0</td>\n",
       "      <td>0</td>\n",
       "      <td>1</td>\n",
       "      <td>0</td>\n",
       "      <td>1</td>\n",
       "      <td>0</td>\n",
       "    </tr>\n",
       "    <tr>\n",
       "      <th>3</th>\n",
       "      <td>225363</td>\n",
       "      <td>866.00</td>\n",
       "      <td>Ярославль</td>\n",
       "      <td>Ж</td>\n",
       "      <td>51.00</td>\n",
       "      <td>5</td>\n",
       "      <td>1524746.26</td>\n",
       "      <td>2</td>\n",
       "      <td>0</td>\n",
       "      <td>1</td>\n",
       "      <td>174423.53</td>\n",
       "      <td>1</td>\n",
       "      <td>1</td>\n",
       "      <td>0</td>\n",
       "      <td>0</td>\n",
       "      <td>0</td>\n",
       "      <td>1</td>\n",
       "      <td>0</td>\n",
       "      <td>0</td>\n",
       "    </tr>\n",
       "    <tr>\n",
       "      <th>4</th>\n",
       "      <td>157978</td>\n",
       "      <td>730.00</td>\n",
       "      <td>Ярославль</td>\n",
       "      <td>М</td>\n",
       "      <td>34.00</td>\n",
       "      <td>5</td>\n",
       "      <td>174.00</td>\n",
       "      <td>1</td>\n",
       "      <td>1</td>\n",
       "      <td>0</td>\n",
       "      <td>67353.16</td>\n",
       "      <td>1</td>\n",
       "      <td>0</td>\n",
       "      <td>1</td>\n",
       "      <td>0</td>\n",
       "      <td>0</td>\n",
       "      <td>1</td>\n",
       "      <td>0</td>\n",
       "      <td>0</td>\n",
       "    </tr>\n",
       "  </tbody>\n",
       "</table>\n",
       "</div>"
      ],
      "text/plain": [
       "   user_id  score       city gender   age  equity    balance  products  \\\n",
       "0   183012 850.00    Рыбинск      Ж 25.00       1   59214.82         2   \n",
       "1   146556 861.00    Рыбинск      Ж 37.00       5  850594.33         3   \n",
       "2   120722 892.00    Рыбинск      Ж 30.00       0        NaN         1   \n",
       "3   225363 866.00  Ярославль      Ж 51.00       5 1524746.26         2   \n",
       "4   157978 730.00  Ярославль      М 34.00       5     174.00         1   \n",
       "\n",
       "   credit_card  last_activity  est_salary  churn  women  men  rostov  rybinsk  \\\n",
       "0            0              1    75719.14      1      1    0       0        1   \n",
       "1            1              0    86621.77      0      1    0       0        1   \n",
       "2            1              1   107683.34      0      1    0       0        1   \n",
       "3            0              1   174423.53      1      1    0       0        0   \n",
       "4            1              0    67353.16      1      0    1       0        0   \n",
       "\n",
       "   yaroslavl  balance_nan  age_nan  \n",
       "0          0            0        0  \n",
       "1          0            0        0  \n",
       "2          0            1        0  \n",
       "3          1            0        0  \n",
       "4          1            0        0  "
      ]
     },
     "execution_count": 21,
     "metadata": {},
     "output_type": "execute_result"
    }
   ],
   "source": [
    "bank.head()"
   ]
  },
  {
   "cell_type": "code",
   "execution_count": 22,
   "metadata": {},
   "outputs": [],
   "source": [
    "bank_corr = bank.corr()"
   ]
  },
  {
   "cell_type": "code",
   "execution_count": 23,
   "metadata": {},
   "outputs": [
    {
     "data": {
      "image/png": "[encoded data removed]",
      "text/plain": [
       "<Figure size 720x360 with 2 Axes>"
      ]
     },
     "metadata": {
      "needs_background": "light"
     },
     "output_type": "display_data"
    }
   ],
   "source": [
    "plt.figure(figsize=(10, 5))\n",
    "sns.heatmap(\n",
    "    bank_corr.loc[:,['balance_nan', 'age_nan']].drop(['balance_nan','age_nan']).sort_values('balance_nan', ascending = False),\n",
    "    annot = True, cmap='coolwarm', center=0);"
   ]
  },
  {
   "cell_type": "markdown",
   "metadata": {},
   "source": [
    "1. Пропущенные значения в столбце 'balance' относятся к группе MNAR - отсутствуют не случайно:\n",
    "* Значения коэффициента корреляции между признаком 'balance_nan' (наличие пропусков в столбце 'balance') и другими признаками -0.7 < r < 0.3, что указывает на очень слабую силу связи (согласно шкале Чеддока). \n",
    "* без дополнительного обоснования их нельзя отбрасывать или заполнять одним значением, т.к. это приведёт к заметным искажениям.\n",
    "2. Пропущенные значения в столбце 'age' относятся к группе MCAR - отсутствуют совершенно случайно:\n",
    "* Значения коэффициента корреляции между признаком 'age_nan' (наличие пропусков в столбце 'age') и другими признаками слишком низкие (-0.03 < r < 0.035), что указывает на очень слабую силу связи (согласно шкале Чеддока).\n",
    "* можно их отбрасывать или заполнять, т.к. заполнение не повлияет на характер связи между заполняемой переменной и остальными.\n",
    "3. Подтверждаем отсутствие зависимости признаков наличия пропусков в столбцах 'balance' и 'age' от других данных. Позволим себе оставить пропуски в столбцах 'balance' и 'age' без изменения и без заполнения."
   ]
  },
  {
   "cell_type": "markdown",
   "metadata": {},
   "source": [
    "<a id=\"converting_values\"></a> \n",
    "#### Создание дополнительных столбцов 'balance_thousand' , 'est_salary_thousand' и 'churn_word'"
   ]
  },
  {
   "cell_type": "code",
   "execution_count": 24,
   "metadata": {},
   "outputs": [],
   "source": [
    "# добавим столбцы 'balance_thousand' и 'est_salary_thousand', в которых сохраним значения стобцов 'balance' и 'est_salary' \n",
    "# соответственно в тысячах рублей. Это будет необходимо для дальнейшей работы.\n",
    "bank['balance_thousand'] = bank['balance'].apply(lambda x: x/1000)\n",
    "bank['est_salary_thousand'] = bank['est_salary'].apply(lambda x: x/1000)\n",
    "\n",
    "# добавим столбец 'churn_word', в котором сохраним текстовое значение столбца 'churn'\n",
    "bank['churn_word'] = bank['churn'].apply(lambda x: \"net\" if x==0 else \"ottok\")"
   ]
  },
  {
   "cell_type": "markdown",
   "metadata": {},
   "source": [
    "<a id=\"preprocessing_conclusion\"></a> \n",
    "__Мы выполнили предварительную обработку данных:__\n",
    "* дали корректные названия столбцам 'USERID', 'EST_SALARY';\n",
    "* убедились в отсутствии некорректных значений в столбцах 'city', 'gender', 'equity', 'churn', 'credit_card', 'last_activity';\n",
    "* удалили строку с некорректным значением в столбце 'products';\n",
    "* убедились в отсутствии неявных дубликатов по столбцам 'user_id' и 'city';\n",
    "* выполнили кодирование столбцов с категориальными значениями 'gender', 'city';\n",
    "* по матрице корреляции Пирсона выяснили отсутствие зависимости пропусков в столбцах 'balance' и 'age' с другими признаками, на основании этого приняли решение оставить пропущенные значения без изменения;\n",
    "* создали дополнительные столбцы 'balance_thousand' , 'est_salary_thousand' и 'churn_word', которые пригодятся в исследовании.\n",
    "\n",
    "__Вывод:__ Данные готовы к дальнейшей работе."
   ]
  },
  {
   "cell_type": "markdown",
   "metadata": {},
   "source": [
    "<a id=\"analys\"></a> \n",
    "### Исследовательский анализ данных"
   ]
  },
  {
   "cell_type": "markdown",
   "metadata": {},
   "source": [
    "<a id=\"analys_distribution\"></a> \n",
    "#### Анализ распределения признаков"
   ]
  },
  {
   "cell_type": "markdown",
   "metadata": {},
   "source": [
    "<a id=\"analys_distribution_continuous_attribute\"></a> \n",
    "##### Анализ распределения непрерывных признаков"
   ]
  },
  {
   "cell_type": "markdown",
   "metadata": {},
   "source": [
    "* анализ непрерывных переменных будем проводить с помощью гистограмм 'sns.histplot()'\n",
    "* по графикам мы найдем интервалы признака, на которых отток выше, чем лояльность"
   ]
  },
  {
   "cell_type": "markdown",
   "metadata": {},
   "source": [
    "<a id=\"analys_score\"></a> \n",
    "######  Анализ распределения клиентов по признаку \"Баллы кредитного скоринга\" в разрезе оттока"
   ]
  },
  {
   "cell_type": "code",
   "execution_count": 25,
   "metadata": {},
   "outputs": [
    {
     "data": {
      "image/png": "[encoded data removed]",
      "text/plain": [
       "<Figure size 1152x360 with 1 Axes>"
      ]
     },
     "metadata": {
      "needs_background": "light"
     },
     "output_type": "display_data"
    }
   ],
   "source": [
    "plt.figure(figsize=(16, 5))\n",
    "# строим гистограмму для столбца 'score', добавив график кривой KDE\n",
    "sns.histplot(x='score', data=bank, hue = 'churn', bins = 80,  kde=True, stat=\"density\", common_norm=False, palette = 'winter')\n",
    "# ограничиваем ось X для наглядности\n",
    "plt.xlim(600, 1100)\n",
    "# указываем заголовок графика и подписи осей средствами matplotlib\n",
    "plt.title('Распределение клиентов по признаку \"Баллы кредитного скоринга\" в разрезе оттока')\n",
    "plt.xlabel('Баллы кредитного скоринга')\n",
    "plt.ylabel('Плотность')\n",
    "plt.legend(['есть', 'нет'], title = 'Отток', loc='upper right', title_fontsize = 12, fontsize = 12)\n",
    "# отображаем график на экране\n",
    "plt.show()"
   ]
  },
  {
   "cell_type": "markdown",
   "metadata": {},
   "source": [
    "\"Баллы кредитного скоринга\" - непрерывный признак. Отток выше, чем лояльность, на интервале 820- 940"
   ]
  },
  {
   "cell_type": "markdown",
   "metadata": {},
   "source": [
    "<a id=\"analys_age\"></a> \n",
    "##### Анализ распределения клиентов по признаку \"Возраст клиента\" в разрезе оттока"
   ]
  },
  {
   "cell_type": "markdown",
   "metadata": {},
   "source": [
    "В столбце 'age' мы обнаружили 26 пропущенных значений. При построении гистограммы с помощью фильтра исключим эти значения."
   ]
  },
  {
   "cell_type": "code",
   "execution_count": 26,
   "metadata": {},
   "outputs": [
    {
     "data": {
      "image/png": "[encoded data removed]",
      "text/plain": [
       "<Figure size 1152x360 with 1 Axes>"
      ]
     },
     "metadata": {
      "needs_background": "light"
     },
     "output_type": "display_data"
    }
   ],
   "source": [
    "# строим гистограмму для столбца 'age', добавив график кривой KDE\n",
    "plt.figure(figsize=(16, 5))\n",
    "sns.histplot(x='age',data=bank.query('age > 0'),hue = 'churn',binwidth = 1,kde=True,stat=\"density\",common_norm=False, palette = 'winter')\n",
    "# ограничиваем ось X для наглядности\n",
    "plt.xlim(15, 100)\n",
    "# указываем заголовок графика и подписи осей средствами matplotlib\n",
    "plt.title('Распределение клиентов по признаку \"Возраст клиента\" в разрезе оттока')\n",
    "plt.xlabel('Возраст клиента')\n",
    "plt.ylabel('Плотность')\n",
    "plt.legend(['есть', 'нет'], title = 'Отток', loc='upper right', title_fontsize = 12, fontsize = 12)\n",
    "# отображаем график на экранеиь\n",
    "plt.show()"
   ]
  },
  {
   "cell_type": "markdown",
   "metadata": {},
   "source": [
    "\"Возраст клиента\" - непрерывный признак. Отток выше, чем лояльность, на интервалах: 26 - 36, 51 - 61."
   ]
  },
  {
   "cell_type": "markdown",
   "metadata": {},
   "source": [
    "<a id=\"analys_balance\"></a> \n",
    "#####  Анализ распределения клиентов по признаку \"Баланс на счете\" в разрезе оттока"
   ]
  },
  {
   "cell_type": "markdown",
   "metadata": {},
   "source": [
    "В столбце 'balance' мы обнаружили 2295 пропущенных значений. При построении гистограммы с помощью фильтра исключим эти значения."
   ]
  },
  {
   "cell_type": "code",
   "execution_count": 27,
   "metadata": {},
   "outputs": [
    {
     "data": {
      "image/png": "[encoded data removed]",
      "text/plain": [
       "<Figure size 1152x360 with 1 Axes>"
      ]
     },
     "metadata": {
      "needs_background": "light"
     },
     "output_type": "display_data"
    }
   ],
   "source": [
    "# строим гистограмму для столбца 'balance'\n",
    "plt.figure(figsize=(16, 5))\n",
    "sns.histplot(x='balance_thousand', data=bank.query('balance_thousand > 0'), hue = 'churn', bins = 800,  stat=\"density\",\\\n",
    "             common_norm=False, palette = 'winter')\n",
    "# ограничиваем ось X для наглядности\n",
    "plt.xlim(0, 8000)\n",
    "# указываем заголовок графика и подписи осей средствами matplotlib\n",
    "plt.title('Распределение клиентов по признаку \"Баланс на счете\" в разрезе оттока')\n",
    "plt.xlabel('Баланс на счете')\n",
    "plt.ylabel('Плотность')\n",
    "plt.legend(['есть', 'нет'], title = 'Отток', loc='upper right', title_fontsize = 12, fontsize = 12)\n",
    "# отображаем график на экране\n",
    "plt.show()"
   ]
  },
  {
   "cell_type": "markdown",
   "metadata": {},
   "source": [
    "\"Баланс на счете\" - непрерывный признак. Отток выше, чем лояльность, на интервале: 860 тыс.руб - 4000 тыс.руб."
   ]
  },
  {
   "cell_type": "markdown",
   "metadata": {},
   "source": [
    "<a id=\"analys_est_salary\"></a> \n",
    "#####  Анализ распределения клиентов по признаку \"Оценочный доход\" в разрезе оттока"
   ]
  },
  {
   "cell_type": "code",
   "execution_count": 28,
   "metadata": {
    "scrolled": false
   },
   "outputs": [
    {
     "data": {
      "image/png": "[encoded data removed]",
      "text/plain": [
       "<Figure size 1152x360 with 1 Axes>"
      ]
     },
     "metadata": {
      "needs_background": "light"
     },
     "output_type": "display_data"
    }
   ],
   "source": [
    "# строим гистограмму для столбца 'est_salary_thousand'\n",
    "plt.figure(figsize=(16, 5))\n",
    "sns.histplot(x='est_salary_thousand', data=bank, hue = 'churn', bins = 150,  stat=\"density\", \\\n",
    "             common_norm=False, palette = 'winter')\n",
    "# ограничиваем ось X для наглядности\n",
    "plt.xlim(0, 1000)\n",
    "# указываем заголовок графика и подписи осей средствами matplotlib\n",
    "plt.title('Распределение клиентов по признаку \"Оценочный доход\" в разрезе оттока')\n",
    "plt.xlabel('Оценочный доход, тыс.руб')\n",
    "plt.ylabel('Плотность')\n",
    "plt.legend(['есть', 'нет'], title = 'Отток', loc='upper right', title_fontsize = 12, fontsize = 12)\n",
    "# отображаем график на экране\n",
    "plt.show()"
   ]
  },
  {
   "cell_type": "markdown",
   "metadata": {},
   "source": [
    "\"Оценочный доход\" - непрерывный признак. Отток выше, чем лояльность, на интервалах: 86 тыс.руб - 238 тыс.руб., 314 тыс.руб. - 400 тыс.руб."
   ]
  },
  {
   "cell_type": "markdown",
   "metadata": {},
   "source": [
    "<a id=\"analys_distribution_discrete_attribute\"></a> \n",
    "##### Анализ распределения дискретных и категориальных признаков"
   ]
  },
  {
   "cell_type": "markdown",
   "metadata": {},
   "source": [
    "* Анализ дискретных и категориальных признаков будем проводить с помощью столбчатых диаграмм 'barplot()'.\n",
    "* Также на графиках построим 'plt.axhline()' со средним уровнем оттока по банку- по нему мы будем определять, что значение признака более склонно к оттоку (если уровень оттока признака выше, чем в среднем по банку - считаем, что признак влияет сильно)."
   ]
  },
  {
   "cell_type": "code",
   "execution_count": 29,
   "metadata": {},
   "outputs": [
    {
     "name": "stdout",
     "output_type": "stream",
     "text": [
      "Среднее значение оттока по банку: 18.19 %\n"
     ]
    }
   ],
   "source": [
    "print('Среднее значение оттока по банку:', round(bank['churn'].agg('mean')*100, 2), '%')"
   ]
  },
  {
   "cell_type": "markdown",
   "metadata": {},
   "source": [
    "<a id=\"analys_city\"></a> \n",
    "######  Анализ распределения клиентов по признаку \"Город\" в разрезе оттока"
   ]
  },
  {
   "cell_type": "code",
   "execution_count": 30,
   "metadata": {},
   "outputs": [
    {
     "data": {
      "image/png": "[encoded data removed]",
      "text/plain": [
       "<Figure size 576x288 with 1 Axes>"
      ]
     },
     "metadata": {
      "needs_background": "light"
     },
     "output_type": "display_data"
    }
   ],
   "source": [
    "# строим столбчатую диаграмму для столбца 'city'\n",
    "plt.figure(figsize=(8, 4))\n",
    "sns.barplot(data = bank, x='city', y = 'churn', palette = 'winter')\n",
    "# указываем заголовок графика и подписи осей средствами matplotlib\n",
    "plt.title('Распределение оттока клиентов по признаку \"Город\"')\n",
    "plt.xlabel('Город, в котором находится филиал банка')\n",
    "plt.ylabel('Отток')\n",
    "plt.axhline(y=bank['churn'].agg('mean'), color = 'red', linestyle = '--' )\n",
    "# отображаем график на экране\n",
    "plt.show()"
   ]
  },
  {
   "cell_type": "markdown",
   "metadata": {},
   "source": [
    "* клиенты в Ярославле и Ростове более склонны к оттоку\n",
    "* клиенты в Рыбинске менее склонны к оттоку"
   ]
  },
  {
   "cell_type": "markdown",
   "metadata": {},
   "source": [
    "<a id=\"analys_gender\"></a> \n",
    "#####  Анализ распределения клиентов по признаку \"Пол\" в разрезе оттока"
   ]
  },
  {
   "cell_type": "code",
   "execution_count": 31,
   "metadata": {},
   "outputs": [
    {
     "data": {
      "image/png": "[encoded data removed]",
      "text/plain": [
       "<Figure size 720x360 with 1 Axes>"
      ]
     },
     "metadata": {
      "needs_background": "light"
     },
     "output_type": "display_data"
    }
   ],
   "source": [
    "# строим столбчатую диаграмму для столбца 'gender'\n",
    "plt.figure(figsize=(10, 5))\n",
    "#sns.color_palette(\"rocket\")\n",
    "sns.barplot(data = bank, x='gender', y = 'churn', palette = 'hls')\n",
    "#sns.barplot(data = bank, x='gender', y = 'churn', color = '#bdd0d7')\n",
    "# указываем заголовок графика и подписи осей средствами matplotlib\n",
    "plt.title('Распределение оттока клиентов по признаку \"Пол\"')\n",
    "plt.xlabel('Пол клиента')\n",
    "plt.ylabel('Отток')\n",
    "plt.axhline(y=bank['churn'].agg('mean'), color = 'red', linestyle = '--' )\n",
    "# отображаем график на экране\n",
    "plt.show()\n"
   ]
  },
  {
   "cell_type": "markdown",
   "metadata": {},
   "source": [
    "* мужчины более склонны к оттоку\n",
    "* женщины менее склонны к оттоку "
   ]
  },
  {
   "cell_type": "markdown",
   "metadata": {},
   "source": [
    "<a id=\"analys_products\"></a> \n",
    "#####  Анализ распределения клиентов по признаку \"Количество продуктов\" в разрезе оттока"
   ]
  },
  {
   "cell_type": "code",
   "execution_count": 32,
   "metadata": {
    "scrolled": false
   },
   "outputs": [
    {
     "data": {
      "image/png": "[encoded data removed]",
      "text/plain": [
       "<Figure size 864x360 with 1 Axes>"
      ]
     },
     "metadata": {
      "needs_background": "light"
     },
     "output_type": "display_data"
    }
   ],
   "source": [
    "# строим столбчатую диаграмму для столбца 'products'\n",
    "plt.figure(figsize=(12, 5))\n",
    "sns.barplot(data = bank, x='products', y = 'churn', palette = 'hls')\n",
    "#sns.barplot(data = bank, x='products', y = 'churn', palette = 'crest')\n",
    "# указываем заголовок графика и подписи осей средствами matplotlib\n",
    "plt.title('Распределение оттока клиентов по признаку \"Количество продуктов\"')\n",
    "plt.xlabel('Количество продуктов')\n",
    "plt.ylabel('Отток')\n",
    "plt.axhline(y=bank['churn'].agg('mean'), color = 'red', linestyle = '--' )\n",
    "# отображаем график на экране\n",
    "plt.show()\n"
   ]
  },
  {
   "cell_type": "markdown",
   "metadata": {},
   "source": [
    "* клиенты с количеством продуктов от 2 до 5 более склонны к оттоку\n",
    "* клиенты с одним продуктом менее склонны к оттоку "
   ]
  },
  {
   "cell_type": "markdown",
   "metadata": {},
   "source": [
    "<a id=\"analys_equity\"></a> \n",
    "#####  Анализ распределения клиентов по признаку \"Количество баллов собственности\" в разрезе оттока"
   ]
  },
  {
   "cell_type": "code",
   "execution_count": 33,
   "metadata": {},
   "outputs": [
    {
     "data": {
      "image/png": "[encoded data removed]",
      "text/plain": [
       "<Figure size 1152x360 with 1 Axes>"
      ]
     },
     "metadata": {
      "needs_background": "light"
     },
     "output_type": "display_data"
    }
   ],
   "source": [
    "# строим столбчатую диаграмму для столбца 'equity'\n",
    "plt.figure(figsize=(16, 5))\n",
    "sns.barplot(data = bank, x='equity', y = 'churn', palette = 'hls')\n",
    "# указываем заголовок графика и подписи осей средствами matplotlib\n",
    "plt.title('Распределение оттока клиентов по признаку \"Количество баллов собственности\"')\n",
    "plt.xlabel('Количество баллов собственности')\n",
    "plt.ylabel('Отток')\n",
    "plt.axhline(y=bank['churn'].agg('mean'), color = 'red', linestyle = '--' )\n",
    "# отображаем график на экране\n",
    "plt.show()"
   ]
  },
  {
   "cell_type": "markdown",
   "metadata": {},
   "source": [
    "* клиенты с количеством баллов собственности от 3 до 9 более склонны к оттоку\n",
    "* клиенты с количеством баллов собственности от 0 до 2 менее склонны к оттоку "
   ]
  },
  {
   "cell_type": "markdown",
   "metadata": {},
   "source": [
    "<a id=\"analys_credit_card\"></a> \n",
    "#####  Анализ распределения клиентов по признаку \"Наличие кредитной карты\" в разрезе оттока"
   ]
  },
  {
   "cell_type": "code",
   "execution_count": 34,
   "metadata": {},
   "outputs": [
    {
     "data": {
      "image/png": "[encoded data removed]",
      "text/plain": [
       "<Figure size 720x360 with 1 Axes>"
      ]
     },
     "metadata": {
      "needs_background": "light"
     },
     "output_type": "display_data"
    }
   ],
   "source": [
    "# строим столбчатую диаграмму для столбца 'credit_card'\n",
    "plt.figure(figsize=(10, 5))\n",
    "sns.barplot(data = bank, x='credit_card', y = 'churn', palette = 'summer')\n",
    "# указываем заголовок графика и подписи осей средствами matplotlib\n",
    "plt.title('Распределение оттока клиентов по признаку \"Наличие кредитной карты\"')\n",
    "plt.xlabel('Наличие кредитной карты')\n",
    "plt.ylabel('Отток')\n",
    "plt.axhline(y=bank['churn'].agg('mean'), color = 'red', linestyle = '--' )\n",
    "# отображаем график на экране\n",
    "plt.show()"
   ]
  },
  {
   "cell_type": "markdown",
   "metadata": {},
   "source": [
    "* клиенты без кредитной карты более склонны к оттоку\n",
    "* клиенты с кредитной картой менее склонны к оттоку "
   ]
  },
  {
   "cell_type": "markdown",
   "metadata": {},
   "source": [
    "<a id=\"analys_last_activity\"></a> \n",
    "#####  Анализ распределения клиентов по признаку \"Активность клиента\" в разрезе оттока"
   ]
  },
  {
   "cell_type": "code",
   "execution_count": 35,
   "metadata": {},
   "outputs": [
    {
     "data": {
      "image/png": "[encoded data removed]",
      "text/plain": [
       "<Figure size 720x360 with 1 Axes>"
      ]
     },
     "metadata": {
      "needs_background": "light"
     },
     "output_type": "display_data"
    }
   ],
   "source": [
    "# строим столбчатую диаграмму для столбца 'last_activity'\n",
    "plt.figure(figsize=(10, 5))\n",
    "sns.barplot(data = bank, x='last_activity', y = 'churn', palette = 'autumn')\n",
    "# указываем заголовок графика и подписи осей средствами matplotlib\n",
    "plt.title('Распределение оттока клиентов по признаку \"Активность клиента\"')\n",
    "plt.xlabel('Активность клиента')\n",
    "plt.ylabel('Отток')\n",
    "plt.axhline(y=bank['churn'].agg('mean'), color = 'red', linestyle = '--' )\n",
    "# отображаем график на экране\n",
    "plt.show()"
   ]
  },
  {
   "cell_type": "markdown",
   "metadata": {},
   "source": [
    "* активные клиенты более склонны к оттоку\n",
    "* неактивные клиенты менее склонны к оттоку "
   ]
  },
  {
   "cell_type": "markdown",
   "metadata": {},
   "source": [
    "<a id=\"feature_correlation\"></a> \n",
    "#### Корреляция признаков "
   ]
  },
  {
   "cell_type": "code",
   "execution_count": 36,
   "metadata": {},
   "outputs": [
    {
     "data": {
      "image/png": "[encoded data removed]",
      "text/plain": [
       "<Figure size 576x360 with 2 Axes>"
      ]
     },
     "metadata": {
      "needs_background": "light"
     },
     "output_type": "display_data"
    }
   ],
   "source": [
    "plt.figure(figsize=(8, 5))\n",
    "sns.heatmap(\n",
    "    bank_corr.loc[:,['churn']].drop('churn').sort_values('churn', ascending = False),\n",
    "    annot = True, cmap='coolwarm', center=0);"
   ]
  },
  {
   "cell_type": "markdown",
   "metadata": {},
   "source": [
    "Значения коэффициента корреляции между признаком 'churn' и другими признаками и их интерпритация по шкале Чеддока\n",
    "\n",
    "| Признак                           | Отток          | Интерпретация по шкале Чеддока    |  \n",
    "| ---------------------------------:|:---------------| -------------------------------- :|\n",
    "| Мужчины                           | r =  0.14      | слабая сила связи                 | \n",
    "| Женщины                           | r = -0.14      | слабая сила связи                 | \n",
    "| Возраст  клиента                  | r = -0.05      | слабая сила связи                 |\n",
    "| Количество продуктов              | r =  0.3       | слабая сила связи                 | \n",
    "| Количество баллов собственности   | r =  0.27      | слабая сила связи                 |   \n",
    "| Баланс на счете                   | r =  0.086     | слабая сила связи                 | \n",
    "| Оценочный доход                   | r =  0.0015    | слабая сила связи                 |   \n",
    "| Ярославль                         | r =  0.024     | слабая сила связи                 | \n",
    "| Ростов                            | r =  0.0061    | слабая сила связи                 | \n",
    "| Рыбинск                           | r = -0.032     | слабая сила связи                 | \n",
    "| Наличие кредитной карты           | r = -0.13      | слабая сила связи                 | \n",
    "| Активность                        | r =  0.17      | слабая сила связи                 | \n",
    "| Баллы кредитного скоринга         | r =  0.11      | слабая сила связи                 | "
   ]
  },
  {
   "cell_type": "markdown",
   "metadata": {},
   "source": [
    "<a id=\"client_portret\"></a> \n",
    "#### Портрет клиента"
   ]
  },
  {
   "cell_type": "code",
   "execution_count": 37,
   "metadata": {},
   "outputs": [
    {
     "data": {
      "text/html": [
       "<div>\n",
       "<style scoped>\n",
       "    .dataframe tbody tr th:only-of-type {\n",
       "        vertical-align: middle;\n",
       "    }\n",
       "\n",
       "    .dataframe tbody tr th {\n",
       "        vertical-align: top;\n",
       "    }\n",
       "\n",
       "    .dataframe thead th {\n",
       "        text-align: right;\n",
       "    }\n",
       "</style>\n",
       "<table border=\"1\" class=\"dataframe\">\n",
       "  <thead>\n",
       "    <tr style=\"text-align: right;\">\n",
       "      <th>churn_word</th>\n",
       "      <th>index</th>\n",
       "      <th>net</th>\n",
       "      <th>ottok</th>\n",
       "      <th>delta,%</th>\n",
       "    </tr>\n",
       "  </thead>\n",
       "  <tbody>\n",
       "    <tr>\n",
       "      <th>0</th>\n",
       "      <td>age</td>\n",
       "      <td>43.02</td>\n",
       "      <td>41.43</td>\n",
       "      <td>3.77</td>\n",
       "    </tr>\n",
       "    <tr>\n",
       "      <th>1</th>\n",
       "      <td>balance</td>\n",
       "      <td>733982.59</td>\n",
       "      <td>1133993.27</td>\n",
       "      <td>42.83</td>\n",
       "    </tr>\n",
       "    <tr>\n",
       "      <th>2</th>\n",
       "      <td>equity</td>\n",
       "      <td>3.00</td>\n",
       "      <td>4.00</td>\n",
       "      <td>28.57</td>\n",
       "    </tr>\n",
       "    <tr>\n",
       "      <th>3</th>\n",
       "      <td>est_salary</td>\n",
       "      <td>147783.20</td>\n",
       "      <td>148310.73</td>\n",
       "      <td>0.36</td>\n",
       "    </tr>\n",
       "    <tr>\n",
       "      <th>4</th>\n",
       "      <td>products</td>\n",
       "      <td>2.00</td>\n",
       "      <td>2.00</td>\n",
       "      <td>0.00</td>\n",
       "    </tr>\n",
       "    <tr>\n",
       "      <th>5</th>\n",
       "      <td>score</td>\n",
       "      <td>848.00</td>\n",
       "      <td>866.00</td>\n",
       "      <td>2.10</td>\n",
       "    </tr>\n",
       "  </tbody>\n",
       "</table>\n",
       "</div>"
      ],
      "text/plain": [
       "churn_word       index       net      ottok  delta,%\n",
       "0                  age     43.02      41.43     3.77\n",
       "1              balance 733982.59 1133993.27    42.83\n",
       "2               equity      3.00       4.00    28.57\n",
       "3           est_salary 147783.20  148310.73     0.36\n",
       "4             products      2.00       2.00     0.00\n",
       "5                score    848.00     866.00     2.10"
      ]
     },
     "execution_count": 37,
     "metadata": {},
     "output_type": "execute_result"
    }
   ],
   "source": [
    "bank_turget = bank.pivot_table(columns='churn_word', values=['age', 'balance', 'equity', 'est_salary', 'products','score'],\\\n",
    "                                    aggfunc={'age'       : 'mean',\n",
    "                                             'balance'   : 'mean',\n",
    "                                             'est_salary': 'mean',\n",
    "                                             'score'     : 'median',\n",
    "                                             'products'  : 'median',\n",
    "                                             'equity'    : 'median'}).reset_index()\n",
    "\n",
    "bank_turget['delta,%'] = abs((bank_turget['net']-bank_turget['ottok'])/((bank_turget['net'] + bank_turget['ottok'])/2))*100\n",
    "bank_turget"
   ]
  },
  {
   "cell_type": "code",
   "execution_count": 38,
   "metadata": {
    "scrolled": true
   },
   "outputs": [
    {
     "data": {
      "text/html": [
       "<div>\n",
       "<style scoped>\n",
       "    .dataframe tbody tr th:only-of-type {\n",
       "        vertical-align: middle;\n",
       "    }\n",
       "\n",
       "    .dataframe tbody tr th {\n",
       "        vertical-align: top;\n",
       "    }\n",
       "\n",
       "    .dataframe thead th {\n",
       "        text-align: right;\n",
       "    }\n",
       "</style>\n",
       "<table border=\"1\" class=\"dataframe\">\n",
       "  <thead>\n",
       "    <tr style=\"text-align: right;\">\n",
       "      <th>churn_word</th>\n",
       "      <th>index</th>\n",
       "      <th>net</th>\n",
       "      <th>ottok</th>\n",
       "    </tr>\n",
       "  </thead>\n",
       "  <tbody>\n",
       "    <tr>\n",
       "      <th>0</th>\n",
       "      <td>city</td>\n",
       "      <td>Ярославль</td>\n",
       "      <td>Ярославль</td>\n",
       "    </tr>\n",
       "    <tr>\n",
       "      <th>1</th>\n",
       "      <td>credit_card</td>\n",
       "      <td>1</td>\n",
       "      <td>1</td>\n",
       "    </tr>\n",
       "    <tr>\n",
       "      <th>2</th>\n",
       "      <td>gender</td>\n",
       "      <td>Ж</td>\n",
       "      <td>М</td>\n",
       "    </tr>\n",
       "    <tr>\n",
       "      <th>3</th>\n",
       "      <td>last_activity</td>\n",
       "      <td>0</td>\n",
       "      <td>1</td>\n",
       "    </tr>\n",
       "  </tbody>\n",
       "</table>\n",
       "</div>"
      ],
      "text/plain": [
       "churn_word          index        net      ottok\n",
       "0                    city  Ярославль  Ярославль\n",
       "1             credit_card          1          1\n",
       "2                  gender          Ж          М\n",
       "3           last_activity          0          1"
      ]
     },
     "execution_count": 38,
     "metadata": {},
     "output_type": "execute_result"
    }
   ],
   "source": [
    "bank_mode = bank.pivot_table(columns='churn_word', values=['city', 'gender','credit_card', 'last_activity'],\\\n",
    "                             aggfunc={'city': pd.Series.mode, \n",
    "                                      'gender' : pd.Series.mode,\n",
    "                                      'credit_card':pd.Series.mode,\n",
    "                                      'last_activity': pd.Series.mode }).reset_index()\n",
    "bank_mode"
   ]
  },
  {
   "cell_type": "code",
   "execution_count": 39,
   "metadata": {},
   "outputs": [
    {
     "data": {
      "text/html": [
       "<div>\n",
       "<style scoped>\n",
       "    .dataframe tbody tr th:only-of-type {\n",
       "        vertical-align: middle;\n",
       "    }\n",
       "\n",
       "    .dataframe tbody tr th {\n",
       "        vertical-align: top;\n",
       "    }\n",
       "\n",
       "    .dataframe thead th {\n",
       "        text-align: right;\n",
       "    }\n",
       "</style>\n",
       "<table border=\"1\" class=\"dataframe\">\n",
       "  <thead>\n",
       "    <tr style=\"text-align: right;\">\n",
       "      <th>churn_word</th>\n",
       "      <th>index</th>\n",
       "      <th>net</th>\n",
       "      <th>ottok</th>\n",
       "      <th>delta,%</th>\n",
       "    </tr>\n",
       "  </thead>\n",
       "  <tbody>\n",
       "    <tr>\n",
       "      <th>0</th>\n",
       "      <td>age</td>\n",
       "      <td>43.02</td>\n",
       "      <td>41.43</td>\n",
       "      <td>3.77</td>\n",
       "    </tr>\n",
       "    <tr>\n",
       "      <th>1</th>\n",
       "      <td>balance</td>\n",
       "      <td>733982.59</td>\n",
       "      <td>1133993.27</td>\n",
       "      <td>42.83</td>\n",
       "    </tr>\n",
       "    <tr>\n",
       "      <th>2</th>\n",
       "      <td>equity</td>\n",
       "      <td>3.00</td>\n",
       "      <td>4.00</td>\n",
       "      <td>28.57</td>\n",
       "    </tr>\n",
       "    <tr>\n",
       "      <th>3</th>\n",
       "      <td>est_salary</td>\n",
       "      <td>147783.20</td>\n",
       "      <td>148310.73</td>\n",
       "      <td>0.36</td>\n",
       "    </tr>\n",
       "    <tr>\n",
       "      <th>4</th>\n",
       "      <td>products</td>\n",
       "      <td>2.00</td>\n",
       "      <td>2.00</td>\n",
       "      <td>0.00</td>\n",
       "    </tr>\n",
       "    <tr>\n",
       "      <th>5</th>\n",
       "      <td>score</td>\n",
       "      <td>848.00</td>\n",
       "      <td>866.00</td>\n",
       "      <td>2.10</td>\n",
       "    </tr>\n",
       "    <tr>\n",
       "      <th>6</th>\n",
       "      <td>city</td>\n",
       "      <td>Ярославль</td>\n",
       "      <td>Ярославль</td>\n",
       "      <td>NaN</td>\n",
       "    </tr>\n",
       "    <tr>\n",
       "      <th>7</th>\n",
       "      <td>credit_card</td>\n",
       "      <td>1</td>\n",
       "      <td>1</td>\n",
       "      <td>NaN</td>\n",
       "    </tr>\n",
       "    <tr>\n",
       "      <th>8</th>\n",
       "      <td>gender</td>\n",
       "      <td>Ж</td>\n",
       "      <td>М</td>\n",
       "      <td>NaN</td>\n",
       "    </tr>\n",
       "    <tr>\n",
       "      <th>9</th>\n",
       "      <td>last_activity</td>\n",
       "      <td>0</td>\n",
       "      <td>1</td>\n",
       "      <td>NaN</td>\n",
       "    </tr>\n",
       "  </tbody>\n",
       "</table>\n",
       "</div>"
      ],
      "text/plain": [
       "churn_word          index        net      ottok  delta,%\n",
       "0                     age      43.02      41.43     3.77\n",
       "1                 balance  733982.59 1133993.27    42.83\n",
       "2                  equity       3.00       4.00    28.57\n",
       "3              est_salary  147783.20  148310.73     0.36\n",
       "4                products       2.00       2.00     0.00\n",
       "5                   score     848.00     866.00     2.10\n",
       "6                    city  Ярославль  Ярославль      NaN\n",
       "7             credit_card          1          1      NaN\n",
       "8                  gender          Ж          М      NaN\n",
       "9           last_activity          0          1      NaN"
      ]
     },
     "execution_count": 39,
     "metadata": {},
     "output_type": "execute_result"
    }
   ],
   "source": [
    "bank_turget = bank_turget.append(bank_mode, ignore_index = True)\n",
    "bank_turget"
   ]
  },
  {
   "cell_type": "code",
   "execution_count": 40,
   "metadata": {},
   "outputs": [
    {
     "data": {
      "text/html": [
       "<div>\n",
       "<style scoped>\n",
       "    .dataframe tbody tr th:only-of-type {\n",
       "        vertical-align: middle;\n",
       "    }\n",
       "\n",
       "    .dataframe tbody tr th {\n",
       "        vertical-align: top;\n",
       "    }\n",
       "\n",
       "    .dataframe thead th {\n",
       "        text-align: right;\n",
       "    }\n",
       "</style>\n",
       "<table border=\"1\" class=\"dataframe\">\n",
       "  <thead>\n",
       "    <tr style=\"text-align: right;\">\n",
       "      <th></th>\n",
       "      <th>Признак</th>\n",
       "      <th>Нет оттока</th>\n",
       "      <th>Есть отток</th>\n",
       "      <th>Относительная разница,%</th>\n",
       "    </tr>\n",
       "  </thead>\n",
       "  <tbody>\n",
       "    <tr>\n",
       "      <th>0</th>\n",
       "      <td>Средний возраст</td>\n",
       "      <td>43.02</td>\n",
       "      <td>41.43</td>\n",
       "      <td>3.77</td>\n",
       "    </tr>\n",
       "    <tr>\n",
       "      <th>1</th>\n",
       "      <td>Средний баланс на счете</td>\n",
       "      <td>733982.59</td>\n",
       "      <td>1133993.27</td>\n",
       "      <td>42.83</td>\n",
       "    </tr>\n",
       "    <tr>\n",
       "      <th>2</th>\n",
       "      <td>Медианное количество собственности</td>\n",
       "      <td>3.00</td>\n",
       "      <td>4.00</td>\n",
       "      <td>28.57</td>\n",
       "    </tr>\n",
       "    <tr>\n",
       "      <th>3</th>\n",
       "      <td>Средний доход</td>\n",
       "      <td>147783.20</td>\n",
       "      <td>148310.73</td>\n",
       "      <td>0.36</td>\n",
       "    </tr>\n",
       "    <tr>\n",
       "      <th>4</th>\n",
       "      <td>Медианное количество продуктов</td>\n",
       "      <td>2.00</td>\n",
       "      <td>2.00</td>\n",
       "      <td>0.00</td>\n",
       "    </tr>\n",
       "    <tr>\n",
       "      <th>5</th>\n",
       "      <td>Медианный скоринг</td>\n",
       "      <td>848.00</td>\n",
       "      <td>866.00</td>\n",
       "      <td>2.10</td>\n",
       "    </tr>\n",
       "    <tr>\n",
       "      <th>6</th>\n",
       "      <td>Мода по городу</td>\n",
       "      <td>Ярославль</td>\n",
       "      <td>Ярославль</td>\n",
       "      <td>NaN</td>\n",
       "    </tr>\n",
       "    <tr>\n",
       "      <th>7</th>\n",
       "      <td>Мода по наличию кредитной карты</td>\n",
       "      <td>1</td>\n",
       "      <td>1</td>\n",
       "      <td>NaN</td>\n",
       "    </tr>\n",
       "    <tr>\n",
       "      <th>8</th>\n",
       "      <td>Мода по полу</td>\n",
       "      <td>Ж</td>\n",
       "      <td>М</td>\n",
       "      <td>NaN</td>\n",
       "    </tr>\n",
       "    <tr>\n",
       "      <th>9</th>\n",
       "      <td>Мода по активности</td>\n",
       "      <td>0</td>\n",
       "      <td>1</td>\n",
       "      <td>NaN</td>\n",
       "    </tr>\n",
       "  </tbody>\n",
       "</table>\n",
       "</div>"
      ],
      "text/plain": [
       "                              Признак Нет оттока Есть отток  \\\n",
       "0                     Средний возраст      43.02      41.43   \n",
       "1             Средний баланс на счете  733982.59 1133993.27   \n",
       "2  Медианное количество собственности       3.00       4.00   \n",
       "3                       Средний доход  147783.20  148310.73   \n",
       "4      Медианное количество продуктов       2.00       2.00   \n",
       "5                   Медианный скоринг     848.00     866.00   \n",
       "6                      Мода по городу  Ярославль  Ярославль   \n",
       "7     Мода по наличию кредитной карты          1          1   \n",
       "8                        Мода по полу          Ж          М   \n",
       "9                  Мода по активности          0          1   \n",
       "\n",
       "   Относительная разница,%  \n",
       "0                     3.77  \n",
       "1                    42.83  \n",
       "2                    28.57  \n",
       "3                     0.36  \n",
       "4                     0.00  \n",
       "5                     2.10  \n",
       "6                      NaN  \n",
       "7                      NaN  \n",
       "8                      NaN  \n",
       "9                      NaN  "
      ]
     },
     "execution_count": 40,
     "metadata": {},
     "output_type": "execute_result"
    }
   ],
   "source": [
    "bank_turget.columns = ['Признак', 'Нет оттока', 'Есть отток', 'Относительная разница,%']\n",
    "bank_turget.loc[0, 'Признак'] = bank_turget.loc[0, 'Признак'].replace('age', 'Средний возраст')\n",
    "bank_turget.loc[1, 'Признак'] = bank_turget.loc[1, 'Признак'].replace('balance', 'Средний баланс на счете')\n",
    "bank_turget.loc[2, 'Признак'] = bank_turget.loc[2, 'Признак'].replace('equity', 'Медианное количество собственности')\n",
    "bank_turget.loc[3, 'Признак'] = bank_turget.loc[3, 'Признак'].replace('est_salary', 'Средний доход')\n",
    "bank_turget.loc[4, 'Признак'] = bank_turget.loc[4, 'Признак'].replace('products', 'Медианное количество продуктов')\n",
    "bank_turget.loc[5, 'Признак'] = bank_turget.loc[5, 'Признак'].replace('score', 'Медианный скоринг')\n",
    "bank_turget.loc[6, 'Признак'] = bank_turget.loc[6, 'Признак'].replace('city', 'Мода по городу')\n",
    "bank_turget.loc[7, 'Признак'] = bank_turget.loc[7, 'Признак'].replace('credit_card', 'Мода по наличию кредитной карты')\n",
    "bank_turget.loc[8, 'Признак'] = bank_turget.loc[8, 'Признак'].replace('gender', 'Мода по полу')\n",
    "bank_turget.loc[9, 'Признак'] = bank_turget.loc[9, 'Признак'].replace('last_activity', 'Мода по активности')\n",
    "bank_turget"
   ]
  },
  {
   "cell_type": "markdown",
   "metadata": {},
   "source": [
    "<a id=\"hypothesis_testing\"></a> \n",
    "#### Статистический анализ данных"
   ]
  },
  {
   "cell_type": "markdown",
   "metadata": {},
   "source": [
    "Мы имеем две выборки: отточные клиенты и оставшиеся клиенты. Посмотрим размер этих выборок."
   ]
  },
  {
   "cell_type": "code",
   "execution_count": 41,
   "metadata": {},
   "outputs": [
    {
     "name": "stdout",
     "output_type": "stream",
     "text": [
      "Количество отточных клиентов:   1819 чел. \n",
      "Количество оставшихся клиентов: 8180 чел.\n"
     ]
    }
   ],
   "source": [
    "print(\n",
    "    'Количество отточных клиентов:  ', bank.query('churn == 1')['user_id'].count(),\n",
    "    'чел.', '\\nКоличество оставшихся клиентов:', bank.query('churn == 0')['user_id'].count(),'чел.'\n",
    ")"
   ]
  },
  {
   "cell_type": "markdown",
   "metadata": {},
   "source": [
    "Для выявления выбросов построим диаграммы размаха для признаков 'Оценочный доход' и 'Количество баллов собственности'"
   ]
  },
  {
   "cell_type": "code",
   "execution_count": 42,
   "metadata": {},
   "outputs": [
    {
     "data": {
      "image/png": "[encoded data removed]",
      "text/plain": [
       "<Figure size 1440x360 with 2 Axes>"
      ]
     },
     "metadata": {
      "needs_background": "light"
     },
     "output_type": "display_data"
    }
   ],
   "source": [
    "fig1 = plt.figure(figsize = (20,5))\n",
    "ax1 = plt.subplot(1, 2, 1)\n",
    "sns.boxplot(x=bank['est_salary_thousand'], palette = 'winter')\n",
    "\n",
    "ax2 = plt.subplot(1, 2, 2)\n",
    "sns.boxplot(x=bank['equity'], palette = 'winter')\n",
    "\n",
    "#plt.suptitle('Обзор рынка платформ (портрет покупателя)', fontsize = 22)\n",
    "ax1.set_title('Диаграмма размаха признака \"Оценочный доход\"', fontsize = 16)\n",
    "ax2.set_title('Диаграмма размаха признака \"Количество баллов собственности\"', fontsize = 16)\n",
    "ax1.set_xlabel('Оценочный доход')\n",
    "ax2.set_xlabel('Количество баллов собственности')\n",
    "plt.show()"
   ]
  },
  {
   "cell_type": "markdown",
   "metadata": {},
   "source": [
    "<a id=\"hypothesis_est_salary\"></a> \n",
    "##### Гипотеза о  различии дохода между теми клиентами, которые ушли, и теми, которые остались"
   ]
  },
  {
   "cell_type": "markdown",
   "metadata": {},
   "source": [
    "Сформулируем нулевую и альтернативную гипотезы:\n",
    "* H0: средние оценочные доходы оставшихся и отточных клиентов равны.\n",
    "* H1: средние оценочные доходы оставшихся и отточных клиентов не равны."
   ]
  },
  {
   "cell_type": "markdown",
   "metadata": {},
   "source": [
    "* В случае, когда в данных есть большие (по сравнению с нормальным распределением) выбросы, используют непараметрический тест Генри Манна и Доналда Уитни для независимых выборок.\n",
    "* Метод, который будем применять для сравнения гипотез, называется st.mannwhitneyu() (от англ. «U-критерий Манна-Уитни»). \n",
    "* Ключевая идея — проранжировать две выборки по порядку от меньшего к большему и сравнить ранги одних и тех же значений, попавших в обе выборки. Ранг — это место в упорядоченной выборке. Разница между рангами одних и тех же значений может быть одинакова, и такой сдвиг называют типичным. Значит, просто добавились значения, сдвинувшие все остальные. \n",
    "А нетипичные сдвиги по рангу рассматриваются как изменения. Сумма рангов таких сдвигов и выступает значением критерия. Чем он выше — тем больше вероятность, что для этих выборок интересующая нас величина различается.\n",
    "Вероятности получения разных значений критерия Манна-Уитни рассчитаны теоретически, что даёт возможность делать вывод о различии или его отсутствии для любого заданного уровня значимости.\n",
    "* Главное отличие непараметрических методов в том, что они работают с рангами, — номерами значений в упорядоченном ряду, — никак не учитывая сами значения. Поэтому к ним прибегают тогда, когда работа с самими значениями невозможна из-за выбросов, сильно сдвигающих параметрические результаты."
   ]
  },
  {
   "cell_type": "code",
   "execution_count": 43,
   "metadata": {},
   "outputs": [
    {
     "name": "stdout",
     "output_type": "stream",
     "text": [
      "p-значение:  0.00021160652203623057\n",
      "Отвергаем нулевую гипотезу: разница статистически значима\n"
     ]
    }
   ],
   "source": [
    "alpha = 0.05 # задаем критический уровень статистической значимости\n",
    "\n",
    "results = st.mannwhitneyu(bank.query('churn ==0')['est_salary'], bank.query('churn ==1')['est_salary'])\n",
    "\n",
    "print('p-значение: ', results.pvalue)\n",
    "\n",
    "if results.pvalue < alpha:\n",
    "    print('Отвергаем нулевую гипотезу: разница статистически значима')\n",
    "else:\n",
    "    print(\n",
    "        'Не получилось отвергнуть нулевую гипотезу, вывод о различии сделать нельзя'\n",
    "    ) "
   ]
  },
  {
   "cell_type": "markdown",
   "metadata": {},
   "source": [
    "__Вывод__\n",
    "* Полученное значение p-value меньше заданного уровня значимости, поэтому отвергаем нулевую гипотезу.\n",
    "* Есть основания говорить, что средние оценочные доходы оставшихся и отточных клиентов не равны."
   ]
  },
  {
   "cell_type": "markdown",
   "metadata": {},
   "source": [
    "<a id=\"hypothesis_equity\"></a> \n",
    "##### Гипотеза о  различии количества баллов собственности между теми клиентами, которые ушли, и теми, которые остались"
   ]
  },
  {
   "cell_type": "markdown",
   "metadata": {},
   "source": [
    "Сформулируем нулевую и альтернативную гипотезы:\n",
    "* H0: среднее количество баллов собственности оставшихся и отточных клиентов равно.\n",
    "* H1: среднее количество баллов собственности оставшихся и отточных клиентов не равно."
   ]
  },
  {
   "cell_type": "markdown",
   "metadata": {},
   "source": [
    "Проверку гипотез будем выполнять с помощью t-теста. Мы можем применить этот тест, т.к. у нас выполняются необходимые условия:\n",
    "1. Генеральные совокупности не зависят друг от друга. \n",
    "2. Выборочные средние нормально распределены. \n",
    "* Это условие не является препятствием благодаря центральной предельной теореме (сокращённо ЦПТ), которая звучит так: сумма независимых одинаково распределённых случайных величин стремится к нормальному распределению по мере увеличения их количества.\n",
    "* Если размер выборки составляет хотя бы несколько десятков значений, то выборочные средние, которые можно получить из одной и той же генеральной совокупности, будут распределены близко к нормальному вокруг истинного среднего этой совокупности. Это так, даже если сама генеральная совокупность не распределена нормально.\n",
    "* Мы имеем две выборки: количество отточных клиентов 1819 чел., количество оставшихся клиентов 8180 чел. Размеры выборок достаточны для выполнения ЦПТ.\n",
    "3. Дисперсии рассматриваемых генеральных совокупностей равны. \n",
    "* Это коварное условие. С одной стороны, мы никогда точно не знаем, равны ли дисперсии рассматриваемых генеральных совокупностей, с другой — по умолчанию параметр equal_var принимает значение True: дисперсии считаются равными и тест объединяет обе выборки в одну, чтобы эту дисперсию поточнее оценить.\n",
    "* Мы имеем выборки разного размера, поэтому укажем значение параметра  equal_var = False для того, чтобы тест посчитал дисперсии выборок по отдельности.\n",
    "* В данных нет выбросов"
   ]
  },
  {
   "cell_type": "code",
   "execution_count": 44,
   "metadata": {},
   "outputs": [
    {
     "name": "stdout",
     "output_type": "stream",
     "text": [
      "p-значение: 1.341323077798851e-197\n",
      "Отвергаем нулевую гипотезу\n"
     ]
    }
   ],
   "source": [
    "alpha = 0.05\n",
    "\n",
    "results = st.ttest_ind (\n",
    "    bank.query('churn == 0')['equity'],\n",
    "    bank.query('churn == 1')['equity'], equal_var = False)\n",
    " \n",
    "print('p-значение:', results.pvalue)\n",
    "\n",
    "if results.pvalue < alpha:\n",
    "    print ('Отвергаем нулевую гипотезу')\n",
    "else:\n",
    "    print ('Не получилось отвергнуть нулевую гипотезу')"
   ]
  },
  {
   "cell_type": "markdown",
   "metadata": {},
   "source": [
    "__Вывод__ \n",
    "* Полученное значение p-value меньше заданного уровня значимости, поэтому отвергаем нулевую гипотезу.\n",
    "* Есть основания говорить, что среднее количество баллов собственности оставшихся и отточных клиентов не равно."
   ]
  },
  {
   "cell_type": "markdown",
   "metadata": {},
   "source": [
    "<a id=\"analys_conclusion\"></a> \n",
    "#### Выводы по разделу \"Анализ данных\" \n",
    "1. Проведен анализ распределения признаков, на основании которого выяснили, что более склонны к оттоку клиенты:\n",
    "    * мужчины\n",
    "    * проживающие в Ярославле и Ростове\n",
    "    * в возрасте от 26 до 36 и от 51-61 лет\n",
    "    * с оценочным доходом от 86 до 238 тыс. руб и от 314 до 400 тыс.руб\n",
    "    * с балансом на счете от 714 до 400 тыс. руб.\n",
    "    * не имеющие кредитной карты\n",
    "    * с количеством баллов кредитного скоринга от 820 до  940\n",
    "    * с количеством баллов собственности от 3 до 9\n",
    "    * с количеством банковских продуктов от 2 до 5\n",
    "    * активные пользователи банковских продуктов\n",
    "2. Выяснили корреляционную зависимость между показателем оттока и другими признаками.Значения коэффициента корреляции между признаком 'churn' и другими признаками очень низкие (-0.25 < r < 0.3), что указывает на очень слабую силу связи (согласно шкале Чеддока).      \n",
    "3. Построили портрет клиента\n",
    "4. Проверили две гипотезы и выяснили, что\n",
    "* Есть основания говорить, что средние оценочные доходы оставшихся и отточных клиентов не равны.\n",
    "* Есть основания говорить, что среднее количество баллов собственности оставшихся и отточных клиентов не равно.\n",
    "5. На основании проведенного анализа к целевой аудитории клиентов с высоким уровнем оттока отнесем мужчин, обслуживающихся в Ярославле и Ростове, не имеющих кредитной карты. Разделим их на сегменты по следующим признакам:\n",
    "* количество продуктов\n",
    "* количество баллов собственности\n",
    "* оценочный доход "
   ]
  },
  {
   "cell_type": "markdown",
   "metadata": {},
   "source": [
    "<a id=\"customer_segmentation\"></a> \n",
    "### Сегментация клиентов"
   ]
  },
  {
   "cell_type": "markdown",
   "metadata": {},
   "source": [
    "1. По итогам анализа мы выделили целевую аудиторию клиентов с высоким уровнем оттока. Это мужчины, обслуживающиеся в Ярославле и Ростове, не имеющие кредитной карты. \n",
    "2. По итогам анализа мы выбрали признаки, которые лягут в основу сегментации: количество продуктов, количество баллов собственности, оценочный доход. \n",
    "3. Мы выявили интервалы/значения этих признаков, на которых отток выше, чем лояльность.Таким образом сегментацию целевой аудитории будем проводить по следующим критериям:\n",
    "* количество продуктов: больше двух\n",
    "* количество баллов собственности: больше трех\n",
    "* оценочный доход: от 86 до 238 тыс. руб и от 314 до 400 тыс.руб  \n",
    "4. В ходе исследования мы рассчитали долю оттока клиентов банка, этот показатель равен 0,18. Важно, чтобы в сегментах доля оттока была выше, чем в среднем по банку.  "
   ]
  },
  {
   "cell_type": "markdown",
   "metadata": {},
   "source": [
    "<a id=\"segment_one\"></a> \n",
    "#### Сегмент №1"
   ]
  },
  {
   "cell_type": "markdown",
   "metadata": {},
   "source": [
    "* Пол: мужской  \n",
    "* Город: не Рыбинск  \n",
    "* Кредитная карта: нет\n",
    "* Количество баллов собственности: больше трех"
   ]
  },
  {
   "cell_type": "code",
   "execution_count": 45,
   "metadata": {},
   "outputs": [
    {
     "name": "stdout",
     "output_type": "stream",
     "text": [
      "Общее число клиентов в сегменте №1: 625\n",
      "Доля отточных клиентов в сегменте №1: 0.49\n"
     ]
    }
   ],
   "source": [
    "# Рассчитаем общее число клиентов в этом сегменте:\n",
    "print ('Общее число клиентов в сегменте №1:',\n",
    "       bank.query('men == 1 and \\\n",
    "                   rybinsk == 0 and \\\n",
    "                   credit_card == 0  and \\\n",
    "                   equity >=3') \\\n",
    "        ['user_id'].count())\n",
    "\n",
    "# Рассчитаем долюотточных клиентов в этом сегменте:\n",
    "print ('Доля отточных клиентов в сегменте №1:',\n",
    "       round(bank.query('men == 1 and \\\n",
    "                         rybinsk == 0 and \\\n",
    "                         credit_card == 0  and \\\n",
    "                         equity >=3') \\\n",
    "        ['churn'].agg('mean'), 2))"
   ]
  },
  {
   "cell_type": "markdown",
   "metadata": {},
   "source": [
    "<a id=\"segment_two\"></a> \n",
    "#### Сегмент №2"
   ]
  },
  {
   "cell_type": "markdown",
   "metadata": {},
   "source": [
    "* Пол: мужской  \n",
    "* Город: не Рыбинск  \n",
    "* Кредитная карта: нет\n",
    "* Количество продуктов: больше двух"
   ]
  },
  {
   "cell_type": "code",
   "execution_count": 46,
   "metadata": {
    "scrolled": true
   },
   "outputs": [
    {
     "name": "stdout",
     "output_type": "stream",
     "text": [
      "Общее число клиентов в сегменте №1: 752\n",
      "Доля отточных клиентов в сегменте №1: 0.43\n"
     ]
    }
   ],
   "source": [
    "# Рассчитаем общее число клиентов в этом сегменте:\n",
    "print ('Общее число клиентов в сегменте №1:',\n",
    "       bank.query('men == 1 and \\\n",
    "                   rybinsk == 0 and \\\n",
    "                   credit_card == 0  and \\\n",
    "                   products >= 2') \\\n",
    "       ['user_id'].count())\n",
    "\n",
    "# Рассчитаем долю отточных клиентов в этом сегменте:\n",
    "print ('Доля отточных клиентов в сегменте №1:',\n",
    "       round(bank.query('men == 1 and \\\n",
    "                         rybinsk == 0 and \\\n",
    "                         credit_card == 0  and \\\n",
    "                         products >= 2') \\\n",
    "        ['churn'].agg('mean'), 2))"
   ]
  },
  {
   "cell_type": "markdown",
   "metadata": {},
   "source": [
    "<a id=\"segment_three\"></a> \n",
    "#### Сегмент №3"
   ]
  },
  {
   "cell_type": "markdown",
   "metadata": {},
   "source": [
    "* Пол: мужской  \n",
    "* Город: не Рыбинск  \n",
    "* Кредитная карта: нет\n",
    "* Оценочный доход: 86 тыс.руб. - 238 тыс.руб."
   ]
  },
  {
   "cell_type": "code",
   "execution_count": 47,
   "metadata": {},
   "outputs": [
    {
     "name": "stdout",
     "output_type": "stream",
     "text": [
      "Общее число клиентов в сегменте №1: 539\n",
      "Доля отточных клиентов в сегменте №1: 0.42\n"
     ]
    }
   ],
   "source": [
    "# Рассчитаем общее число клиентов в этом сегменте:\n",
    "print ('Общее число клиентов в сегменте №1:',\n",
    "       bank.query('men == 1 and \\\n",
    "                   rybinsk == 0 and \\\n",
    "                   credit_card == 0  and \\\n",
    "                   est_salary_thousand >= 86 and est_salary_thousand <= 238') \\\n",
    "       ['user_id'].count())\n",
    "\n",
    "# Рассчитаем долю отточных клиентов в этом сегменте:\n",
    "print ('Доля отточных клиентов в сегменте №1:',\n",
    "       round(bank.query('men == 1 and \\\n",
    "                         rybinsk == 0 and \\\n",
    "                         credit_card == 0  and \\\n",
    "                         est_salary_thousand >= 86 and est_salary_thousand <= 238') \\\n",
    "        ['churn'].agg('mean'), 2))"
   ]
  },
  {
   "cell_type": "markdown",
   "metadata": {},
   "source": [
    "<a id=\"segment_conclusion\"></a> \n",
    "#### Выводы по разделу \"Сегментация клиентов\" \n",
    "Мы выделили три сегмента клиентов банка\n",
    "\n",
    "| Признак              | Сегмент 1      | Сегмент 2       | Сегмент 3       |  \n",
    "| --------------------:|-------------- :| -------------- :| -------------- :|\n",
    "| Пол                  | мужской        | мужской         |  мужской        |  \n",
    "| Город                | не Рыбинск     | не Рыбинск      |  не Рыбинск     | \n",
    "| Кредитная карта      | нет            | нет             |  нет            |  \n",
    "| Количество продуктов |                | больше 2        |                 |\n",
    "| Баллы собственности  | больше 3       |                 |                 | \n",
    "| Доход                |                |                 |  86-238 тыс.руб.|   \n",
    "|                      |                |                 |                 |\n",
    "| Кол-во клиентов      | 625            | 752             |  539            |   \n",
    "| Доля оттока          | 0.49           | 0.43            |  0.42           |   \n"
   ]
  },
  {
   "cell_type": "markdown",
   "metadata": {},
   "source": [
    "<a id=\"segment_prioritization\"></a> \n",
    "### Приоритизация сегментов"
   ]
  },
  {
   "cell_type": "markdown",
   "metadata": {},
   "source": [
    "В связи с тем, что отдел маректинга включает только двух работников, и  у них нет автоматизированных систем, все мероприятия, рассылки и агитации будут выполнены ручным трудом. Поэтому важно приоритизировать сегменты, чтобы маркетинг знал, на что обратить внимание в первую очередь в случае, если ресурсов маркетинга не хватит на охват всех выделенных сегментов.  Будем приоритизировать сегменты по мере уменьшения доли  отточных клиентов.\n",
    "1. Приоритет №1 \n",
    "* Сегмент №1\n",
    "  * Пол: мужской  \n",
    "  * Город: не Рыбинск  \n",
    "  * Кредитная карта: нет\n",
    "  * Количество баллов собственности: больше трех\n",
    "  * Количество клиентов: 625\n",
    "  * Доля оттока: 0.49\n",
    "2. Приоритет №2\n",
    "* Сегмент № 2\n",
    "  * Пол: мужской  \n",
    "  * Город: не Рыбинск  \n",
    "  * Кредитная карта: нет\n",
    "  * Количество продуктов: больше двух\n",
    "  * Количество клиентов: 752\n",
    "  * Доля оттока: 0.43\n",
    "3. Приоритет №3\n",
    "* Сегмент № 3\n",
    "  * Пол: мужской  \n",
    "  * Город: не Рыбинск  \n",
    "  * Кредитная карта: нет\n",
    "  * Оценочный доход: 86 тыс.руб. - 238 тыс.руб.\n",
    "  * Количество клиентов: 539\n",
    "  * Доля оттока: 0.42"
   ]
  },
  {
   "cell_type": "markdown",
   "metadata": {},
   "source": [
    "<a id=\"segment_prioritization_conclusion\"></a> \n",
    "#### Выводы по разделу \"Приоритизация сегментов\""
   ]
  },
  {
   "cell_type": "markdown",
   "metadata": {},
   "source": [
    "Завершен __седьмой__ этап работы над проектом\n",
    "На этом этапе мы выполнили приоритизацию сегментов\n",
    "* Приоритет №1 - Сегмент №1 - Количество клиентов 625 - Доля оттока 0.49\n",
    "* Приоритет №2 - Сегмент №2 - Количество клиентов 752 - Доля оттока 0.43\n",
    "* Приоритет №3 - Сегмент №3 - Количество клиентов 539 - Доля оттока 0.42"
   ]
  },
  {
   "cell_type": "markdown",
   "metadata": {},
   "source": [
    "<a id=\"conclusion\"></a>\n",
    "### Вывод\n",
    "    \n",
    "__Цель__ нашего проекта заключалась в том, чтобы провести анализ оттока клиентов «Метанпромбанка».\n",
    "\n",
    "__Задачи__ проекта:\n",
    "1. Поиск и анализ оттока клиентов\n",
    "2. Сегментирование клиентов  \n",
    "3. Формирование таргетированных рекомендаций для отдела маркетинга\n",
    "\n",
    "В нашем распоряжении датасет:\n",
    "* датасет bank_scrooge.csv, который содержит данные о клиентах «Метанпромбанка».\n",
    "\n",
    "Работу распределили на семь этапов.\n",
    "\n",
    "На этапах __\"Знакомство с данными\" и \"Предварительная обработка данных\"__  мы познакомились с данными и провели предварительную обработку:\n",
    "* дали корректные названия столбцам 'USERID', 'EST_SALARY';\n",
    "* убедились в отсутствии некорректных значений в столбцах 'city', 'gender', 'equity', 'churn', 'credit_card', 'last_activity';\n",
    "* удалили строку с некорректным значением в столбце 'products';\n",
    "* убедились в отсутствии неявных дубликатов по столбцам 'user_id' и 'city';\n",
    "* выполнили кодирование столбцов с категориальными значениями 'gender', 'city';\n",
    "* по матрице корреляции Пирсона выяснили отсутствие зависимости пропусков в столбцах 'balance' и 'age' с другими признаками, на основании этого приняли решение оставить пропущенные значения без изменения;\n",
    "* создали дополнительные столбцы 'balance_thousand' , 'est_salary_thousand' и 'churn_word', которые пригодятся в исследовании.\n",
    "\n",
    "На этапе __\"Аннализ данных\"__:\n",
    "\n",
    "1. Провели анализ распределения признаков, на основании которого выяснили, что более склонны к оттоку клиенты:\n",
    "    * мужчины\n",
    "    * проживающие в Ярославле и Ростове\n",
    "    * в возрасте от 26 до 34 и от 51-59 лет\n",
    "    * с оценочным доходом от 86 до 238 тыс. руб и от 314 до 400 тыс.руб\n",
    "    * с балансом на счете от 714 до 400 тыс. руб.\n",
    "    * не имеющие кредитной карты\n",
    "    * с количеством баллов кредитного скоринга от 823 до  936\n",
    "    * с количеством баллов собственности от 3 до 9\n",
    "    * с количеством банковских продуктов от 2 до 5\n",
    "    * активные пользователи банковских продуктов\n",
    "2. Выяснили корреляционную зависимость между показатеоем оттока и другими признаками.Значения коэффициента корреляции между признаком 'churn' и другими признаками очень низкие (-0.25 < r < 0.3), что указывает на очень слабую силу связи (согласно шкале Чеддока).      \n",
    "3. Построили портрет клиента\n",
    "4. Проверили две гипотезы и выяснили, что\n",
    "* Есть основания говорить, что средние оценочные доходы оставшихся и отточных клиентов не равны.\n",
    "* Есть основания говорить, что среднее количество баллов собственности оставшихся и отточных клиентов не равно.\n",
    "5. На основании проведенного анализа к целевой аудитории клиентов с высоким уровнем оттока отнесем мужчин, обслуживающихся в Ярославле и Ростове, не имеющих кредитной карты. Разделим их на сегменты по следующим признакам:\n",
    "* количество продуктов\n",
    "* количество баллов собственности\n",
    "* оценочный доход \n",
    "\n",
    "На этапе __\"Сегментация клиентов\"__ мы выделили три сегмента клиентов банка:\n",
    "1. Сегмент №1\n",
    "* Пол: мужской  \n",
    "* Город: не Рыбинск  \n",
    "* Кредитная карта: нет\n",
    "* Количество баллов собственности: больше трех\n",
    "2. Сегмент №2\n",
    "* Пол: мужской  \n",
    "* Город: не Рыбинск  \n",
    "* Кредитная карта: нет\n",
    "* Количество продуктов: больше двух \n",
    "3. Сегмент №3\n",
    "* Пол: мужской  \n",
    "* Город: не Рыбинск  \n",
    "* Кредитная карта: нет\n",
    "* Оценочный доход: 86 тыс.руб. - 238 тыс.руб.\n",
    "\n",
    "На этапе __\"Приоритизация сегментов\"__ расставили приоритеты между сегментами по уменьшению доли оттока:\n",
    "* Приоритет №1 - Сегмент №1 - Количество клиентов 625 - Доля оттока 0.49\n",
    "* Приоритет №2 - Сегмент №2 - Количество клиентов 752 - Доля оттока 0.43\n",
    "* Приоритет №3 - Сегмент №3 - Количество клиентов 539 - Доля оттока 0.42\n",
    "\n",
    "На основании проведенного исследования позволим себе дать __рекомендации для отдела маркетинга__ , направленные на снижение оттока.\n",
    "1.__Сегмент №1  - ключевой критерий \"Количество баллов собственности: больше трех\"__: \n",
    "* Расширение программы лояльности для пользователей дебетовых карт:\n",
    "  * еще больше категорий для кешбэка:\n",
    "    * ЖКХ\n",
    "    * спорт\n",
    "    * здоровье и отдых\n",
    "    * топливо и АЗС\n",
    "    * дом и ремонт\n",
    "    * супермаркеты\n",
    "* Выпуск кредитной карты с беспроцентным периодом до одного года\n",
    "* Программа \"Рефинансирование кредитов\": расширения перечня продуктов для рефинансирования\n",
    "* Специальные условия по страхованию объектов собственности\n",
    "\n",
    "2. __Сегмент №2 - ключевой критерий \"Количество продуктов: больше двух\"__: \n",
    "* Расширение программы лояльности для пользователей дебетовых карт:\n",
    "  * еще больше категорий для кешбэка:\n",
    "    * ЖКХ\n",
    "    * спорт\n",
    "    * здоровье и отдых\n",
    "    * топливо и АЗС\n",
    "    * дом и ремонт\n",
    "    * супермаркеты\n",
    "* Выпуск кредитной карты с беспроцентным периодом до одного года\n",
    "* Программа \"online bank\": расширение вариативности продуктов (ставка, срок, возможность снятия, капитализация)\n",
    "* Программа \"Обеспеченная старость\" : повышение процентной ставки по вкладам для клиентов пенсионного возраста \n",
    "\n",
    "3. __Сегмент №3 ключевой критерий \"Оценочный доход: 86-238 тыс.руб\"__:\n",
    "* Расширение программы лояльности для пользователей дебетовых карт:\n",
    "  * еще больше категорий для кешбэка:\n",
    "    * ЖКХ\n",
    "    * спорт\n",
    "    * здоровье и отдых\n",
    "    * топливо и АЗС\n",
    "    * дом и ремонт\n",
    "    * супермаркеты\n",
    "* Выпуск кредитной карты с беспроцентным периодом до одного года\n",
    "* Льготные условия по кредитованию для участников зарплатного проекта\n",
    "* Программа \"Молодая семья\": льготные условия по ипотечному кредитованию\n",
    "4. Надеемся, что эти рекомендации помогут банку \"Метанпром\" снизить отток клиентов."
   ]
  },
  {
   "cell_type": "markdown",
   "metadata": {},
   "source": [
    "### Материалы:\n",
    "* [Презентация](https://drive.google.com/drive/folders/16yPJ002mGxASOcAp_jm5duVx65ftb5Nh)"
   ]
  }
 ],
 "metadata": {
  "ExecuteTimeLog": [
   {
    "duration": 1536,
    "start_time": "2024-04-23T06:49:11.172Z"
   },
   {
    "duration": 3,
    "start_time": "2024-04-23T06:49:12.710Z"
   },
   {
    "duration": 3,
    "start_time": "2024-04-23T06:49:16.719Z"
   },
   {
    "duration": 140,
    "start_time": "2024-04-23T06:49:18.665Z"
   },
   {
    "duration": 14,
    "start_time": "2024-04-23T06:49:40.767Z"
   },
   {
    "duration": 1641,
    "start_time": "2024-04-23T07:13:59.250Z"
   },
   {
    "duration": 3,
    "start_time": "2024-04-23T07:14:00.893Z"
   },
   {
    "duration": 151,
    "start_time": "2024-04-23T07:14:00.898Z"
   },
   {
    "duration": 188,
    "start_time": "2024-04-23T07:14:01.050Z"
   },
   {
    "duration": 157,
    "start_time": "2024-04-23T07:14:01.239Z"
   },
   {
    "duration": 3,
    "start_time": "2024-04-23T07:38:35.192Z"
   },
   {
    "duration": 4,
    "start_time": "2024-04-23T07:38:43.763Z"
   },
   {
    "duration": 97,
    "start_time": "2024-04-23T07:52:09.076Z"
   },
   {
    "duration": 16,
    "start_time": "2024-04-23T07:52:18.439Z"
   },
   {
    "duration": 14,
    "start_time": "2024-04-23T07:52:51.437Z"
   },
   {
    "duration": 12,
    "start_time": "2024-04-23T07:53:09.102Z"
   },
   {
    "duration": 16,
    "start_time": "2024-04-23T07:57:00.901Z"
   },
   {
    "duration": 461,
    "start_time": "2024-04-23T09:15:26.119Z"
   },
   {
    "duration": 115,
    "start_time": "2024-04-23T09:16:38.307Z"
   },
   {
    "duration": 429,
    "start_time": "2024-04-23T09:16:57.309Z"
   },
   {
    "duration": 8,
    "start_time": "2024-04-23T09:17:16.313Z"
   },
   {
    "duration": 12,
    "start_time": "2024-04-23T09:17:33.841Z"
   },
   {
    "duration": 757,
    "start_time": "2024-04-23T09:18:07.376Z"
   },
   {
    "duration": 610,
    "start_time": "2024-04-23T09:18:37.564Z"
   },
   {
    "duration": 7,
    "start_time": "2024-04-23T09:19:22.723Z"
   },
   {
    "duration": 13,
    "start_time": "2024-04-23T09:19:26.190Z"
   },
   {
    "duration": 18,
    "start_time": "2024-04-23T09:40:52.079Z"
   },
   {
    "duration": 12,
    "start_time": "2024-04-23T10:05:47.002Z"
   },
   {
    "duration": 12,
    "start_time": "2024-04-23T10:05:48.752Z"
   },
   {
    "duration": 24,
    "start_time": "2024-04-23T10:05:59.408Z"
   },
   {
    "duration": 6,
    "start_time": "2024-04-23T10:23:32.144Z"
   },
   {
    "duration": 88,
    "start_time": "2024-04-23T10:29:14.611Z"
   },
   {
    "duration": 94,
    "start_time": "2024-04-23T10:29:36.951Z"
   },
   {
    "duration": 19,
    "start_time": "2024-04-23T10:30:54.000Z"
   },
   {
    "duration": 12,
    "start_time": "2024-04-23T10:30:59.158Z"
   },
   {
    "duration": 19,
    "start_time": "2024-04-23T10:31:22.402Z"
   },
   {
    "duration": 22,
    "start_time": "2024-04-23T10:33:09.826Z"
   },
   {
    "duration": 9,
    "start_time": "2024-04-23T10:42:03.876Z"
   },
   {
    "duration": 5,
    "start_time": "2024-04-23T10:42:40.862Z"
   },
   {
    "duration": 4,
    "start_time": "2024-04-23T10:42:42.510Z"
   },
   {
    "duration": 4,
    "start_time": "2024-04-23T10:42:44.549Z"
   },
   {
    "duration": 4,
    "start_time": "2024-04-23T10:42:45.995Z"
   },
   {
    "duration": 4,
    "start_time": "2024-04-23T10:42:48.599Z"
   },
   {
    "duration": 4,
    "start_time": "2024-04-23T10:50:02.073Z"
   },
   {
    "duration": 5,
    "start_time": "2024-04-23T10:50:08.535Z"
   },
   {
    "duration": 5,
    "start_time": "2024-04-23T10:50:23.599Z"
   },
   {
    "duration": 5,
    "start_time": "2024-04-23T10:50:31.496Z"
   },
   {
    "duration": 4,
    "start_time": "2024-04-23T10:50:39.313Z"
   },
   {
    "duration": 4,
    "start_time": "2024-04-23T10:50:48.272Z"
   },
   {
    "duration": 5,
    "start_time": "2024-04-23T10:51:27.017Z"
   },
   {
    "duration": 4,
    "start_time": "2024-04-23T10:51:37.097Z"
   },
   {
    "duration": 3756,
    "start_time": "2024-04-23T10:52:08.018Z"
   },
   {
    "duration": 999,
    "start_time": "2024-04-23T10:52:51.139Z"
   },
   {
    "duration": 141,
    "start_time": "2024-04-23T10:54:44.030Z"
   },
   {
    "duration": 9,
    "start_time": "2024-04-23T10:54:53.701Z"
   },
   {
    "duration": 7,
    "start_time": "2024-04-23T10:55:02.677Z"
   },
   {
    "duration": 5,
    "start_time": "2024-04-23T10:56:03.999Z"
   },
   {
    "duration": 13,
    "start_time": "2024-04-23T11:19:37.074Z"
   },
   {
    "duration": 22,
    "start_time": "2024-04-23T11:33:30.555Z"
   },
   {
    "duration": 352,
    "start_time": "2024-04-23T11:33:44.483Z"
   },
   {
    "duration": 47,
    "start_time": "2024-04-23T11:59:42.501Z"
   },
   {
    "duration": 39,
    "start_time": "2024-04-23T11:59:55.948Z"
   },
   {
    "duration": 50,
    "start_time": "2024-04-23T12:06:18.546Z"
   },
   {
    "duration": 1153,
    "start_time": "2024-04-23T12:13:42.951Z"
   },
   {
    "duration": 2,
    "start_time": "2024-04-23T12:13:44.106Z"
   },
   {
    "duration": 26,
    "start_time": "2024-04-23T12:13:44.109Z"
   },
   {
    "duration": 98,
    "start_time": "2024-04-23T12:13:44.137Z"
   },
   {
    "duration": 13,
    "start_time": "2024-04-23T12:13:44.237Z"
   },
   {
    "duration": 35,
    "start_time": "2024-04-23T12:13:44.251Z"
   },
   {
    "duration": 21,
    "start_time": "2024-04-23T12:13:44.287Z"
   },
   {
    "duration": 32,
    "start_time": "2024-04-23T12:13:44.309Z"
   },
   {
    "duration": 45,
    "start_time": "2024-04-23T12:13:44.342Z"
   },
   {
    "duration": 39,
    "start_time": "2024-04-23T12:13:44.389Z"
   },
   {
    "duration": 44,
    "start_time": "2024-04-23T12:13:44.430Z"
   },
   {
    "duration": 55,
    "start_time": "2024-04-23T12:13:44.476Z"
   },
   {
    "duration": 20,
    "start_time": "2024-04-23T12:13:44.532Z"
   },
   {
    "duration": 42,
    "start_time": "2024-04-23T12:13:44.553Z"
   },
   {
    "duration": 26,
    "start_time": "2024-04-23T12:13:44.597Z"
   },
   {
    "duration": 38,
    "start_time": "2024-04-23T12:13:44.625Z"
   },
   {
    "duration": 45,
    "start_time": "2024-04-23T12:13:44.665Z"
   },
   {
    "duration": 340,
    "start_time": "2024-04-23T12:13:44.712Z"
   },
   {
    "duration": 155,
    "start_time": "2024-04-23T12:14:20.918Z"
   },
   {
    "duration": 480,
    "start_time": "2024-04-23T12:14:37.277Z"
   },
   {
    "duration": 483,
    "start_time": "2024-04-23T12:16:49.140Z"
   },
   {
    "duration": 6,
    "start_time": "2024-04-23T12:50:44.915Z"
   },
   {
    "duration": 26,
    "start_time": "2024-04-23T12:50:46.034Z"
   },
   {
    "duration": 20,
    "start_time": "2024-04-23T12:51:55.341Z"
   },
   {
    "duration": 5,
    "start_time": "2024-04-23T12:53:09.677Z"
   },
   {
    "duration": 29,
    "start_time": "2024-04-23T12:53:12.270Z"
   },
   {
    "duration": 16,
    "start_time": "2024-04-23T12:55:24.978Z"
   },
   {
    "duration": 18,
    "start_time": "2024-04-23T12:55:28.019Z"
   },
   {
    "duration": 1349,
    "start_time": "2024-04-23T12:55:45.270Z"
   },
   {
    "duration": 2,
    "start_time": "2024-04-23T12:55:46.621Z"
   },
   {
    "duration": 20,
    "start_time": "2024-04-23T12:55:46.625Z"
   },
   {
    "duration": 117,
    "start_time": "2024-04-23T12:55:46.647Z"
   },
   {
    "duration": 14,
    "start_time": "2024-04-23T12:55:46.765Z"
   },
   {
    "duration": 3,
    "start_time": "2024-04-23T12:55:46.781Z"
   },
   {
    "duration": 57,
    "start_time": "2024-04-23T12:55:46.786Z"
   },
   {
    "duration": 58,
    "start_time": "2024-04-23T12:55:46.845Z"
   },
   {
    "duration": 50,
    "start_time": "2024-04-23T12:55:46.905Z"
   },
   {
    "duration": 15,
    "start_time": "2024-04-23T12:55:46.958Z"
   },
   {
    "duration": 74,
    "start_time": "2024-04-23T12:55:46.974Z"
   },
   {
    "duration": 14,
    "start_time": "2024-04-23T12:55:47.049Z"
   },
   {
    "duration": 29,
    "start_time": "2024-04-23T12:55:47.064Z"
   },
   {
    "duration": 26,
    "start_time": "2024-04-23T12:55:47.095Z"
   },
   {
    "duration": 35,
    "start_time": "2024-04-23T12:55:47.123Z"
   },
   {
    "duration": 11,
    "start_time": "2024-04-23T12:55:47.160Z"
   },
   {
    "duration": 38,
    "start_time": "2024-04-23T12:55:47.173Z"
   },
   {
    "duration": 37,
    "start_time": "2024-04-23T12:55:47.212Z"
   },
   {
    "duration": 337,
    "start_time": "2024-04-23T12:55:47.251Z"
   },
   {
    "duration": 495,
    "start_time": "2024-04-23T12:55:47.590Z"
   },
   {
    "duration": 1558,
    "start_time": "2024-04-24T05:44:21.686Z"
   },
   {
    "duration": 3,
    "start_time": "2024-04-24T05:44:23.246Z"
   },
   {
    "duration": 10,
    "start_time": "2024-04-24T05:44:23.250Z"
   },
   {
    "duration": 149,
    "start_time": "2024-04-24T05:44:23.261Z"
   },
   {
    "duration": 13,
    "start_time": "2024-04-24T05:44:23.412Z"
   },
   {
    "duration": 3,
    "start_time": "2024-04-24T05:44:23.427Z"
   },
   {
    "duration": 8,
    "start_time": "2024-04-24T05:44:23.431Z"
   },
   {
    "duration": 8,
    "start_time": "2024-04-24T05:44:23.440Z"
   },
   {
    "duration": 13,
    "start_time": "2024-04-24T05:44:23.449Z"
   },
   {
    "duration": 5,
    "start_time": "2024-04-24T05:44:23.464Z"
   },
   {
    "duration": 5,
    "start_time": "2024-04-24T05:44:23.481Z"
   },
   {
    "duration": 7,
    "start_time": "2024-04-24T05:44:23.487Z"
   },
   {
    "duration": 6,
    "start_time": "2024-04-24T05:44:23.495Z"
   },
   {
    "duration": 4,
    "start_time": "2024-04-24T05:44:23.503Z"
   },
   {
    "duration": 24,
    "start_time": "2024-04-24T05:44:23.509Z"
   },
   {
    "duration": 11,
    "start_time": "2024-04-24T05:44:23.535Z"
   },
   {
    "duration": 45,
    "start_time": "2024-04-24T05:44:23.548Z"
   },
   {
    "duration": 35,
    "start_time": "2024-04-24T05:44:23.595Z"
   },
   {
    "duration": 397,
    "start_time": "2024-04-24T05:44:23.632Z"
   },
   {
    "duration": 649,
    "start_time": "2024-04-24T05:44:24.031Z"
   },
   {
    "duration": 615,
    "start_time": "2024-04-24T05:52:21.160Z"
   },
   {
    "duration": 105,
    "start_time": "2024-04-24T05:52:55.190Z"
   },
   {
    "duration": 499,
    "start_time": "2024-04-24T05:53:18.849Z"
   },
   {
    "duration": 364,
    "start_time": "2024-04-24T05:55:56.486Z"
   },
   {
    "duration": 341,
    "start_time": "2024-04-24T05:57:26.694Z"
   },
   {
    "duration": 310,
    "start_time": "2024-04-24T05:58:16.953Z"
   },
   {
    "duration": 311,
    "start_time": "2024-04-24T05:58:31.094Z"
   },
   {
    "duration": 430,
    "start_time": "2024-04-24T05:58:42.423Z"
   },
   {
    "duration": 322,
    "start_time": "2024-04-24T05:59:05.841Z"
   },
   {
    "duration": 319,
    "start_time": "2024-04-24T05:59:16.807Z"
   },
   {
    "duration": 355,
    "start_time": "2024-04-24T05:59:34.882Z"
   },
   {
    "duration": 324,
    "start_time": "2024-04-24T06:00:13.124Z"
   },
   {
    "duration": 440,
    "start_time": "2024-04-24T06:00:34.245Z"
   },
   {
    "duration": 360,
    "start_time": "2024-04-24T06:00:46.272Z"
   },
   {
    "duration": 367,
    "start_time": "2024-04-24T06:07:54.524Z"
   },
   {
    "duration": 374,
    "start_time": "2024-04-24T06:08:10.460Z"
   },
   {
    "duration": 352,
    "start_time": "2024-04-24T06:09:14.510Z"
   },
   {
    "duration": 327,
    "start_time": "2024-04-24T06:10:19.225Z"
   },
   {
    "duration": 5255,
    "start_time": "2024-04-24T06:14:01.606Z"
   },
   {
    "duration": 5169,
    "start_time": "2024-04-24T06:14:56.185Z"
   },
   {
    "duration": 5361,
    "start_time": "2024-04-24T06:15:13.104Z"
   },
   {
    "duration": 5237,
    "start_time": "2024-04-24T06:26:27.985Z"
   },
   {
    "duration": 5174,
    "start_time": "2024-04-24T06:26:58.370Z"
   },
   {
    "duration": 5236,
    "start_time": "2024-04-24T06:27:21.889Z"
   },
   {
    "duration": 5189,
    "start_time": "2024-04-24T06:27:49.258Z"
   },
   {
    "duration": 5261,
    "start_time": "2024-04-24T06:28:17.260Z"
   },
   {
    "duration": 5174,
    "start_time": "2024-04-24T06:28:38.355Z"
   },
   {
    "duration": 395,
    "start_time": "2024-04-24T06:29:17.907Z"
   },
   {
    "duration": 391,
    "start_time": "2024-04-24T06:29:43.635Z"
   },
   {
    "duration": 383,
    "start_time": "2024-04-24T06:29:52.822Z"
   },
   {
    "duration": 769,
    "start_time": "2024-04-24T06:30:00.563Z"
   },
   {
    "duration": 104,
    "start_time": "2024-04-24T09:47:07.311Z"
   },
   {
    "duration": 51,
    "start_time": "2024-04-24T09:47:39.632Z"
   },
   {
    "duration": 1493,
    "start_time": "2024-04-24T09:47:51.283Z"
   },
   {
    "duration": 3,
    "start_time": "2024-04-24T09:47:52.778Z"
   },
   {
    "duration": 11,
    "start_time": "2024-04-24T09:47:52.782Z"
   },
   {
    "duration": 117,
    "start_time": "2024-04-24T09:47:52.795Z"
   },
   {
    "duration": 14,
    "start_time": "2024-04-24T09:47:52.914Z"
   },
   {
    "duration": 3,
    "start_time": "2024-04-24T09:47:52.930Z"
   },
   {
    "duration": 19,
    "start_time": "2024-04-24T09:47:52.935Z"
   },
   {
    "duration": 5,
    "start_time": "2024-04-24T09:47:52.955Z"
   },
   {
    "duration": 5,
    "start_time": "2024-04-24T09:47:52.961Z"
   },
   {
    "duration": 5,
    "start_time": "2024-04-24T09:47:52.967Z"
   },
   {
    "duration": 6,
    "start_time": "2024-04-24T09:47:52.973Z"
   },
   {
    "duration": 7,
    "start_time": "2024-04-24T09:47:52.980Z"
   },
   {
    "duration": 7,
    "start_time": "2024-04-24T09:47:52.988Z"
   },
   {
    "duration": 6,
    "start_time": "2024-04-24T09:47:53.031Z"
   },
   {
    "duration": 34,
    "start_time": "2024-04-24T09:47:53.039Z"
   },
   {
    "duration": 13,
    "start_time": "2024-04-24T09:47:53.075Z"
   },
   {
    "duration": 39,
    "start_time": "2024-04-24T09:47:53.089Z"
   },
   {
    "duration": 41,
    "start_time": "2024-04-24T09:47:53.130Z"
   },
   {
    "duration": 593,
    "start_time": "2024-04-24T09:47:53.172Z"
   },
   {
    "duration": 395,
    "start_time": "2024-04-24T09:47:53.767Z"
   },
   {
    "duration": 440,
    "start_time": "2024-04-24T09:47:54.163Z"
   },
   {
    "duration": 316,
    "start_time": "2024-04-24T09:47:54.605Z"
   },
   {
    "duration": 4861,
    "start_time": "2024-04-24T09:47:54.923Z"
   },
   {
    "duration": 377,
    "start_time": "2024-04-24T09:47:59.786Z"
   },
   {
    "duration": 119,
    "start_time": "2024-04-24T09:48:00.165Z"
   },
   {
    "duration": 357,
    "start_time": "2024-04-24T09:56:04.952Z"
   },
   {
    "duration": 360,
    "start_time": "2024-04-24T09:56:43.004Z"
   },
   {
    "duration": 60,
    "start_time": "2024-04-24T10:55:41.911Z"
   },
   {
    "duration": 1202,
    "start_time": "2024-04-24T10:56:05.226Z"
   },
   {
    "duration": 694,
    "start_time": "2024-04-24T10:56:24.707Z"
   },
   {
    "duration": 412,
    "start_time": "2024-04-24T11:07:54.577Z"
   },
   {
    "duration": 523,
    "start_time": "2024-04-24T11:08:09.848Z"
   },
   {
    "duration": 566,
    "start_time": "2024-04-24T11:08:33.923Z"
   },
   {
    "duration": 462,
    "start_time": "2024-04-24T11:09:55.731Z"
   },
   {
    "duration": 475,
    "start_time": "2024-04-24T11:10:07.891Z"
   },
   {
    "duration": 506,
    "start_time": "2024-04-24T11:19:34.584Z"
   },
   {
    "duration": 594,
    "start_time": "2024-04-24T11:20:01.535Z"
   },
   {
    "duration": 498,
    "start_time": "2024-04-24T11:20:13.417Z"
   },
   {
    "duration": 479,
    "start_time": "2024-04-24T11:20:26.721Z"
   },
   {
    "duration": 469,
    "start_time": "2024-04-24T11:20:38.055Z"
   },
   {
    "duration": 539,
    "start_time": "2024-04-24T11:20:49.609Z"
   },
   {
    "duration": 451,
    "start_time": "2024-04-24T11:21:05.306Z"
   },
   {
    "duration": 442,
    "start_time": "2024-04-24T11:21:25.162Z"
   },
   {
    "duration": 543,
    "start_time": "2024-04-24T11:23:59.137Z"
   },
   {
    "duration": 484,
    "start_time": "2024-04-24T11:25:13.401Z"
   },
   {
    "duration": 453,
    "start_time": "2024-04-24T11:25:30.496Z"
   },
   {
    "duration": 434,
    "start_time": "2024-04-24T11:27:27.586Z"
   },
   {
    "duration": 572,
    "start_time": "2024-04-24T11:30:06.624Z"
   },
   {
    "duration": 457,
    "start_time": "2024-04-24T11:30:26.030Z"
   },
   {
    "duration": 459,
    "start_time": "2024-04-24T11:31:48.770Z"
   },
   {
    "duration": 465,
    "start_time": "2024-04-24T11:31:59.177Z"
   },
   {
    "duration": 610,
    "start_time": "2024-04-24T11:32:10.117Z"
   },
   {
    "duration": 487,
    "start_time": "2024-04-24T11:34:59.995Z"
   },
   {
    "duration": 496,
    "start_time": "2024-04-24T11:35:35.548Z"
   },
   {
    "duration": 593,
    "start_time": "2024-04-24T11:37:47.179Z"
   },
   {
    "duration": 564,
    "start_time": "2024-04-24T11:43:56.799Z"
   },
   {
    "duration": 518,
    "start_time": "2024-04-24T11:45:47.106Z"
   },
   {
    "duration": 458,
    "start_time": "2024-04-24T11:46:26.887Z"
   },
   {
    "duration": 449,
    "start_time": "2024-04-24T11:47:14.602Z"
   },
   {
    "duration": 559,
    "start_time": "2024-04-24T11:47:29.444Z"
   },
   {
    "duration": 438,
    "start_time": "2024-04-24T11:47:58.758Z"
   },
   {
    "duration": 451,
    "start_time": "2024-04-24T11:48:16.204Z"
   },
   {
    "duration": 431,
    "start_time": "2024-04-24T11:57:12.599Z"
   },
   {
    "duration": 289,
    "start_time": "2024-04-24T11:57:25.192Z"
   },
   {
    "duration": 411,
    "start_time": "2024-04-24T11:57:35.707Z"
   },
   {
    "duration": 290,
    "start_time": "2024-04-24T11:57:47.680Z"
   },
   {
    "duration": 325,
    "start_time": "2024-04-24T12:01:01.725Z"
   },
   {
    "duration": 296,
    "start_time": "2024-04-24T12:01:26.828Z"
   },
   {
    "duration": 286,
    "start_time": "2024-04-24T12:01:42.235Z"
   },
   {
    "duration": 401,
    "start_time": "2024-04-24T12:03:42.110Z"
   },
   {
    "duration": 3090,
    "start_time": "2024-04-24T12:03:53.558Z"
   },
   {
    "duration": 397,
    "start_time": "2024-04-24T12:05:12.853Z"
   },
   {
    "duration": 517,
    "start_time": "2024-04-24T12:05:28.914Z"
   },
   {
    "duration": 6086,
    "start_time": "2024-04-24T12:05:39.097Z"
   },
   {
    "duration": 9,
    "start_time": "2024-04-24T12:06:57.194Z"
   },
   {
    "duration": 7,
    "start_time": "2024-04-24T12:10:40.105Z"
   },
   {
    "duration": 763,
    "start_time": "2024-04-24T12:10:55.031Z"
   },
   {
    "duration": 1450,
    "start_time": "2024-04-24T12:11:30.785Z"
   },
   {
    "duration": 1897,
    "start_time": "2024-04-24T12:11:41.353Z"
   },
   {
    "duration": 2482,
    "start_time": "2024-04-24T12:12:23.683Z"
   },
   {
    "duration": 20,
    "start_time": "2024-04-24T12:13:52.518Z"
   },
   {
    "duration": 15,
    "start_time": "2024-04-24T12:14:09.536Z"
   },
   {
    "duration": 2694,
    "start_time": "2024-04-24T12:14:53.215Z"
   },
   {
    "duration": 12,
    "start_time": "2024-04-24T12:15:18.789Z"
   },
   {
    "duration": 509,
    "start_time": "2024-04-24T12:16:20.135Z"
   },
   {
    "duration": 528,
    "start_time": "2024-04-24T12:16:42.006Z"
   },
   {
    "duration": 784,
    "start_time": "2024-04-24T12:16:57.032Z"
   },
   {
    "duration": 2300,
    "start_time": "2024-04-24T12:17:04.731Z"
   },
   {
    "duration": 2593,
    "start_time": "2024-04-24T12:17:24.124Z"
   },
   {
    "duration": 2485,
    "start_time": "2024-04-24T12:18:39.513Z"
   },
   {
    "duration": 2557,
    "start_time": "2024-04-24T12:19:20.005Z"
   },
   {
    "duration": 20,
    "start_time": "2024-04-24T12:22:44.832Z"
   },
   {
    "duration": 276,
    "start_time": "2024-04-24T12:23:16.064Z"
   },
   {
    "duration": 306,
    "start_time": "2024-04-24T12:23:37.490Z"
   },
   {
    "duration": 319,
    "start_time": "2024-04-24T12:23:58.593Z"
   },
   {
    "duration": 502,
    "start_time": "2024-04-24T12:26:12.732Z"
   },
   {
    "duration": 458,
    "start_time": "2024-04-24T12:26:32.310Z"
   },
   {
    "duration": 551,
    "start_time": "2024-04-24T12:26:48.556Z"
   },
   {
    "duration": 11,
    "start_time": "2024-04-24T12:27:37.901Z"
   },
   {
    "duration": 7,
    "start_time": "2024-04-24T12:28:34.622Z"
   },
   {
    "duration": 541,
    "start_time": "2024-04-24T12:28:45.984Z"
   },
   {
    "duration": 899,
    "start_time": "2024-04-24T12:29:15.243Z"
   },
   {
    "duration": 746,
    "start_time": "2024-04-24T12:29:45.672Z"
   },
   {
    "duration": 881,
    "start_time": "2024-04-24T12:30:49.264Z"
   },
   {
    "duration": 2295,
    "start_time": "2024-04-24T12:31:14.921Z"
   },
   {
    "duration": 830,
    "start_time": "2024-04-24T12:32:50.242Z"
   },
   {
    "duration": 5,
    "start_time": "2024-04-24T12:33:03.829Z"
   },
   {
    "duration": 291,
    "start_time": "2024-04-24T12:35:36.727Z"
   },
   {
    "duration": 218,
    "start_time": "2024-04-24T12:36:12.696Z"
   },
   {
    "duration": 462,
    "start_time": "2024-04-24T12:37:55.115Z"
   },
   {
    "duration": 1431,
    "start_time": "2024-04-24T13:29:10.419Z"
   },
   {
    "duration": 4,
    "start_time": "2024-04-24T13:29:11.852Z"
   },
   {
    "duration": 37,
    "start_time": "2024-04-24T13:29:11.858Z"
   },
   {
    "duration": 158,
    "start_time": "2024-04-24T13:29:11.897Z"
   },
   {
    "duration": 21,
    "start_time": "2024-04-24T13:29:12.058Z"
   },
   {
    "duration": 22,
    "start_time": "2024-04-24T13:29:12.081Z"
   },
   {
    "duration": 17,
    "start_time": "2024-04-24T13:29:12.105Z"
   },
   {
    "duration": 33,
    "start_time": "2024-04-24T13:29:12.124Z"
   },
   {
    "duration": 30,
    "start_time": "2024-04-24T13:29:12.159Z"
   },
   {
    "duration": 28,
    "start_time": "2024-04-24T13:29:12.191Z"
   },
   {
    "duration": 17,
    "start_time": "2024-04-24T13:29:12.221Z"
   },
   {
    "duration": 7,
    "start_time": "2024-04-24T13:29:12.240Z"
   },
   {
    "duration": 12,
    "start_time": "2024-04-24T13:29:12.250Z"
   },
   {
    "duration": 9,
    "start_time": "2024-04-24T13:29:12.267Z"
   },
   {
    "duration": 5,
    "start_time": "2024-04-24T13:29:12.278Z"
   },
   {
    "duration": 51,
    "start_time": "2024-04-24T13:29:12.285Z"
   },
   {
    "duration": 23,
    "start_time": "2024-04-24T13:29:12.338Z"
   },
   {
    "duration": 21,
    "start_time": "2024-04-24T13:29:12.363Z"
   },
   {
    "duration": 65,
    "start_time": "2024-04-24T13:29:12.386Z"
   },
   {
    "duration": 559,
    "start_time": "2024-04-24T13:29:12.454Z"
   },
   {
    "duration": 520,
    "start_time": "2024-04-24T13:29:13.015Z"
   },
   {
    "duration": 443,
    "start_time": "2024-04-24T13:29:13.537Z"
   },
   {
    "duration": 252,
    "start_time": "2024-04-24T13:29:13.982Z"
   },
   {
    "duration": 8,
    "start_time": "2024-04-24T13:29:14.236Z"
   },
   {
    "duration": 7,
    "start_time": "2024-04-24T13:29:14.246Z"
   },
   {
    "duration": 119,
    "start_time": "2024-04-24T13:29:14.254Z"
   },
   {
    "duration": 2354,
    "start_time": "2024-04-24T13:29:14.375Z"
   },
   {
    "duration": 244,
    "start_time": "2024-04-24T13:29:16.731Z"
   },
   {
    "duration": 13,
    "start_time": "2024-04-24T13:29:16.977Z"
   },
   {
    "duration": 7,
    "start_time": "2024-04-24T13:29:16.992Z"
   },
   {
    "duration": 991,
    "start_time": "2024-04-24T13:29:17.001Z"
   },
   {
    "duration": 692,
    "start_time": "2024-04-24T13:29:17.994Z"
   },
   {
    "duration": 144,
    "start_time": "2024-04-24T13:29:18.689Z"
   },
   {
    "duration": 477,
    "start_time": "2024-04-24T13:30:47.682Z"
   },
   {
    "duration": 240,
    "start_time": "2024-04-24T13:35:35.252Z"
   },
   {
    "duration": 1352,
    "start_time": "2024-04-24T13:36:07.218Z"
   },
   {
    "duration": 4,
    "start_time": "2024-04-24T13:36:08.573Z"
   },
   {
    "duration": 29,
    "start_time": "2024-04-24T13:36:08.578Z"
   },
   {
    "duration": 127,
    "start_time": "2024-04-24T13:36:08.610Z"
   },
   {
    "duration": 19,
    "start_time": "2024-04-24T13:36:08.739Z"
   },
   {
    "duration": 4,
    "start_time": "2024-04-24T13:36:08.760Z"
   },
   {
    "duration": 8,
    "start_time": "2024-04-24T13:36:08.766Z"
   },
   {
    "duration": 18,
    "start_time": "2024-04-24T13:36:08.776Z"
   },
   {
    "duration": 32,
    "start_time": "2024-04-24T13:36:08.796Z"
   },
   {
    "duration": 22,
    "start_time": "2024-04-24T13:36:08.831Z"
   },
   {
    "duration": 5,
    "start_time": "2024-04-24T13:36:08.855Z"
   },
   {
    "duration": 19,
    "start_time": "2024-04-24T13:36:08.862Z"
   },
   {
    "duration": 19,
    "start_time": "2024-04-24T13:36:08.883Z"
   },
   {
    "duration": 16,
    "start_time": "2024-04-24T13:36:08.904Z"
   },
   {
    "duration": 5,
    "start_time": "2024-04-24T13:36:08.922Z"
   },
   {
    "duration": 37,
    "start_time": "2024-04-24T13:36:08.929Z"
   },
   {
    "duration": 12,
    "start_time": "2024-04-24T13:36:08.968Z"
   },
   {
    "duration": 27,
    "start_time": "2024-04-24T13:36:08.981Z"
   },
   {
    "duration": 62,
    "start_time": "2024-04-24T13:36:09.010Z"
   },
   {
    "duration": 529,
    "start_time": "2024-04-24T13:36:09.074Z"
   },
   {
    "duration": 473,
    "start_time": "2024-04-24T13:36:09.605Z"
   },
   {
    "duration": 466,
    "start_time": "2024-04-24T13:36:10.079Z"
   },
   {
    "duration": 344,
    "start_time": "2024-04-24T13:36:10.547Z"
   },
   {
    "duration": 10,
    "start_time": "2024-04-24T13:36:10.893Z"
   },
   {
    "duration": 26,
    "start_time": "2024-04-24T13:36:10.905Z"
   },
   {
    "duration": 13,
    "start_time": "2024-04-24T13:36:10.933Z"
   },
   {
    "duration": 2395,
    "start_time": "2024-04-24T13:36:10.948Z"
   },
   {
    "duration": 245,
    "start_time": "2024-04-24T13:36:13.346Z"
   },
   {
    "duration": 9,
    "start_time": "2024-04-24T13:36:13.592Z"
   },
   {
    "duration": 21,
    "start_time": "2024-04-24T13:36:13.602Z"
   },
   {
    "duration": 994,
    "start_time": "2024-04-24T13:36:13.625Z"
   },
   {
    "duration": 260,
    "start_time": "2024-04-24T13:36:14.629Z"
   },
   {
    "duration": 720,
    "start_time": "2024-04-24T13:36:14.891Z"
   },
   {
    "duration": 116,
    "start_time": "2024-04-24T13:36:15.613Z"
   },
   {
    "duration": 227,
    "start_time": "2024-04-24T13:48:02.989Z"
   },
   {
    "duration": 205,
    "start_time": "2024-04-24T13:48:41.492Z"
   },
   {
    "duration": 203,
    "start_time": "2024-04-24T13:51:57.113Z"
   },
   {
    "duration": 207,
    "start_time": "2024-04-24T13:52:40.833Z"
   },
   {
    "duration": 321,
    "start_time": "2024-04-24T13:53:05.561Z"
   },
   {
    "duration": 215,
    "start_time": "2024-04-24T13:54:16.299Z"
   },
   {
    "duration": 190,
    "start_time": "2024-04-24T13:54:53.886Z"
   },
   {
    "duration": 209,
    "start_time": "2024-04-24T13:55:12.128Z"
   },
   {
    "duration": 470,
    "start_time": "2024-04-24T13:57:18.143Z"
   },
   {
    "duration": 219,
    "start_time": "2024-04-24T14:02:04.084Z"
   },
   {
    "duration": 498,
    "start_time": "2024-04-24T14:22:04.747Z"
   },
   {
    "duration": 67,
    "start_time": "2024-04-24T14:24:33.571Z"
   },
   {
    "duration": 56,
    "start_time": "2024-04-24T14:25:44.052Z"
   },
   {
    "duration": 56,
    "start_time": "2024-04-24T14:30:48.338Z"
   },
   {
    "duration": 1329,
    "start_time": "2024-04-24T14:40:00.766Z"
   },
   {
    "duration": 2,
    "start_time": "2024-04-24T14:40:02.097Z"
   },
   {
    "duration": 91,
    "start_time": "2024-04-24T14:40:02.101Z"
   },
   {
    "duration": 183,
    "start_time": "2024-04-24T14:40:02.194Z"
   },
   {
    "duration": 15,
    "start_time": "2024-04-24T14:40:02.379Z"
   },
   {
    "duration": 31,
    "start_time": "2024-04-24T14:40:02.396Z"
   },
   {
    "duration": 45,
    "start_time": "2024-04-24T14:40:02.429Z"
   },
   {
    "duration": 28,
    "start_time": "2024-04-24T14:40:02.476Z"
   },
   {
    "duration": 46,
    "start_time": "2024-04-24T14:40:02.506Z"
   },
   {
    "duration": 21,
    "start_time": "2024-04-24T14:40:02.553Z"
   },
   {
    "duration": 41,
    "start_time": "2024-04-24T14:40:02.576Z"
   },
   {
    "duration": 38,
    "start_time": "2024-04-24T14:40:02.619Z"
   },
   {
    "duration": 25,
    "start_time": "2024-04-24T14:40:02.659Z"
   },
   {
    "duration": 22,
    "start_time": "2024-04-24T14:40:02.688Z"
   },
   {
    "duration": 7,
    "start_time": "2024-04-24T14:40:02.712Z"
   },
   {
    "duration": 28,
    "start_time": "2024-04-24T14:40:02.721Z"
   },
   {
    "duration": 29,
    "start_time": "2024-04-24T14:40:02.751Z"
   },
   {
    "duration": 35,
    "start_time": "2024-04-24T14:40:02.782Z"
   },
   {
    "duration": 53,
    "start_time": "2024-04-24T14:40:02.819Z"
   },
   {
    "duration": 521,
    "start_time": "2024-04-24T14:40:02.874Z"
   },
   {
    "duration": 482,
    "start_time": "2024-04-24T14:40:03.397Z"
   },
   {
    "duration": 442,
    "start_time": "2024-04-24T14:40:03.881Z"
   },
   {
    "duration": 245,
    "start_time": "2024-04-24T14:40:04.325Z"
   },
   {
    "duration": 10,
    "start_time": "2024-04-24T14:40:04.572Z"
   },
   {
    "duration": 32,
    "start_time": "2024-04-24T14:40:04.583Z"
   },
   {
    "duration": 101,
    "start_time": "2024-04-24T14:40:04.616Z"
   },
   {
    "duration": 2279,
    "start_time": "2024-04-24T14:40:04.719Z"
   },
   {
    "duration": 231,
    "start_time": "2024-04-24T14:40:07.000Z"
   },
   {
    "duration": 8,
    "start_time": "2024-04-24T14:40:07.233Z"
   },
   {
    "duration": 20,
    "start_time": "2024-04-24T14:40:07.242Z"
   },
   {
    "duration": 956,
    "start_time": "2024-04-24T14:40:07.264Z"
   },
   {
    "duration": 408,
    "start_time": "2024-04-24T14:40:08.222Z"
   },
   {
    "duration": 265,
    "start_time": "2024-04-24T14:40:08.632Z"
   },
   {
    "duration": 450,
    "start_time": "2024-04-24T14:40:08.899Z"
   },
   {
    "duration": 782,
    "start_time": "2024-04-24T14:40:09.351Z"
   },
   {
    "duration": 157,
    "start_time": "2024-04-24T14:40:10.134Z"
   },
   {
    "duration": 1343,
    "start_time": "2024-04-24T14:40:35.724Z"
   },
   {
    "duration": 3,
    "start_time": "2024-04-24T14:40:37.069Z"
   },
   {
    "duration": 4,
    "start_time": "2024-04-24T14:40:37.074Z"
   },
   {
    "duration": 115,
    "start_time": "2024-04-24T14:40:37.080Z"
   },
   {
    "duration": 15,
    "start_time": "2024-04-24T14:40:37.198Z"
   },
   {
    "duration": 13,
    "start_time": "2024-04-24T14:40:37.214Z"
   },
   {
    "duration": 17,
    "start_time": "2024-04-24T14:40:37.229Z"
   },
   {
    "duration": 8,
    "start_time": "2024-04-24T14:40:37.248Z"
   },
   {
    "duration": 27,
    "start_time": "2024-04-24T14:40:37.257Z"
   },
   {
    "duration": 9,
    "start_time": "2024-04-24T14:40:37.286Z"
   },
   {
    "duration": 12,
    "start_time": "2024-04-24T14:40:37.297Z"
   },
   {
    "duration": 5,
    "start_time": "2024-04-24T14:40:37.311Z"
   },
   {
    "duration": 39,
    "start_time": "2024-04-24T14:40:37.317Z"
   },
   {
    "duration": 20,
    "start_time": "2024-04-24T14:40:37.359Z"
   },
   {
    "duration": 5,
    "start_time": "2024-04-24T14:40:37.381Z"
   },
   {
    "duration": 44,
    "start_time": "2024-04-24T14:40:37.388Z"
   },
   {
    "duration": 13,
    "start_time": "2024-04-24T14:40:37.434Z"
   },
   {
    "duration": 34,
    "start_time": "2024-04-24T14:40:37.449Z"
   },
   {
    "duration": 41,
    "start_time": "2024-04-24T14:40:37.484Z"
   },
   {
    "duration": 524,
    "start_time": "2024-04-24T14:40:37.527Z"
   },
   {
    "duration": 467,
    "start_time": "2024-04-24T14:40:38.053Z"
   },
   {
    "duration": 422,
    "start_time": "2024-04-24T14:40:38.522Z"
   },
   {
    "duration": 250,
    "start_time": "2024-04-24T14:40:38.945Z"
   },
   {
    "duration": 9,
    "start_time": "2024-04-24T14:40:39.197Z"
   },
   {
    "duration": 22,
    "start_time": "2024-04-24T14:40:39.207Z"
   },
   {
    "duration": 93,
    "start_time": "2024-04-24T14:40:39.230Z"
   },
   {
    "duration": 2214,
    "start_time": "2024-04-24T14:40:39.324Z"
   },
   {
    "duration": 261,
    "start_time": "2024-04-24T14:40:41.540Z"
   },
   {
    "duration": 8,
    "start_time": "2024-04-24T14:40:41.803Z"
   },
   {
    "duration": 11,
    "start_time": "2024-04-24T14:40:41.813Z"
   },
   {
    "duration": 969,
    "start_time": "2024-04-24T14:40:41.829Z"
   },
   {
    "duration": 350,
    "start_time": "2024-04-24T14:40:42.800Z"
   },
   {
    "duration": 282,
    "start_time": "2024-04-24T14:40:43.151Z"
   },
   {
    "duration": 485,
    "start_time": "2024-04-24T14:40:43.435Z"
   },
   {
    "duration": 786,
    "start_time": "2024-04-24T14:40:43.922Z"
   },
   {
    "duration": 171,
    "start_time": "2024-04-24T14:40:44.710Z"
   },
   {
    "duration": 73,
    "start_time": "2024-04-24T14:51:44.937Z"
   },
   {
    "duration": 57,
    "start_time": "2024-04-24T14:54:11.080Z"
   },
   {
    "duration": 62,
    "start_time": "2024-04-24T14:54:27.584Z"
   },
   {
    "duration": 71,
    "start_time": "2024-04-24T14:54:41.304Z"
   },
   {
    "duration": 61,
    "start_time": "2024-04-24T14:55:06.450Z"
   },
   {
    "duration": 61,
    "start_time": "2024-04-24T14:56:23.180Z"
   },
   {
    "duration": 54,
    "start_time": "2024-04-24T14:57:00.618Z"
   },
   {
    "duration": 444,
    "start_time": "2024-04-24T14:59:22.973Z"
   },
   {
    "duration": 444,
    "start_time": "2024-04-24T14:59:43.949Z"
   },
   {
    "duration": 255,
    "start_time": "2024-04-24T15:00:13.127Z"
   },
   {
    "duration": 165,
    "start_time": "2024-04-24T15:00:26.403Z"
   },
   {
    "duration": 51,
    "start_time": "2024-04-24T15:00:38.792Z"
   },
   {
    "duration": 55,
    "start_time": "2024-04-24T15:00:50.384Z"
   },
   {
    "duration": 54,
    "start_time": "2024-04-24T15:00:57.727Z"
   },
   {
    "duration": 53,
    "start_time": "2024-04-24T15:04:40.358Z"
   },
   {
    "duration": 54,
    "start_time": "2024-04-24T15:07:10.966Z"
   },
   {
    "duration": 54,
    "start_time": "2024-04-24T15:07:18.201Z"
   },
   {
    "duration": 53,
    "start_time": "2024-04-24T15:07:50.528Z"
   },
   {
    "duration": 63,
    "start_time": "2024-04-24T15:09:38.221Z"
   },
   {
    "duration": 55,
    "start_time": "2024-04-24T15:09:55.348Z"
   },
   {
    "duration": 54,
    "start_time": "2024-04-24T15:10:04.380Z"
   },
   {
    "duration": 72,
    "start_time": "2024-04-24T15:10:19.132Z"
   },
   {
    "duration": 63,
    "start_time": "2024-04-24T15:14:25.425Z"
   },
   {
    "duration": 56,
    "start_time": "2024-04-24T15:14:35.965Z"
   },
   {
    "duration": 57,
    "start_time": "2024-04-24T15:14:47.214Z"
   },
   {
    "duration": 76,
    "start_time": "2024-04-24T15:17:49.157Z"
   },
   {
    "duration": 62,
    "start_time": "2024-04-24T15:18:12.848Z"
   },
   {
    "duration": 59,
    "start_time": "2024-04-24T15:23:15.590Z"
   },
   {
    "duration": 642,
    "start_time": "2024-04-24T15:29:02.876Z"
   },
   {
    "duration": 174,
    "start_time": "2024-04-24T15:29:43.127Z"
   },
   {
    "duration": 52,
    "start_time": "2024-04-24T15:29:57.990Z"
   },
   {
    "duration": 67,
    "start_time": "2024-04-24T15:32:27.483Z"
   },
   {
    "duration": 58,
    "start_time": "2024-04-24T15:36:52.916Z"
   },
   {
    "duration": 1308,
    "start_time": "2024-04-24T15:39:38.558Z"
   },
   {
    "duration": 4,
    "start_time": "2024-04-24T15:39:39.868Z"
   },
   {
    "duration": 12,
    "start_time": "2024-04-24T15:39:39.874Z"
   },
   {
    "duration": 123,
    "start_time": "2024-04-24T15:39:39.888Z"
   },
   {
    "duration": 19,
    "start_time": "2024-04-24T15:39:40.013Z"
   },
   {
    "duration": 14,
    "start_time": "2024-04-24T15:39:40.034Z"
   },
   {
    "duration": 12,
    "start_time": "2024-04-24T15:39:40.050Z"
   },
   {
    "duration": 25,
    "start_time": "2024-04-24T15:39:40.064Z"
   },
   {
    "duration": 18,
    "start_time": "2024-04-24T15:39:40.091Z"
   },
   {
    "duration": 9,
    "start_time": "2024-04-24T15:39:40.112Z"
   },
   {
    "duration": 16,
    "start_time": "2024-04-24T15:39:40.123Z"
   },
   {
    "duration": 20,
    "start_time": "2024-04-24T15:39:40.140Z"
   },
   {
    "duration": 7,
    "start_time": "2024-04-24T15:39:40.161Z"
   },
   {
    "duration": 5,
    "start_time": "2024-04-24T15:39:40.170Z"
   },
   {
    "duration": 5,
    "start_time": "2024-04-24T15:39:40.177Z"
   },
   {
    "duration": 27,
    "start_time": "2024-04-24T15:39:40.184Z"
   },
   {
    "duration": 16,
    "start_time": "2024-04-24T15:39:40.213Z"
   },
   {
    "duration": 15,
    "start_time": "2024-04-24T15:39:40.230Z"
   },
   {
    "duration": 35,
    "start_time": "2024-04-24T15:39:40.246Z"
   },
   {
    "duration": 555,
    "start_time": "2024-04-24T15:39:40.282Z"
   },
   {
    "duration": 515,
    "start_time": "2024-04-24T15:39:40.839Z"
   },
   {
    "duration": 460,
    "start_time": "2024-04-24T15:39:41.355Z"
   },
   {
    "duration": 323,
    "start_time": "2024-04-24T15:39:41.817Z"
   },
   {
    "duration": 9,
    "start_time": "2024-04-24T15:39:42.142Z"
   },
   {
    "duration": 7,
    "start_time": "2024-04-24T15:39:42.153Z"
   },
   {
    "duration": 20,
    "start_time": "2024-04-24T15:39:42.161Z"
   },
   {
    "duration": 2325,
    "start_time": "2024-04-24T15:39:42.183Z"
   },
   {
    "duration": 20,
    "start_time": "2024-04-24T15:39:44.511Z"
   },
   {
    "duration": 7,
    "start_time": "2024-04-24T15:39:44.534Z"
   },
   {
    "duration": 863,
    "start_time": "2024-04-24T15:39:44.542Z"
   },
   {
    "duration": 410,
    "start_time": "2024-04-24T15:39:45.406Z"
   },
   {
    "duration": 125,
    "start_time": "2024-04-24T15:39:45.817Z"
   },
   {
    "duration": 98,
    "start_time": "2024-04-24T15:39:45.943Z"
   },
   {
    "duration": 54,
    "start_time": "2024-04-24T15:39:46.043Z"
   },
   {
    "duration": 75,
    "start_time": "2024-04-24T15:39:46.098Z"
   },
   {
    "duration": 787,
    "start_time": "2024-04-24T15:39:46.175Z"
   },
   {
    "duration": 17,
    "start_time": "2024-04-24T16:06:47.012Z"
   },
   {
    "duration": 4,
    "start_time": "2024-04-24T16:11:04.568Z"
   },
   {
    "duration": 59,
    "start_time": "2024-04-24T16:14:30.587Z"
   },
   {
    "duration": 54,
    "start_time": "2024-04-24T16:14:52.501Z"
   },
   {
    "duration": 83,
    "start_time": "2024-04-24T16:15:37.477Z"
   },
   {
    "duration": 444,
    "start_time": "2024-04-24T16:19:34.528Z"
   },
   {
    "duration": 152,
    "start_time": "2024-04-24T17:14:02.646Z"
   },
   {
    "duration": 151,
    "start_time": "2024-04-24T17:17:08.952Z"
   },
   {
    "duration": 61,
    "start_time": "2024-04-24T17:17:54.787Z"
   },
   {
    "duration": 281,
    "start_time": "2024-04-24T17:21:00.451Z"
   },
   {
    "duration": 438,
    "start_time": "2024-04-24T17:26:28.271Z"
   },
   {
    "duration": 272,
    "start_time": "2024-04-24T17:26:52.737Z"
   },
   {
    "duration": 254,
    "start_time": "2024-04-24T17:27:38.108Z"
   },
   {
    "duration": 264,
    "start_time": "2024-04-24T17:28:14.489Z"
   },
   {
    "duration": 251,
    "start_time": "2024-04-24T17:28:27.898Z"
   },
   {
    "duration": 260,
    "start_time": "2024-04-24T17:28:43.746Z"
   },
   {
    "duration": 257,
    "start_time": "2024-04-24T17:30:26.410Z"
   },
   {
    "duration": 252,
    "start_time": "2024-04-24T17:31:54.187Z"
   },
   {
    "duration": 53,
    "start_time": "2024-04-24T17:35:16.243Z"
   },
   {
    "duration": 384,
    "start_time": "2024-04-24T17:35:44.864Z"
   },
   {
    "duration": 11,
    "start_time": "2024-04-24T18:06:32.427Z"
   },
   {
    "duration": 16,
    "start_time": "2024-04-24T18:06:52.677Z"
   },
   {
    "duration": 10,
    "start_time": "2024-04-24T18:08:37.175Z"
   },
   {
    "duration": 8,
    "start_time": "2024-04-24T18:43:34.771Z"
   },
   {
    "duration": 269,
    "start_time": "2024-04-24T18:46:43.860Z"
   },
   {
    "duration": 395,
    "start_time": "2024-04-24T18:50:09.918Z"
   },
   {
    "duration": 358,
    "start_time": "2024-04-24T18:51:29.045Z"
   },
   {
    "duration": 285,
    "start_time": "2024-04-24T18:53:21.784Z"
   },
   {
    "duration": 428,
    "start_time": "2024-04-24T18:54:00.611Z"
   },
   {
    "duration": 271,
    "start_time": "2024-04-24T18:54:44.160Z"
   },
   {
    "duration": 404,
    "start_time": "2024-04-24T18:55:13.576Z"
   },
   {
    "duration": 463,
    "start_time": "2024-04-24T18:58:28.887Z"
   },
   {
    "duration": 427,
    "start_time": "2024-04-24T18:59:55.936Z"
   },
   {
    "duration": 455,
    "start_time": "2024-04-24T19:00:13.410Z"
   },
   {
    "duration": 444,
    "start_time": "2024-04-24T19:02:49.563Z"
   },
   {
    "duration": 622,
    "start_time": "2024-04-24T19:03:44.251Z"
   },
   {
    "duration": 341,
    "start_time": "2024-04-24T19:05:10.870Z"
   },
   {
    "duration": 326,
    "start_time": "2024-04-24T19:05:27.774Z"
   },
   {
    "duration": 346,
    "start_time": "2024-04-24T19:06:39.361Z"
   },
   {
    "duration": 361,
    "start_time": "2024-04-24T19:09:48.731Z"
   },
   {
    "duration": 380,
    "start_time": "2024-04-24T19:10:02.114Z"
   },
   {
    "duration": 306,
    "start_time": "2024-04-24T19:10:22.269Z"
   },
   {
    "duration": 388,
    "start_time": "2024-04-24T19:10:34.617Z"
   },
   {
    "duration": 473,
    "start_time": "2024-04-24T19:11:02.728Z"
   },
   {
    "duration": 433,
    "start_time": "2024-04-24T19:11:09.660Z"
   },
   {
    "duration": 516,
    "start_time": "2024-04-24T19:11:30.863Z"
   },
   {
    "duration": 337,
    "start_time": "2024-04-24T19:11:47.598Z"
   },
   {
    "duration": 542,
    "start_time": "2024-04-24T19:21:04.016Z"
   },
   {
    "duration": 331,
    "start_time": "2024-04-24T19:21:19.160Z"
   },
   {
    "duration": 1433,
    "start_time": "2024-04-25T04:22:33.769Z"
   },
   {
    "duration": 4,
    "start_time": "2024-04-25T04:22:35.204Z"
   },
   {
    "duration": 7,
    "start_time": "2024-04-25T04:22:35.210Z"
   },
   {
    "duration": 138,
    "start_time": "2024-04-25T04:22:35.219Z"
   },
   {
    "duration": 14,
    "start_time": "2024-04-25T04:22:35.359Z"
   },
   {
    "duration": 3,
    "start_time": "2024-04-25T04:22:35.374Z"
   },
   {
    "duration": 17,
    "start_time": "2024-04-25T04:22:35.379Z"
   },
   {
    "duration": 15,
    "start_time": "2024-04-25T04:22:35.397Z"
   },
   {
    "duration": 5,
    "start_time": "2024-04-25T04:22:35.414Z"
   },
   {
    "duration": 11,
    "start_time": "2024-04-25T04:22:35.421Z"
   },
   {
    "duration": 5,
    "start_time": "2024-04-25T04:22:35.433Z"
   },
   {
    "duration": 23,
    "start_time": "2024-04-25T04:22:35.440Z"
   },
   {
    "duration": 12,
    "start_time": "2024-04-25T04:22:35.465Z"
   },
   {
    "duration": 5,
    "start_time": "2024-04-25T04:22:35.479Z"
   },
   {
    "duration": 6,
    "start_time": "2024-04-25T04:22:35.486Z"
   },
   {
    "duration": 12,
    "start_time": "2024-04-25T04:22:35.493Z"
   },
   {
    "duration": 51,
    "start_time": "2024-04-25T04:22:35.507Z"
   },
   {
    "duration": 24,
    "start_time": "2024-04-25T04:22:35.560Z"
   },
   {
    "duration": 23,
    "start_time": "2024-04-25T04:22:35.586Z"
   },
   {
    "duration": 28,
    "start_time": "2024-04-25T04:22:35.611Z"
   },
   {
    "duration": 557,
    "start_time": "2024-04-25T04:22:35.641Z"
   },
   {
    "duration": 478,
    "start_time": "2024-04-25T04:22:36.200Z"
   },
   {
    "duration": 423,
    "start_time": "2024-04-25T04:22:36.680Z"
   },
   {
    "duration": 8,
    "start_time": "2024-04-25T04:22:37.105Z"
   },
   {
    "duration": 9,
    "start_time": "2024-04-25T04:22:37.114Z"
   },
   {
    "duration": 114,
    "start_time": "2024-04-25T04:22:37.125Z"
   },
   {
    "duration": 2160,
    "start_time": "2024-04-25T04:22:37.240Z"
   },
   {
    "duration": 15,
    "start_time": "2024-04-25T04:22:39.403Z"
   },
   {
    "duration": 15,
    "start_time": "2024-04-25T04:22:39.420Z"
   },
   {
    "duration": 601,
    "start_time": "2024-04-25T04:22:39.437Z"
   },
   {
    "duration": 529,
    "start_time": "2024-04-25T04:22:40.039Z"
   },
   {
    "duration": 330,
    "start_time": "2024-04-25T04:22:40.569Z"
   },
   {
    "duration": 445,
    "start_time": "2024-04-25T04:22:40.900Z"
   },
   {
    "duration": 548,
    "start_time": "2024-04-25T04:22:41.347Z"
   },
   {
    "duration": 342,
    "start_time": "2024-04-25T04:22:41.897Z"
   },
   {
    "duration": 353,
    "start_time": "2024-04-25T04:22:42.241Z"
   },
   {
    "duration": 130,
    "start_time": "2024-04-25T04:33:57.565Z"
   },
   {
    "duration": 15,
    "start_time": "2024-04-25T04:34:06.871Z"
   },
   {
    "duration": 16,
    "start_time": "2024-04-25T04:35:17.321Z"
   },
   {
    "duration": 6,
    "start_time": "2024-04-25T04:43:10.511Z"
   },
   {
    "duration": 10,
    "start_time": "2024-04-25T04:43:28.232Z"
   },
   {
    "duration": 4,
    "start_time": "2024-04-25T04:43:48.338Z"
   },
   {
    "duration": 10,
    "start_time": "2024-04-25T04:51:15.729Z"
   },
   {
    "duration": 10,
    "start_time": "2024-04-25T04:52:29.812Z"
   },
   {
    "duration": 5,
    "start_time": "2024-04-25T04:54:46.474Z"
   },
   {
    "duration": 4,
    "start_time": "2024-04-25T04:57:44.821Z"
   },
   {
    "duration": 6,
    "start_time": "2024-04-25T05:00:02.782Z"
   },
   {
    "duration": 8,
    "start_time": "2024-04-25T05:01:15.208Z"
   },
   {
    "duration": 1349,
    "start_time": "2024-04-25T05:02:34.369Z"
   },
   {
    "duration": 3,
    "start_time": "2024-04-25T05:02:35.720Z"
   },
   {
    "duration": 18,
    "start_time": "2024-04-25T05:02:35.724Z"
   },
   {
    "duration": 102,
    "start_time": "2024-04-25T05:02:35.744Z"
   },
   {
    "duration": 15,
    "start_time": "2024-04-25T05:02:35.849Z"
   },
   {
    "duration": 8,
    "start_time": "2024-04-25T05:02:35.865Z"
   },
   {
    "duration": 26,
    "start_time": "2024-04-25T05:02:35.875Z"
   },
   {
    "duration": 31,
    "start_time": "2024-04-25T05:02:35.903Z"
   },
   {
    "duration": 38,
    "start_time": "2024-04-25T05:02:35.935Z"
   },
   {
    "duration": 34,
    "start_time": "2024-04-25T05:02:35.974Z"
   },
   {
    "duration": 52,
    "start_time": "2024-04-25T05:02:36.010Z"
   },
   {
    "duration": 15,
    "start_time": "2024-04-25T05:02:36.064Z"
   },
   {
    "duration": 10,
    "start_time": "2024-04-25T05:02:36.081Z"
   },
   {
    "duration": 20,
    "start_time": "2024-04-25T05:02:36.094Z"
   },
   {
    "duration": 26,
    "start_time": "2024-04-25T05:02:36.115Z"
   },
   {
    "duration": 17,
    "start_time": "2024-04-25T05:02:36.142Z"
   },
   {
    "duration": 13,
    "start_time": "2024-04-25T05:02:36.161Z"
   },
   {
    "duration": 10,
    "start_time": "2024-04-25T05:02:36.176Z"
   },
   {
    "duration": 17,
    "start_time": "2024-04-25T05:02:36.187Z"
   },
   {
    "duration": 38,
    "start_time": "2024-04-25T05:02:36.206Z"
   },
   {
    "duration": 12,
    "start_time": "2024-04-25T05:02:36.246Z"
   },
   {
    "duration": 23,
    "start_time": "2024-04-25T05:02:36.260Z"
   },
   {
    "duration": 40,
    "start_time": "2024-04-25T05:02:36.285Z"
   },
   {
    "duration": 621,
    "start_time": "2024-04-25T05:02:36.327Z"
   },
   {
    "duration": 479,
    "start_time": "2024-04-25T05:02:36.949Z"
   },
   {
    "duration": 463,
    "start_time": "2024-04-25T05:02:37.430Z"
   },
   {
    "duration": 2439,
    "start_time": "2024-04-25T05:02:37.895Z"
   },
   {
    "duration": 3,
    "start_time": "2024-04-25T05:02:40.335Z"
   },
   {
    "duration": 15,
    "start_time": "2024-04-25T05:02:40.340Z"
   },
   {
    "duration": 613,
    "start_time": "2024-04-25T05:02:40.356Z"
   },
   {
    "duration": 649,
    "start_time": "2024-04-25T05:02:40.971Z"
   },
   {
    "duration": 367,
    "start_time": "2024-04-25T05:02:41.622Z"
   },
   {
    "duration": 492,
    "start_time": "2024-04-25T05:02:41.990Z"
   },
   {
    "duration": 604,
    "start_time": "2024-04-25T05:02:42.484Z"
   },
   {
    "duration": 334,
    "start_time": "2024-04-25T05:02:43.090Z"
   },
   {
    "duration": 394,
    "start_time": "2024-04-25T05:02:43.425Z"
   },
   {
    "duration": 413,
    "start_time": "2024-04-25T05:19:35.528Z"
   },
   {
    "duration": 578,
    "start_time": "2024-04-25T05:19:43.816Z"
   },
   {
    "duration": 356,
    "start_time": "2024-04-25T05:19:53.961Z"
   },
   {
    "duration": 340,
    "start_time": "2024-04-25T05:20:01.384Z"
   },
   {
    "duration": 106,
    "start_time": "2024-04-25T05:23:03.715Z"
   },
   {
    "duration": 11,
    "start_time": "2024-04-25T05:24:13.572Z"
   },
   {
    "duration": 3,
    "start_time": "2024-04-25T05:27:05.943Z"
   },
   {
    "duration": 10,
    "start_time": "2024-04-25T05:27:15.159Z"
   },
   {
    "duration": 11,
    "start_time": "2024-04-25T05:35:17.100Z"
   },
   {
    "duration": 5,
    "start_time": "2024-04-25T05:52:50.812Z"
   },
   {
    "duration": 28,
    "start_time": "2024-04-25T06:29:12.032Z"
   },
   {
    "duration": 20,
    "start_time": "2024-04-25T06:30:01.334Z"
   },
   {
    "duration": 21,
    "start_time": "2024-04-25T06:30:15.107Z"
   },
   {
    "duration": 14,
    "start_time": "2024-04-25T06:45:39.207Z"
   },
   {
    "duration": 16,
    "start_time": "2024-04-25T06:45:56.916Z"
   },
   {
    "duration": 14,
    "start_time": "2024-04-25T06:46:58.023Z"
   },
   {
    "duration": 15,
    "start_time": "2024-04-25T06:48:02.361Z"
   },
   {
    "duration": 22,
    "start_time": "2024-04-25T06:51:11.150Z"
   },
   {
    "duration": 18,
    "start_time": "2024-04-25T06:52:16.600Z"
   },
   {
    "duration": 20,
    "start_time": "2024-04-25T06:53:46.760Z"
   },
   {
    "duration": 18,
    "start_time": "2024-04-25T06:54:13.244Z"
   },
   {
    "duration": 12,
    "start_time": "2024-04-25T07:01:04.146Z"
   },
   {
    "duration": 10,
    "start_time": "2024-04-25T07:01:16.321Z"
   },
   {
    "duration": 10,
    "start_time": "2024-04-25T07:01:50.193Z"
   },
   {
    "duration": 11,
    "start_time": "2024-04-25T07:02:39.379Z"
   },
   {
    "duration": 11,
    "start_time": "2024-04-25T07:02:58.011Z"
   },
   {
    "duration": 13,
    "start_time": "2024-04-25T07:02:58.975Z"
   },
   {
    "duration": 12,
    "start_time": "2024-04-25T07:02:59.858Z"
   },
   {
    "duration": 16,
    "start_time": "2024-04-25T07:04:14.567Z"
   },
   {
    "duration": 13,
    "start_time": "2024-04-25T07:05:24.622Z"
   },
   {
    "duration": 5,
    "start_time": "2024-04-25T07:06:39.887Z"
   },
   {
    "duration": 8,
    "start_time": "2024-04-25T07:08:37.999Z"
   },
   {
    "duration": 15,
    "start_time": "2024-04-25T07:08:39.423Z"
   },
   {
    "duration": 24,
    "start_time": "2024-04-25T07:09:26.068Z"
   },
   {
    "duration": 19,
    "start_time": "2024-04-25T07:10:10.898Z"
   },
   {
    "duration": 17,
    "start_time": "2024-04-25T07:10:18.064Z"
   },
   {
    "duration": 17,
    "start_time": "2024-04-25T07:10:52.748Z"
   },
   {
    "duration": 14,
    "start_time": "2024-04-25T07:14:05.942Z"
   },
   {
    "duration": 17,
    "start_time": "2024-04-25T07:14:38.615Z"
   },
   {
    "duration": 16,
    "start_time": "2024-04-25T07:14:42.271Z"
   },
   {
    "duration": 14,
    "start_time": "2024-04-25T07:19:37.247Z"
   },
   {
    "duration": 15,
    "start_time": "2024-04-25T07:19:46.327Z"
   },
   {
    "duration": 18,
    "start_time": "2024-04-25T07:20:39.975Z"
   },
   {
    "duration": 15,
    "start_time": "2024-04-25T07:21:02.848Z"
   },
   {
    "duration": 19,
    "start_time": "2024-04-25T07:21:28.051Z"
   },
   {
    "duration": 10,
    "start_time": "2024-04-25T07:22:22.322Z"
   },
   {
    "duration": 11,
    "start_time": "2024-04-25T07:26:29.237Z"
   },
   {
    "duration": 10,
    "start_time": "2024-04-25T07:30:31.043Z"
   },
   {
    "duration": 9,
    "start_time": "2024-04-25T07:31:04.334Z"
   },
   {
    "duration": 20,
    "start_time": "2024-04-25T07:32:53.105Z"
   },
   {
    "duration": 9,
    "start_time": "2024-04-25T07:33:36.119Z"
   },
   {
    "duration": 9,
    "start_time": "2024-04-25T07:33:48.238Z"
   },
   {
    "duration": 8,
    "start_time": "2024-04-25T07:38:43.736Z"
   },
   {
    "duration": 8,
    "start_time": "2024-04-25T07:39:05.487Z"
   },
   {
    "duration": 16,
    "start_time": "2024-04-25T07:39:56.815Z"
   },
   {
    "duration": 24,
    "start_time": "2024-04-25T07:40:00.791Z"
   },
   {
    "duration": 8,
    "start_time": "2024-04-25T07:40:05.883Z"
   },
   {
    "duration": 11,
    "start_time": "2024-04-25T07:42:09.711Z"
   },
   {
    "duration": 10,
    "start_time": "2024-04-25T07:42:21.042Z"
   },
   {
    "duration": 12,
    "start_time": "2024-04-25T07:44:53.512Z"
   },
   {
    "duration": 9,
    "start_time": "2024-04-25T07:52:06.167Z"
   },
   {
    "duration": 9,
    "start_time": "2024-04-25T07:52:23.351Z"
   },
   {
    "duration": 13,
    "start_time": "2024-04-25T07:54:13.666Z"
   },
   {
    "duration": 9,
    "start_time": "2024-04-25T07:54:30.606Z"
   },
   {
    "duration": 9,
    "start_time": "2024-04-25T07:55:45.261Z"
   },
   {
    "duration": 9,
    "start_time": "2024-04-25T07:56:18.326Z"
   },
   {
    "duration": 9,
    "start_time": "2024-04-25T07:56:58.274Z"
   },
   {
    "duration": 27,
    "start_time": "2024-04-25T07:59:11.885Z"
   },
   {
    "duration": 15,
    "start_time": "2024-04-25T07:59:22.041Z"
   },
   {
    "duration": 17,
    "start_time": "2024-04-25T07:59:35.307Z"
   },
   {
    "duration": 8,
    "start_time": "2024-04-25T07:59:53.411Z"
   },
   {
    "duration": 9,
    "start_time": "2024-04-25T08:00:16.258Z"
   },
   {
    "duration": 3,
    "start_time": "2024-04-25T08:00:46.259Z"
   },
   {
    "duration": 8,
    "start_time": "2024-04-25T08:01:03.755Z"
   },
   {
    "duration": 8,
    "start_time": "2024-04-25T08:01:59.981Z"
   },
   {
    "duration": 16,
    "start_time": "2024-04-25T08:03:19.214Z"
   },
   {
    "duration": 16,
    "start_time": "2024-04-25T08:03:28.229Z"
   },
   {
    "duration": 8,
    "start_time": "2024-04-25T08:03:36.845Z"
   },
   {
    "duration": 8,
    "start_time": "2024-04-25T08:03:53.280Z"
   },
   {
    "duration": 10,
    "start_time": "2024-04-25T08:05:23.505Z"
   },
   {
    "duration": 19,
    "start_time": "2024-04-25T08:06:21.896Z"
   },
   {
    "duration": 17,
    "start_time": "2024-04-25T08:06:38.400Z"
   },
   {
    "duration": 9,
    "start_time": "2024-04-25T08:06:45.738Z"
   },
   {
    "duration": 9,
    "start_time": "2024-04-25T08:06:52.380Z"
   },
   {
    "duration": 9,
    "start_time": "2024-04-25T08:07:14.122Z"
   },
   {
    "duration": 15,
    "start_time": "2024-04-25T08:07:33.457Z"
   },
   {
    "duration": 9,
    "start_time": "2024-04-25T08:07:43.042Z"
   },
   {
    "duration": 9,
    "start_time": "2024-04-25T08:07:57.069Z"
   },
   {
    "duration": 8,
    "start_time": "2024-04-25T08:09:41.630Z"
   },
   {
    "duration": 11,
    "start_time": "2024-04-25T08:09:51.953Z"
   },
   {
    "duration": 6,
    "start_time": "2024-04-25T08:10:06.876Z"
   },
   {
    "duration": 16,
    "start_time": "2024-04-25T08:10:08.522Z"
   },
   {
    "duration": 18,
    "start_time": "2024-04-25T08:10:11.707Z"
   },
   {
    "duration": 20,
    "start_time": "2024-04-25T08:10:15.564Z"
   },
   {
    "duration": 9,
    "start_time": "2024-04-25T08:10:22.858Z"
   },
   {
    "duration": 8,
    "start_time": "2024-04-25T08:10:27.385Z"
   },
   {
    "duration": 8,
    "start_time": "2024-04-25T08:10:30.665Z"
   },
   {
    "duration": 5,
    "start_time": "2024-04-25T08:11:30.683Z"
   },
   {
    "duration": 17,
    "start_time": "2024-04-25T08:11:31.399Z"
   },
   {
    "duration": 19,
    "start_time": "2024-04-25T08:11:32.186Z"
   },
   {
    "duration": 26,
    "start_time": "2024-04-25T08:11:33.901Z"
   },
   {
    "duration": 8,
    "start_time": "2024-04-25T08:11:37.715Z"
   },
   {
    "duration": 9,
    "start_time": "2024-04-25T08:11:43.507Z"
   },
   {
    "duration": 6,
    "start_time": "2024-04-25T08:12:30.550Z"
   },
   {
    "duration": 17,
    "start_time": "2024-04-25T08:12:31.074Z"
   },
   {
    "duration": 17,
    "start_time": "2024-04-25T08:12:31.724Z"
   },
   {
    "duration": 18,
    "start_time": "2024-04-25T08:12:33.762Z"
   },
   {
    "duration": 8,
    "start_time": "2024-04-25T08:12:37.139Z"
   },
   {
    "duration": 10,
    "start_time": "2024-04-25T08:12:38.562Z"
   },
   {
    "duration": 10,
    "start_time": "2024-04-25T08:13:00.076Z"
   },
   {
    "duration": 9,
    "start_time": "2024-04-25T08:13:10.110Z"
   },
   {
    "duration": 6,
    "start_time": "2024-04-25T08:13:16.269Z"
   },
   {
    "duration": 18,
    "start_time": "2024-04-25T08:13:16.780Z"
   },
   {
    "duration": 17,
    "start_time": "2024-04-25T08:13:17.268Z"
   },
   {
    "duration": 18,
    "start_time": "2024-04-25T08:13:17.907Z"
   },
   {
    "duration": 9,
    "start_time": "2024-04-25T08:13:19.797Z"
   },
   {
    "duration": 12,
    "start_time": "2024-04-25T08:13:24.890Z"
   },
   {
    "duration": 7,
    "start_time": "2024-04-25T08:16:46.583Z"
   },
   {
    "duration": 16,
    "start_time": "2024-04-25T08:16:47.167Z"
   },
   {
    "duration": 18,
    "start_time": "2024-04-25T08:16:47.846Z"
   },
   {
    "duration": 18,
    "start_time": "2024-04-25T08:16:48.831Z"
   },
   {
    "duration": 9,
    "start_time": "2024-04-25T08:16:51.826Z"
   },
   {
    "duration": 9,
    "start_time": "2024-04-25T08:16:54.592Z"
   },
   {
    "duration": 8,
    "start_time": "2024-04-25T08:26:24.048Z"
   },
   {
    "duration": 12,
    "start_time": "2024-04-25T08:27:00.188Z"
   },
   {
    "duration": 9,
    "start_time": "2024-04-25T08:27:25.714Z"
   },
   {
    "duration": 1123,
    "start_time": "2024-04-25T08:29:23.611Z"
   },
   {
    "duration": 12,
    "start_time": "2024-04-25T08:30:19.883Z"
   },
   {
    "duration": 27,
    "start_time": "2024-04-25T08:30:42.061Z"
   },
   {
    "duration": 313,
    "start_time": "2024-04-25T08:32:41.736Z"
   },
   {
    "duration": 18,
    "start_time": "2024-04-25T08:33:55.683Z"
   },
   {
    "duration": 70,
    "start_time": "2024-04-25T08:38:38.852Z"
   },
   {
    "duration": 6,
    "start_time": "2024-04-25T08:40:27.289Z"
   },
   {
    "duration": 29,
    "start_time": "2024-04-25T08:40:42.585Z"
   },
   {
    "duration": 13,
    "start_time": "2024-04-25T08:41:32.345Z"
   },
   {
    "duration": 25,
    "start_time": "2024-04-25T08:41:55.722Z"
   },
   {
    "duration": 27,
    "start_time": "2024-04-25T08:42:09.049Z"
   },
   {
    "duration": 19,
    "start_time": "2024-04-25T08:42:17.185Z"
   },
   {
    "duration": 8,
    "start_time": "2024-04-25T08:42:22.442Z"
   },
   {
    "duration": 10,
    "start_time": "2024-04-25T08:43:26.548Z"
   },
   {
    "duration": 9,
    "start_time": "2024-04-25T08:44:07.966Z"
   },
   {
    "duration": 12,
    "start_time": "2024-04-25T08:46:01.193Z"
   },
   {
    "duration": 6,
    "start_time": "2024-04-25T08:49:09.140Z"
   },
   {
    "duration": 28,
    "start_time": "2024-04-25T08:49:17.994Z"
   },
   {
    "duration": 21,
    "start_time": "2024-04-25T08:49:33.098Z"
   },
   {
    "duration": 19,
    "start_time": "2024-04-25T08:49:36.963Z"
   },
   {
    "duration": 11,
    "start_time": "2024-04-25T08:49:41.211Z"
   },
   {
    "duration": 68,
    "start_time": "2024-04-25T08:53:49.956Z"
   },
   {
    "duration": 19,
    "start_time": "2024-04-25T08:54:10.696Z"
   },
   {
    "duration": 20,
    "start_time": "2024-04-25T08:55:38.541Z"
   },
   {
    "duration": 18,
    "start_time": "2024-04-25T08:56:00.667Z"
   },
   {
    "duration": 19,
    "start_time": "2024-04-25T08:57:46.822Z"
   },
   {
    "duration": 12,
    "start_time": "2024-04-25T09:03:04.435Z"
   },
   {
    "duration": 20,
    "start_time": "2024-04-25T09:03:45.971Z"
   },
   {
    "duration": 21,
    "start_time": "2024-04-25T09:04:14.067Z"
   },
   {
    "duration": 19,
    "start_time": "2024-04-25T09:04:19.404Z"
   },
   {
    "duration": 10,
    "start_time": "2024-04-25T09:06:11.839Z"
   },
   {
    "duration": 66,
    "start_time": "2024-04-25T09:07:05.463Z"
   },
   {
    "duration": 19,
    "start_time": "2024-04-25T09:07:13.110Z"
   },
   {
    "duration": 4,
    "start_time": "2024-04-25T09:12:09.878Z"
   },
   {
    "duration": 10,
    "start_time": "2024-04-25T09:12:26.957Z"
   },
   {
    "duration": 20,
    "start_time": "2024-04-25T09:12:41.894Z"
   },
   {
    "duration": 19,
    "start_time": "2024-04-25T09:12:43.565Z"
   },
   {
    "duration": 9,
    "start_time": "2024-04-25T09:12:46.061Z"
   },
   {
    "duration": 20,
    "start_time": "2024-04-25T09:13:37.536Z"
   },
   {
    "duration": 21,
    "start_time": "2024-04-25T09:14:00.329Z"
   },
   {
    "duration": 21,
    "start_time": "2024-04-25T09:14:02.143Z"
   },
   {
    "duration": 10,
    "start_time": "2024-04-25T09:14:03.663Z"
   },
   {
    "duration": 873,
    "start_time": "2024-04-25T09:18:07.881Z"
   },
   {
    "duration": 19,
    "start_time": "2024-04-25T09:18:32.250Z"
   },
   {
    "duration": 891,
    "start_time": "2024-04-25T09:19:54.093Z"
   },
   {
    "duration": 9,
    "start_time": "2024-04-25T09:20:50.600Z"
   },
   {
    "duration": 10,
    "start_time": "2024-04-25T09:25:16.945Z"
   },
   {
    "duration": 66,
    "start_time": "2024-04-25T09:26:49.245Z"
   },
   {
    "duration": 9,
    "start_time": "2024-04-25T09:27:05.817Z"
   },
   {
    "duration": 10,
    "start_time": "2024-04-25T09:29:00.436Z"
   },
   {
    "duration": 21,
    "start_time": "2024-04-25T09:29:31.989Z"
   },
   {
    "duration": 9,
    "start_time": "2024-04-25T09:29:33.477Z"
   },
   {
    "duration": 21,
    "start_time": "2024-04-25T09:29:36.901Z"
   },
   {
    "duration": 10,
    "start_time": "2024-04-25T09:29:43.221Z"
   },
   {
    "duration": 282,
    "start_time": "2024-04-25T09:32:27.528Z"
   },
   {
    "duration": 9,
    "start_time": "2024-04-25T09:32:49.004Z"
   },
   {
    "duration": 8,
    "start_time": "2024-04-25T09:33:45.747Z"
   },
   {
    "duration": 20,
    "start_time": "2024-04-25T09:35:10.644Z"
   },
   {
    "duration": 11,
    "start_time": "2024-04-25T09:35:13.522Z"
   },
   {
    "duration": 21,
    "start_time": "2024-04-25T09:35:31.838Z"
   },
   {
    "duration": 18,
    "start_time": "2024-04-25T09:35:41.877Z"
   },
   {
    "duration": 9,
    "start_time": "2024-04-25T09:35:50.105Z"
   },
   {
    "duration": 8,
    "start_time": "2024-04-25T09:36:10.279Z"
   },
   {
    "duration": 21,
    "start_time": "2024-04-25T09:36:17.647Z"
   },
   {
    "duration": 19,
    "start_time": "2024-04-25T09:36:18.885Z"
   },
   {
    "duration": 11,
    "start_time": "2024-04-25T09:36:22.023Z"
   },
   {
    "duration": 9,
    "start_time": "2024-04-25T09:36:28.066Z"
   },
   {
    "duration": 9,
    "start_time": "2024-04-25T09:36:41.886Z"
   },
   {
    "duration": 21,
    "start_time": "2024-04-25T09:37:36.041Z"
   },
   {
    "duration": 18,
    "start_time": "2024-04-25T09:37:36.906Z"
   },
   {
    "duration": 5,
    "start_time": "2024-04-25T09:37:38.717Z"
   },
   {
    "duration": 7,
    "start_time": "2024-04-25T09:37:42.340Z"
   },
   {
    "duration": 1295,
    "start_time": "2024-04-25T09:42:16.982Z"
   },
   {
    "duration": 9,
    "start_time": "2024-04-25T09:44:46.547Z"
   },
   {
    "duration": 13,
    "start_time": "2024-04-25T09:47:43.864Z"
   },
   {
    "duration": 3593,
    "start_time": "2024-04-25T10:20:17.948Z"
   },
   {
    "duration": 219,
    "start_time": "2024-04-25T10:21:08.633Z"
   },
   {
    "duration": 1278,
    "start_time": "2024-04-25T10:22:02.842Z"
   },
   {
    "duration": 2673,
    "start_time": "2024-04-25T10:22:04.122Z"
   },
   {
    "duration": 59,
    "start_time": "2024-04-25T10:22:06.798Z"
   },
   {
    "duration": 3,
    "start_time": "2024-04-25T10:22:06.859Z"
   },
   {
    "duration": 43,
    "start_time": "2024-04-25T10:22:06.863Z"
   },
   {
    "duration": 124,
    "start_time": "2024-04-25T10:22:06.908Z"
   },
   {
    "duration": 15,
    "start_time": "2024-04-25T10:22:07.033Z"
   },
   {
    "duration": 20,
    "start_time": "2024-04-25T10:22:07.050Z"
   },
   {
    "duration": 27,
    "start_time": "2024-04-25T10:22:07.072Z"
   },
   {
    "duration": 42,
    "start_time": "2024-04-25T10:22:07.102Z"
   },
   {
    "duration": 5,
    "start_time": "2024-04-25T10:22:07.145Z"
   },
   {
    "duration": 23,
    "start_time": "2024-04-25T10:22:07.152Z"
   },
   {
    "duration": 30,
    "start_time": "2024-04-25T10:22:07.177Z"
   },
   {
    "duration": 34,
    "start_time": "2024-04-25T10:22:07.209Z"
   },
   {
    "duration": 7,
    "start_time": "2024-04-25T10:22:07.245Z"
   },
   {
    "duration": 46,
    "start_time": "2024-04-25T10:22:07.253Z"
   },
   {
    "duration": 16,
    "start_time": "2024-04-25T10:22:07.300Z"
   },
   {
    "duration": 5,
    "start_time": "2024-04-25T10:22:07.317Z"
   },
   {
    "duration": 18,
    "start_time": "2024-04-25T10:22:07.324Z"
   },
   {
    "duration": 19,
    "start_time": "2024-04-25T10:22:07.344Z"
   },
   {
    "duration": 14,
    "start_time": "2024-04-25T10:22:07.365Z"
   },
   {
    "duration": 5,
    "start_time": "2024-04-25T10:22:07.380Z"
   },
   {
    "duration": 41,
    "start_time": "2024-04-25T10:22:07.387Z"
   },
   {
    "duration": 14,
    "start_time": "2024-04-25T10:22:07.430Z"
   },
   {
    "duration": 37,
    "start_time": "2024-04-25T10:22:07.446Z"
   },
   {
    "duration": 49,
    "start_time": "2024-04-25T10:22:07.484Z"
   },
   {
    "duration": 644,
    "start_time": "2024-04-25T10:22:07.535Z"
   },
   {
    "duration": 473,
    "start_time": "2024-04-25T10:22:08.183Z"
   },
   {
    "duration": 453,
    "start_time": "2024-04-25T10:22:08.659Z"
   },
   {
    "duration": 2481,
    "start_time": "2024-04-25T10:22:09.114Z"
   },
   {
    "duration": 640,
    "start_time": "2024-04-25T10:22:11.598Z"
   },
   {
    "duration": 578,
    "start_time": "2024-04-25T10:22:12.240Z"
   },
   {
    "duration": 291,
    "start_time": "2024-04-25T10:22:12.819Z"
   },
   {
    "duration": 531,
    "start_time": "2024-04-25T10:22:13.112Z"
   },
   {
    "duration": 575,
    "start_time": "2024-04-25T10:22:13.644Z"
   },
   {
    "duration": 352,
    "start_time": "2024-04-25T10:22:14.221Z"
   },
   {
    "duration": 331,
    "start_time": "2024-04-25T10:22:14.576Z"
   },
   {
    "duration": 9,
    "start_time": "2024-04-25T10:24:06.645Z"
   },
   {
    "duration": 47,
    "start_time": "2024-04-25T10:36:19.959Z"
   },
   {
    "duration": 1217,
    "start_time": "2024-04-25T10:36:32.494Z"
   },
   {
    "duration": 2563,
    "start_time": "2024-04-25T10:36:33.713Z"
   },
   {
    "duration": 108,
    "start_time": "2024-04-25T10:36:36.278Z"
   },
   {
    "duration": 3,
    "start_time": "2024-04-25T10:36:36.388Z"
   },
   {
    "duration": 10,
    "start_time": "2024-04-25T10:36:36.393Z"
   },
   {
    "duration": 203,
    "start_time": "2024-04-25T10:36:36.404Z"
   },
   {
    "duration": 15,
    "start_time": "2024-04-25T10:36:36.609Z"
   },
   {
    "duration": 23,
    "start_time": "2024-04-25T10:36:36.626Z"
   },
   {
    "duration": 40,
    "start_time": "2024-04-25T10:36:36.651Z"
   },
   {
    "duration": 49,
    "start_time": "2024-04-25T10:36:36.694Z"
   },
   {
    "duration": 4,
    "start_time": "2024-04-25T10:36:36.745Z"
   },
   {
    "duration": 15,
    "start_time": "2024-04-25T10:36:36.751Z"
   },
   {
    "duration": 9,
    "start_time": "2024-04-25T10:36:36.768Z"
   },
   {
    "duration": 21,
    "start_time": "2024-04-25T10:36:36.778Z"
   },
   {
    "duration": 6,
    "start_time": "2024-04-25T10:36:36.801Z"
   },
   {
    "duration": 17,
    "start_time": "2024-04-25T10:36:36.809Z"
   },
   {
    "duration": 14,
    "start_time": "2024-04-25T10:36:36.827Z"
   },
   {
    "duration": 14,
    "start_time": "2024-04-25T10:36:36.843Z"
   },
   {
    "duration": 16,
    "start_time": "2024-04-25T10:36:36.859Z"
   },
   {
    "duration": 6,
    "start_time": "2024-04-25T10:36:36.877Z"
   },
   {
    "duration": 10,
    "start_time": "2024-04-25T10:36:36.885Z"
   },
   {
    "duration": 4,
    "start_time": "2024-04-25T10:36:36.897Z"
   },
   {
    "duration": 36,
    "start_time": "2024-04-25T10:36:36.903Z"
   },
   {
    "duration": 17,
    "start_time": "2024-04-25T10:36:36.941Z"
   },
   {
    "duration": 15,
    "start_time": "2024-04-25T10:36:36.960Z"
   },
   {
    "duration": 52,
    "start_time": "2024-04-25T10:36:36.977Z"
   },
   {
    "duration": 616,
    "start_time": "2024-04-25T10:36:37.031Z"
   },
   {
    "duration": 481,
    "start_time": "2024-04-25T10:36:37.650Z"
   },
   {
    "duration": 434,
    "start_time": "2024-04-25T10:36:38.133Z"
   },
   {
    "duration": 2359,
    "start_time": "2024-04-25T10:36:38.568Z"
   },
   {
    "duration": 641,
    "start_time": "2024-04-25T10:36:40.928Z"
   },
   {
    "duration": 561,
    "start_time": "2024-04-25T10:36:41.571Z"
   },
   {
    "duration": 361,
    "start_time": "2024-04-25T10:36:42.133Z"
   },
   {
    "duration": 440,
    "start_time": "2024-04-25T10:36:42.496Z"
   },
   {
    "duration": 536,
    "start_time": "2024-04-25T10:36:42.938Z"
   },
   {
    "duration": 329,
    "start_time": "2024-04-25T10:36:43.475Z"
   },
   {
    "duration": 315,
    "start_time": "2024-04-25T10:36:43.805Z"
   },
   {
    "duration": 1241,
    "start_time": "2024-04-25T10:40:24.668Z"
   },
   {
    "duration": 2565,
    "start_time": "2024-04-25T10:40:25.912Z"
   },
   {
    "duration": 91,
    "start_time": "2024-04-25T10:40:28.480Z"
   },
   {
    "duration": 3,
    "start_time": "2024-04-25T10:40:28.573Z"
   },
   {
    "duration": 34,
    "start_time": "2024-04-25T10:40:28.577Z"
   },
   {
    "duration": 106,
    "start_time": "2024-04-25T10:40:28.612Z"
   },
   {
    "duration": 14,
    "start_time": "2024-04-25T10:40:28.719Z"
   },
   {
    "duration": 15,
    "start_time": "2024-04-25T10:40:28.735Z"
   },
   {
    "duration": 13,
    "start_time": "2024-04-25T10:40:28.752Z"
   },
   {
    "duration": 29,
    "start_time": "2024-04-25T10:40:28.768Z"
   },
   {
    "duration": 5,
    "start_time": "2024-04-25T10:40:28.799Z"
   },
   {
    "duration": 10,
    "start_time": "2024-04-25T10:40:28.805Z"
   },
   {
    "duration": 13,
    "start_time": "2024-04-25T10:40:28.816Z"
   },
   {
    "duration": 28,
    "start_time": "2024-04-25T10:40:28.831Z"
   },
   {
    "duration": 7,
    "start_time": "2024-04-25T10:40:28.861Z"
   },
   {
    "duration": 11,
    "start_time": "2024-04-25T10:40:28.869Z"
   },
   {
    "duration": 26,
    "start_time": "2024-04-25T10:40:28.882Z"
   },
   {
    "duration": 11,
    "start_time": "2024-04-25T10:40:28.910Z"
   },
   {
    "duration": 8,
    "start_time": "2024-04-25T10:40:28.923Z"
   },
   {
    "duration": 23,
    "start_time": "2024-04-25T10:40:28.933Z"
   },
   {
    "duration": 9,
    "start_time": "2024-04-25T10:40:28.957Z"
   },
   {
    "duration": 12,
    "start_time": "2024-04-25T10:40:28.967Z"
   },
   {
    "duration": 31,
    "start_time": "2024-04-25T10:40:28.980Z"
   },
   {
    "duration": 13,
    "start_time": "2024-04-25T10:40:29.012Z"
   },
   {
    "duration": 31,
    "start_time": "2024-04-25T10:40:29.026Z"
   },
   {
    "duration": 33,
    "start_time": "2024-04-25T10:40:29.058Z"
   },
   {
    "duration": 671,
    "start_time": "2024-04-25T10:40:29.092Z"
   },
   {
    "duration": 485,
    "start_time": "2024-04-25T10:40:29.767Z"
   },
   {
    "duration": 438,
    "start_time": "2024-04-25T10:40:30.254Z"
   },
   {
    "duration": 2408,
    "start_time": "2024-04-25T10:40:30.693Z"
   },
   {
    "duration": 648,
    "start_time": "2024-04-25T10:40:33.102Z"
   },
   {
    "duration": 564,
    "start_time": "2024-04-25T10:40:33.752Z"
   },
   {
    "duration": 293,
    "start_time": "2024-04-25T10:40:34.318Z"
   },
   {
    "duration": 429,
    "start_time": "2024-04-25T10:40:34.612Z"
   },
   {
    "duration": 564,
    "start_time": "2024-04-25T10:40:35.058Z"
   },
   {
    "duration": 295,
    "start_time": "2024-04-25T10:40:35.624Z"
   },
   {
    "duration": 374,
    "start_time": "2024-04-25T10:40:35.921Z"
   },
   {
    "duration": 1187,
    "start_time": "2024-04-25T11:01:20.104Z"
   },
   {
    "duration": 3,
    "start_time": "2024-04-25T11:01:21.293Z"
   },
   {
    "duration": 21,
    "start_time": "2024-04-25T11:01:21.297Z"
   },
   {
    "duration": 11,
    "start_time": "2024-04-25T11:01:21.320Z"
   },
   {
    "duration": 9,
    "start_time": "2024-04-25T11:01:21.333Z"
   },
   {
    "duration": 85,
    "start_time": "2024-04-25T11:01:21.343Z"
   },
   {
    "duration": 14,
    "start_time": "2024-04-25T11:01:21.430Z"
   },
   {
    "duration": 32,
    "start_time": "2024-04-25T11:01:21.445Z"
   },
   {
    "duration": 28,
    "start_time": "2024-04-25T11:01:21.480Z"
   },
   {
    "duration": 31,
    "start_time": "2024-04-25T11:01:21.511Z"
   },
   {
    "duration": 12,
    "start_time": "2024-04-25T11:01:21.543Z"
   },
   {
    "duration": 48,
    "start_time": "2024-04-25T11:01:21.557Z"
   },
   {
    "duration": 36,
    "start_time": "2024-04-25T11:01:21.607Z"
   },
   {
    "duration": 33,
    "start_time": "2024-04-25T11:01:21.645Z"
   },
   {
    "duration": 7,
    "start_time": "2024-04-25T11:01:21.680Z"
   },
   {
    "duration": 22,
    "start_time": "2024-04-25T11:01:21.689Z"
   },
   {
    "duration": 14,
    "start_time": "2024-04-25T11:01:21.713Z"
   },
   {
    "duration": 27,
    "start_time": "2024-04-25T11:01:21.729Z"
   },
   {
    "duration": 15,
    "start_time": "2024-04-25T11:01:21.758Z"
   },
   {
    "duration": 19,
    "start_time": "2024-04-25T11:01:21.775Z"
   },
   {
    "duration": 26,
    "start_time": "2024-04-25T11:01:21.797Z"
   },
   {
    "duration": 20,
    "start_time": "2024-04-25T11:01:21.825Z"
   },
   {
    "duration": 29,
    "start_time": "2024-04-25T11:01:21.847Z"
   },
   {
    "duration": 13,
    "start_time": "2024-04-25T11:01:21.878Z"
   },
   {
    "duration": 54,
    "start_time": "2024-04-25T11:01:21.893Z"
   },
   {
    "duration": 54,
    "start_time": "2024-04-25T11:01:21.949Z"
   },
   {
    "duration": 558,
    "start_time": "2024-04-25T11:01:22.005Z"
   },
   {
    "duration": 483,
    "start_time": "2024-04-25T11:01:22.567Z"
   },
   {
    "duration": 457,
    "start_time": "2024-04-25T11:01:23.052Z"
   },
   {
    "duration": 2281,
    "start_time": "2024-04-25T11:01:23.511Z"
   },
   {
    "duration": 628,
    "start_time": "2024-04-25T11:01:25.793Z"
   },
   {
    "duration": 397,
    "start_time": "2024-04-25T11:01:26.423Z"
   },
   {
    "duration": 490,
    "start_time": "2024-04-25T11:01:26.821Z"
   },
   {
    "duration": 473,
    "start_time": "2024-04-25T11:01:27.312Z"
   },
   {
    "duration": 568,
    "start_time": "2024-04-25T11:01:27.786Z"
   },
   {
    "duration": 343,
    "start_time": "2024-04-25T11:01:28.359Z"
   },
   {
    "duration": 331,
    "start_time": "2024-04-25T11:01:28.703Z"
   },
   {
    "duration": 102,
    "start_time": "2024-04-25T11:01:29.061Z"
   },
   {
    "duration": 0,
    "start_time": "2024-04-25T11:01:29.165Z"
   },
   {
    "duration": 0,
    "start_time": "2024-04-25T11:01:29.165Z"
   },
   {
    "duration": 0,
    "start_time": "2024-04-25T11:01:29.166Z"
   },
   {
    "duration": 0,
    "start_time": "2024-04-25T11:01:29.167Z"
   },
   {
    "duration": 1242,
    "start_time": "2024-04-25T11:07:58.740Z"
   },
   {
    "duration": 2,
    "start_time": "2024-04-25T11:07:59.984Z"
   },
   {
    "duration": 27,
    "start_time": "2024-04-25T11:07:59.990Z"
   },
   {
    "duration": 56,
    "start_time": "2024-04-25T11:08:00.019Z"
   },
   {
    "duration": 34,
    "start_time": "2024-04-25T11:08:00.077Z"
   },
   {
    "duration": 191,
    "start_time": "2024-04-25T11:08:00.113Z"
   },
   {
    "duration": 14,
    "start_time": "2024-04-25T11:08:00.306Z"
   },
   {
    "duration": 144,
    "start_time": "2024-04-25T11:08:00.322Z"
   },
   {
    "duration": 204,
    "start_time": "2024-04-25T11:08:00.468Z"
   },
   {
    "duration": 52,
    "start_time": "2024-04-25T11:08:00.674Z"
   },
   {
    "duration": 23,
    "start_time": "2024-04-25T11:08:00.728Z"
   },
   {
    "duration": 57,
    "start_time": "2024-04-25T11:08:00.752Z"
   },
   {
    "duration": 29,
    "start_time": "2024-04-25T11:08:00.812Z"
   },
   {
    "duration": 77,
    "start_time": "2024-04-25T11:08:00.843Z"
   },
   {
    "duration": 30,
    "start_time": "2024-04-25T11:08:00.922Z"
   },
   {
    "duration": 51,
    "start_time": "2024-04-25T11:08:00.954Z"
   },
   {
    "duration": 48,
    "start_time": "2024-04-25T11:08:01.007Z"
   },
   {
    "duration": 48,
    "start_time": "2024-04-25T11:08:01.056Z"
   },
   {
    "duration": 86,
    "start_time": "2024-04-25T11:08:01.106Z"
   },
   {
    "duration": 45,
    "start_time": "2024-04-25T11:08:01.195Z"
   },
   {
    "duration": 41,
    "start_time": "2024-04-25T11:08:01.242Z"
   },
   {
    "duration": 40,
    "start_time": "2024-04-25T11:08:01.285Z"
   },
   {
    "duration": 86,
    "start_time": "2024-04-25T11:08:01.327Z"
   },
   {
    "duration": 13,
    "start_time": "2024-04-25T11:08:01.415Z"
   },
   {
    "duration": 54,
    "start_time": "2024-04-25T11:08:01.429Z"
   },
   {
    "duration": 34,
    "start_time": "2024-04-25T11:08:01.485Z"
   },
   {
    "duration": 620,
    "start_time": "2024-04-25T11:08:01.520Z"
   },
   {
    "duration": 544,
    "start_time": "2024-04-25T11:08:02.142Z"
   },
   {
    "duration": 490,
    "start_time": "2024-04-25T11:08:02.688Z"
   },
   {
    "duration": 2402,
    "start_time": "2024-04-25T11:08:03.181Z"
   },
   {
    "duration": 609,
    "start_time": "2024-04-25T11:08:05.586Z"
   },
   {
    "duration": 379,
    "start_time": "2024-04-25T11:08:06.196Z"
   },
   {
    "duration": 521,
    "start_time": "2024-04-25T11:08:06.576Z"
   },
   {
    "duration": 439,
    "start_time": "2024-04-25T11:08:07.098Z"
   },
   {
    "duration": 642,
    "start_time": "2024-04-25T11:08:07.539Z"
   },
   {
    "duration": 323,
    "start_time": "2024-04-25T11:08:08.182Z"
   },
   {
    "duration": 377,
    "start_time": "2024-04-25T11:08:08.507Z"
   },
   {
    "duration": 110,
    "start_time": "2024-04-25T11:08:08.886Z"
   },
   {
    "duration": 0,
    "start_time": "2024-04-25T11:08:08.998Z"
   },
   {
    "duration": 0,
    "start_time": "2024-04-25T11:08:08.999Z"
   },
   {
    "duration": 0,
    "start_time": "2024-04-25T11:08:08.999Z"
   },
   {
    "duration": 0,
    "start_time": "2024-04-25T11:08:09.001Z"
   },
   {
    "duration": 4,
    "start_time": "2024-04-25T11:08:28.196Z"
   },
   {
    "duration": 3,
    "start_time": "2024-04-25T11:08:32.779Z"
   },
   {
    "duration": 4,
    "start_time": "2024-04-25T11:08:34.036Z"
   },
   {
    "duration": 91,
    "start_time": "2024-04-25T11:08:42.228Z"
   },
   {
    "duration": 11,
    "start_time": "2024-04-25T11:08:47.381Z"
   },
   {
    "duration": 4,
    "start_time": "2024-04-25T11:08:50.626Z"
   },
   {
    "duration": 10,
    "start_time": "2024-04-25T11:08:52.618Z"
   },
   {
    "duration": 26,
    "start_time": "2024-04-25T11:08:54.804Z"
   },
   {
    "duration": 5,
    "start_time": "2024-04-25T11:08:59.019Z"
   },
   {
    "duration": 4,
    "start_time": "2024-04-25T11:09:00.972Z"
   },
   {
    "duration": 4,
    "start_time": "2024-04-25T11:09:03.931Z"
   },
   {
    "duration": 14,
    "start_time": "2024-04-25T11:09:05.292Z"
   },
   {
    "duration": 7,
    "start_time": "2024-04-25T11:09:08.227Z"
   },
   {
    "duration": 5,
    "start_time": "2024-04-25T11:09:09.724Z"
   },
   {
    "duration": 5,
    "start_time": "2024-04-25T11:09:13.652Z"
   },
   {
    "duration": 4,
    "start_time": "2024-04-25T11:09:16.235Z"
   },
   {
    "duration": 5,
    "start_time": "2024-04-25T11:09:17.843Z"
   },
   {
    "duration": 5,
    "start_time": "2024-04-25T11:09:23.525Z"
   },
   {
    "duration": 9,
    "start_time": "2024-04-25T11:09:24.156Z"
   },
   {
    "duration": 5,
    "start_time": "2024-04-25T11:09:29.852Z"
   },
   {
    "duration": 4,
    "start_time": "2024-04-25T11:10:07.541Z"
   },
   {
    "duration": 1300,
    "start_time": "2024-04-25T11:11:10.071Z"
   },
   {
    "duration": 30,
    "start_time": "2024-04-25T11:11:32.877Z"
   },
   {
    "duration": 18,
    "start_time": "2024-04-25T11:11:41.542Z"
   },
   {
    "duration": 6,
    "start_time": "2024-04-25T11:11:44.963Z"
   },
   {
    "duration": 14,
    "start_time": "2024-04-25T11:11:49.623Z"
   },
   {
    "duration": 3,
    "start_time": "2024-04-25T11:15:06.344Z"
   },
   {
    "duration": 2494,
    "start_time": "2024-04-25T11:15:06.845Z"
   },
   {
    "duration": 100,
    "start_time": "2024-04-25T11:15:09.341Z"
   },
   {
    "duration": 3,
    "start_time": "2024-04-25T11:15:09.442Z"
   },
   {
    "duration": 4,
    "start_time": "2024-04-25T11:15:11.822Z"
   },
   {
    "duration": 94,
    "start_time": "2024-04-25T11:15:12.531Z"
   },
   {
    "duration": 11,
    "start_time": "2024-04-25T11:15:12.940Z"
   },
   {
    "duration": 4,
    "start_time": "2024-04-25T11:15:14.626Z"
   },
   {
    "duration": 10,
    "start_time": "2024-04-25T11:15:15.384Z"
   },
   {
    "duration": 24,
    "start_time": "2024-04-25T11:15:15.851Z"
   },
   {
    "duration": 5,
    "start_time": "2024-04-25T11:15:18.354Z"
   },
   {
    "duration": 4,
    "start_time": "2024-04-25T11:15:21.052Z"
   },
   {
    "duration": 5,
    "start_time": "2024-04-25T11:15:22.724Z"
   },
   {
    "duration": 14,
    "start_time": "2024-04-25T11:15:24.196Z"
   },
   {
    "duration": 6,
    "start_time": "2024-04-25T11:15:28.091Z"
   },
   {
    "duration": 4,
    "start_time": "2024-04-25T11:15:28.716Z"
   },
   {
    "duration": 4,
    "start_time": "2024-04-25T11:15:30.924Z"
   },
   {
    "duration": 6,
    "start_time": "2024-04-25T11:15:33.988Z"
   },
   {
    "duration": 4,
    "start_time": "2024-04-25T11:15:35.428Z"
   },
   {
    "duration": 6,
    "start_time": "2024-04-25T11:15:38.423Z"
   },
   {
    "duration": 6,
    "start_time": "2024-04-25T11:15:39.012Z"
   },
   {
    "duration": 6,
    "start_time": "2024-04-25T11:15:45.003Z"
   },
   {
    "duration": 4,
    "start_time": "2024-04-25T11:16:20.462Z"
   },
   {
    "duration": 30,
    "start_time": "2024-04-25T11:16:23.253Z"
   },
   {
    "duration": 21,
    "start_time": "2024-04-25T11:16:30.036Z"
   },
   {
    "duration": 16,
    "start_time": "2024-04-25T11:16:30.518Z"
   },
   {
    "duration": 30,
    "start_time": "2024-04-25T11:16:30.981Z"
   },
   {
    "duration": 616,
    "start_time": "2024-04-25T11:16:31.787Z"
   },
   {
    "duration": 434,
    "start_time": "2024-04-25T11:16:38.453Z"
   },
   {
    "duration": 499,
    "start_time": "2024-04-25T11:16:43.541Z"
   },
   {
    "duration": 2193,
    "start_time": "2024-04-25T11:16:48.262Z"
   },
   {
    "duration": 737,
    "start_time": "2024-04-25T11:16:54.644Z"
   },
   {
    "duration": 369,
    "start_time": "2024-04-25T11:17:04.246Z"
   },
   {
    "duration": 336,
    "start_time": "2024-04-25T11:17:09.269Z"
   },
   {
    "duration": 421,
    "start_time": "2024-04-25T11:17:15.269Z"
   },
   {
    "duration": 541,
    "start_time": "2024-04-25T11:17:28.735Z"
   },
   {
    "duration": 359,
    "start_time": "2024-04-25T11:17:33.830Z"
   },
   {
    "duration": 345,
    "start_time": "2024-04-25T11:17:37.790Z"
   },
   {
    "duration": 26656,
    "start_time": "2024-04-25T11:17:44.870Z"
   },
   {
    "duration": 1188,
    "start_time": "2024-04-25T11:42:05.693Z"
   },
   {
    "duration": 2451,
    "start_time": "2024-04-25T11:42:06.883Z"
   },
   {
    "duration": 61,
    "start_time": "2024-04-25T11:42:09.337Z"
   },
   {
    "duration": 4,
    "start_time": "2024-04-25T11:42:09.400Z"
   },
   {
    "duration": 8,
    "start_time": "2024-04-25T11:42:09.406Z"
   },
   {
    "duration": 147,
    "start_time": "2024-04-25T11:42:09.416Z"
   },
   {
    "duration": 15,
    "start_time": "2024-04-25T11:42:09.565Z"
   },
   {
    "duration": 10,
    "start_time": "2024-04-25T11:42:09.582Z"
   },
   {
    "duration": 20,
    "start_time": "2024-04-25T11:42:09.593Z"
   },
   {
    "duration": 24,
    "start_time": "2024-04-25T11:42:09.617Z"
   },
   {
    "duration": 18,
    "start_time": "2024-04-25T11:42:09.643Z"
   },
   {
    "duration": 11,
    "start_time": "2024-04-25T11:42:09.663Z"
   },
   {
    "duration": 28,
    "start_time": "2024-04-25T11:42:09.676Z"
   },
   {
    "duration": 22,
    "start_time": "2024-04-25T11:42:09.706Z"
   },
   {
    "duration": 11,
    "start_time": "2024-04-25T11:42:09.730Z"
   },
   {
    "duration": 10,
    "start_time": "2024-04-25T11:42:09.743Z"
   },
   {
    "duration": 31,
    "start_time": "2024-04-25T11:42:09.755Z"
   },
   {
    "duration": 27,
    "start_time": "2024-04-25T11:42:09.788Z"
   },
   {
    "duration": 6,
    "start_time": "2024-04-25T11:42:09.817Z"
   },
   {
    "duration": 7,
    "start_time": "2024-04-25T11:42:09.824Z"
   },
   {
    "duration": 27,
    "start_time": "2024-04-25T11:42:09.833Z"
   },
   {
    "duration": 19,
    "start_time": "2024-04-25T11:42:09.863Z"
   },
   {
    "duration": 29,
    "start_time": "2024-04-25T11:42:09.883Z"
   },
   {
    "duration": 13,
    "start_time": "2024-04-25T11:42:09.913Z"
   },
   {
    "duration": 18,
    "start_time": "2024-04-25T11:42:09.928Z"
   },
   {
    "duration": 37,
    "start_time": "2024-04-25T11:42:09.948Z"
   },
   {
    "duration": 626,
    "start_time": "2024-04-25T11:42:09.986Z"
   },
   {
    "duration": 460,
    "start_time": "2024-04-25T11:42:10.615Z"
   },
   {
    "duration": 440,
    "start_time": "2024-04-25T11:42:11.077Z"
   },
   {
    "duration": 2285,
    "start_time": "2024-04-25T11:42:11.519Z"
   },
   {
    "duration": 592,
    "start_time": "2024-04-25T11:42:13.806Z"
   },
   {
    "duration": 514,
    "start_time": "2024-04-25T11:42:14.400Z"
   },
   {
    "duration": 360,
    "start_time": "2024-04-25T11:42:14.916Z"
   },
   {
    "duration": 459,
    "start_time": "2024-04-25T11:42:15.279Z"
   },
   {
    "duration": 543,
    "start_time": "2024-04-25T11:42:15.740Z"
   },
   {
    "duration": 326,
    "start_time": "2024-04-25T11:42:16.284Z"
   },
   {
    "duration": 358,
    "start_time": "2024-04-25T11:42:16.612Z"
   },
   {
    "duration": 26258,
    "start_time": "2024-04-25T11:42:16.971Z"
   },
   {
    "duration": 30,
    "start_time": "2024-04-25T11:42:43.231Z"
   },
   {
    "duration": 19,
    "start_time": "2024-04-25T11:42:43.263Z"
   },
   {
    "duration": 8,
    "start_time": "2024-04-25T11:42:43.284Z"
   },
   {
    "duration": 26,
    "start_time": "2024-04-25T11:42:43.293Z"
   },
   {
    "duration": 29,
    "start_time": "2024-04-25T11:44:53.537Z"
   },
   {
    "duration": 147,
    "start_time": "2024-04-25T11:45:59.994Z"
   },
   {
    "duration": 21,
    "start_time": "2024-04-25T11:46:50.810Z"
   },
   {
    "duration": 17,
    "start_time": "2024-04-25T11:46:56.979Z"
   },
   {
    "duration": 4,
    "start_time": "2024-04-25T11:47:00.348Z"
   },
   {
    "duration": 14,
    "start_time": "2024-04-25T11:47:27.611Z"
   },
   {
    "duration": 28361,
    "start_time": "2024-04-25T12:10:51.938Z"
   },
   {
    "duration": 26928,
    "start_time": "2024-04-25T12:12:40.731Z"
   },
   {
    "duration": 26759,
    "start_time": "2024-04-25T12:13:53.428Z"
   },
   {
    "duration": 14,
    "start_time": "2024-04-25T12:30:41.617Z"
   },
   {
    "duration": 13,
    "start_time": "2024-04-25T12:32:53.075Z"
   },
   {
    "duration": 29,
    "start_time": "2024-04-25T12:34:58.425Z"
   },
   {
    "duration": 75,
    "start_time": "2024-04-25T12:38:33.544Z"
   },
   {
    "duration": 50,
    "start_time": "2024-04-25T12:41:42.369Z"
   },
   {
    "duration": 1251,
    "start_time": "2024-04-25T12:42:47.349Z"
   },
   {
    "duration": 2460,
    "start_time": "2024-04-25T12:42:48.602Z"
   },
   {
    "duration": 123,
    "start_time": "2024-04-25T12:42:51.064Z"
   },
   {
    "duration": 4,
    "start_time": "2024-04-25T12:42:51.188Z"
   },
   {
    "duration": 25,
    "start_time": "2024-04-25T12:42:51.194Z"
   },
   {
    "duration": 620,
    "start_time": "2024-04-25T12:42:51.222Z"
   },
   {
    "duration": 14,
    "start_time": "2024-04-25T12:42:51.844Z"
   },
   {
    "duration": 3,
    "start_time": "2024-04-25T12:42:51.860Z"
   },
   {
    "duration": 13,
    "start_time": "2024-04-25T12:42:51.865Z"
   },
   {
    "duration": 36,
    "start_time": "2024-04-25T12:42:51.880Z"
   },
   {
    "duration": 5,
    "start_time": "2024-04-25T12:42:51.917Z"
   },
   {
    "duration": 24,
    "start_time": "2024-04-25T12:42:51.923Z"
   },
   {
    "duration": 40,
    "start_time": "2024-04-25T12:42:51.948Z"
   },
   {
    "duration": 74,
    "start_time": "2024-04-25T12:42:51.991Z"
   },
   {
    "duration": 55,
    "start_time": "2024-04-25T12:42:52.068Z"
   },
   {
    "duration": 36,
    "start_time": "2024-04-25T12:42:52.124Z"
   },
   {
    "duration": 34,
    "start_time": "2024-04-25T12:42:52.162Z"
   },
   {
    "duration": 20,
    "start_time": "2024-04-25T12:42:52.197Z"
   },
   {
    "duration": 19,
    "start_time": "2024-04-25T12:42:52.218Z"
   },
   {
    "duration": 48,
    "start_time": "2024-04-25T12:42:52.238Z"
   },
   {
    "duration": 33,
    "start_time": "2024-04-25T12:42:52.287Z"
   },
   {
    "duration": 38,
    "start_time": "2024-04-25T12:42:52.322Z"
   },
   {
    "duration": 40,
    "start_time": "2024-04-25T12:42:52.361Z"
   },
   {
    "duration": 22,
    "start_time": "2024-04-25T12:42:52.403Z"
   },
   {
    "duration": 18,
    "start_time": "2024-04-25T12:42:52.427Z"
   },
   {
    "duration": 63,
    "start_time": "2024-04-25T12:42:52.447Z"
   },
   {
    "duration": 612,
    "start_time": "2024-04-25T12:42:52.512Z"
   },
   {
    "duration": 466,
    "start_time": "2024-04-25T12:42:53.125Z"
   },
   {
    "duration": 448,
    "start_time": "2024-04-25T12:42:53.592Z"
   },
   {
    "duration": 2260,
    "start_time": "2024-04-25T12:42:54.042Z"
   },
   {
    "duration": 610,
    "start_time": "2024-04-25T12:42:56.304Z"
   },
   {
    "duration": 587,
    "start_time": "2024-04-25T12:42:56.915Z"
   },
   {
    "duration": 300,
    "start_time": "2024-04-25T12:42:57.504Z"
   },
   {
    "duration": 434,
    "start_time": "2024-04-25T12:42:57.806Z"
   },
   {
    "duration": 534,
    "start_time": "2024-04-25T12:42:58.242Z"
   },
   {
    "duration": 325,
    "start_time": "2024-04-25T12:42:58.778Z"
   },
   {
    "duration": 311,
    "start_time": "2024-04-25T12:42:59.105Z"
   },
   {
    "duration": 18,
    "start_time": "2024-04-25T12:42:59.418Z"
   },
   {
    "duration": 21,
    "start_time": "2024-04-25T12:42:59.459Z"
   },
   {
    "duration": 466,
    "start_time": "2024-04-25T12:42:59.482Z"
   },
   {
    "duration": 53,
    "start_time": "2024-04-25T12:47:33.679Z"
   },
   {
    "duration": 8,
    "start_time": "2024-04-25T12:57:11.437Z"
   },
   {
    "duration": 1288,
    "start_time": "2024-04-25T12:57:32.270Z"
   },
   {
    "duration": 2669,
    "start_time": "2024-04-25T12:57:33.560Z"
   },
   {
    "duration": 92,
    "start_time": "2024-04-25T12:57:36.232Z"
   },
   {
    "duration": 4,
    "start_time": "2024-04-25T12:57:36.327Z"
   },
   {
    "duration": 10,
    "start_time": "2024-04-25T12:57:36.333Z"
   },
   {
    "duration": 117,
    "start_time": "2024-04-25T12:57:36.344Z"
   },
   {
    "duration": 16,
    "start_time": "2024-04-25T12:57:36.463Z"
   },
   {
    "duration": 16,
    "start_time": "2024-04-25T12:57:36.482Z"
   },
   {
    "duration": 20,
    "start_time": "2024-04-25T12:57:36.500Z"
   },
   {
    "duration": 11,
    "start_time": "2024-04-25T12:57:36.524Z"
   },
   {
    "duration": 29,
    "start_time": "2024-04-25T12:57:36.537Z"
   },
   {
    "duration": 45,
    "start_time": "2024-04-25T12:57:36.568Z"
   },
   {
    "duration": 17,
    "start_time": "2024-04-25T12:57:36.615Z"
   },
   {
    "duration": 42,
    "start_time": "2024-04-25T12:57:36.634Z"
   },
   {
    "duration": 11,
    "start_time": "2024-04-25T12:57:36.678Z"
   },
   {
    "duration": 10,
    "start_time": "2024-04-25T12:57:36.692Z"
   },
   {
    "duration": 15,
    "start_time": "2024-04-25T12:57:36.705Z"
   },
   {
    "duration": 19,
    "start_time": "2024-04-25T12:57:36.721Z"
   },
   {
    "duration": 42,
    "start_time": "2024-04-25T12:57:36.743Z"
   },
   {
    "duration": 8,
    "start_time": "2024-04-25T12:57:36.788Z"
   },
   {
    "duration": 28,
    "start_time": "2024-04-25T12:57:36.798Z"
   },
   {
    "duration": 22,
    "start_time": "2024-04-25T12:57:36.828Z"
   },
   {
    "duration": 32,
    "start_time": "2024-04-25T12:57:36.853Z"
   },
   {
    "duration": 36,
    "start_time": "2024-04-25T12:57:36.887Z"
   },
   {
    "duration": 582,
    "start_time": "2024-04-25T12:57:36.925Z"
   },
   {
    "duration": 14,
    "start_time": "2024-04-25T12:57:37.508Z"
   },
   {
    "duration": 524,
    "start_time": "2024-04-25T12:57:37.524Z"
   },
   {
    "duration": 456,
    "start_time": "2024-04-25T12:57:38.052Z"
   },
   {
    "duration": 2481,
    "start_time": "2024-04-25T12:57:38.509Z"
   },
   {
    "duration": 659,
    "start_time": "2024-04-25T12:57:40.992Z"
   },
   {
    "duration": 667,
    "start_time": "2024-04-25T12:57:41.653Z"
   },
   {
    "duration": 361,
    "start_time": "2024-04-25T12:57:42.322Z"
   },
   {
    "duration": 433,
    "start_time": "2024-04-25T12:57:42.685Z"
   },
   {
    "duration": 600,
    "start_time": "2024-04-25T12:57:43.120Z"
   },
   {
    "duration": 377,
    "start_time": "2024-04-25T12:57:43.722Z"
   },
   {
    "duration": 324,
    "start_time": "2024-04-25T12:57:44.100Z"
   },
   {
    "duration": 36,
    "start_time": "2024-04-25T12:57:44.426Z"
   },
   {
    "duration": 23,
    "start_time": "2024-04-25T12:57:44.464Z"
   },
   {
    "duration": 850,
    "start_time": "2024-04-25T12:57:44.489Z"
   },
   {
    "duration": 1268,
    "start_time": "2024-04-25T13:14:27.949Z"
   },
   {
    "duration": 2639,
    "start_time": "2024-04-25T13:14:29.219Z"
   },
   {
    "duration": 107,
    "start_time": "2024-04-25T13:14:31.861Z"
   },
   {
    "duration": 3,
    "start_time": "2024-04-25T13:14:31.971Z"
   },
   {
    "duration": 107,
    "start_time": "2024-04-25T13:14:31.976Z"
   },
   {
    "duration": 212,
    "start_time": "2024-04-25T13:14:32.086Z"
   },
   {
    "duration": 16,
    "start_time": "2024-04-25T13:14:32.300Z"
   },
   {
    "duration": 56,
    "start_time": "2024-04-25T13:14:32.318Z"
   },
   {
    "duration": 9,
    "start_time": "2024-04-25T13:14:32.376Z"
   },
   {
    "duration": 14,
    "start_time": "2024-04-25T13:14:32.388Z"
   },
   {
    "duration": 14,
    "start_time": "2024-04-25T13:14:32.404Z"
   },
   {
    "duration": 23,
    "start_time": "2024-04-25T13:14:32.419Z"
   },
   {
    "duration": 10,
    "start_time": "2024-04-25T13:14:32.444Z"
   },
   {
    "duration": 9,
    "start_time": "2024-04-25T13:14:32.456Z"
   },
   {
    "duration": 29,
    "start_time": "2024-04-25T13:14:32.467Z"
   },
   {
    "duration": 15,
    "start_time": "2024-04-25T13:14:32.498Z"
   },
   {
    "duration": 21,
    "start_time": "2024-04-25T13:14:32.514Z"
   },
   {
    "duration": 22,
    "start_time": "2024-04-25T13:14:32.537Z"
   },
   {
    "duration": 22,
    "start_time": "2024-04-25T13:14:32.561Z"
   },
   {
    "duration": 8,
    "start_time": "2024-04-25T13:14:32.585Z"
   },
   {
    "duration": 39,
    "start_time": "2024-04-25T13:14:32.594Z"
   },
   {
    "duration": 13,
    "start_time": "2024-04-25T13:14:32.634Z"
   },
   {
    "duration": 21,
    "start_time": "2024-04-25T13:14:32.649Z"
   },
   {
    "duration": 27,
    "start_time": "2024-04-25T13:14:32.671Z"
   },
   {
    "duration": 615,
    "start_time": "2024-04-25T13:14:32.700Z"
   },
   {
    "duration": 13,
    "start_time": "2024-04-25T13:14:33.317Z"
   },
   {
    "duration": 562,
    "start_time": "2024-04-25T13:14:33.332Z"
   },
   {
    "duration": 455,
    "start_time": "2024-04-25T13:14:33.898Z"
   },
   {
    "duration": 2650,
    "start_time": "2024-04-25T13:14:34.359Z"
   },
   {
    "duration": 642,
    "start_time": "2024-04-25T13:14:37.011Z"
   },
   {
    "duration": 606,
    "start_time": "2024-04-25T13:14:37.655Z"
   },
   {
    "duration": 342,
    "start_time": "2024-04-25T13:14:38.263Z"
   },
   {
    "duration": 429,
    "start_time": "2024-04-25T13:14:38.607Z"
   },
   {
    "duration": 644,
    "start_time": "2024-04-25T13:14:39.038Z"
   },
   {
    "duration": 339,
    "start_time": "2024-04-25T13:14:39.684Z"
   },
   {
    "duration": 376,
    "start_time": "2024-04-25T13:14:40.025Z"
   },
   {
    "duration": 16,
    "start_time": "2024-04-25T13:14:40.403Z"
   },
   {
    "duration": 46,
    "start_time": "2024-04-25T13:14:40.421Z"
   },
   {
    "duration": 910,
    "start_time": "2024-04-25T13:14:40.470Z"
   },
   {
    "duration": 52,
    "start_time": "2024-04-25T13:16:56.577Z"
   },
   {
    "duration": 1247,
    "start_time": "2024-04-25T13:17:05.850Z"
   },
   {
    "duration": 2550,
    "start_time": "2024-04-25T13:17:07.100Z"
   },
   {
    "duration": 91,
    "start_time": "2024-04-25T13:17:09.653Z"
   },
   {
    "duration": 3,
    "start_time": "2024-04-25T13:17:09.746Z"
   },
   {
    "duration": 29,
    "start_time": "2024-04-25T13:17:09.750Z"
   },
   {
    "duration": 133,
    "start_time": "2024-04-25T13:17:09.781Z"
   },
   {
    "duration": 16,
    "start_time": "2024-04-25T13:17:09.916Z"
   },
   {
    "duration": 19,
    "start_time": "2024-04-25T13:17:09.933Z"
   },
   {
    "duration": 16,
    "start_time": "2024-04-25T13:17:09.954Z"
   },
   {
    "duration": 13,
    "start_time": "2024-04-25T13:17:09.973Z"
   },
   {
    "duration": 14,
    "start_time": "2024-04-25T13:17:09.988Z"
   },
   {
    "duration": 42,
    "start_time": "2024-04-25T13:17:10.003Z"
   },
   {
    "duration": 24,
    "start_time": "2024-04-25T13:17:10.047Z"
   },
   {
    "duration": 20,
    "start_time": "2024-04-25T13:17:10.072Z"
   },
   {
    "duration": 11,
    "start_time": "2024-04-25T13:17:10.093Z"
   },
   {
    "duration": 15,
    "start_time": "2024-04-25T13:17:10.105Z"
   },
   {
    "duration": 24,
    "start_time": "2024-04-25T13:17:10.122Z"
   },
   {
    "duration": 32,
    "start_time": "2024-04-25T13:17:10.148Z"
   },
   {
    "duration": 34,
    "start_time": "2024-04-25T13:17:10.181Z"
   },
   {
    "duration": 5,
    "start_time": "2024-04-25T13:17:10.217Z"
   },
   {
    "duration": 31,
    "start_time": "2024-04-25T13:17:10.224Z"
   },
   {
    "duration": 12,
    "start_time": "2024-04-25T13:17:10.257Z"
   },
   {
    "duration": 24,
    "start_time": "2024-04-25T13:17:10.271Z"
   },
   {
    "duration": 44,
    "start_time": "2024-04-25T13:17:10.297Z"
   },
   {
    "duration": 543,
    "start_time": "2024-04-25T13:17:10.343Z"
   },
   {
    "duration": 14,
    "start_time": "2024-04-25T13:17:10.888Z"
   },
   {
    "duration": 511,
    "start_time": "2024-04-25T13:17:10.904Z"
   },
   {
    "duration": 431,
    "start_time": "2024-04-25T13:17:11.418Z"
   },
   {
    "duration": 2378,
    "start_time": "2024-04-25T13:17:11.851Z"
   },
   {
    "duration": 573,
    "start_time": "2024-04-25T13:17:14.231Z"
   },
   {
    "duration": 612,
    "start_time": "2024-04-25T13:17:14.806Z"
   },
   {
    "duration": 365,
    "start_time": "2024-04-25T13:17:15.421Z"
   },
   {
    "duration": 427,
    "start_time": "2024-04-25T13:17:15.788Z"
   },
   {
    "duration": 557,
    "start_time": "2024-04-25T13:17:16.217Z"
   },
   {
    "duration": 333,
    "start_time": "2024-04-25T13:17:16.776Z"
   },
   {
    "duration": 302,
    "start_time": "2024-04-25T13:17:17.111Z"
   },
   {
    "duration": 14,
    "start_time": "2024-04-25T13:17:17.415Z"
   },
   {
    "duration": 46,
    "start_time": "2024-04-25T13:17:17.431Z"
   },
   {
    "duration": 818,
    "start_time": "2024-04-25T13:17:17.479Z"
   },
   {
    "duration": 2600,
    "start_time": "2024-04-26T05:04:17.918Z"
   },
   {
    "duration": 3336,
    "start_time": "2024-04-26T05:04:20.520Z"
   },
   {
    "duration": 59,
    "start_time": "2024-04-26T05:04:23.859Z"
   },
   {
    "duration": 3,
    "start_time": "2024-04-26T05:04:23.921Z"
   },
   {
    "duration": 5,
    "start_time": "2024-04-26T05:04:23.926Z"
   },
   {
    "duration": 192,
    "start_time": "2024-04-26T05:04:23.933Z"
   },
   {
    "duration": 15,
    "start_time": "2024-04-26T05:04:24.126Z"
   },
   {
    "duration": 7,
    "start_time": "2024-04-26T05:04:24.142Z"
   },
   {
    "duration": 13,
    "start_time": "2024-04-26T05:04:24.151Z"
   },
   {
    "duration": 7,
    "start_time": "2024-04-26T05:04:24.167Z"
   },
   {
    "duration": 5,
    "start_time": "2024-04-26T05:04:24.182Z"
   },
   {
    "duration": 32,
    "start_time": "2024-04-26T05:04:24.189Z"
   },
   {
    "duration": 6,
    "start_time": "2024-04-26T05:04:24.222Z"
   },
   {
    "duration": 12,
    "start_time": "2024-04-26T05:04:24.229Z"
   },
   {
    "duration": 6,
    "start_time": "2024-04-26T05:04:24.243Z"
   },
   {
    "duration": 6,
    "start_time": "2024-04-26T05:04:24.251Z"
   },
   {
    "duration": 6,
    "start_time": "2024-04-26T05:04:24.259Z"
   },
   {
    "duration": 19,
    "start_time": "2024-04-26T05:04:24.267Z"
   },
   {
    "duration": 8,
    "start_time": "2024-04-26T05:04:24.288Z"
   },
   {
    "duration": 6,
    "start_time": "2024-04-26T05:04:24.298Z"
   },
   {
    "duration": 26,
    "start_time": "2024-04-26T05:04:24.305Z"
   },
   {
    "duration": 12,
    "start_time": "2024-04-26T05:04:24.333Z"
   },
   {
    "duration": 48,
    "start_time": "2024-04-26T05:04:24.347Z"
   },
   {
    "duration": 25,
    "start_time": "2024-04-26T05:04:24.396Z"
   },
   {
    "duration": 589,
    "start_time": "2024-04-26T05:04:24.423Z"
   },
   {
    "duration": 13,
    "start_time": "2024-04-26T05:04:25.014Z"
   },
   {
    "duration": 483,
    "start_time": "2024-04-26T05:04:25.028Z"
   },
   {
    "duration": 441,
    "start_time": "2024-04-26T05:04:25.515Z"
   },
   {
    "duration": 2299,
    "start_time": "2024-04-26T05:04:25.958Z"
   },
   {
    "duration": 613,
    "start_time": "2024-04-26T05:04:28.259Z"
   },
   {
    "duration": 567,
    "start_time": "2024-04-26T05:04:28.874Z"
   },
   {
    "duration": 341,
    "start_time": "2024-04-26T05:04:29.443Z"
   },
   {
    "duration": 455,
    "start_time": "2024-04-26T05:04:29.786Z"
   },
   {
    "duration": 575,
    "start_time": "2024-04-26T05:04:30.244Z"
   },
   {
    "duration": 318,
    "start_time": "2024-04-26T05:04:30.821Z"
   },
   {
    "duration": 344,
    "start_time": "2024-04-26T05:04:31.141Z"
   },
   {
    "duration": 115,
    "start_time": "2024-04-26T05:04:31.487Z"
   },
   {
    "duration": 0,
    "start_time": "2024-04-26T05:04:31.603Z"
   },
   {
    "duration": 0,
    "start_time": "2024-04-26T05:04:31.604Z"
   },
   {
    "duration": 0,
    "start_time": "2024-04-26T05:04:31.606Z"
   },
   {
    "duration": 1,
    "start_time": "2024-04-26T05:04:31.607Z"
   },
   {
    "duration": 0,
    "start_time": "2024-04-26T05:04:31.609Z"
   },
   {
    "duration": 0,
    "start_time": "2024-04-26T05:04:31.610Z"
   },
   {
    "duration": 0,
    "start_time": "2024-04-26T05:04:31.611Z"
   },
   {
    "duration": 40593,
    "start_time": "2024-04-26T05:07:49.642Z"
   },
   {
    "duration": 22,
    "start_time": "2024-04-26T05:09:41.422Z"
   },
   {
    "duration": 791,
    "start_time": "2024-04-26T05:09:51.015Z"
   },
   {
    "duration": 1193,
    "start_time": "2024-04-26T05:47:14.717Z"
   },
   {
    "duration": 2,
    "start_time": "2024-04-26T05:47:15.912Z"
   },
   {
    "duration": 15,
    "start_time": "2024-04-26T05:47:15.916Z"
   },
   {
    "duration": 5,
    "start_time": "2024-04-26T05:47:15.932Z"
   },
   {
    "duration": 4,
    "start_time": "2024-04-26T05:47:15.940Z"
   },
   {
    "duration": 111,
    "start_time": "2024-04-26T05:47:15.946Z"
   },
   {
    "duration": 14,
    "start_time": "2024-04-26T05:47:16.058Z"
   },
   {
    "duration": 4,
    "start_time": "2024-04-26T05:47:16.073Z"
   },
   {
    "duration": 6,
    "start_time": "2024-04-26T05:47:16.078Z"
   },
   {
    "duration": 4,
    "start_time": "2024-04-26T05:47:16.086Z"
   },
   {
    "duration": 7,
    "start_time": "2024-04-26T05:47:16.091Z"
   },
   {
    "duration": 13,
    "start_time": "2024-04-26T05:47:16.100Z"
   },
   {
    "duration": 5,
    "start_time": "2024-04-26T05:47:16.115Z"
   },
   {
    "duration": 4,
    "start_time": "2024-04-26T05:47:16.123Z"
   },
   {
    "duration": 8,
    "start_time": "2024-04-26T05:47:16.129Z"
   },
   {
    "duration": 9,
    "start_time": "2024-04-26T05:47:16.139Z"
   },
   {
    "duration": 6,
    "start_time": "2024-04-26T05:47:16.182Z"
   },
   {
    "duration": 8,
    "start_time": "2024-04-26T05:47:16.190Z"
   },
   {
    "duration": 8,
    "start_time": "2024-04-26T05:47:16.201Z"
   },
   {
    "duration": 4,
    "start_time": "2024-04-26T05:47:16.211Z"
   },
   {
    "duration": 24,
    "start_time": "2024-04-26T05:47:16.217Z"
   },
   {
    "duration": 50,
    "start_time": "2024-04-26T05:47:16.243Z"
   },
   {
    "duration": 15,
    "start_time": "2024-04-26T05:47:16.294Z"
   },
   {
    "duration": 26,
    "start_time": "2024-04-26T05:47:16.311Z"
   },
   {
    "duration": 570,
    "start_time": "2024-04-26T05:47:16.339Z"
   },
   {
    "duration": 13,
    "start_time": "2024-04-26T05:47:16.911Z"
   },
   {
    "duration": 477,
    "start_time": "2024-04-26T05:47:16.925Z"
   },
   {
    "duration": 440,
    "start_time": "2024-04-26T05:47:17.403Z"
   },
   {
    "duration": 2367,
    "start_time": "2024-04-26T05:47:17.845Z"
   },
   {
    "duration": 593,
    "start_time": "2024-04-26T05:47:20.215Z"
   },
   {
    "duration": 349,
    "start_time": "2024-04-26T05:47:20.809Z"
   },
   {
    "duration": 562,
    "start_time": "2024-04-26T05:47:21.159Z"
   },
   {
    "duration": 431,
    "start_time": "2024-04-26T05:47:21.722Z"
   },
   {
    "duration": 555,
    "start_time": "2024-04-26T05:47:22.154Z"
   },
   {
    "duration": 352,
    "start_time": "2024-04-26T05:47:22.710Z"
   },
   {
    "duration": 357,
    "start_time": "2024-04-26T05:47:23.063Z"
   },
   {
    "duration": 2,
    "start_time": "2024-04-26T05:47:23.422Z"
   },
   {
    "duration": 17,
    "start_time": "2024-04-26T05:47:23.426Z"
   },
   {
    "duration": 6,
    "start_time": "2024-04-26T05:47:23.444Z"
   },
   {
    "duration": 15,
    "start_time": "2024-04-26T05:47:23.452Z"
   },
   {
    "duration": 34,
    "start_time": "2024-04-26T05:47:23.471Z"
   },
   {
    "duration": 17,
    "start_time": "2024-04-26T05:47:23.507Z"
   },
   {
    "duration": 4,
    "start_time": "2024-04-26T05:47:23.526Z"
   },
   {
    "duration": 26,
    "start_time": "2024-04-26T05:47:23.532Z"
   },
   {
    "duration": 110,
    "start_time": "2024-04-26T05:47:23.560Z"
   },
   {
    "duration": 52,
    "start_time": "2024-04-26T06:13:41.828Z"
   },
   {
    "duration": 40,
    "start_time": "2024-04-26T06:18:49.565Z"
   },
   {
    "duration": 41,
    "start_time": "2024-04-26T06:19:06.576Z"
   },
   {
    "duration": 53,
    "start_time": "2024-04-26T06:20:04.980Z"
   },
   {
    "duration": 24,
    "start_time": "2024-04-26T07:05:20.150Z"
   },
   {
    "duration": 9,
    "start_time": "2024-04-26T07:05:52.027Z"
   },
   {
    "duration": 7,
    "start_time": "2024-04-26T07:06:17.895Z"
   },
   {
    "duration": 36,
    "start_time": "2024-04-26T07:18:43.510Z"
   },
   {
    "duration": 43,
    "start_time": "2024-04-26T07:18:51.910Z"
   },
   {
    "duration": 49,
    "start_time": "2024-04-26T07:19:05.779Z"
   },
   {
    "duration": 59,
    "start_time": "2024-04-26T07:19:15.506Z"
   },
   {
    "duration": 11,
    "start_time": "2024-04-26T07:19:48.190Z"
   },
   {
    "duration": 9,
    "start_time": "2024-04-26T07:20:04.512Z"
   },
   {
    "duration": 40,
    "start_time": "2024-04-26T07:33:52.840Z"
   },
   {
    "duration": 56,
    "start_time": "2024-04-26T07:37:58.098Z"
   },
   {
    "duration": 1200,
    "start_time": "2024-04-26T07:38:50.895Z"
   },
   {
    "duration": 2,
    "start_time": "2024-04-26T07:38:52.097Z"
   },
   {
    "duration": 15,
    "start_time": "2024-04-26T07:38:52.101Z"
   },
   {
    "duration": 21,
    "start_time": "2024-04-26T07:38:52.117Z"
   },
   {
    "duration": 6,
    "start_time": "2024-04-26T07:38:52.140Z"
   },
   {
    "duration": 159,
    "start_time": "2024-04-26T07:38:52.147Z"
   },
   {
    "duration": 14,
    "start_time": "2024-04-26T07:38:52.308Z"
   },
   {
    "duration": 22,
    "start_time": "2024-04-26T07:38:52.324Z"
   },
   {
    "duration": 15,
    "start_time": "2024-04-26T07:38:52.348Z"
   },
   {
    "duration": 7,
    "start_time": "2024-04-26T07:38:52.364Z"
   },
   {
    "duration": 5,
    "start_time": "2024-04-26T07:38:52.373Z"
   },
   {
    "duration": 14,
    "start_time": "2024-04-26T07:38:52.379Z"
   },
   {
    "duration": 5,
    "start_time": "2024-04-26T07:38:52.395Z"
   },
   {
    "duration": 5,
    "start_time": "2024-04-26T07:38:52.403Z"
   },
   {
    "duration": 7,
    "start_time": "2024-04-26T07:38:52.409Z"
   },
   {
    "duration": 5,
    "start_time": "2024-04-26T07:38:52.418Z"
   },
   {
    "duration": 6,
    "start_time": "2024-04-26T07:38:52.424Z"
   },
   {
    "duration": 7,
    "start_time": "2024-04-26T07:38:52.431Z"
   },
   {
    "duration": 9,
    "start_time": "2024-04-26T07:38:52.482Z"
   },
   {
    "duration": 4,
    "start_time": "2024-04-26T07:38:52.493Z"
   },
   {
    "duration": 32,
    "start_time": "2024-04-26T07:38:52.499Z"
   },
   {
    "duration": 49,
    "start_time": "2024-04-26T07:38:52.533Z"
   },
   {
    "duration": 23,
    "start_time": "2024-04-26T07:38:52.584Z"
   },
   {
    "duration": 30,
    "start_time": "2024-04-26T07:38:52.609Z"
   },
   {
    "duration": 569,
    "start_time": "2024-04-26T07:38:52.640Z"
   },
   {
    "duration": 13,
    "start_time": "2024-04-26T07:38:53.211Z"
   },
   {
    "duration": 476,
    "start_time": "2024-04-26T07:38:53.225Z"
   },
   {
    "duration": 480,
    "start_time": "2024-04-26T07:38:53.703Z"
   },
   {
    "duration": 2374,
    "start_time": "2024-04-26T07:38:54.185Z"
   },
   {
    "duration": 593,
    "start_time": "2024-04-26T07:38:56.561Z"
   },
   {
    "duration": 399,
    "start_time": "2024-04-26T07:38:57.156Z"
   },
   {
    "duration": 566,
    "start_time": "2024-04-26T07:38:57.556Z"
   },
   {
    "duration": 441,
    "start_time": "2024-04-26T07:38:58.124Z"
   },
   {
    "duration": 595,
    "start_time": "2024-04-26T07:38:58.567Z"
   },
   {
    "duration": 359,
    "start_time": "2024-04-26T07:38:59.164Z"
   },
   {
    "duration": 317,
    "start_time": "2024-04-26T07:38:59.525Z"
   },
   {
    "duration": 3,
    "start_time": "2024-04-26T07:38:59.844Z"
   },
   {
    "duration": 34,
    "start_time": "2024-04-26T07:38:59.848Z"
   },
   {
    "duration": 3,
    "start_time": "2024-04-26T07:38:59.885Z"
   },
   {
    "duration": 9,
    "start_time": "2024-04-26T07:38:59.889Z"
   },
   {
    "duration": 28,
    "start_time": "2024-04-26T07:38:59.903Z"
   },
   {
    "duration": 20,
    "start_time": "2024-04-26T07:38:59.933Z"
   },
   {
    "duration": 27,
    "start_time": "2024-04-26T07:38:59.955Z"
   },
   {
    "duration": 15,
    "start_time": "2024-04-26T07:38:59.984Z"
   },
   {
    "duration": 37,
    "start_time": "2024-04-26T07:39:00.000Z"
   },
   {
    "duration": 127,
    "start_time": "2024-04-26T07:39:00.039Z"
   },
   {
    "duration": 0,
    "start_time": "2024-04-26T07:39:00.168Z"
   },
   {
    "duration": 50,
    "start_time": "2024-04-26T07:39:12.693Z"
   },
   {
    "duration": 49,
    "start_time": "2024-04-26T07:40:19.589Z"
   },
   {
    "duration": 38,
    "start_time": "2024-04-26T07:41:38.231Z"
   },
   {
    "duration": 48,
    "start_time": "2024-04-26T07:41:54.950Z"
   },
   {
    "duration": 47,
    "start_time": "2024-04-26T07:43:12.865Z"
   },
   {
    "duration": 42,
    "start_time": "2024-04-26T07:43:32.361Z"
   },
   {
    "duration": 11,
    "start_time": "2024-04-26T07:46:01.596Z"
   },
   {
    "duration": 1218,
    "start_time": "2024-04-26T08:36:29.391Z"
   },
   {
    "duration": 2,
    "start_time": "2024-04-26T08:36:30.611Z"
   },
   {
    "duration": 53,
    "start_time": "2024-04-26T08:36:30.614Z"
   },
   {
    "duration": 59,
    "start_time": "2024-04-26T08:36:30.669Z"
   },
   {
    "duration": 41,
    "start_time": "2024-04-26T08:36:30.730Z"
   },
   {
    "duration": 145,
    "start_time": "2024-04-26T08:36:30.773Z"
   },
   {
    "duration": 15,
    "start_time": "2024-04-26T08:36:30.920Z"
   },
   {
    "duration": 28,
    "start_time": "2024-04-26T08:36:30.936Z"
   },
   {
    "duration": 133,
    "start_time": "2024-04-26T08:36:30.966Z"
   },
   {
    "duration": 42,
    "start_time": "2024-04-26T08:36:31.101Z"
   },
   {
    "duration": 42,
    "start_time": "2024-04-26T08:36:31.145Z"
   },
   {
    "duration": 34,
    "start_time": "2024-04-26T08:36:31.189Z"
   },
   {
    "duration": 63,
    "start_time": "2024-04-26T08:36:31.224Z"
   },
   {
    "duration": 49,
    "start_time": "2024-04-26T08:36:31.289Z"
   },
   {
    "duration": 16,
    "start_time": "2024-04-26T08:36:31.340Z"
   },
   {
    "duration": 16,
    "start_time": "2024-04-26T08:36:31.357Z"
   },
   {
    "duration": 21,
    "start_time": "2024-04-26T08:36:31.374Z"
   },
   {
    "duration": 35,
    "start_time": "2024-04-26T08:36:31.397Z"
   },
   {
    "duration": 31,
    "start_time": "2024-04-26T08:36:31.434Z"
   },
   {
    "duration": 16,
    "start_time": "2024-04-26T08:36:31.466Z"
   },
   {
    "duration": 43,
    "start_time": "2024-04-26T08:36:31.483Z"
   },
   {
    "duration": 12,
    "start_time": "2024-04-26T08:36:31.528Z"
   },
   {
    "duration": 29,
    "start_time": "2024-04-26T08:36:31.541Z"
   },
   {
    "duration": 34,
    "start_time": "2024-04-26T08:36:31.571Z"
   },
   {
    "duration": 494,
    "start_time": "2024-04-26T08:36:31.607Z"
   },
   {
    "duration": 12,
    "start_time": "2024-04-26T08:36:32.103Z"
   },
   {
    "duration": 511,
    "start_time": "2024-04-26T08:36:32.117Z"
   },
   {
    "duration": 459,
    "start_time": "2024-04-26T08:36:32.633Z"
   },
   {
    "duration": 2400,
    "start_time": "2024-04-26T08:36:33.094Z"
   },
   {
    "duration": 652,
    "start_time": "2024-04-26T08:36:35.497Z"
   },
   {
    "duration": 392,
    "start_time": "2024-04-26T08:36:36.151Z"
   },
   {
    "duration": 659,
    "start_time": "2024-04-26T08:36:36.545Z"
   },
   {
    "duration": 444,
    "start_time": "2024-04-26T08:36:37.206Z"
   },
   {
    "duration": 551,
    "start_time": "2024-04-26T08:36:37.651Z"
   },
   {
    "duration": 332,
    "start_time": "2024-04-26T08:36:38.203Z"
   },
   {
    "duration": 345,
    "start_time": "2024-04-26T08:36:38.537Z"
   },
   {
    "duration": 3,
    "start_time": "2024-04-26T08:36:38.884Z"
   },
   {
    "duration": 19,
    "start_time": "2024-04-26T08:36:38.889Z"
   },
   {
    "duration": 6,
    "start_time": "2024-04-26T08:36:38.910Z"
   },
   {
    "duration": 4,
    "start_time": "2024-04-26T08:36:38.917Z"
   },
   {
    "duration": 24,
    "start_time": "2024-04-26T08:36:38.922Z"
   },
   {
    "duration": 18,
    "start_time": "2024-04-26T08:36:38.947Z"
   },
   {
    "duration": 5,
    "start_time": "2024-04-26T08:36:38.982Z"
   },
   {
    "duration": 14,
    "start_time": "2024-04-26T08:36:38.989Z"
   },
   {
    "duration": 11,
    "start_time": "2024-04-26T08:36:39.004Z"
   },
   {
    "duration": 10,
    "start_time": "2024-04-26T08:36:39.017Z"
   },
   {
    "duration": 10,
    "start_time": "2024-04-26T08:36:39.029Z"
   },
   {
    "duration": 14,
    "start_time": "2024-04-26T08:41:09.007Z"
   },
   {
    "duration": 103,
    "start_time": "2024-04-26T08:41:17.185Z"
   },
   {
    "duration": 453,
    "start_time": "2024-04-26T08:41:36.856Z"
   },
   {
    "duration": 455,
    "start_time": "2024-04-26T08:42:07.785Z"
   },
   {
    "duration": 444,
    "start_time": "2024-04-26T08:44:15.988Z"
   },
   {
    "duration": 490,
    "start_time": "2024-04-26T08:45:08.949Z"
   },
   {
    "duration": 18,
    "start_time": "2024-04-26T08:46:34.175Z"
   },
   {
    "duration": 700,
    "start_time": "2024-04-26T08:46:46.408Z"
   },
   {
    "duration": 564,
    "start_time": "2024-04-26T08:48:52.012Z"
   },
   {
    "duration": 597,
    "start_time": "2024-04-26T08:50:11.044Z"
   },
   {
    "duration": 22,
    "start_time": "2024-04-26T08:50:48.725Z"
   },
   {
    "duration": 13,
    "start_time": "2024-04-26T08:50:57.022Z"
   },
   {
    "duration": 1183,
    "start_time": "2024-04-26T08:51:05.619Z"
   },
   {
    "duration": 3,
    "start_time": "2024-04-26T08:51:06.804Z"
   },
   {
    "duration": 9,
    "start_time": "2024-04-26T08:51:06.808Z"
   },
   {
    "duration": 5,
    "start_time": "2024-04-26T08:51:06.819Z"
   },
   {
    "duration": 18,
    "start_time": "2024-04-26T08:51:06.826Z"
   },
   {
    "duration": 149,
    "start_time": "2024-04-26T08:51:06.846Z"
   },
   {
    "duration": 14,
    "start_time": "2024-04-26T08:51:06.997Z"
   },
   {
    "duration": 7,
    "start_time": "2024-04-26T08:51:07.013Z"
   },
   {
    "duration": 10,
    "start_time": "2024-04-26T08:51:07.022Z"
   },
   {
    "duration": 5,
    "start_time": "2024-04-26T08:51:07.034Z"
   },
   {
    "duration": 18,
    "start_time": "2024-04-26T08:51:07.040Z"
   },
   {
    "duration": 29,
    "start_time": "2024-04-26T08:51:07.059Z"
   },
   {
    "duration": 6,
    "start_time": "2024-04-26T08:51:07.090Z"
   },
   {
    "duration": 5,
    "start_time": "2024-04-26T08:51:07.099Z"
   },
   {
    "duration": 6,
    "start_time": "2024-04-26T08:51:07.105Z"
   },
   {
    "duration": 6,
    "start_time": "2024-04-26T08:51:07.113Z"
   },
   {
    "duration": 4,
    "start_time": "2024-04-26T08:51:07.121Z"
   },
   {
    "duration": 6,
    "start_time": "2024-04-26T08:51:07.127Z"
   },
   {
    "duration": 7,
    "start_time": "2024-04-26T08:51:07.134Z"
   },
   {
    "duration": 41,
    "start_time": "2024-04-26T08:51:07.143Z"
   },
   {
    "duration": 23,
    "start_time": "2024-04-26T08:51:07.186Z"
   },
   {
    "duration": 12,
    "start_time": "2024-04-26T08:51:07.211Z"
   },
   {
    "duration": 14,
    "start_time": "2024-04-26T08:51:07.224Z"
   },
   {
    "duration": 14,
    "start_time": "2024-04-26T08:51:07.239Z"
   },
   {
    "duration": 438,
    "start_time": "2024-04-26T08:51:07.281Z"
   },
   {
    "duration": 13,
    "start_time": "2024-04-26T08:51:07.720Z"
   },
   {
    "duration": 494,
    "start_time": "2024-04-26T08:51:07.735Z"
   },
   {
    "duration": 442,
    "start_time": "2024-04-26T08:51:08.230Z"
   },
   {
    "duration": 2326,
    "start_time": "2024-04-26T08:51:08.673Z"
   },
   {
    "duration": 606,
    "start_time": "2024-04-26T08:51:11.000Z"
   },
   {
    "duration": 382,
    "start_time": "2024-04-26T08:51:11.608Z"
   },
   {
    "duration": 552,
    "start_time": "2024-04-26T08:51:11.992Z"
   },
   {
    "duration": 439,
    "start_time": "2024-04-26T08:51:12.546Z"
   },
   {
    "duration": 599,
    "start_time": "2024-04-26T08:51:12.986Z"
   },
   {
    "duration": 345,
    "start_time": "2024-04-26T08:51:13.587Z"
   },
   {
    "duration": 351,
    "start_time": "2024-04-26T08:51:13.934Z"
   },
   {
    "duration": 2,
    "start_time": "2024-04-26T08:51:14.286Z"
   },
   {
    "duration": 23,
    "start_time": "2024-04-26T08:51:14.290Z"
   },
   {
    "duration": 12,
    "start_time": "2024-04-26T08:51:14.315Z"
   },
   {
    "duration": 8,
    "start_time": "2024-04-26T08:51:14.329Z"
   },
   {
    "duration": 22,
    "start_time": "2024-04-26T08:51:14.340Z"
   },
   {
    "duration": 18,
    "start_time": "2024-04-26T08:51:14.364Z"
   },
   {
    "duration": 5,
    "start_time": "2024-04-26T08:51:14.384Z"
   },
   {
    "duration": 18,
    "start_time": "2024-04-26T08:51:14.391Z"
   },
   {
    "duration": 46,
    "start_time": "2024-04-26T08:51:14.410Z"
   },
   {
    "duration": 9,
    "start_time": "2024-04-26T08:51:14.458Z"
   },
   {
    "duration": 10,
    "start_time": "2024-04-26T08:51:14.468Z"
   },
   {
    "duration": 15,
    "start_time": "2024-04-26T08:51:27.385Z"
   },
   {
    "duration": 14,
    "start_time": "2024-04-26T08:59:25.816Z"
   },
   {
    "duration": 468,
    "start_time": "2024-04-26T08:59:26.640Z"
   },
   {
    "duration": 464,
    "start_time": "2024-04-26T09:00:19.638Z"
   },
   {
    "duration": 569,
    "start_time": "2024-04-26T09:00:49.007Z"
   },
   {
    "duration": 411,
    "start_time": "2024-04-26T09:01:23.209Z"
   },
   {
    "duration": 521,
    "start_time": "2024-04-26T09:01:52.385Z"
   },
   {
    "duration": 547,
    "start_time": "2024-04-26T09:04:29.203Z"
   },
   {
    "duration": 123,
    "start_time": "2024-04-26T09:29:33.681Z"
   },
   {
    "duration": 12,
    "start_time": "2024-04-26T09:30:15.214Z"
   },
   {
    "duration": 12,
    "start_time": "2024-04-26T09:33:32.824Z"
   },
   {
    "duration": 12,
    "start_time": "2024-04-26T10:21:06.250Z"
   },
   {
    "duration": 1177,
    "start_time": "2024-04-26T10:21:38.943Z"
   },
   {
    "duration": 2,
    "start_time": "2024-04-26T10:21:40.122Z"
   },
   {
    "duration": 22,
    "start_time": "2024-04-26T10:21:40.125Z"
   },
   {
    "duration": 6,
    "start_time": "2024-04-26T10:21:40.149Z"
   },
   {
    "duration": 16,
    "start_time": "2024-04-26T10:21:40.157Z"
   },
   {
    "duration": 123,
    "start_time": "2024-04-26T10:21:40.175Z"
   },
   {
    "duration": 14,
    "start_time": "2024-04-26T10:21:40.299Z"
   },
   {
    "duration": 4,
    "start_time": "2024-04-26T10:21:40.314Z"
   },
   {
    "duration": 17,
    "start_time": "2024-04-26T10:21:40.320Z"
   },
   {
    "duration": 5,
    "start_time": "2024-04-26T10:21:40.338Z"
   },
   {
    "duration": 5,
    "start_time": "2024-04-26T10:21:40.344Z"
   },
   {
    "duration": 15,
    "start_time": "2024-04-26T10:21:40.350Z"
   },
   {
    "duration": 6,
    "start_time": "2024-04-26T10:21:40.382Z"
   },
   {
    "duration": 6,
    "start_time": "2024-04-26T10:21:40.391Z"
   },
   {
    "duration": 7,
    "start_time": "2024-04-26T10:21:40.398Z"
   },
   {
    "duration": 5,
    "start_time": "2024-04-26T10:21:40.407Z"
   },
   {
    "duration": 7,
    "start_time": "2024-04-26T10:21:40.414Z"
   },
   {
    "duration": 7,
    "start_time": "2024-04-26T10:21:40.423Z"
   },
   {
    "duration": 6,
    "start_time": "2024-04-26T10:21:40.432Z"
   },
   {
    "duration": 4,
    "start_time": "2024-04-26T10:21:40.439Z"
   },
   {
    "duration": 56,
    "start_time": "2024-04-26T10:21:40.445Z"
   },
   {
    "duration": 12,
    "start_time": "2024-04-26T10:21:40.503Z"
   },
   {
    "duration": 21,
    "start_time": "2024-04-26T10:21:40.516Z"
   },
   {
    "duration": 15,
    "start_time": "2024-04-26T10:21:40.538Z"
   },
   {
    "duration": 470,
    "start_time": "2024-04-26T10:21:40.555Z"
   },
   {
    "duration": 13,
    "start_time": "2024-04-26T10:21:41.026Z"
   },
   {
    "duration": 482,
    "start_time": "2024-04-26T10:21:41.040Z"
   },
   {
    "duration": 435,
    "start_time": "2024-04-26T10:21:41.524Z"
   },
   {
    "duration": 2388,
    "start_time": "2024-04-26T10:21:41.961Z"
   },
   {
    "duration": 585,
    "start_time": "2024-04-26T10:21:44.350Z"
   },
   {
    "duration": 403,
    "start_time": "2024-04-26T10:21:44.937Z"
   },
   {
    "duration": 566,
    "start_time": "2024-04-26T10:21:45.342Z"
   },
   {
    "duration": 437,
    "start_time": "2024-04-26T10:21:45.909Z"
   },
   {
    "duration": 566,
    "start_time": "2024-04-26T10:21:46.347Z"
   },
   {
    "duration": 320,
    "start_time": "2024-04-26T10:21:46.915Z"
   },
   {
    "duration": 306,
    "start_time": "2024-04-26T10:21:47.237Z"
   },
   {
    "duration": 2,
    "start_time": "2024-04-26T10:21:47.583Z"
   },
   {
    "duration": 403,
    "start_time": "2024-04-26T10:21:47.586Z"
   },
   {
    "duration": 2,
    "start_time": "2024-04-26T10:21:47.991Z"
   },
   {
    "duration": 19,
    "start_time": "2024-04-26T10:21:47.995Z"
   },
   {
    "duration": 4,
    "start_time": "2024-04-26T10:21:48.018Z"
   },
   {
    "duration": 9,
    "start_time": "2024-04-26T10:21:48.023Z"
   },
   {
    "duration": 26,
    "start_time": "2024-04-26T10:21:48.033Z"
   },
   {
    "duration": 22,
    "start_time": "2024-04-26T10:21:48.061Z"
   },
   {
    "duration": 5,
    "start_time": "2024-04-26T10:21:48.084Z"
   },
   {
    "duration": 14,
    "start_time": "2024-04-26T10:21:48.090Z"
   },
   {
    "duration": 17,
    "start_time": "2024-04-26T10:21:48.105Z"
   },
   {
    "duration": 12,
    "start_time": "2024-04-26T10:21:48.124Z"
   },
   {
    "duration": 10,
    "start_time": "2024-04-26T10:21:48.137Z"
   },
   {
    "duration": 40,
    "start_time": "2024-04-26T10:21:48.148Z"
   },
   {
    "duration": 12,
    "start_time": "2024-04-26T10:27:23.438Z"
   },
   {
    "duration": 31,
    "start_time": "2024-04-26T10:57:44.773Z"
   },
   {
    "duration": 19,
    "start_time": "2024-04-26T10:57:45.527Z"
   },
   {
    "duration": 5,
    "start_time": "2024-04-26T10:57:46.101Z"
   },
   {
    "duration": 13,
    "start_time": "2024-04-26T10:57:47.152Z"
   },
   {
    "duration": 13,
    "start_time": "2024-04-26T11:30:52.737Z"
   },
   {
    "duration": 11,
    "start_time": "2024-04-26T11:32:55.860Z"
   },
   {
    "duration": 15,
    "start_time": "2024-04-26T11:35:08.983Z"
   },
   {
    "duration": 11,
    "start_time": "2024-04-26T11:35:47.073Z"
   },
   {
    "duration": 52,
    "start_time": "2024-04-26T11:38:08.610Z"
   },
   {
    "duration": 10,
    "start_time": "2024-04-26T11:39:20.863Z"
   },
   {
    "duration": 9,
    "start_time": "2024-04-26T11:39:46.550Z"
   },
   {
    "duration": 53,
    "start_time": "2024-04-26T11:54:03.884Z"
   },
   {
    "duration": 41,
    "start_time": "2024-04-26T11:55:09.160Z"
   },
   {
    "duration": 10,
    "start_time": "2024-04-26T11:57:16.808Z"
   },
   {
    "duration": 7,
    "start_time": "2024-04-26T11:58:52.292Z"
   },
   {
    "duration": 45,
    "start_time": "2024-04-26T12:01:20.311Z"
   },
   {
    "duration": 9,
    "start_time": "2024-04-26T12:02:33.741Z"
   },
   {
    "duration": 9,
    "start_time": "2024-04-26T12:03:41.687Z"
   },
   {
    "duration": 136,
    "start_time": "2024-04-26T12:04:12.519Z"
   },
   {
    "duration": 8,
    "start_time": "2024-04-26T12:04:29.848Z"
   },
   {
    "duration": 14,
    "start_time": "2024-04-26T12:08:34.436Z"
   },
   {
    "duration": 14,
    "start_time": "2024-04-26T12:09:03.084Z"
   },
   {
    "duration": 24,
    "start_time": "2024-04-26T12:10:32.551Z"
   },
   {
    "duration": 21,
    "start_time": "2024-04-26T12:11:02.278Z"
   },
   {
    "duration": 12,
    "start_time": "2024-04-26T12:17:23.314Z"
   },
   {
    "duration": 14,
    "start_time": "2024-04-26T12:18:00.286Z"
   },
   {
    "duration": 13,
    "start_time": "2024-04-26T12:18:54.792Z"
   },
   {
    "duration": 12,
    "start_time": "2024-04-26T12:20:28.642Z"
   },
   {
    "duration": 14,
    "start_time": "2024-04-26T12:21:13.762Z"
   },
   {
    "duration": 13,
    "start_time": "2024-04-26T12:22:08.293Z"
   },
   {
    "duration": 13,
    "start_time": "2024-04-26T12:26:24.444Z"
   },
   {
    "duration": 13,
    "start_time": "2024-04-26T12:27:32.408Z"
   },
   {
    "duration": 14,
    "start_time": "2024-04-26T12:30:35.053Z"
   },
   {
    "duration": 14,
    "start_time": "2024-04-26T12:31:00.305Z"
   },
   {
    "duration": 14,
    "start_time": "2024-04-26T12:32:15.667Z"
   },
   {
    "duration": 14,
    "start_time": "2024-04-26T12:32:52.435Z"
   },
   {
    "duration": 12,
    "start_time": "2024-04-26T12:33:48.459Z"
   },
   {
    "duration": 13,
    "start_time": "2024-04-26T12:34:00.718Z"
   },
   {
    "duration": 44,
    "start_time": "2024-04-26T12:34:53.064Z"
   },
   {
    "duration": 30,
    "start_time": "2024-04-26T12:35:00.640Z"
   },
   {
    "duration": 13,
    "start_time": "2024-04-26T12:36:29.415Z"
   },
   {
    "duration": 12,
    "start_time": "2024-04-26T12:38:20.837Z"
   },
   {
    "duration": 15,
    "start_time": "2024-04-26T12:39:32.366Z"
   },
   {
    "duration": 13,
    "start_time": "2024-04-26T12:40:32.741Z"
   },
   {
    "duration": 15,
    "start_time": "2024-04-26T12:51:14.398Z"
   },
   {
    "duration": 17,
    "start_time": "2024-04-26T12:52:06.533Z"
   },
   {
    "duration": 15,
    "start_time": "2024-04-26T12:53:47.880Z"
   },
   {
    "duration": 45,
    "start_time": "2024-04-26T12:55:12.441Z"
   },
   {
    "duration": 14,
    "start_time": "2024-04-26T12:55:31.820Z"
   },
   {
    "duration": 45,
    "start_time": "2024-04-26T13:01:57.424Z"
   },
   {
    "duration": 50,
    "start_time": "2024-04-26T13:03:24.355Z"
   },
   {
    "duration": 41,
    "start_time": "2024-04-26T13:04:41.095Z"
   },
   {
    "duration": 83,
    "start_time": "2024-04-26T13:06:17.734Z"
   },
   {
    "duration": 45,
    "start_time": "2024-04-26T13:09:24.686Z"
   },
   {
    "duration": 39,
    "start_time": "2024-04-26T13:10:08.461Z"
   },
   {
    "duration": 15,
    "start_time": "2024-04-26T13:11:01.996Z"
   },
   {
    "duration": 15,
    "start_time": "2024-04-26T13:12:29.920Z"
   },
   {
    "duration": 14,
    "start_time": "2024-04-26T13:14:23.848Z"
   },
   {
    "duration": 22,
    "start_time": "2024-04-26T13:17:57.878Z"
   },
   {
    "duration": 1452,
    "start_time": "2024-04-26T18:01:58.303Z"
   },
   {
    "duration": 6,
    "start_time": "2024-04-26T18:01:59.758Z"
   },
   {
    "duration": 5,
    "start_time": "2024-04-26T18:01:59.770Z"
   },
   {
    "duration": 2,
    "start_time": "2024-04-26T18:01:59.786Z"
   },
   {
    "duration": 6,
    "start_time": "2024-04-26T18:01:59.790Z"
   },
   {
    "duration": 152,
    "start_time": "2024-04-26T18:01:59.798Z"
   },
   {
    "duration": 17,
    "start_time": "2024-04-26T18:01:59.952Z"
   },
   {
    "duration": 10,
    "start_time": "2024-04-26T18:01:59.974Z"
   },
   {
    "duration": 11,
    "start_time": "2024-04-26T18:01:59.986Z"
   },
   {
    "duration": 7,
    "start_time": "2024-04-26T18:02:00.000Z"
   },
   {
    "duration": 23,
    "start_time": "2024-04-26T18:02:00.009Z"
   },
   {
    "duration": 57,
    "start_time": "2024-04-26T18:02:00.034Z"
   },
   {
    "duration": 65,
    "start_time": "2024-04-26T18:02:00.092Z"
   },
   {
    "duration": 63,
    "start_time": "2024-04-26T18:02:00.159Z"
   },
   {
    "duration": 99,
    "start_time": "2024-04-26T18:02:00.223Z"
   },
   {
    "duration": 48,
    "start_time": "2024-04-26T18:02:00.324Z"
   },
   {
    "duration": 147,
    "start_time": "2024-04-26T18:02:00.374Z"
   },
   {
    "duration": 90,
    "start_time": "2024-04-26T18:02:00.523Z"
   },
   {
    "duration": 71,
    "start_time": "2024-04-26T18:02:00.615Z"
   },
   {
    "duration": 44,
    "start_time": "2024-04-26T18:02:00.688Z"
   },
   {
    "duration": 98,
    "start_time": "2024-04-26T18:02:00.734Z"
   },
   {
    "duration": 59,
    "start_time": "2024-04-26T18:02:00.834Z"
   },
   {
    "duration": 48,
    "start_time": "2024-04-26T18:02:00.895Z"
   },
   {
    "duration": 88,
    "start_time": "2024-04-26T18:02:00.945Z"
   },
   {
    "duration": 615,
    "start_time": "2024-04-26T18:02:01.035Z"
   },
   {
    "duration": 32,
    "start_time": "2024-04-26T18:02:01.652Z"
   },
   {
    "duration": 554,
    "start_time": "2024-04-26T18:02:01.687Z"
   },
   {
    "duration": 506,
    "start_time": "2024-04-26T18:02:02.246Z"
   },
   {
    "duration": 2615,
    "start_time": "2024-04-26T18:02:02.754Z"
   },
   {
    "duration": 642,
    "start_time": "2024-04-26T18:02:05.370Z"
   },
   {
    "duration": 426,
    "start_time": "2024-04-26T18:02:06.014Z"
   },
   {
    "duration": 580,
    "start_time": "2024-04-26T18:02:06.441Z"
   },
   {
    "duration": 513,
    "start_time": "2024-04-26T18:02:07.023Z"
   },
   {
    "duration": 659,
    "start_time": "2024-04-26T18:02:07.538Z"
   },
   {
    "duration": 419,
    "start_time": "2024-04-26T18:02:08.199Z"
   },
   {
    "duration": 383,
    "start_time": "2024-04-26T18:02:08.620Z"
   },
   {
    "duration": 3,
    "start_time": "2024-04-26T18:02:09.005Z"
   },
   {
    "duration": 485,
    "start_time": "2024-04-26T18:02:09.011Z"
   },
   {
    "duration": 7,
    "start_time": "2024-04-26T18:02:09.504Z"
   },
   {
    "duration": 3,
    "start_time": "2024-04-26T18:02:09.515Z"
   },
   {
    "duration": 5,
    "start_time": "2024-04-26T18:02:09.520Z"
   },
   {
    "duration": 5,
    "start_time": "2024-04-26T18:02:09.526Z"
   },
   {
    "duration": 46,
    "start_time": "2024-04-26T18:02:09.532Z"
   },
   {
    "duration": 34,
    "start_time": "2024-04-26T18:02:09.580Z"
   },
   {
    "duration": 7,
    "start_time": "2024-04-26T18:02:09.616Z"
   },
   {
    "duration": 53,
    "start_time": "2024-04-26T18:02:09.626Z"
   },
   {
    "duration": 19,
    "start_time": "2024-04-26T18:02:09.681Z"
   },
   {
    "duration": 16,
    "start_time": "2024-04-26T18:02:09.702Z"
   },
   {
    "duration": 14,
    "start_time": "2024-04-26T18:02:09.719Z"
   },
   {
    "duration": 30,
    "start_time": "2024-04-26T18:02:09.735Z"
   },
   {
    "duration": 18,
    "start_time": "2024-04-26T18:02:09.767Z"
   },
   {
    "duration": 18,
    "start_time": "2024-04-26T18:02:09.787Z"
   },
   {
    "duration": 16,
    "start_time": "2024-04-26T18:02:09.808Z"
   },
   {
    "duration": 98,
    "start_time": "2024-04-26T18:10:18.066Z"
   },
   {
    "duration": 43,
    "start_time": "2024-04-26T18:11:06.675Z"
   },
   {
    "duration": 24,
    "start_time": "2024-04-26T18:11:46.498Z"
   },
   {
    "duration": 6,
    "start_time": "2024-04-26T18:12:26.325Z"
   },
   {
    "duration": 48,
    "start_time": "2024-04-26T18:13:13.214Z"
   },
   {
    "duration": 6,
    "start_time": "2024-04-26T18:13:36.271Z"
   },
   {
    "duration": 6,
    "start_time": "2024-04-26T18:16:49.746Z"
   },
   {
    "duration": 5,
    "start_time": "2024-04-26T18:17:40.435Z"
   },
   {
    "duration": 38,
    "start_time": "2024-04-26T18:18:18.580Z"
   },
   {
    "duration": 15,
    "start_time": "2024-04-26T18:20:45.304Z"
   },
   {
    "duration": 826,
    "start_time": "2024-04-26T18:21:10.144Z"
   },
   {
    "duration": 36,
    "start_time": "2024-04-26T18:22:30.465Z"
   },
   {
    "duration": 14,
    "start_time": "2024-04-26T18:23:23.986Z"
   },
   {
    "duration": 421,
    "start_time": "2024-04-26T18:24:13.715Z"
   },
   {
    "duration": 421,
    "start_time": "2024-04-26T18:27:23.320Z"
   },
   {
    "duration": 17,
    "start_time": "2024-04-26T18:29:56.074Z"
   },
   {
    "duration": 17,
    "start_time": "2024-04-26T18:30:13.832Z"
   },
   {
    "duration": 2364,
    "start_time": "2024-04-26T18:30:25.002Z"
   },
   {
    "duration": 4,
    "start_time": "2024-04-26T18:38:07.787Z"
   },
   {
    "duration": 5,
    "start_time": "2024-04-26T18:38:37.029Z"
   },
   {
    "duration": 4,
    "start_time": "2024-04-26T18:39:00.821Z"
   },
   {
    "duration": 15,
    "start_time": "2024-04-26T18:54:53.787Z"
   },
   {
    "duration": 10,
    "start_time": "2024-04-26T19:13:25.659Z"
   },
   {
    "duration": 8,
    "start_time": "2024-04-26T19:16:17.033Z"
   },
   {
    "duration": 10,
    "start_time": "2024-04-26T19:17:39.007Z"
   },
   {
    "duration": 1136,
    "start_time": "2024-04-26T19:58:55.854Z"
   },
   {
    "duration": 2,
    "start_time": "2024-04-26T19:58:56.992Z"
   },
   {
    "duration": 10,
    "start_time": "2024-04-26T19:58:56.996Z"
   },
   {
    "duration": 9,
    "start_time": "2024-04-26T19:58:57.008Z"
   },
   {
    "duration": 4,
    "start_time": "2024-04-26T19:58:57.019Z"
   },
   {
    "duration": 129,
    "start_time": "2024-04-26T19:58:57.024Z"
   },
   {
    "duration": 15,
    "start_time": "2024-04-26T19:58:57.155Z"
   },
   {
    "duration": 3,
    "start_time": "2024-04-26T19:58:57.172Z"
   },
   {
    "duration": 6,
    "start_time": "2024-04-26T19:58:57.177Z"
   },
   {
    "duration": 19,
    "start_time": "2024-04-26T19:58:57.186Z"
   },
   {
    "duration": 8,
    "start_time": "2024-04-26T19:58:57.207Z"
   },
   {
    "duration": 15,
    "start_time": "2024-04-26T19:58:57.216Z"
   },
   {
    "duration": 5,
    "start_time": "2024-04-26T19:58:57.232Z"
   },
   {
    "duration": 25,
    "start_time": "2024-04-26T19:58:57.238Z"
   },
   {
    "duration": 7,
    "start_time": "2024-04-26T19:58:57.265Z"
   },
   {
    "duration": 7,
    "start_time": "2024-04-26T19:58:57.273Z"
   },
   {
    "duration": 8,
    "start_time": "2024-04-26T19:58:57.281Z"
   },
   {
    "duration": 6,
    "start_time": "2024-04-26T19:58:57.290Z"
   },
   {
    "duration": 6,
    "start_time": "2024-04-26T19:58:57.297Z"
   },
   {
    "duration": 4,
    "start_time": "2024-04-26T19:58:57.305Z"
   },
   {
    "duration": 51,
    "start_time": "2024-04-26T19:58:57.311Z"
   },
   {
    "duration": 13,
    "start_time": "2024-04-26T19:58:57.363Z"
   },
   {
    "duration": 14,
    "start_time": "2024-04-26T19:58:57.377Z"
   },
   {
    "duration": 15,
    "start_time": "2024-04-26T19:58:57.392Z"
   },
   {
    "duration": 514,
    "start_time": "2024-04-26T19:58:57.409Z"
   },
   {
    "duration": 13,
    "start_time": "2024-04-26T19:58:57.924Z"
   },
   {
    "duration": 459,
    "start_time": "2024-04-26T19:58:57.939Z"
   },
   {
    "duration": 418,
    "start_time": "2024-04-26T19:58:58.402Z"
   },
   {
    "duration": 2235,
    "start_time": "2024-04-26T19:58:58.822Z"
   },
   {
    "duration": 565,
    "start_time": "2024-04-26T19:59:01.058Z"
   },
   {
    "duration": 5,
    "start_time": "2024-04-26T19:59:01.624Z"
   },
   {
    "duration": 393,
    "start_time": "2024-04-26T19:59:01.630Z"
   },
   {
    "duration": 565,
    "start_time": "2024-04-26T19:59:02.025Z"
   },
   {
    "duration": 430,
    "start_time": "2024-04-26T19:59:02.591Z"
   },
   {
    "duration": 555,
    "start_time": "2024-04-26T19:59:03.023Z"
   },
   {
    "duration": 349,
    "start_time": "2024-04-26T19:59:03.580Z"
   },
   {
    "duration": 359,
    "start_time": "2024-04-26T19:59:03.930Z"
   },
   {
    "duration": 2,
    "start_time": "2024-04-26T19:59:04.291Z"
   },
   {
    "duration": 368,
    "start_time": "2024-04-26T19:59:04.295Z"
   },
   {
    "duration": 2,
    "start_time": "2024-04-26T19:59:04.665Z"
   },
   {
    "duration": 4,
    "start_time": "2024-04-26T19:59:04.668Z"
   },
   {
    "duration": 8,
    "start_time": "2024-04-26T19:59:04.673Z"
   },
   {
    "duration": 4,
    "start_time": "2024-04-26T19:59:04.683Z"
   },
   {
    "duration": 21,
    "start_time": "2024-04-26T19:59:04.688Z"
   },
   {
    "duration": 19,
    "start_time": "2024-04-26T19:59:04.711Z"
   },
   {
    "duration": 33,
    "start_time": "2024-04-26T19:59:04.731Z"
   },
   {
    "duration": 13,
    "start_time": "2024-04-26T19:59:04.765Z"
   },
   {
    "duration": 16,
    "start_time": "2024-04-26T19:59:04.779Z"
   },
   {
    "duration": 11,
    "start_time": "2024-04-26T19:59:04.797Z"
   },
   {
    "duration": 10,
    "start_time": "2024-04-26T19:59:04.810Z"
   },
   {
    "duration": 12,
    "start_time": "2024-04-26T19:59:04.821Z"
   },
   {
    "duration": 37,
    "start_time": "2024-04-26T19:59:04.834Z"
   },
   {
    "duration": 11,
    "start_time": "2024-04-26T19:59:04.872Z"
   },
   {
    "duration": 13,
    "start_time": "2024-04-26T19:59:04.885Z"
   },
   {
    "duration": 8,
    "start_time": "2024-04-26T19:59:04.899Z"
   },
   {
    "duration": 7,
    "start_time": "2024-04-26T19:59:04.908Z"
   },
   {
    "duration": 1346,
    "start_time": "2024-04-27T04:57:41.746Z"
   },
   {
    "duration": 3,
    "start_time": "2024-04-27T04:57:43.095Z"
   },
   {
    "duration": 7,
    "start_time": "2024-04-27T04:57:43.099Z"
   },
   {
    "duration": 4,
    "start_time": "2024-04-27T04:57:43.108Z"
   },
   {
    "duration": 6,
    "start_time": "2024-04-27T04:57:43.114Z"
   },
   {
    "duration": 91,
    "start_time": "2024-04-27T04:57:43.122Z"
   },
   {
    "duration": 13,
    "start_time": "2024-04-27T04:57:43.215Z"
   },
   {
    "duration": 3,
    "start_time": "2024-04-27T04:57:43.230Z"
   },
   {
    "duration": 10,
    "start_time": "2024-04-27T04:57:43.234Z"
   },
   {
    "duration": 4,
    "start_time": "2024-04-27T04:57:43.245Z"
   },
   {
    "duration": 6,
    "start_time": "2024-04-27T04:57:43.251Z"
   },
   {
    "duration": 20,
    "start_time": "2024-04-27T04:57:43.260Z"
   },
   {
    "duration": 8,
    "start_time": "2024-04-27T04:57:43.282Z"
   },
   {
    "duration": 5,
    "start_time": "2024-04-27T04:57:43.293Z"
   },
   {
    "duration": 9,
    "start_time": "2024-04-27T04:57:43.299Z"
   },
   {
    "duration": 7,
    "start_time": "2024-04-27T04:57:43.310Z"
   },
   {
    "duration": 6,
    "start_time": "2024-04-27T04:57:43.319Z"
   },
   {
    "duration": 34,
    "start_time": "2024-04-27T04:57:43.327Z"
   },
   {
    "duration": 6,
    "start_time": "2024-04-27T04:57:43.363Z"
   },
   {
    "duration": 21,
    "start_time": "2024-04-27T04:57:43.370Z"
   },
   {
    "duration": 35,
    "start_time": "2024-04-27T04:57:43.392Z"
   },
   {
    "duration": 11,
    "start_time": "2024-04-27T04:57:43.429Z"
   },
   {
    "duration": 22,
    "start_time": "2024-04-27T04:57:43.442Z"
   },
   {
    "duration": 18,
    "start_time": "2024-04-27T04:57:43.466Z"
   },
   {
    "duration": 420,
    "start_time": "2024-04-27T04:57:43.485Z"
   },
   {
    "duration": 14,
    "start_time": "2024-04-27T04:57:43.907Z"
   },
   {
    "duration": 448,
    "start_time": "2024-04-27T04:57:43.922Z"
   },
   {
    "duration": 434,
    "start_time": "2024-04-27T04:57:44.373Z"
   },
   {
    "duration": 2326,
    "start_time": "2024-04-27T04:57:44.809Z"
   },
   {
    "duration": 586,
    "start_time": "2024-04-27T04:57:47.137Z"
   },
   {
    "duration": 5,
    "start_time": "2024-04-27T04:57:47.726Z"
   },
   {
    "duration": 596,
    "start_time": "2024-04-27T04:57:47.733Z"
   },
   {
    "duration": 358,
    "start_time": "2024-04-27T04:57:48.331Z"
   },
   {
    "duration": 430,
    "start_time": "2024-04-27T04:57:48.691Z"
   },
   {
    "duration": 565,
    "start_time": "2024-04-27T04:57:49.123Z"
   },
   {
    "duration": 326,
    "start_time": "2024-04-27T04:57:49.690Z"
   },
   {
    "duration": 345,
    "start_time": "2024-04-27T04:57:50.018Z"
   },
   {
    "duration": 2,
    "start_time": "2024-04-27T04:57:50.365Z"
   },
   {
    "duration": 396,
    "start_time": "2024-04-27T04:57:50.369Z"
   },
   {
    "duration": 2,
    "start_time": "2024-04-27T04:57:50.767Z"
   },
   {
    "duration": 2,
    "start_time": "2024-04-27T04:57:50.773Z"
   },
   {
    "duration": 5,
    "start_time": "2024-04-27T04:57:50.777Z"
   },
   {
    "duration": 4,
    "start_time": "2024-04-27T04:57:50.783Z"
   },
   {
    "duration": 28,
    "start_time": "2024-04-27T04:57:50.789Z"
   },
   {
    "duration": 18,
    "start_time": "2024-04-27T04:57:50.818Z"
   },
   {
    "duration": 26,
    "start_time": "2024-04-27T04:57:50.838Z"
   },
   {
    "duration": 14,
    "start_time": "2024-04-27T04:57:50.865Z"
   },
   {
    "duration": 17,
    "start_time": "2024-04-27T04:57:50.881Z"
   },
   {
    "duration": 12,
    "start_time": "2024-04-27T04:57:50.900Z"
   },
   {
    "duration": 18,
    "start_time": "2024-04-27T04:57:50.914Z"
   },
   {
    "duration": 35,
    "start_time": "2024-04-27T04:57:50.933Z"
   },
   {
    "duration": 13,
    "start_time": "2024-04-27T04:57:50.969Z"
   },
   {
    "duration": 23,
    "start_time": "2024-04-27T04:57:50.983Z"
   },
   {
    "duration": 13,
    "start_time": "2024-04-27T04:57:51.007Z"
   },
   {
    "duration": 42,
    "start_time": "2024-04-27T04:57:51.022Z"
   },
   {
    "duration": 11,
    "start_time": "2024-04-27T04:57:51.065Z"
   },
   {
    "duration": 13,
    "start_time": "2024-04-27T05:00:12.901Z"
   },
   {
    "duration": 14,
    "start_time": "2024-04-27T05:05:51.907Z"
   },
   {
    "duration": 14,
    "start_time": "2024-04-27T05:09:21.893Z"
   },
   {
    "duration": 17,
    "start_time": "2024-04-27T05:12:39.898Z"
   },
   {
    "duration": 16,
    "start_time": "2024-04-27T05:46:52.130Z"
   },
   {
    "duration": 15,
    "start_time": "2024-04-27T05:47:23.332Z"
   },
   {
    "duration": 13,
    "start_time": "2024-04-27T05:50:13.182Z"
   },
   {
    "duration": 12,
    "start_time": "2024-04-27T05:51:13.016Z"
   },
   {
    "duration": 13,
    "start_time": "2024-04-27T05:51:46.960Z"
   },
   {
    "duration": 14,
    "start_time": "2024-04-27T05:54:46.676Z"
   },
   {
    "duration": 18,
    "start_time": "2024-04-27T05:55:48.829Z"
   },
   {
    "duration": 13,
    "start_time": "2024-04-27T06:14:05.988Z"
   },
   {
    "duration": 11,
    "start_time": "2024-04-27T06:14:07.787Z"
   },
   {
    "duration": 13,
    "start_time": "2024-04-27T06:14:12.275Z"
   },
   {
    "duration": 84,
    "start_time": "2024-04-27T06:27:14.107Z"
   },
   {
    "duration": 55,
    "start_time": "2024-04-27T06:27:49.092Z"
   },
   {
    "duration": 1180,
    "start_time": "2024-04-27T08:35:56.504Z"
   },
   {
    "duration": 3,
    "start_time": "2024-04-27T08:35:57.686Z"
   },
   {
    "duration": 28,
    "start_time": "2024-04-27T08:35:57.690Z"
   },
   {
    "duration": 14,
    "start_time": "2024-04-27T08:35:57.720Z"
   },
   {
    "duration": 30,
    "start_time": "2024-04-27T08:35:57.735Z"
   },
   {
    "duration": 14869,
    "start_time": "2024-04-27T08:35:57.767Z"
   },
   {
    "duration": 15,
    "start_time": "2024-04-27T08:36:12.638Z"
   },
   {
    "duration": 7,
    "start_time": "2024-04-27T08:36:12.655Z"
   },
   {
    "duration": 10,
    "start_time": "2024-04-27T08:36:12.664Z"
   },
   {
    "duration": 9,
    "start_time": "2024-04-27T08:36:12.678Z"
   },
   {
    "duration": 10,
    "start_time": "2024-04-27T08:36:12.690Z"
   },
   {
    "duration": 19,
    "start_time": "2024-04-27T08:36:12.701Z"
   },
   {
    "duration": 5,
    "start_time": "2024-04-27T08:36:12.722Z"
   },
   {
    "duration": 10,
    "start_time": "2024-04-27T08:36:12.729Z"
   },
   {
    "duration": 21,
    "start_time": "2024-04-27T08:36:12.740Z"
   },
   {
    "duration": 10,
    "start_time": "2024-04-27T08:36:12.763Z"
   },
   {
    "duration": 13,
    "start_time": "2024-04-27T08:36:12.775Z"
   },
   {
    "duration": 8,
    "start_time": "2024-04-27T08:36:12.791Z"
   },
   {
    "duration": 14,
    "start_time": "2024-04-27T08:36:12.801Z"
   },
   {
    "duration": 4,
    "start_time": "2024-04-27T08:36:12.817Z"
   },
   {
    "duration": 46,
    "start_time": "2024-04-27T08:36:12.823Z"
   },
   {
    "duration": 13,
    "start_time": "2024-04-27T08:36:12.871Z"
   },
   {
    "duration": 26,
    "start_time": "2024-04-27T08:36:12.885Z"
   },
   {
    "duration": 16,
    "start_time": "2024-04-27T08:36:12.913Z"
   },
   {
    "duration": 437,
    "start_time": "2024-04-27T08:36:12.931Z"
   },
   {
    "duration": 13,
    "start_time": "2024-04-27T08:36:13.369Z"
   },
   {
    "duration": 442,
    "start_time": "2024-04-27T08:36:13.384Z"
   },
   {
    "duration": 427,
    "start_time": "2024-04-27T08:36:13.831Z"
   },
   {
    "duration": 2308,
    "start_time": "2024-04-27T08:36:14.259Z"
   },
   {
    "duration": 605,
    "start_time": "2024-04-27T08:36:16.568Z"
   },
   {
    "duration": 4,
    "start_time": "2024-04-27T08:36:17.176Z"
   },
   {
    "duration": 344,
    "start_time": "2024-04-27T08:36:17.182Z"
   },
   {
    "duration": 570,
    "start_time": "2024-04-27T08:36:17.529Z"
   },
   {
    "duration": 418,
    "start_time": "2024-04-27T08:36:18.101Z"
   },
   {
    "duration": 575,
    "start_time": "2024-04-27T08:36:18.520Z"
   },
   {
    "duration": 318,
    "start_time": "2024-04-27T08:36:19.097Z"
   },
   {
    "duration": 298,
    "start_time": "2024-04-27T08:36:19.417Z"
   },
   {
    "duration": 3,
    "start_time": "2024-04-27T08:36:19.717Z"
   },
   {
    "duration": 435,
    "start_time": "2024-04-27T08:36:19.721Z"
   },
   {
    "duration": 20,
    "start_time": "2024-04-27T08:36:20.161Z"
   },
   {
    "duration": 26,
    "start_time": "2024-04-27T08:36:20.183Z"
   },
   {
    "duration": 5,
    "start_time": "2024-04-27T08:36:20.210Z"
   },
   {
    "duration": 21,
    "start_time": "2024-04-27T08:36:20.217Z"
   },
   {
    "duration": 26,
    "start_time": "2024-04-27T08:36:20.240Z"
   },
   {
    "duration": 24,
    "start_time": "2024-04-27T08:36:20.267Z"
   },
   {
    "duration": 14,
    "start_time": "2024-04-27T08:36:20.292Z"
   },
   {
    "duration": 25,
    "start_time": "2024-04-27T08:36:20.308Z"
   },
   {
    "duration": 25,
    "start_time": "2024-04-27T08:36:20.335Z"
   },
   {
    "duration": 45,
    "start_time": "2024-04-27T08:36:20.361Z"
   },
   {
    "duration": 1206,
    "start_time": "2024-04-27T08:53:11.586Z"
   },
   {
    "duration": 3,
    "start_time": "2024-04-27T08:53:12.794Z"
   },
   {
    "duration": 37,
    "start_time": "2024-04-27T08:53:12.799Z"
   },
   {
    "duration": 106,
    "start_time": "2024-04-27T08:53:12.839Z"
   },
   {
    "duration": 16,
    "start_time": "2024-04-27T08:53:12.947Z"
   },
   {
    "duration": 20,
    "start_time": "2024-04-27T08:53:12.964Z"
   },
   {
    "duration": 30,
    "start_time": "2024-04-27T08:53:12.985Z"
   },
   {
    "duration": 43,
    "start_time": "2024-04-27T08:53:13.017Z"
   },
   {
    "duration": 25,
    "start_time": "2024-04-27T08:53:13.061Z"
   },
   {
    "duration": 48,
    "start_time": "2024-04-27T08:53:13.089Z"
   },
   {
    "duration": 5,
    "start_time": "2024-04-27T08:53:13.139Z"
   },
   {
    "duration": 24,
    "start_time": "2024-04-27T08:53:13.146Z"
   },
   {
    "duration": 33,
    "start_time": "2024-04-27T08:53:13.171Z"
   },
   {
    "duration": 21,
    "start_time": "2024-04-27T08:53:13.206Z"
   },
   {
    "duration": 27,
    "start_time": "2024-04-27T08:53:13.229Z"
   },
   {
    "duration": 39,
    "start_time": "2024-04-27T08:53:13.258Z"
   },
   {
    "duration": 28,
    "start_time": "2024-04-27T08:53:13.299Z"
   },
   {
    "duration": 16,
    "start_time": "2024-04-27T08:53:13.329Z"
   },
   {
    "duration": 67,
    "start_time": "2024-04-27T08:53:13.347Z"
   },
   {
    "duration": 13,
    "start_time": "2024-04-27T08:53:13.416Z"
   },
   {
    "duration": 22,
    "start_time": "2024-04-27T08:53:13.431Z"
   },
   {
    "duration": 36,
    "start_time": "2024-04-27T08:53:13.454Z"
   },
   {
    "duration": 442,
    "start_time": "2024-04-27T08:53:13.491Z"
   },
   {
    "duration": 12,
    "start_time": "2024-04-27T08:53:13.934Z"
   },
   {
    "duration": 488,
    "start_time": "2024-04-27T08:53:13.948Z"
   },
   {
    "duration": 451,
    "start_time": "2024-04-27T08:53:14.438Z"
   },
   {
    "duration": 2357,
    "start_time": "2024-04-27T08:53:14.891Z"
   },
   {
    "duration": 599,
    "start_time": "2024-04-27T08:53:17.251Z"
   },
   {
    "duration": 4,
    "start_time": "2024-04-27T08:53:17.851Z"
   },
   {
    "duration": 374,
    "start_time": "2024-04-27T08:53:17.860Z"
   },
   {
    "duration": 566,
    "start_time": "2024-04-27T08:53:18.235Z"
   },
   {
    "duration": 422,
    "start_time": "2024-04-27T08:53:18.802Z"
   },
   {
    "duration": 551,
    "start_time": "2024-04-27T08:53:19.226Z"
   },
   {
    "duration": 327,
    "start_time": "2024-04-27T08:53:19.779Z"
   },
   {
    "duration": 311,
    "start_time": "2024-04-27T08:53:20.108Z"
   },
   {
    "duration": 2,
    "start_time": "2024-04-27T08:53:20.421Z"
   },
   {
    "duration": 442,
    "start_time": "2024-04-27T08:53:20.425Z"
   },
   {
    "duration": 21,
    "start_time": "2024-04-27T08:53:20.869Z"
   },
   {
    "duration": 19,
    "start_time": "2024-04-27T08:53:20.891Z"
   },
   {
    "duration": 4,
    "start_time": "2024-04-27T08:53:20.912Z"
   },
   {
    "duration": 28,
    "start_time": "2024-04-27T08:53:20.918Z"
   },
   {
    "duration": 11,
    "start_time": "2024-04-27T08:53:20.961Z"
   },
   {
    "duration": 33,
    "start_time": "2024-04-27T08:53:20.973Z"
   },
   {
    "duration": 11,
    "start_time": "2024-04-27T08:53:21.007Z"
   },
   {
    "duration": 13,
    "start_time": "2024-04-27T08:53:21.019Z"
   },
   {
    "duration": 28,
    "start_time": "2024-04-27T08:53:21.033Z"
   },
   {
    "duration": 14,
    "start_time": "2024-04-27T08:53:21.063Z"
   },
   {
    "duration": 1195,
    "start_time": "2024-04-28T08:12:52.725Z"
   },
   {
    "duration": 3,
    "start_time": "2024-04-28T08:12:53.922Z"
   },
   {
    "duration": 50,
    "start_time": "2024-04-28T08:12:53.927Z"
   },
   {
    "duration": 188,
    "start_time": "2024-04-28T08:12:53.980Z"
   },
   {
    "duration": 16,
    "start_time": "2024-04-28T08:12:54.170Z"
   },
   {
    "duration": 45,
    "start_time": "2024-04-28T08:12:54.188Z"
   },
   {
    "duration": 44,
    "start_time": "2024-04-28T08:12:54.235Z"
   },
   {
    "duration": 28,
    "start_time": "2024-04-28T08:12:54.280Z"
   },
   {
    "duration": 20,
    "start_time": "2024-04-28T08:12:54.310Z"
   },
   {
    "duration": 39,
    "start_time": "2024-04-28T08:12:54.333Z"
   },
   {
    "duration": 12,
    "start_time": "2024-04-28T08:12:54.374Z"
   },
   {
    "duration": 42,
    "start_time": "2024-04-28T08:12:54.388Z"
   },
   {
    "duration": 14,
    "start_time": "2024-04-28T08:12:54.432Z"
   },
   {
    "duration": 15,
    "start_time": "2024-04-28T08:12:54.448Z"
   },
   {
    "duration": 21,
    "start_time": "2024-04-28T08:12:54.464Z"
   },
   {
    "duration": 41,
    "start_time": "2024-04-28T08:12:54.487Z"
   },
   {
    "duration": 36,
    "start_time": "2024-04-28T08:12:54.530Z"
   },
   {
    "duration": 40,
    "start_time": "2024-04-28T08:12:54.571Z"
   },
   {
    "duration": 88,
    "start_time": "2024-04-28T08:12:54.612Z"
   },
   {
    "duration": 18,
    "start_time": "2024-04-28T08:12:54.702Z"
   },
   {
    "duration": 69,
    "start_time": "2024-04-28T08:12:54.721Z"
   },
   {
    "duration": 35,
    "start_time": "2024-04-28T08:12:54.791Z"
   },
   {
    "duration": 477,
    "start_time": "2024-04-28T08:12:54.827Z"
   },
   {
    "duration": 13,
    "start_time": "2024-04-28T08:12:55.306Z"
   },
   {
    "duration": 595,
    "start_time": "2024-04-28T08:12:55.321Z"
   },
   {
    "duration": 499,
    "start_time": "2024-04-28T08:12:55.918Z"
   },
   {
    "duration": 2490,
    "start_time": "2024-04-28T08:12:56.418Z"
   },
   {
    "duration": 661,
    "start_time": "2024-04-28T08:12:58.912Z"
   },
   {
    "duration": 7,
    "start_time": "2024-04-28T08:12:59.575Z"
   },
   {
    "duration": 378,
    "start_time": "2024-04-28T08:12:59.584Z"
   },
   {
    "duration": 562,
    "start_time": "2024-04-28T08:12:59.964Z"
   },
   {
    "duration": 468,
    "start_time": "2024-04-28T08:13:00.529Z"
   },
   {
    "duration": 613,
    "start_time": "2024-04-28T08:13:00.999Z"
   },
   {
    "duration": 359,
    "start_time": "2024-04-28T08:13:01.613Z"
   },
   {
    "duration": 548,
    "start_time": "2024-04-28T08:13:01.975Z"
   },
   {
    "duration": 4,
    "start_time": "2024-04-28T08:13:02.525Z"
   },
   {
    "duration": 592,
    "start_time": "2024-04-28T08:13:02.531Z"
   },
   {
    "duration": 24,
    "start_time": "2024-04-28T08:13:03.124Z"
   },
   {
    "duration": 41,
    "start_time": "2024-04-28T08:13:03.150Z"
   },
   {
    "duration": 25,
    "start_time": "2024-04-28T08:13:03.194Z"
   },
   {
    "duration": 37,
    "start_time": "2024-04-28T08:13:03.221Z"
   },
   {
    "duration": 17,
    "start_time": "2024-04-28T08:13:03.259Z"
   },
   {
    "duration": 10,
    "start_time": "2024-04-28T08:13:03.278Z"
   },
   {
    "duration": 23,
    "start_time": "2024-04-28T08:13:03.290Z"
   },
   {
    "duration": 15,
    "start_time": "2024-04-28T08:13:03.315Z"
   },
   {
    "duration": 31,
    "start_time": "2024-04-28T08:13:03.332Z"
   },
   {
    "duration": 66,
    "start_time": "2024-04-28T08:13:03.366Z"
   },
   {
    "duration": 1425,
    "start_time": "2024-04-28T14:26:23.603Z"
   },
   {
    "duration": 3,
    "start_time": "2024-04-28T14:26:25.029Z"
   },
   {
    "duration": 29,
    "start_time": "2024-04-28T14:26:25.034Z"
   },
   {
    "duration": 126,
    "start_time": "2024-04-28T14:26:25.064Z"
   },
   {
    "duration": 14,
    "start_time": "2024-04-28T14:26:25.192Z"
   },
   {
    "duration": 29,
    "start_time": "2024-04-28T14:26:25.208Z"
   },
   {
    "duration": 17,
    "start_time": "2024-04-28T14:26:25.239Z"
   },
   {
    "duration": 14,
    "start_time": "2024-04-28T14:26:25.258Z"
   },
   {
    "duration": 20,
    "start_time": "2024-04-28T14:26:25.273Z"
   },
   {
    "duration": 16,
    "start_time": "2024-04-28T14:26:25.295Z"
   },
   {
    "duration": 6,
    "start_time": "2024-04-28T14:26:25.313Z"
   },
   {
    "duration": 13,
    "start_time": "2024-04-28T14:26:25.320Z"
   },
   {
    "duration": 19,
    "start_time": "2024-04-28T14:26:25.334Z"
   },
   {
    "duration": 18,
    "start_time": "2024-04-28T14:26:25.356Z"
   },
   {
    "duration": 20,
    "start_time": "2024-04-28T14:26:25.375Z"
   },
   {
    "duration": 57,
    "start_time": "2024-04-28T14:26:25.397Z"
   },
   {
    "duration": 60,
    "start_time": "2024-04-28T14:26:25.456Z"
   },
   {
    "duration": 15,
    "start_time": "2024-04-28T14:26:25.518Z"
   },
   {
    "duration": 37,
    "start_time": "2024-04-28T14:26:25.535Z"
   },
   {
    "duration": 12,
    "start_time": "2024-04-28T14:26:25.574Z"
   },
   {
    "duration": 35,
    "start_time": "2024-04-28T14:26:25.587Z"
   },
   {
    "duration": 42,
    "start_time": "2024-04-28T14:26:25.624Z"
   },
   {
    "duration": 476,
    "start_time": "2024-04-28T14:26:25.668Z"
   },
   {
    "duration": 13,
    "start_time": "2024-04-28T14:26:26.145Z"
   },
   {
    "duration": 461,
    "start_time": "2024-04-28T14:26:26.160Z"
   },
   {
    "duration": 432,
    "start_time": "2024-04-28T14:26:26.623Z"
   },
   {
    "duration": 2349,
    "start_time": "2024-04-28T14:26:27.057Z"
   },
   {
    "duration": 619,
    "start_time": "2024-04-28T14:26:29.408Z"
   },
   {
    "duration": 5,
    "start_time": "2024-04-28T14:26:30.029Z"
   },
   {
    "duration": 404,
    "start_time": "2024-04-28T14:26:30.036Z"
   },
   {
    "duration": 493,
    "start_time": "2024-04-28T14:26:30.442Z"
   },
   {
    "duration": 434,
    "start_time": "2024-04-28T14:26:30.937Z"
   },
   {
    "duration": 627,
    "start_time": "2024-04-28T14:26:31.373Z"
   },
   {
    "duration": 335,
    "start_time": "2024-04-28T14:26:32.002Z"
   },
   {
    "duration": 702,
    "start_time": "2024-04-28T14:26:32.338Z"
   },
   {
    "duration": 3,
    "start_time": "2024-04-28T14:26:33.041Z"
   },
   {
    "duration": 440,
    "start_time": "2024-04-28T14:26:33.045Z"
   },
   {
    "duration": 21,
    "start_time": "2024-04-28T14:26:33.491Z"
   },
   {
    "duration": 61,
    "start_time": "2024-04-28T14:26:33.513Z"
   },
   {
    "duration": 50,
    "start_time": "2024-04-28T14:26:33.576Z"
   },
   {
    "duration": 17,
    "start_time": "2024-04-28T14:26:33.630Z"
   },
   {
    "duration": 28,
    "start_time": "2024-04-28T14:26:33.648Z"
   },
   {
    "duration": 27,
    "start_time": "2024-04-28T14:26:33.678Z"
   },
   {
    "duration": 12,
    "start_time": "2024-04-28T14:26:33.707Z"
   },
   {
    "duration": 16,
    "start_time": "2024-04-28T14:26:33.720Z"
   },
   {
    "duration": 12,
    "start_time": "2024-04-28T14:26:33.738Z"
   },
   {
    "duration": 16,
    "start_time": "2024-04-28T14:26:33.752Z"
   },
   {
    "duration": 478,
    "start_time": "2024-04-28T15:00:23.550Z"
   },
   {
    "duration": 627,
    "start_time": "2024-04-28T15:00:35.598Z"
   },
   {
    "duration": 469,
    "start_time": "2024-04-28T15:00:50.422Z"
   },
   {
    "duration": 431,
    "start_time": "2024-04-28T15:01:07.618Z"
   },
   {
    "duration": 443,
    "start_time": "2024-04-28T15:01:20.450Z"
   },
   {
    "duration": 588,
    "start_time": "2024-04-28T15:02:39.407Z"
   },
   {
    "duration": 476,
    "start_time": "2024-04-28T15:02:55.031Z"
   },
   {
    "duration": 438,
    "start_time": "2024-04-28T15:03:07.280Z"
   },
   {
    "duration": 458,
    "start_time": "2024-04-28T15:06:37.245Z"
   },
   {
    "duration": 527,
    "start_time": "2024-04-28T15:51:06.412Z"
   },
   {
    "duration": 101,
    "start_time": "2024-04-28T16:09:10.230Z"
   },
   {
    "duration": 22,
    "start_time": "2024-04-28T16:09:46.512Z"
   },
   {
    "duration": 27,
    "start_time": "2024-04-28T16:12:33.972Z"
   },
   {
    "duration": 23,
    "start_time": "2024-04-28T16:13:13.564Z"
   },
   {
    "duration": 11,
    "start_time": "2024-04-28T16:13:50.436Z"
   },
   {
    "duration": 23,
    "start_time": "2024-04-28T16:14:04.759Z"
   },
   {
    "duration": 22,
    "start_time": "2024-04-28T16:14:07.869Z"
   },
   {
    "duration": 11,
    "start_time": "2024-04-28T16:14:12.657Z"
   },
   {
    "duration": 10,
    "start_time": "2024-04-28T16:14:21.587Z"
   },
   {
    "duration": 22,
    "start_time": "2024-04-28T16:14:53.086Z"
   },
   {
    "duration": 23,
    "start_time": "2024-04-28T16:14:56.016Z"
   },
   {
    "duration": 12,
    "start_time": "2024-04-28T16:14:57.591Z"
   },
   {
    "duration": 17,
    "start_time": "2024-04-28T16:21:42.265Z"
   },
   {
    "duration": 608,
    "start_time": "2024-04-28T17:36:47.254Z"
   },
   {
    "duration": 592,
    "start_time": "2024-04-28T17:37:25.922Z"
   },
   {
    "duration": 733,
    "start_time": "2024-04-28T17:39:05.963Z"
   },
   {
    "duration": 69,
    "start_time": "2024-04-28T17:40:02.445Z"
   },
   {
    "duration": 554,
    "start_time": "2024-04-28T17:40:08.380Z"
   },
   {
    "duration": 1429,
    "start_time": "2024-04-29T05:47:49.991Z"
   },
   {
    "duration": 3,
    "start_time": "2024-04-29T05:47:51.422Z"
   },
   {
    "duration": 10,
    "start_time": "2024-04-29T05:47:51.426Z"
   },
   {
    "duration": 145,
    "start_time": "2024-04-29T05:47:51.438Z"
   },
   {
    "duration": 14,
    "start_time": "2024-04-29T05:47:51.585Z"
   },
   {
    "duration": 4,
    "start_time": "2024-04-29T05:47:51.601Z"
   },
   {
    "duration": 7,
    "start_time": "2024-04-29T05:47:51.606Z"
   },
   {
    "duration": 8,
    "start_time": "2024-04-29T05:47:51.615Z"
   },
   {
    "duration": 5,
    "start_time": "2024-04-29T05:47:51.625Z"
   },
   {
    "duration": 15,
    "start_time": "2024-04-29T05:47:51.632Z"
   },
   {
    "duration": 35,
    "start_time": "2024-04-29T05:47:51.649Z"
   },
   {
    "duration": 4,
    "start_time": "2024-04-29T05:47:51.686Z"
   },
   {
    "duration": 6,
    "start_time": "2024-04-29T05:47:51.691Z"
   },
   {
    "duration": 28,
    "start_time": "2024-04-29T05:47:51.699Z"
   },
   {
    "duration": 14,
    "start_time": "2024-04-29T05:47:51.728Z"
   },
   {
    "duration": 16,
    "start_time": "2024-04-29T05:47:51.744Z"
   },
   {
    "duration": 17,
    "start_time": "2024-04-29T05:47:51.762Z"
   },
   {
    "duration": 20,
    "start_time": "2024-04-29T05:47:51.781Z"
   },
   {
    "duration": 47,
    "start_time": "2024-04-29T05:47:51.803Z"
   },
   {
    "duration": 11,
    "start_time": "2024-04-29T05:47:51.852Z"
   },
   {
    "duration": 13,
    "start_time": "2024-04-29T05:47:51.865Z"
   },
   {
    "duration": 14,
    "start_time": "2024-04-29T05:47:51.879Z"
   },
   {
    "duration": 490,
    "start_time": "2024-04-29T05:47:51.895Z"
   },
   {
    "duration": 18,
    "start_time": "2024-04-29T05:47:52.386Z"
   },
   {
    "duration": 519,
    "start_time": "2024-04-29T05:47:52.406Z"
   },
   {
    "duration": 448,
    "start_time": "2024-04-29T05:47:52.928Z"
   },
   {
    "duration": 2367,
    "start_time": "2024-04-29T05:47:53.380Z"
   },
   {
    "duration": 592,
    "start_time": "2024-04-29T05:47:55.751Z"
   },
   {
    "duration": 5,
    "start_time": "2024-04-29T05:47:56.345Z"
   },
   {
    "duration": 605,
    "start_time": "2024-04-29T05:47:56.351Z"
   },
   {
    "duration": 361,
    "start_time": "2024-04-29T05:47:56.958Z"
   },
   {
    "duration": 448,
    "start_time": "2024-04-29T05:47:57.321Z"
   },
   {
    "duration": 561,
    "start_time": "2024-04-29T05:47:57.771Z"
   },
   {
    "duration": 309,
    "start_time": "2024-04-29T05:47:58.334Z"
   },
   {
    "duration": 391,
    "start_time": "2024-04-29T05:47:58.645Z"
   },
   {
    "duration": 2,
    "start_time": "2024-04-29T05:47:59.038Z"
   },
   {
    "duration": 441,
    "start_time": "2024-04-29T05:47:59.042Z"
   },
   {
    "duration": 23,
    "start_time": "2024-04-29T05:47:59.485Z"
   },
   {
    "duration": 32,
    "start_time": "2024-04-29T05:47:59.509Z"
   },
   {
    "duration": 10,
    "start_time": "2024-04-29T05:47:59.542Z"
   },
   {
    "duration": 35,
    "start_time": "2024-04-29T05:47:59.554Z"
   },
   {
    "duration": 13,
    "start_time": "2024-04-29T05:47:59.591Z"
   },
   {
    "duration": 17,
    "start_time": "2024-04-29T05:47:59.606Z"
   },
   {
    "duration": 13,
    "start_time": "2024-04-29T05:47:59.624Z"
   },
   {
    "duration": 45,
    "start_time": "2024-04-29T05:47:59.639Z"
   },
   {
    "duration": 13,
    "start_time": "2024-04-29T05:47:59.685Z"
   },
   {
    "duration": 33,
    "start_time": "2024-04-29T05:47:59.700Z"
   },
   {
    "duration": 643,
    "start_time": "2024-04-29T06:02:45.190Z"
   },
   {
    "duration": 1356,
    "start_time": "2024-04-29T06:10:09.794Z"
   },
   {
    "duration": 3,
    "start_time": "2024-04-29T06:10:11.152Z"
   },
   {
    "duration": 13,
    "start_time": "2024-04-29T06:10:11.157Z"
   },
   {
    "duration": 105,
    "start_time": "2024-04-29T06:10:11.172Z"
   },
   {
    "duration": 17,
    "start_time": "2024-04-29T06:10:11.279Z"
   },
   {
    "duration": 8,
    "start_time": "2024-04-29T06:10:11.298Z"
   },
   {
    "duration": 9,
    "start_time": "2024-04-29T06:10:11.308Z"
   },
   {
    "duration": 14,
    "start_time": "2024-04-29T06:10:11.319Z"
   },
   {
    "duration": 9,
    "start_time": "2024-04-29T06:10:11.335Z"
   },
   {
    "duration": 33,
    "start_time": "2024-04-29T06:10:11.347Z"
   },
   {
    "duration": 6,
    "start_time": "2024-04-29T06:10:11.382Z"
   },
   {
    "duration": 20,
    "start_time": "2024-04-29T06:10:11.389Z"
   },
   {
    "duration": 10,
    "start_time": "2024-04-29T06:10:11.411Z"
   },
   {
    "duration": 6,
    "start_time": "2024-04-29T06:10:11.423Z"
   },
   {
    "duration": 9,
    "start_time": "2024-04-29T06:10:11.431Z"
   },
   {
    "duration": 6,
    "start_time": "2024-04-29T06:10:11.442Z"
   },
   {
    "duration": 16,
    "start_time": "2024-04-29T06:10:11.450Z"
   },
   {
    "duration": 13,
    "start_time": "2024-04-29T06:10:11.468Z"
   },
   {
    "duration": 39,
    "start_time": "2024-04-29T06:10:11.483Z"
   },
   {
    "duration": 13,
    "start_time": "2024-04-29T06:10:11.524Z"
   },
   {
    "duration": 19,
    "start_time": "2024-04-29T06:10:11.539Z"
   },
   {
    "duration": 16,
    "start_time": "2024-04-29T06:10:11.559Z"
   },
   {
    "duration": 442,
    "start_time": "2024-04-29T06:10:11.580Z"
   },
   {
    "duration": 17,
    "start_time": "2024-04-29T06:10:12.023Z"
   },
   {
    "duration": 552,
    "start_time": "2024-04-29T06:10:12.043Z"
   },
   {
    "duration": 728,
    "start_time": "2024-04-29T06:10:12.597Z"
   },
   {
    "duration": 2400,
    "start_time": "2024-04-29T06:10:13.327Z"
   },
   {
    "duration": 639,
    "start_time": "2024-04-29T06:10:15.731Z"
   },
   {
    "duration": 8,
    "start_time": "2024-04-29T06:10:16.372Z"
   },
   {
    "duration": 569,
    "start_time": "2024-04-29T06:10:16.382Z"
   },
   {
    "duration": 365,
    "start_time": "2024-04-29T06:10:16.953Z"
   },
   {
    "duration": 478,
    "start_time": "2024-04-29T06:10:17.320Z"
   },
   {
    "duration": 610,
    "start_time": "2024-04-29T06:10:17.799Z"
   },
   {
    "duration": 354,
    "start_time": "2024-04-29T06:10:18.410Z"
   },
   {
    "duration": 384,
    "start_time": "2024-04-29T06:10:18.766Z"
   },
   {
    "duration": 3,
    "start_time": "2024-04-29T06:10:19.151Z"
   },
   {
    "duration": 442,
    "start_time": "2024-04-29T06:10:19.156Z"
   },
   {
    "duration": 33,
    "start_time": "2024-04-29T06:10:19.600Z"
   },
   {
    "duration": 57,
    "start_time": "2024-04-29T06:10:19.635Z"
   },
   {
    "duration": 12,
    "start_time": "2024-04-29T06:10:19.694Z"
   },
   {
    "duration": 21,
    "start_time": "2024-04-29T06:10:19.707Z"
   },
   {
    "duration": 13,
    "start_time": "2024-04-29T06:10:19.730Z"
   },
   {
    "duration": 40,
    "start_time": "2024-04-29T06:10:19.744Z"
   },
   {
    "duration": 12,
    "start_time": "2024-04-29T06:10:19.786Z"
   },
   {
    "duration": 14,
    "start_time": "2024-04-29T06:10:19.799Z"
   },
   {
    "duration": 14,
    "start_time": "2024-04-29T06:10:19.814Z"
   },
   {
    "duration": 21,
    "start_time": "2024-04-29T06:10:19.829Z"
   },
   {
    "duration": 420,
    "start_time": "2024-04-29T06:19:22.341Z"
   },
   {
    "duration": 385,
    "start_time": "2024-04-29T06:19:37.143Z"
   },
   {
    "duration": 1227,
    "start_time": "2024-04-29T06:20:15.213Z"
   },
   {
    "duration": 2,
    "start_time": "2024-04-29T06:20:16.442Z"
   },
   {
    "duration": 6,
    "start_time": "2024-04-29T06:20:16.446Z"
   },
   {
    "duration": 146,
    "start_time": "2024-04-29T06:20:16.454Z"
   },
   {
    "duration": 15,
    "start_time": "2024-04-29T06:20:16.601Z"
   },
   {
    "duration": 3,
    "start_time": "2024-04-29T06:20:16.617Z"
   },
   {
    "duration": 7,
    "start_time": "2024-04-29T06:20:16.622Z"
   },
   {
    "duration": 7,
    "start_time": "2024-04-29T06:20:16.631Z"
   },
   {
    "duration": 5,
    "start_time": "2024-04-29T06:20:16.640Z"
   },
   {
    "duration": 51,
    "start_time": "2024-04-29T06:20:16.647Z"
   },
   {
    "duration": 6,
    "start_time": "2024-04-29T06:20:16.700Z"
   },
   {
    "duration": 5,
    "start_time": "2024-04-29T06:20:16.708Z"
   },
   {
    "duration": 8,
    "start_time": "2024-04-29T06:20:16.715Z"
   },
   {
    "duration": 11,
    "start_time": "2024-04-29T06:20:16.725Z"
   },
   {
    "duration": 12,
    "start_time": "2024-04-29T06:20:16.738Z"
   },
   {
    "duration": 16,
    "start_time": "2024-04-29T06:20:16.752Z"
   },
   {
    "duration": 9,
    "start_time": "2024-04-29T06:20:16.789Z"
   },
   {
    "duration": 11,
    "start_time": "2024-04-29T06:20:16.800Z"
   },
   {
    "duration": 50,
    "start_time": "2024-04-29T06:20:16.812Z"
   },
   {
    "duration": 14,
    "start_time": "2024-04-29T06:20:16.864Z"
   },
   {
    "duration": 22,
    "start_time": "2024-04-29T06:20:16.880Z"
   },
   {
    "duration": 20,
    "start_time": "2024-04-29T06:20:16.904Z"
   },
   {
    "duration": 505,
    "start_time": "2024-04-29T06:20:16.926Z"
   },
   {
    "duration": 14,
    "start_time": "2024-04-29T06:20:17.433Z"
   },
   {
    "duration": 515,
    "start_time": "2024-04-29T06:20:17.449Z"
   },
   {
    "duration": 480,
    "start_time": "2024-04-29T06:20:17.966Z"
   },
   {
    "duration": 2694,
    "start_time": "2024-04-29T06:20:18.448Z"
   },
   {
    "duration": 670,
    "start_time": "2024-04-29T06:20:21.146Z"
   },
   {
    "duration": 4,
    "start_time": "2024-04-29T06:20:21.817Z"
   },
   {
    "duration": 636,
    "start_time": "2024-04-29T06:20:21.823Z"
   },
   {
    "duration": 395,
    "start_time": "2024-04-29T06:20:22.461Z"
   },
   {
    "duration": 512,
    "start_time": "2024-04-29T06:20:22.858Z"
   },
   {
    "duration": 635,
    "start_time": "2024-04-29T06:20:23.372Z"
   },
   {
    "duration": 331,
    "start_time": "2024-04-29T06:20:24.009Z"
   },
   {
    "duration": 406,
    "start_time": "2024-04-29T06:20:24.342Z"
   },
   {
    "duration": 4,
    "start_time": "2024-04-29T06:20:24.750Z"
   },
   {
    "duration": 437,
    "start_time": "2024-04-29T06:20:24.756Z"
   },
   {
    "duration": 26,
    "start_time": "2024-04-29T06:20:25.195Z"
   },
   {
    "duration": 25,
    "start_time": "2024-04-29T06:20:25.222Z"
   },
   {
    "duration": 46,
    "start_time": "2024-04-29T06:20:25.249Z"
   },
   {
    "duration": 29,
    "start_time": "2024-04-29T06:20:25.298Z"
   },
   {
    "duration": 17,
    "start_time": "2024-04-29T06:20:25.329Z"
   },
   {
    "duration": 13,
    "start_time": "2024-04-29T06:20:25.348Z"
   },
   {
    "duration": 36,
    "start_time": "2024-04-29T06:20:25.362Z"
   },
   {
    "duration": 13,
    "start_time": "2024-04-29T06:20:25.400Z"
   },
   {
    "duration": 13,
    "start_time": "2024-04-29T06:20:25.415Z"
   },
   {
    "duration": 16,
    "start_time": "2024-04-29T06:20:25.430Z"
   },
   {
    "duration": 82,
    "start_time": "2024-04-29T06:22:07.314Z"
   },
   {
    "duration": 348,
    "start_time": "2024-04-29T06:23:06.893Z"
   },
   {
    "duration": 130,
    "start_time": "2024-04-29T06:23:26.133Z"
   },
   {
    "duration": 29,
    "start_time": "2024-04-29T06:23:54.277Z"
   },
   {
    "duration": 317,
    "start_time": "2024-04-29T06:24:00.126Z"
   },
   {
    "duration": 327,
    "start_time": "2024-04-29T06:25:44.023Z"
   },
   {
    "duration": 421,
    "start_time": "2024-04-29T06:28:03.898Z"
   },
   {
    "duration": 330,
    "start_time": "2024-04-29T06:29:56.298Z"
   },
   {
    "duration": 350,
    "start_time": "2024-04-29T06:31:37.776Z"
   },
   {
    "duration": 30,
    "start_time": "2024-04-29T06:32:13.551Z"
   },
   {
    "duration": 333,
    "start_time": "2024-04-29T06:33:43.798Z"
   },
   {
    "duration": 29,
    "start_time": "2024-04-29T06:35:34.703Z"
   },
   {
    "duration": 37,
    "start_time": "2024-04-29T06:35:40.572Z"
   },
   {
    "duration": 294,
    "start_time": "2024-04-29T06:35:47.841Z"
   },
   {
    "duration": 365,
    "start_time": "2024-04-29T06:36:39.257Z"
   },
   {
    "duration": 6,
    "start_time": "2024-04-29T06:38:51.879Z"
   },
   {
    "duration": 5,
    "start_time": "2024-04-29T06:39:39.874Z"
   },
   {
    "duration": 385,
    "start_time": "2024-04-29T06:39:55.115Z"
   },
   {
    "duration": 468,
    "start_time": "2024-04-29T06:45:25.529Z"
   },
   {
    "duration": 449,
    "start_time": "2024-04-29T06:45:50.210Z"
   },
   {
    "duration": 325,
    "start_time": "2024-04-29T06:48:51.901Z"
   },
   {
    "duration": 438,
    "start_time": "2024-04-29T06:49:12.030Z"
   },
   {
    "duration": 468,
    "start_time": "2024-04-29T06:52:38.258Z"
   },
   {
    "duration": 520,
    "start_time": "2024-04-29T06:53:09.827Z"
   },
   {
    "duration": 611,
    "start_time": "2024-04-29T06:54:45.372Z"
   },
   {
    "duration": 322,
    "start_time": "2024-04-29T06:55:42.318Z"
   },
   {
    "duration": 345,
    "start_time": "2024-04-29T06:55:56.038Z"
   },
   {
    "duration": 603,
    "start_time": "2024-04-29T06:56:57.247Z"
   },
   {
    "duration": 744,
    "start_time": "2024-04-29T06:57:16.272Z"
   },
   {
    "duration": 392,
    "start_time": "2024-04-29T07:09:54.161Z"
   },
   {
    "duration": 335,
    "start_time": "2024-04-29T07:10:41.608Z"
   },
   {
    "duration": 27,
    "start_time": "2024-04-29T07:49:12.515Z"
   },
   {
    "duration": 23,
    "start_time": "2024-04-29T07:49:13.637Z"
   },
   {
    "duration": 10,
    "start_time": "2024-04-29T07:49:17.843Z"
   },
   {
    "duration": 18,
    "start_time": "2024-04-29T07:49:20.609Z"
   },
   {
    "duration": 18,
    "start_time": "2024-04-29T07:53:52.249Z"
   },
   {
    "duration": 427,
    "start_time": "2024-04-29T08:41:30.810Z"
   },
   {
    "duration": 585,
    "start_time": "2024-04-29T08:41:42.423Z"
   },
   {
    "duration": 312,
    "start_time": "2024-04-29T08:41:49.711Z"
   },
   {
    "duration": 350,
    "start_time": "2024-04-29T08:43:00.632Z"
   },
   {
    "duration": 273,
    "start_time": "2024-04-29T08:43:17.348Z"
   },
   {
    "duration": 337,
    "start_time": "2024-04-29T08:43:32.066Z"
   },
   {
    "duration": 296,
    "start_time": "2024-04-29T08:44:52.119Z"
   },
   {
    "duration": 728,
    "start_time": "2024-04-29T09:01:46.357Z"
   },
   {
    "duration": 515,
    "start_time": "2024-04-29T14:56:06.252Z"
   },
   {
    "duration": 462,
    "start_time": "2024-04-29T14:57:21.066Z"
   },
   {
    "duration": 2482,
    "start_time": "2024-04-29T14:58:06.106Z"
   },
   {
    "duration": 572,
    "start_time": "2024-04-29T14:59:03.852Z"
   },
   {
    "duration": 817,
    "start_time": "2024-04-29T14:59:26.878Z"
   },
   {
    "duration": 347,
    "start_time": "2024-04-29T15:01:17.698Z"
   },
   {
    "duration": 343,
    "start_time": "2024-04-29T15:01:32.663Z"
   },
   {
    "duration": 412,
    "start_time": "2024-04-29T15:01:43.673Z"
   },
   {
    "duration": 561,
    "start_time": "2024-04-29T15:01:54.345Z"
   },
   {
    "duration": 362,
    "start_time": "2024-04-29T15:02:05.478Z"
   },
   {
    "duration": 108,
    "start_time": "2024-04-29T15:08:35.450Z"
   },
   {
    "duration": 103,
    "start_time": "2024-04-29T15:08:57.955Z"
   },
   {
    "duration": 323,
    "start_time": "2024-04-29T15:13:11.627Z"
   },
   {
    "duration": 343,
    "start_time": "2024-04-29T15:13:41.012Z"
   },
   {
    "duration": 141,
    "start_time": "2024-04-29T15:14:18.413Z"
   },
   {
    "duration": 13,
    "start_time": "2024-04-29T15:15:29.502Z"
   },
   {
    "duration": 9,
    "start_time": "2024-04-29T15:16:14.441Z"
   },
   {
    "duration": 12,
    "start_time": "2024-04-29T15:16:28.018Z"
   },
   {
    "duration": 142,
    "start_time": "2024-04-29T15:17:49.891Z"
   },
   {
    "duration": 133,
    "start_time": "2024-04-29T15:18:35.939Z"
   },
   {
    "duration": 132,
    "start_time": "2024-04-29T15:20:41.258Z"
   },
   {
    "duration": 267,
    "start_time": "2024-04-29T15:23:52.566Z"
   },
   {
    "duration": 277,
    "start_time": "2024-04-29T15:24:10.466Z"
   },
   {
    "duration": 227,
    "start_time": "2024-04-29T15:24:25.581Z"
   },
   {
    "duration": 230,
    "start_time": "2024-04-29T15:26:29.318Z"
   },
   {
    "duration": 229,
    "start_time": "2024-04-29T15:26:50.981Z"
   },
   {
    "duration": 329,
    "start_time": "2024-04-29T15:27:23.091Z"
   },
   {
    "duration": 9,
    "start_time": "2024-04-29T15:34:31.990Z"
   },
   {
    "duration": 8,
    "start_time": "2024-04-29T15:37:57.921Z"
   },
   {
    "duration": 9,
    "start_time": "2024-04-29T15:38:04.819Z"
   },
   {
    "duration": 73,
    "start_time": "2024-04-29T15:47:18.391Z"
   },
   {
    "duration": 9,
    "start_time": "2024-04-29T15:47:25.022Z"
   },
   {
    "duration": 7,
    "start_time": "2024-04-29T15:49:03.537Z"
   },
   {
    "duration": 7,
    "start_time": "2024-04-29T15:49:26.169Z"
   },
   {
    "duration": 68,
    "start_time": "2024-04-29T15:51:07.257Z"
   },
   {
    "duration": 10,
    "start_time": "2024-04-29T15:53:28.821Z"
   },
   {
    "duration": 9,
    "start_time": "2024-04-29T15:53:57.432Z"
   },
   {
    "duration": 10,
    "start_time": "2024-04-29T15:54:33.156Z"
   },
   {
    "duration": 9,
    "start_time": "2024-04-29T15:54:54.156Z"
   },
   {
    "duration": 11,
    "start_time": "2024-04-29T16:00:01.385Z"
   },
   {
    "duration": 14,
    "start_time": "2024-04-29T16:03:18.493Z"
   },
   {
    "duration": 10,
    "start_time": "2024-04-29T16:03:49.397Z"
   },
   {
    "duration": 1234,
    "start_time": "2024-04-29T16:16:08.714Z"
   },
   {
    "duration": 3,
    "start_time": "2024-04-29T16:16:09.949Z"
   },
   {
    "duration": 8,
    "start_time": "2024-04-29T16:16:09.954Z"
   },
   {
    "duration": 113,
    "start_time": "2024-04-29T16:16:09.964Z"
   },
   {
    "duration": 20,
    "start_time": "2024-04-29T16:16:10.079Z"
   },
   {
    "duration": 13,
    "start_time": "2024-04-29T16:16:10.101Z"
   },
   {
    "duration": 7,
    "start_time": "2024-04-29T16:16:10.116Z"
   },
   {
    "duration": 8,
    "start_time": "2024-04-29T16:16:10.124Z"
   },
   {
    "duration": 9,
    "start_time": "2024-04-29T16:16:10.134Z"
   },
   {
    "duration": 19,
    "start_time": "2024-04-29T16:16:10.146Z"
   },
   {
    "duration": 17,
    "start_time": "2024-04-29T16:16:10.167Z"
   },
   {
    "duration": 12,
    "start_time": "2024-04-29T16:16:10.186Z"
   },
   {
    "duration": 7,
    "start_time": "2024-04-29T16:16:10.199Z"
   },
   {
    "duration": 12,
    "start_time": "2024-04-29T16:16:10.208Z"
   },
   {
    "duration": 7,
    "start_time": "2024-04-29T16:16:10.222Z"
   },
   {
    "duration": 17,
    "start_time": "2024-04-29T16:16:10.230Z"
   },
   {
    "duration": 12,
    "start_time": "2024-04-29T16:16:10.248Z"
   },
   {
    "duration": 6,
    "start_time": "2024-04-29T16:16:10.261Z"
   },
   {
    "duration": 31,
    "start_time": "2024-04-29T16:16:10.269Z"
   },
   {
    "duration": 13,
    "start_time": "2024-04-29T16:16:10.301Z"
   },
   {
    "duration": 15,
    "start_time": "2024-04-29T16:16:10.316Z"
   },
   {
    "duration": 19,
    "start_time": "2024-04-29T16:16:10.332Z"
   },
   {
    "duration": 458,
    "start_time": "2024-04-29T16:16:10.353Z"
   },
   {
    "duration": 15,
    "start_time": "2024-04-29T16:16:10.813Z"
   },
   {
    "duration": 476,
    "start_time": "2024-04-29T16:16:10.830Z"
   },
   {
    "duration": 468,
    "start_time": "2024-04-29T16:16:11.308Z"
   },
   {
    "duration": 2507,
    "start_time": "2024-04-29T16:16:11.780Z"
   },
   {
    "duration": 623,
    "start_time": "2024-04-29T16:16:14.291Z"
   },
   {
    "duration": 4,
    "start_time": "2024-04-29T16:16:14.915Z"
   },
   {
    "duration": 632,
    "start_time": "2024-04-29T16:16:14.921Z"
   },
   {
    "duration": 358,
    "start_time": "2024-04-29T16:16:15.555Z"
   },
   {
    "duration": 444,
    "start_time": "2024-04-29T16:16:15.915Z"
   },
   {
    "duration": 568,
    "start_time": "2024-04-29T16:16:16.361Z"
   },
   {
    "duration": 296,
    "start_time": "2024-04-29T16:16:16.931Z"
   },
   {
    "duration": 300,
    "start_time": "2024-04-29T16:16:17.229Z"
   },
   {
    "duration": 444,
    "start_time": "2024-04-29T16:16:17.531Z"
   },
   {
    "duration": 22,
    "start_time": "2024-04-29T16:16:17.980Z"
   },
   {
    "duration": 66,
    "start_time": "2024-04-29T16:16:18.003Z"
   },
   {
    "duration": 10,
    "start_time": "2024-04-29T16:16:18.071Z"
   },
   {
    "duration": 36,
    "start_time": "2024-04-29T16:16:18.083Z"
   },
   {
    "duration": 27,
    "start_time": "2024-04-29T16:16:18.121Z"
   },
   {
    "duration": 240,
    "start_time": "2024-04-29T16:16:18.150Z"
   },
   {
    "duration": 8,
    "start_time": "2024-04-29T16:16:18.392Z"
   },
   {
    "duration": 23,
    "start_time": "2024-04-29T16:16:18.402Z"
   },
   {
    "duration": 27,
    "start_time": "2024-04-29T16:16:18.427Z"
   },
   {
    "duration": 10,
    "start_time": "2024-04-29T16:16:18.456Z"
   },
   {
    "duration": 12,
    "start_time": "2024-04-29T16:16:18.468Z"
   },
   {
    "duration": 12,
    "start_time": "2024-04-29T16:16:18.481Z"
   },
   {
    "duration": 24,
    "start_time": "2024-04-29T16:16:18.495Z"
   },
   {
    "duration": 14,
    "start_time": "2024-04-29T16:16:18.521Z"
   },
   {
    "duration": 1294,
    "start_time": "2024-05-01T05:53:38.545Z"
   },
   {
    "duration": 3,
    "start_time": "2024-05-01T05:53:39.841Z"
   },
   {
    "duration": 21,
    "start_time": "2024-05-01T05:53:39.848Z"
   },
   {
    "duration": 83,
    "start_time": "2024-05-01T05:53:39.870Z"
   },
   {
    "duration": 13,
    "start_time": "2024-05-01T05:53:39.954Z"
   },
   {
    "duration": 3,
    "start_time": "2024-05-01T05:53:39.968Z"
   },
   {
    "duration": 5,
    "start_time": "2024-05-01T05:53:39.972Z"
   },
   {
    "duration": 7,
    "start_time": "2024-05-01T05:53:39.979Z"
   },
   {
    "duration": 15,
    "start_time": "2024-05-01T05:53:39.988Z"
   },
   {
    "duration": 24,
    "start_time": "2024-05-01T05:53:40.005Z"
   },
   {
    "duration": 6,
    "start_time": "2024-05-01T05:53:40.030Z"
   },
   {
    "duration": 10,
    "start_time": "2024-05-01T05:53:40.037Z"
   },
   {
    "duration": 10,
    "start_time": "2024-05-01T05:53:40.048Z"
   },
   {
    "duration": 6,
    "start_time": "2024-05-01T05:53:40.060Z"
   },
   {
    "duration": 13,
    "start_time": "2024-05-01T05:53:40.067Z"
   },
   {
    "duration": 7,
    "start_time": "2024-05-01T05:53:40.081Z"
   },
   {
    "duration": 5,
    "start_time": "2024-05-01T05:53:40.089Z"
   },
   {
    "duration": 3,
    "start_time": "2024-05-01T05:53:40.096Z"
   },
   {
    "duration": 21,
    "start_time": "2024-05-01T05:53:40.100Z"
   },
   {
    "duration": 11,
    "start_time": "2024-05-01T05:53:40.122Z"
   },
   {
    "duration": 33,
    "start_time": "2024-05-01T05:53:40.134Z"
   },
   {
    "duration": 13,
    "start_time": "2024-05-01T05:53:40.168Z"
   },
   {
    "duration": 441,
    "start_time": "2024-05-01T05:53:40.182Z"
   },
   {
    "duration": 11,
    "start_time": "2024-05-01T05:53:40.624Z"
   },
   {
    "duration": 415,
    "start_time": "2024-05-01T05:53:40.637Z"
   },
   {
    "duration": 372,
    "start_time": "2024-05-01T05:53:41.053Z"
   },
   {
    "duration": 1972,
    "start_time": "2024-05-01T05:53:41.428Z"
   },
   {
    "duration": 523,
    "start_time": "2024-05-01T05:53:43.401Z"
   },
   {
    "duration": 4,
    "start_time": "2024-05-01T05:53:43.925Z"
   },
   {
    "duration": 491,
    "start_time": "2024-05-01T05:53:43.931Z"
   },
   {
    "duration": 278,
    "start_time": "2024-05-01T05:53:44.423Z"
   },
   {
    "duration": 396,
    "start_time": "2024-05-01T05:53:44.703Z"
   },
   {
    "duration": 545,
    "start_time": "2024-05-01T05:53:45.101Z"
   },
   {
    "duration": 258,
    "start_time": "2024-05-01T05:53:45.648Z"
   },
   {
    "duration": 367,
    "start_time": "2024-05-01T05:53:45.908Z"
   },
   {
    "duration": 342,
    "start_time": "2024-05-01T05:53:46.276Z"
   },
   {
    "duration": 21,
    "start_time": "2024-05-01T05:53:46.619Z"
   },
   {
    "duration": 38,
    "start_time": "2024-05-01T05:53:46.641Z"
   },
   {
    "duration": 12,
    "start_time": "2024-05-01T05:53:46.681Z"
   },
   {
    "duration": 22,
    "start_time": "2024-05-01T05:53:46.695Z"
   },
   {
    "duration": 12,
    "start_time": "2024-05-01T05:53:46.718Z"
   },
   {
    "duration": 237,
    "start_time": "2024-05-01T05:53:46.732Z"
   },
   {
    "duration": 9,
    "start_time": "2024-05-01T05:53:46.971Z"
   },
   {
    "duration": 7,
    "start_time": "2024-05-01T05:53:46.981Z"
   },
   {
    "duration": 9,
    "start_time": "2024-05-01T05:53:46.990Z"
   },
   {
    "duration": 10,
    "start_time": "2024-05-01T05:53:47.001Z"
   },
   {
    "duration": 11,
    "start_time": "2024-05-01T05:53:47.013Z"
   },
   {
    "duration": 52,
    "start_time": "2024-05-01T05:53:47.025Z"
   },
   {
    "duration": 13,
    "start_time": "2024-05-01T05:53:47.078Z"
   },
   {
    "duration": 20,
    "start_time": "2024-05-01T05:53:47.096Z"
   },
   {
    "duration": 525,
    "start_time": "2024-05-01T05:54:50.593Z"
   },
   {
    "duration": 738,
    "start_time": "2024-05-01T05:55:03.922Z"
   },
   {
    "duration": 962,
    "start_time": "2024-05-01T05:55:18.060Z"
   },
   {
    "duration": 1129,
    "start_time": "2024-05-01T05:55:35.041Z"
   },
   {
    "duration": 1461,
    "start_time": "2024-05-01T05:55:43.680Z"
   },
   {
    "duration": 1680,
    "start_time": "2024-05-01T05:55:56.569Z"
   },
   {
    "duration": 1838,
    "start_time": "2024-05-01T05:56:10.347Z"
   },
   {
    "duration": 2152,
    "start_time": "2024-05-01T05:56:24.418Z"
   },
   {
    "duration": 2358,
    "start_time": "2024-05-01T05:56:42.131Z"
   },
   {
    "duration": 1127,
    "start_time": "2024-05-01T05:57:26.533Z"
   },
   {
    "duration": 455,
    "start_time": "2024-05-01T05:58:24.757Z"
   },
   {
    "duration": 175,
    "start_time": "2024-05-01T06:24:57.368Z"
   },
   {
    "duration": 10,
    "start_time": "2024-05-01T06:26:29.017Z"
   },
   {
    "duration": 182,
    "start_time": "2024-05-01T06:28:40.857Z"
   },
   {
    "duration": 9,
    "start_time": "2024-05-01T06:32:47.000Z"
   },
   {
    "duration": 9,
    "start_time": "2024-05-01T06:32:49.544Z"
   },
   {
    "duration": 104,
    "start_time": "2024-05-01T06:35:24.889Z"
   },
   {
    "duration": 8,
    "start_time": "2024-05-01T06:37:34.761Z"
   },
   {
    "duration": 25,
    "start_time": "2024-05-01T07:12:11.372Z"
   },
   {
    "duration": 21,
    "start_time": "2024-05-01T07:12:47.783Z"
   },
   {
    "duration": 8,
    "start_time": "2024-05-01T07:14:58.242Z"
   },
   {
    "duration": 8,
    "start_time": "2024-05-01T07:15:02.697Z"
   },
   {
    "duration": 24,
    "start_time": "2024-05-01T07:17:07.853Z"
   },
   {
    "duration": 24,
    "start_time": "2024-05-01T07:23:36.789Z"
   },
   {
    "duration": 16,
    "start_time": "2024-05-01T07:23:49.295Z"
   },
   {
    "duration": 20,
    "start_time": "2024-05-01T07:24:46.479Z"
   },
   {
    "duration": 10,
    "start_time": "2024-05-01T07:31:36.335Z"
   },
   {
    "duration": 1072,
    "start_time": "2024-05-01T08:31:16.573Z"
   },
   {
    "duration": 3,
    "start_time": "2024-05-01T08:31:17.646Z"
   },
   {
    "duration": 9,
    "start_time": "2024-05-01T08:31:17.650Z"
   },
   {
    "duration": 145,
    "start_time": "2024-05-01T08:31:17.660Z"
   },
   {
    "duration": 12,
    "start_time": "2024-05-01T08:31:17.806Z"
   },
   {
    "duration": 4,
    "start_time": "2024-05-01T08:31:17.820Z"
   },
   {
    "duration": 16,
    "start_time": "2024-05-01T08:31:17.825Z"
   },
   {
    "duration": 7,
    "start_time": "2024-05-01T08:31:17.842Z"
   },
   {
    "duration": 17,
    "start_time": "2024-05-01T08:31:17.850Z"
   },
   {
    "duration": 20,
    "start_time": "2024-05-01T08:31:17.870Z"
   },
   {
    "duration": 6,
    "start_time": "2024-05-01T08:31:17.892Z"
   },
   {
    "duration": 6,
    "start_time": "2024-05-01T08:31:17.900Z"
   },
   {
    "duration": 11,
    "start_time": "2024-05-01T08:31:17.907Z"
   },
   {
    "duration": 7,
    "start_time": "2024-05-01T08:31:17.919Z"
   },
   {
    "duration": 23,
    "start_time": "2024-05-01T08:31:17.927Z"
   },
   {
    "duration": 24,
    "start_time": "2024-05-01T08:31:17.951Z"
   },
   {
    "duration": 6,
    "start_time": "2024-05-01T08:31:17.977Z"
   },
   {
    "duration": 4,
    "start_time": "2024-05-01T08:31:17.984Z"
   },
   {
    "duration": 19,
    "start_time": "2024-05-01T08:31:17.990Z"
   },
   {
    "duration": 10,
    "start_time": "2024-05-01T08:31:18.010Z"
   },
   {
    "duration": 10,
    "start_time": "2024-05-01T08:31:18.021Z"
   },
   {
    "duration": 33,
    "start_time": "2024-05-01T08:31:18.032Z"
   },
   {
    "duration": 363,
    "start_time": "2024-05-01T08:31:18.066Z"
   },
   {
    "duration": 11,
    "start_time": "2024-05-01T08:31:18.430Z"
   },
   {
    "duration": 389,
    "start_time": "2024-05-01T08:31:18.442Z"
   },
   {
    "duration": 432,
    "start_time": "2024-05-01T08:31:18.833Z"
   },
   {
    "duration": 1934,
    "start_time": "2024-05-01T08:31:19.266Z"
   },
   {
    "duration": 482,
    "start_time": "2024-05-01T08:31:21.203Z"
   },
   {
    "duration": 4,
    "start_time": "2024-05-01T08:31:21.686Z"
   },
   {
    "duration": 503,
    "start_time": "2024-05-01T08:31:21.691Z"
   },
   {
    "duration": 300,
    "start_time": "2024-05-01T08:31:22.195Z"
   },
   {
    "duration": 378,
    "start_time": "2024-05-01T08:31:22.496Z"
   },
   {
    "duration": 469,
    "start_time": "2024-05-01T08:31:22.876Z"
   },
   {
    "duration": 261,
    "start_time": "2024-05-01T08:31:23.347Z"
   },
   {
    "duration": 391,
    "start_time": "2024-05-01T08:31:23.610Z"
   },
   {
    "duration": 324,
    "start_time": "2024-05-01T08:31:24.002Z"
   },
   {
    "duration": 19,
    "start_time": "2024-05-01T08:31:24.327Z"
   },
   {
    "duration": 29,
    "start_time": "2024-05-01T08:31:24.348Z"
   },
   {
    "duration": 9,
    "start_time": "2024-05-01T08:31:24.378Z"
   },
   {
    "duration": 14,
    "start_time": "2024-05-01T08:31:24.388Z"
   },
   {
    "duration": 9,
    "start_time": "2024-05-01T08:31:24.403Z"
   },
   {
    "duration": 203,
    "start_time": "2024-05-01T08:31:24.414Z"
   },
   {
    "duration": 15,
    "start_time": "2024-05-01T08:31:24.618Z"
   },
   {
    "duration": 8,
    "start_time": "2024-05-01T08:31:24.635Z"
   },
   {
    "duration": 26,
    "start_time": "2024-05-01T08:31:24.644Z"
   },
   {
    "duration": 12,
    "start_time": "2024-05-01T08:31:24.672Z"
   },
   {
    "duration": 14,
    "start_time": "2024-05-01T08:31:24.686Z"
   },
   {
    "duration": 1029,
    "start_time": "2024-05-01T09:43:48.413Z"
   },
   {
    "duration": 2,
    "start_time": "2024-05-01T09:43:49.444Z"
   },
   {
    "duration": 12,
    "start_time": "2024-05-01T09:43:49.447Z"
   },
   {
    "duration": 242,
    "start_time": "2024-05-01T09:43:49.461Z"
   },
   {
    "duration": 14,
    "start_time": "2024-05-01T09:43:49.704Z"
   },
   {
    "duration": 4,
    "start_time": "2024-05-01T09:43:49.719Z"
   },
   {
    "duration": 9,
    "start_time": "2024-05-01T09:43:49.724Z"
   },
   {
    "duration": 5,
    "start_time": "2024-05-01T09:43:49.734Z"
   },
   {
    "duration": 26,
    "start_time": "2024-05-01T09:43:49.741Z"
   },
   {
    "duration": 13,
    "start_time": "2024-05-01T09:43:49.770Z"
   },
   {
    "duration": 5,
    "start_time": "2024-05-01T09:43:49.785Z"
   },
   {
    "duration": 11,
    "start_time": "2024-05-01T09:43:49.792Z"
   },
   {
    "duration": 7,
    "start_time": "2024-05-01T09:43:49.804Z"
   },
   {
    "duration": 5,
    "start_time": "2024-05-01T09:43:49.813Z"
   },
   {
    "duration": 5,
    "start_time": "2024-05-01T09:43:49.820Z"
   },
   {
    "duration": 7,
    "start_time": "2024-05-01T09:43:49.827Z"
   },
   {
    "duration": 34,
    "start_time": "2024-05-01T09:43:49.836Z"
   },
   {
    "duration": 21,
    "start_time": "2024-05-01T09:43:49.871Z"
   },
   {
    "duration": 29,
    "start_time": "2024-05-01T09:43:49.894Z"
   },
   {
    "duration": 11,
    "start_time": "2024-05-01T09:43:49.924Z"
   },
   {
    "duration": 20,
    "start_time": "2024-05-01T09:43:49.936Z"
   },
   {
    "duration": 20,
    "start_time": "2024-05-01T09:43:49.958Z"
   },
   {
    "duration": 407,
    "start_time": "2024-05-01T09:43:49.980Z"
   },
   {
    "duration": 12,
    "start_time": "2024-05-01T09:43:50.389Z"
   },
   {
    "duration": 436,
    "start_time": "2024-05-01T09:43:50.403Z"
   },
   {
    "duration": 370,
    "start_time": "2024-05-01T09:43:50.841Z"
   },
   {
    "duration": 2012,
    "start_time": "2024-05-01T09:43:51.212Z"
   },
   {
    "duration": 500,
    "start_time": "2024-05-01T09:43:53.228Z"
   },
   {
    "duration": 4,
    "start_time": "2024-05-01T09:43:53.730Z"
   },
   {
    "duration": 472,
    "start_time": "2024-05-01T09:43:53.736Z"
   },
   {
    "duration": 305,
    "start_time": "2024-05-01T09:43:54.209Z"
   },
   {
    "duration": 385,
    "start_time": "2024-05-01T09:43:54.515Z"
   },
   {
    "duration": 513,
    "start_time": "2024-05-01T09:43:54.901Z"
   },
   {
    "duration": 301,
    "start_time": "2024-05-01T09:43:55.415Z"
   },
   {
    "duration": 298,
    "start_time": "2024-05-01T09:43:55.717Z"
   },
   {
    "duration": 380,
    "start_time": "2024-05-01T09:43:56.017Z"
   },
   {
    "duration": 20,
    "start_time": "2024-05-01T09:43:56.398Z"
   },
   {
    "duration": 20,
    "start_time": "2024-05-01T09:43:56.420Z"
   },
   {
    "duration": 28,
    "start_time": "2024-05-01T09:43:56.441Z"
   },
   {
    "duration": 15,
    "start_time": "2024-05-01T09:43:56.471Z"
   },
   {
    "duration": 19,
    "start_time": "2024-05-01T09:43:56.488Z"
   },
   {
    "duration": 196,
    "start_time": "2024-05-01T09:43:56.508Z"
   },
   {
    "duration": 15,
    "start_time": "2024-05-01T09:43:56.706Z"
   },
   {
    "duration": 9,
    "start_time": "2024-05-01T09:43:56.723Z"
   },
   {
    "duration": 11,
    "start_time": "2024-05-01T09:43:56.733Z"
   },
   {
    "duration": 33,
    "start_time": "2024-05-01T09:43:56.745Z"
   },
   {
    "duration": 30,
    "start_time": "2024-05-01T09:43:56.780Z"
   },
   {
    "duration": 1379,
    "start_time": "2024-05-22T15:27:10.201Z"
   },
   {
    "duration": 3,
    "start_time": "2024-05-22T15:27:11.582Z"
   },
   {
    "duration": 13,
    "start_time": "2024-05-22T15:27:11.586Z"
   },
   {
    "duration": 92,
    "start_time": "2024-05-22T15:27:11.601Z"
   },
   {
    "duration": 15,
    "start_time": "2024-05-22T15:27:11.695Z"
   },
   {
    "duration": 13,
    "start_time": "2024-05-22T15:27:11.711Z"
   },
   {
    "duration": 6,
    "start_time": "2024-05-22T15:27:11.726Z"
   },
   {
    "duration": 13,
    "start_time": "2024-05-22T15:27:11.734Z"
   },
   {
    "duration": 12,
    "start_time": "2024-05-22T15:27:11.748Z"
   },
   {
    "duration": 14,
    "start_time": "2024-05-22T15:27:11.762Z"
   },
   {
    "duration": 19,
    "start_time": "2024-05-22T15:27:11.780Z"
   },
   {
    "duration": 11,
    "start_time": "2024-05-22T15:27:11.801Z"
   },
   {
    "duration": 9,
    "start_time": "2024-05-22T15:27:11.813Z"
   },
   {
    "duration": 8,
    "start_time": "2024-05-22T15:27:11.824Z"
   },
   {
    "duration": 28,
    "start_time": "2024-05-22T15:27:11.833Z"
   },
   {
    "duration": 8,
    "start_time": "2024-05-22T15:27:11.863Z"
   },
   {
    "duration": 27,
    "start_time": "2024-05-22T15:27:11.872Z"
   },
   {
    "duration": 3,
    "start_time": "2024-05-22T15:27:11.901Z"
   },
   {
    "duration": 31,
    "start_time": "2024-05-22T15:27:11.906Z"
   },
   {
    "duration": 12,
    "start_time": "2024-05-22T15:27:11.939Z"
   },
   {
    "duration": 22,
    "start_time": "2024-05-22T15:27:11.952Z"
   },
   {
    "duration": 14,
    "start_time": "2024-05-22T15:27:11.975Z"
   },
   {
    "duration": 504,
    "start_time": "2024-05-22T15:27:11.991Z"
   },
   {
    "duration": 19,
    "start_time": "2024-05-22T15:27:12.497Z"
   },
   {
    "duration": 517,
    "start_time": "2024-05-22T15:27:12.518Z"
   },
   {
    "duration": 449,
    "start_time": "2024-05-22T15:27:13.036Z"
   },
   {
    "duration": 2354,
    "start_time": "2024-05-22T15:27:13.487Z"
   },
   {
    "duration": 619,
    "start_time": "2024-05-22T15:27:15.844Z"
   },
   {
    "duration": 5,
    "start_time": "2024-05-22T15:27:16.464Z"
   },
   {
    "duration": 576,
    "start_time": "2024-05-22T15:27:16.471Z"
   },
   {
    "duration": 363,
    "start_time": "2024-05-22T15:27:17.049Z"
   },
   {
    "duration": 433,
    "start_time": "2024-05-22T15:27:17.413Z"
   },
   {
    "duration": 567,
    "start_time": "2024-05-22T15:27:17.848Z"
   },
   {
    "duration": 316,
    "start_time": "2024-05-22T15:27:18.417Z"
   },
   {
    "duration": 348,
    "start_time": "2024-05-22T15:27:18.735Z"
   },
   {
    "duration": 409,
    "start_time": "2024-05-22T15:27:19.085Z"
   },
   {
    "duration": 24,
    "start_time": "2024-05-22T15:27:19.496Z"
   },
   {
    "duration": 25,
    "start_time": "2024-05-22T15:27:19.522Z"
   },
   {
    "duration": 42,
    "start_time": "2024-05-22T15:27:19.548Z"
   },
   {
    "duration": 19,
    "start_time": "2024-05-22T15:27:19.592Z"
   },
   {
    "duration": 27,
    "start_time": "2024-05-22T15:27:19.613Z"
   },
   {
    "duration": 255,
    "start_time": "2024-05-22T15:27:19.642Z"
   },
   {
    "duration": 19,
    "start_time": "2024-05-22T15:27:19.898Z"
   },
   {
    "duration": 10,
    "start_time": "2024-05-22T15:27:19.919Z"
   },
   {
    "duration": 53,
    "start_time": "2024-05-22T15:27:19.931Z"
   },
   {
    "duration": 47,
    "start_time": "2024-05-22T15:27:19.986Z"
   },
   {
    "duration": 13,
    "start_time": "2024-05-22T15:27:20.035Z"
   }
  ],
  "kernelspec": {
   "display_name": "Python 3 (ipykernel)",
   "language": "python",
   "name": "python3"
  },
  "language_info": {
   "codemirror_mode": {
    "name": "ipython",
    "version": 3
   },
   "file_extension": ".py",
   "mimetype": "text/x-python",
   "name": "python",
   "nbconvert_exporter": "python",
   "pygments_lexer": "ipython3",
   "version": "3.9.5"
  },
  "toc": {
   "base_numbering": 1,
   "nav_menu": {},
   "number_sections": true,
   "sideBar": true,
   "skip_h1_title": true,
   "title_cell": "Table of Contents",
   "title_sidebar": "Contents",
   "toc_cell": false,
   "toc_position": {},
   "toc_section_display": true,
   "toc_window_display": false
  }
 },
 "nbformat": 4,
 "nbformat_minor": 2
}
