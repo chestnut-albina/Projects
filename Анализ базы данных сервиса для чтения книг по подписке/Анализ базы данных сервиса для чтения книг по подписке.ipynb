{
 "cells": [
  {
   "cell_type": "markdown",
   "metadata": {},
   "source": [
    "# Анализ базы данных сервиса для чтения книг по подписке"
   ]
  },
  {
   "cell_type": "markdown",
   "metadata": {},
   "source": [
    "1. [Введение](#introduction)\n",
    "2. [Загрузка данных](#getting)\n",
    "3. [Анализ данных](#analys)\n",
    "* [Посчитаем, сколько книг вышло после 1 января 2000 года](#task_one)\n",
    "* [Для каждой книги посчитаем количество обзоров и среднюю оценку](#task_two)\n",
    "* [Определим издательство, которое выпустило наибольшее число книг толще 50 страниц — так мы исключим из анализа брошюры\n",
    "](#task_three)\n",
    "* [Определим  автора с самой высокой средней оценкой книг , будем  учитывать только книги с 50 и более оценками](#task_four)\n",
    "* [Посчитаем среднее количество обзоров от пользователей, которые поставили больше 48 оценок](#task_five)\n",
    "4. [Вывод](#conclusion)"
   ]
  },
  {
   "cell_type": "markdown",
   "metadata": {},
   "source": [
    "<a id=\"introduction\"></a> \n",
    "### Введение"
   ]
  },
  {
   "cell_type": "markdown",
   "metadata": {},
   "source": [
    "__Актуальность темы исследования.__ Коронавирус застал мир врасплох, изменив привычный порядок вещей. На какое-то время жители городов перестали выходить на улицу, посещать кафе и торговые центры. Зато стало больше времени для книг. Это заметили стартаперы — и бросились создавать приложения для тех, кто любит читать.\n",
    "Наша компания решила быть на волне и купила крупный сервис для чтения книг по подписке. Наша первая задача как аналитика — проанализировать базу данных.\n",
    "В ней — информация о книгах, издательствах, авторах, а также пользовательские обзоры книг. Эти данные помогут сформулировать ценностное предложение для нового продукта.\n",
    "\n",
    "__Цель проекта:__ провести анализ базы данных сервиса для чтения книг по подписке.\n",
    "\n",
    "__Задачи__ проекта:\n",
    "1. Посчитать, сколько книг вышло после 1 января 2000 года;\n",
    "2. Для каждой книги посчитать количество обзоров и среднюю оценку;\n",
    "3. Определить издательство, которое выпустило наибольшее число книг толще 50 страниц — так мы исключим из анализа брошюры;\n",
    "4. Определить автора с самой высокой средней оценкой книг, учитывая только книги с 50 и более оценками;\n",
    "5. Посчитать среднее количество обзоров от пользователей, которые поставили больше 48 оценок.\n",
    "\n",
    "__Объект__ исследования: сервис для чтения книг по подписке.\n",
    "\n",
    "__Предмет__ исследования: базы данных сервиса для чтения книг по подписке.\n",
    "\n",
    "\n",
    "__Структура БД__   :\n",
    "\n",
    "1. Таблица books содержит данные о книгах:\n",
    "\n",
    "* book_id — идентификатор книги;\n",
    "* author_id — идентификатор автора;\n",
    "* title — название книги;\n",
    "* num_pages — количество страниц;\n",
    "* publication_date — дата публикации книги;\n",
    "* publisher_id — идентификатор издателя.\n",
    "\n",
    "2. Таблица authors содержит данные об авторах:\n",
    "\n",
    "* author_id — идентификатор автора;\n",
    "* author — имя автора.\n",
    "\n",
    "3. Таблица publishers содержит данные об издательствах:\n",
    "\n",
    "* publisher_id — идентификатор издательства;\n",
    "* publisher — название издательства;\n",
    "\n",
    "4. Таблица ratings содержит данные о пользовательских оценках книг:\n",
    "\n",
    "* rating_id — идентификатор оценки;\n",
    "* book_id — идентификатор книги;\n",
    "* username — имя пользователя, оставившего оценку;\n",
    "* rating — оценка книги.\n",
    "\n",
    "5. Таблица reviews содержит данные о пользовательских обзорах:\n",
    "\n",
    "* review_id — идентификатор обзора;\n",
    "* book_id — идентификатор книги;\n",
    "* username — имя автора обзора;\n",
    "* text — текст обзора.\n",
    "\n",
    "    \n",
    "В дорожную карту проекта включили следующие этапы:\n",
    "1. Загрузка, первичный осмотр данных\n",
    "2. Проведение анализа данных\n",
    "3. Выводы"
   ]
  },
  {
   "cell_type": "markdown",
   "metadata": {},
   "source": [
    "<a id=\"getting\"></a> \n",
    "### Загрузим данные и исследуем таблицы "
   ]
  },
  {
   "cell_type": "code",
   "execution_count": 15,
   "metadata": {},
   "outputs": [],
   "source": [
    "# импортируем библиотеки \n",
    "import pandas as pd \n",
    "from sqlalchemy import text, create_engine "
   ]
  },
  {
   "cell_type": "code",
   "execution_count": 16,
   "metadata": {},
   "outputs": [],
   "source": [
    "pd.set_option('display.max_columns', None)"
   ]
  },
  {
   "cell_type": "code",
   "execution_count": 17,
   "metadata": {},
   "outputs": [],
   "source": [
    "# устанавливаем параметры \n",
    "db_config = {'user': 'praktikum_student',                     # имя пользователя \n",
    "             'pwd':  'Sdf4$2;d-d30pp',                        # пароль \n",
    "             'host': 'rc1b-wcoijxj3yxfsf3fs.mdb.yandexcloud.net', \n",
    "             'port':  6432,                                   # порт подключения \n",
    "             'db':   'data-analyst-final-project-db'}         # название базы данных \n",
    "connection_string = 'postgresql://{user}:{pwd}@{host}:{port}/{db}'.format(**db_config) \n",
    " \n",
    "# сохраняем коннектор \n",
    "engine = create_engine(connection_string, connect_args={'sslmode':'require'}) "
   ]
  },
  {
   "cell_type": "code",
   "execution_count": 18,
   "metadata": {},
   "outputs": [
    {
     "name": "stdout",
     "output_type": "stream",
     "text": [
      "Таблица books\n",
      "\n"
     ]
    },
    {
     "data": {
      "text/html": [
       "<div>\n",
       "<style scoped>\n",
       "    .dataframe tbody tr th:only-of-type {\n",
       "        vertical-align: middle;\n",
       "    }\n",
       "\n",
       "    .dataframe tbody tr th {\n",
       "        vertical-align: top;\n",
       "    }\n",
       "\n",
       "    .dataframe thead th {\n",
       "        text-align: right;\n",
       "    }\n",
       "</style>\n",
       "<table border=\"1\" class=\"dataframe\">\n",
       "  <thead>\n",
       "    <tr style=\"text-align: right;\">\n",
       "      <th></th>\n",
       "      <th>book_id</th>\n",
       "      <th>author_id</th>\n",
       "      <th>title</th>\n",
       "      <th>num_pages</th>\n",
       "      <th>publication_date</th>\n",
       "      <th>publisher_id</th>\n",
       "    </tr>\n",
       "  </thead>\n",
       "  <tbody>\n",
       "    <tr>\n",
       "      <th>0</th>\n",
       "      <td>1</td>\n",
       "      <td>546</td>\n",
       "      <td>'Salem's Lot</td>\n",
       "      <td>594</td>\n",
       "      <td>2005-11-01</td>\n",
       "      <td>93</td>\n",
       "    </tr>\n",
       "    <tr>\n",
       "      <th>1</th>\n",
       "      <td>2</td>\n",
       "      <td>465</td>\n",
       "      <td>1 000 Places to See Before You Die</td>\n",
       "      <td>992</td>\n",
       "      <td>2003-05-22</td>\n",
       "      <td>336</td>\n",
       "    </tr>\n",
       "    <tr>\n",
       "      <th>2</th>\n",
       "      <td>3</td>\n",
       "      <td>407</td>\n",
       "      <td>13 Little Blue Envelopes (Little Blue Envelope...</td>\n",
       "      <td>322</td>\n",
       "      <td>2010-12-21</td>\n",
       "      <td>135</td>\n",
       "    </tr>\n",
       "    <tr>\n",
       "      <th>3</th>\n",
       "      <td>4</td>\n",
       "      <td>82</td>\n",
       "      <td>1491: New Revelations of the Americas Before C...</td>\n",
       "      <td>541</td>\n",
       "      <td>2006-10-10</td>\n",
       "      <td>309</td>\n",
       "    </tr>\n",
       "    <tr>\n",
       "      <th>4</th>\n",
       "      <td>5</td>\n",
       "      <td>125</td>\n",
       "      <td>1776</td>\n",
       "      <td>386</td>\n",
       "      <td>2006-07-04</td>\n",
       "      <td>268</td>\n",
       "    </tr>\n",
       "  </tbody>\n",
       "</table>\n",
       "</div>"
      ],
      "text/plain": [
       "   book_id  author_id                                              title  \\\n",
       "0        1        546                                       'Salem's Lot   \n",
       "1        2        465                 1 000 Places to See Before You Die   \n",
       "2        3        407  13 Little Blue Envelopes (Little Blue Envelope...   \n",
       "3        4         82  1491: New Revelations of the Americas Before C...   \n",
       "4        5        125                                               1776   \n",
       "\n",
       "   num_pages publication_date  publisher_id  \n",
       "0        594       2005-11-01            93  \n",
       "1        992       2003-05-22           336  \n",
       "2        322       2010-12-21           135  \n",
       "3        541       2006-10-10           309  \n",
       "4        386       2006-07-04           268  "
      ]
     },
     "metadata": {},
     "output_type": "display_data"
    },
    {
     "name": "stdout",
     "output_type": "stream",
     "text": [
      "**************************************************\n",
      "Таблица authors\n",
      "\n"
     ]
    },
    {
     "data": {
      "text/html": [
       "<div>\n",
       "<style scoped>\n",
       "    .dataframe tbody tr th:only-of-type {\n",
       "        vertical-align: middle;\n",
       "    }\n",
       "\n",
       "    .dataframe tbody tr th {\n",
       "        vertical-align: top;\n",
       "    }\n",
       "\n",
       "    .dataframe thead th {\n",
       "        text-align: right;\n",
       "    }\n",
       "</style>\n",
       "<table border=\"1\" class=\"dataframe\">\n",
       "  <thead>\n",
       "    <tr style=\"text-align: right;\">\n",
       "      <th></th>\n",
       "      <th>author_id</th>\n",
       "      <th>author</th>\n",
       "    </tr>\n",
       "  </thead>\n",
       "  <tbody>\n",
       "    <tr>\n",
       "      <th>0</th>\n",
       "      <td>1</td>\n",
       "      <td>A.S. Byatt</td>\n",
       "    </tr>\n",
       "    <tr>\n",
       "      <th>1</th>\n",
       "      <td>2</td>\n",
       "      <td>Aesop/Laura Harris/Laura Gibbs</td>\n",
       "    </tr>\n",
       "    <tr>\n",
       "      <th>2</th>\n",
       "      <td>3</td>\n",
       "      <td>Agatha Christie</td>\n",
       "    </tr>\n",
       "    <tr>\n",
       "      <th>3</th>\n",
       "      <td>4</td>\n",
       "      <td>Alan Brennert</td>\n",
       "    </tr>\n",
       "    <tr>\n",
       "      <th>4</th>\n",
       "      <td>5</td>\n",
       "      <td>Alan Moore/David   Lloyd</td>\n",
       "    </tr>\n",
       "  </tbody>\n",
       "</table>\n",
       "</div>"
      ],
      "text/plain": [
       "   author_id                          author\n",
       "0          1                      A.S. Byatt\n",
       "1          2  Aesop/Laura Harris/Laura Gibbs\n",
       "2          3                 Agatha Christie\n",
       "3          4                   Alan Brennert\n",
       "4          5        Alan Moore/David   Lloyd"
      ]
     },
     "metadata": {},
     "output_type": "display_data"
    },
    {
     "name": "stdout",
     "output_type": "stream",
     "text": [
      "**************************************************\n",
      "Таблица ratings\n",
      "\n"
     ]
    },
    {
     "data": {
      "text/html": [
       "<div>\n",
       "<style scoped>\n",
       "    .dataframe tbody tr th:only-of-type {\n",
       "        vertical-align: middle;\n",
       "    }\n",
       "\n",
       "    .dataframe tbody tr th {\n",
       "        vertical-align: top;\n",
       "    }\n",
       "\n",
       "    .dataframe thead th {\n",
       "        text-align: right;\n",
       "    }\n",
       "</style>\n",
       "<table border=\"1\" class=\"dataframe\">\n",
       "  <thead>\n",
       "    <tr style=\"text-align: right;\">\n",
       "      <th></th>\n",
       "      <th>rating_id</th>\n",
       "      <th>book_id</th>\n",
       "      <th>username</th>\n",
       "      <th>rating</th>\n",
       "    </tr>\n",
       "  </thead>\n",
       "  <tbody>\n",
       "    <tr>\n",
       "      <th>0</th>\n",
       "      <td>1</td>\n",
       "      <td>1</td>\n",
       "      <td>ryanfranco</td>\n",
       "      <td>4</td>\n",
       "    </tr>\n",
       "    <tr>\n",
       "      <th>1</th>\n",
       "      <td>2</td>\n",
       "      <td>1</td>\n",
       "      <td>grantpatricia</td>\n",
       "      <td>2</td>\n",
       "    </tr>\n",
       "    <tr>\n",
       "      <th>2</th>\n",
       "      <td>3</td>\n",
       "      <td>1</td>\n",
       "      <td>brandtandrea</td>\n",
       "      <td>5</td>\n",
       "    </tr>\n",
       "    <tr>\n",
       "      <th>3</th>\n",
       "      <td>4</td>\n",
       "      <td>2</td>\n",
       "      <td>lorichen</td>\n",
       "      <td>3</td>\n",
       "    </tr>\n",
       "    <tr>\n",
       "      <th>4</th>\n",
       "      <td>5</td>\n",
       "      <td>2</td>\n",
       "      <td>mariokeller</td>\n",
       "      <td>2</td>\n",
       "    </tr>\n",
       "  </tbody>\n",
       "</table>\n",
       "</div>"
      ],
      "text/plain": [
       "   rating_id  book_id       username  rating\n",
       "0          1        1     ryanfranco       4\n",
       "1          2        1  grantpatricia       2\n",
       "2          3        1   brandtandrea       5\n",
       "3          4        2       lorichen       3\n",
       "4          5        2    mariokeller       2"
      ]
     },
     "metadata": {},
     "output_type": "display_data"
    },
    {
     "name": "stdout",
     "output_type": "stream",
     "text": [
      "**************************************************\n",
      "Таблица reviews\n",
      "\n"
     ]
    },
    {
     "data": {
      "text/html": [
       "<div>\n",
       "<style scoped>\n",
       "    .dataframe tbody tr th:only-of-type {\n",
       "        vertical-align: middle;\n",
       "    }\n",
       "\n",
       "    .dataframe tbody tr th {\n",
       "        vertical-align: top;\n",
       "    }\n",
       "\n",
       "    .dataframe thead th {\n",
       "        text-align: right;\n",
       "    }\n",
       "</style>\n",
       "<table border=\"1\" class=\"dataframe\">\n",
       "  <thead>\n",
       "    <tr style=\"text-align: right;\">\n",
       "      <th></th>\n",
       "      <th>review_id</th>\n",
       "      <th>book_id</th>\n",
       "      <th>username</th>\n",
       "      <th>text</th>\n",
       "    </tr>\n",
       "  </thead>\n",
       "  <tbody>\n",
       "    <tr>\n",
       "      <th>0</th>\n",
       "      <td>1</td>\n",
       "      <td>1</td>\n",
       "      <td>brandtandrea</td>\n",
       "      <td>Mention society tell send professor analysis. ...</td>\n",
       "    </tr>\n",
       "    <tr>\n",
       "      <th>1</th>\n",
       "      <td>2</td>\n",
       "      <td>1</td>\n",
       "      <td>ryanfranco</td>\n",
       "      <td>Foot glass pretty audience hit themselves. Amo...</td>\n",
       "    </tr>\n",
       "    <tr>\n",
       "      <th>2</th>\n",
       "      <td>3</td>\n",
       "      <td>2</td>\n",
       "      <td>lorichen</td>\n",
       "      <td>Listen treat keep worry. Miss husband tax but ...</td>\n",
       "    </tr>\n",
       "    <tr>\n",
       "      <th>3</th>\n",
       "      <td>4</td>\n",
       "      <td>3</td>\n",
       "      <td>johnsonamanda</td>\n",
       "      <td>Finally month interesting blue could nature cu...</td>\n",
       "    </tr>\n",
       "    <tr>\n",
       "      <th>4</th>\n",
       "      <td>5</td>\n",
       "      <td>3</td>\n",
       "      <td>scotttamara</td>\n",
       "      <td>Nation purpose heavy give wait song will. List...</td>\n",
       "    </tr>\n",
       "  </tbody>\n",
       "</table>\n",
       "</div>"
      ],
      "text/plain": [
       "   review_id  book_id       username  \\\n",
       "0          1        1   brandtandrea   \n",
       "1          2        1     ryanfranco   \n",
       "2          3        2       lorichen   \n",
       "3          4        3  johnsonamanda   \n",
       "4          5        3    scotttamara   \n",
       "\n",
       "                                                text  \n",
       "0  Mention society tell send professor analysis. ...  \n",
       "1  Foot glass pretty audience hit themselves. Amo...  \n",
       "2  Listen treat keep worry. Miss husband tax but ...  \n",
       "3  Finally month interesting blue could nature cu...  \n",
       "4  Nation purpose heavy give wait song will. List...  "
      ]
     },
     "metadata": {},
     "output_type": "display_data"
    },
    {
     "name": "stdout",
     "output_type": "stream",
     "text": [
      "**************************************************\n",
      "Таблица publishers\n",
      "\n"
     ]
    },
    {
     "data": {
      "text/html": [
       "<div>\n",
       "<style scoped>\n",
       "    .dataframe tbody tr th:only-of-type {\n",
       "        vertical-align: middle;\n",
       "    }\n",
       "\n",
       "    .dataframe tbody tr th {\n",
       "        vertical-align: top;\n",
       "    }\n",
       "\n",
       "    .dataframe thead th {\n",
       "        text-align: right;\n",
       "    }\n",
       "</style>\n",
       "<table border=\"1\" class=\"dataframe\">\n",
       "  <thead>\n",
       "    <tr style=\"text-align: right;\">\n",
       "      <th></th>\n",
       "      <th>publisher_id</th>\n",
       "      <th>publisher</th>\n",
       "    </tr>\n",
       "  </thead>\n",
       "  <tbody>\n",
       "    <tr>\n",
       "      <th>0</th>\n",
       "      <td>1</td>\n",
       "      <td>Ace</td>\n",
       "    </tr>\n",
       "    <tr>\n",
       "      <th>1</th>\n",
       "      <td>2</td>\n",
       "      <td>Ace Book</td>\n",
       "    </tr>\n",
       "    <tr>\n",
       "      <th>2</th>\n",
       "      <td>3</td>\n",
       "      <td>Ace Books</td>\n",
       "    </tr>\n",
       "    <tr>\n",
       "      <th>3</th>\n",
       "      <td>4</td>\n",
       "      <td>Ace Hardcover</td>\n",
       "    </tr>\n",
       "    <tr>\n",
       "      <th>4</th>\n",
       "      <td>5</td>\n",
       "      <td>Addison Wesley Publishing Company</td>\n",
       "    </tr>\n",
       "  </tbody>\n",
       "</table>\n",
       "</div>"
      ],
      "text/plain": [
       "   publisher_id                          publisher\n",
       "0             1                                Ace\n",
       "1             2                           Ace Book\n",
       "2             3                          Ace Books\n",
       "3             4                      Ace Hardcover\n",
       "4             5  Addison Wesley Publishing Company"
      ]
     },
     "metadata": {},
     "output_type": "display_data"
    },
    {
     "name": "stdout",
     "output_type": "stream",
     "text": [
      "**************************************************\n"
     ]
    }
   ],
   "source": [
    "table_name = ['books', 'authors', 'ratings', 'reviews', 'publishers']\n",
    "for name in table_name:\n",
    "    query_one = f'''SELECT * FROM {name} LIMIT 5''' \n",
    "    con=engine.connect() \n",
    "    df = pd.io.sql.read_sql(sql=text(query_one), con = con)\n",
    "    print(f'Таблица {name}')\n",
    "    print()\n",
    "    display(df)\n",
    "    print('*'*50)"
   ]
  },
  {
   "cell_type": "markdown",
   "metadata": {},
   "source": [
    "<a id=\"analys\"></a> \n",
    "### Анализ данных"
   ]
  },
  {
   "cell_type": "markdown",
   "metadata": {},
   "source": [
    "<a id=\"task_one\"></a> \n",
    "#### Посчитаем, сколько книг вышло после 1 января 2000 года"
   ]
  },
  {
   "cell_type": "code",
   "execution_count": 10,
   "metadata": {},
   "outputs": [
    {
     "data": {
      "text/html": [
       "<div>\n",
       "<style scoped>\n",
       "    .dataframe tbody tr th:only-of-type {\n",
       "        vertical-align: middle;\n",
       "    }\n",
       "\n",
       "    .dataframe tbody tr th {\n",
       "        vertical-align: top;\n",
       "    }\n",
       "\n",
       "    .dataframe thead th {\n",
       "        text-align: right;\n",
       "    }\n",
       "</style>\n",
       "<table border=\"1\" class=\"dataframe\">\n",
       "  <thead>\n",
       "    <tr style=\"text-align: right;\">\n",
       "      <th></th>\n",
       "      <th>book_count</th>\n",
       "    </tr>\n",
       "  </thead>\n",
       "  <tbody>\n",
       "    <tr>\n",
       "      <th>0</th>\n",
       "      <td>819</td>\n",
       "    </tr>\n",
       "  </tbody>\n",
       "</table>\n",
       "</div>"
      ],
      "text/plain": [
       "   book_count\n",
       "0         819"
      ]
     },
     "execution_count": 10,
     "metadata": {},
     "output_type": "execute_result"
    }
   ],
   "source": [
    "query_one = '''SELECT COUNT(book_id) as book_count \n",
    "               FROM   books \n",
    "               WHERE  (cast(publication_date as date) > '2000-01-01') \n",
    "            ''' \n",
    "\n",
    "con=engine.connect() \n",
    "pd.io.sql.read_sql(sql=text(query_one), con = con)\n"
   ]
  },
  {
   "cell_type": "markdown",
   "metadata": {},
   "source": [
    "После 1 января 2000 года вышло 819 книг"
   ]
  },
  {
   "cell_type": "markdown",
   "metadata": {},
   "source": [
    "<a id=\"task_two\"></a> \n",
    "#### Для каждой книги посчитаем количество обзоров и среднюю оценку"
   ]
  },
  {
   "cell_type": "code",
   "execution_count": 11,
   "metadata": {},
   "outputs": [
    {
     "data": {
      "text/html": [
       "<div>\n",
       "<style scoped>\n",
       "    .dataframe tbody tr th:only-of-type {\n",
       "        vertical-align: middle;\n",
       "    }\n",
       "\n",
       "    .dataframe tbody tr th {\n",
       "        vertical-align: top;\n",
       "    }\n",
       "\n",
       "    .dataframe thead th {\n",
       "        text-align: right;\n",
       "    }\n",
       "</style>\n",
       "<table border=\"1\" class=\"dataframe\">\n",
       "  <thead>\n",
       "    <tr style=\"text-align: right;\">\n",
       "      <th></th>\n",
       "      <th>title</th>\n",
       "      <th>review</th>\n",
       "      <th>rating</th>\n",
       "    </tr>\n",
       "  </thead>\n",
       "  <tbody>\n",
       "    <tr>\n",
       "      <th>0</th>\n",
       "      <td>A Dirty Job (Grim Reaper  #1)</td>\n",
       "      <td>4</td>\n",
       "      <td>5.0</td>\n",
       "    </tr>\n",
       "    <tr>\n",
       "      <th>1</th>\n",
       "      <td>Moneyball: The Art of Winning an Unfair Game</td>\n",
       "      <td>3</td>\n",
       "      <td>5.0</td>\n",
       "    </tr>\n",
       "    <tr>\n",
       "      <th>2</th>\n",
       "      <td>School's Out—Forever (Maximum Ride  #2)</td>\n",
       "      <td>3</td>\n",
       "      <td>5.0</td>\n",
       "    </tr>\n",
       "    <tr>\n",
       "      <th>3</th>\n",
       "      <td>A Fistful of Charms (The Hollows  #4)</td>\n",
       "      <td>2</td>\n",
       "      <td>5.0</td>\n",
       "    </tr>\n",
       "    <tr>\n",
       "      <th>4</th>\n",
       "      <td>A Woman of Substance (Emma Harte Saga #1)</td>\n",
       "      <td>2</td>\n",
       "      <td>5.0</td>\n",
       "    </tr>\n",
       "    <tr>\n",
       "      <th>5</th>\n",
       "      <td>Act of Treason (Mitch Rapp  #9)</td>\n",
       "      <td>2</td>\n",
       "      <td>5.0</td>\n",
       "    </tr>\n",
       "    <tr>\n",
       "      <th>6</th>\n",
       "      <td>Alas  Babylon</td>\n",
       "      <td>2</td>\n",
       "      <td>5.0</td>\n",
       "    </tr>\n",
       "    <tr>\n",
       "      <th>7</th>\n",
       "      <td>Angels Fall</td>\n",
       "      <td>2</td>\n",
       "      <td>5.0</td>\n",
       "    </tr>\n",
       "    <tr>\n",
       "      <th>8</th>\n",
       "      <td>Arrows of the Queen (Heralds of Valdemar  #1)</td>\n",
       "      <td>2</td>\n",
       "      <td>5.0</td>\n",
       "    </tr>\n",
       "    <tr>\n",
       "      <th>9</th>\n",
       "      <td>Captivating: Unveiling the Mystery of a Woman'...</td>\n",
       "      <td>2</td>\n",
       "      <td>5.0</td>\n",
       "    </tr>\n",
       "  </tbody>\n",
       "</table>\n",
       "</div>"
      ],
      "text/plain": [
       "                                               title  review  rating\n",
       "0                      A Dirty Job (Grim Reaper  #1)       4     5.0\n",
       "1       Moneyball: The Art of Winning an Unfair Game       3     5.0\n",
       "2            School's Out—Forever (Maximum Ride  #2)       3     5.0\n",
       "3              A Fistful of Charms (The Hollows  #4)       2     5.0\n",
       "4          A Woman of Substance (Emma Harte Saga #1)       2     5.0\n",
       "5                    Act of Treason (Mitch Rapp  #9)       2     5.0\n",
       "6                                      Alas  Babylon       2     5.0\n",
       "7                                        Angels Fall       2     5.0\n",
       "8      Arrows of the Queen (Heralds of Valdemar  #1)       2     5.0\n",
       "9  Captivating: Unveiling the Mystery of a Woman'...       2     5.0"
      ]
     },
     "execution_count": 11,
     "metadata": {},
     "output_type": "execute_result"
    }
   ],
   "source": [
    "query_one = '''with \n",
    "               one as (SELECT    book_id,\n",
    "                                 COUNT(review_id) as review_count\n",
    "                       FROM      reviews\n",
    "                       GROUP BY  book_id\n",
    "                       ORDER BY  review_count DESC),\n",
    "             \n",
    "               two as (SELECT    book_id,\n",
    "                                 avg(rating) as rating_avg\n",
    "                       FROM      ratings\n",
    "                       GROUP BY  book_id\n",
    "                       ORDER BY  rating_avg DESC)\n",
    "               SELECT     b.title as title,\n",
    "                          one.review_count as review,\n",
    "                          ROUND(two.rating_avg,2) as rating\n",
    "               FROM       books as b\n",
    "               LEFT JOIN one on one.book_id = b.book_id           \n",
    "               LEFT JOIN  two on two.book_id = b.book_id           \n",
    "               ORDER BY   rating desc,\n",
    "                          review desc,\n",
    "                          title\n",
    "               LIMIT      10\n",
    "             ''' \n",
    "con=engine.connect() \n",
    "pd.io.sql.read_sql(sql=text(query_one), con = con)"
   ]
  },
  {
   "cell_type": "markdown",
   "metadata": {},
   "source": [
    "<a id=\"task_three\"></a> \n",
    "#### Определим издательство, которое выпустило наибольшее число книг толще 50 страниц — так мы исключим из анализа брошюры"
   ]
  },
  {
   "cell_type": "code",
   "execution_count": 12,
   "metadata": {},
   "outputs": [
    {
     "data": {
      "text/html": [
       "<div>\n",
       "<style scoped>\n",
       "    .dataframe tbody tr th:only-of-type {\n",
       "        vertical-align: middle;\n",
       "    }\n",
       "\n",
       "    .dataframe tbody tr th {\n",
       "        vertical-align: top;\n",
       "    }\n",
       "\n",
       "    .dataframe thead th {\n",
       "        text-align: right;\n",
       "    }\n",
       "</style>\n",
       "<table border=\"1\" class=\"dataframe\">\n",
       "  <thead>\n",
       "    <tr style=\"text-align: right;\">\n",
       "      <th></th>\n",
       "      <th>publisher</th>\n",
       "      <th>book_count</th>\n",
       "    </tr>\n",
       "  </thead>\n",
       "  <tbody>\n",
       "    <tr>\n",
       "      <th>0</th>\n",
       "      <td>Penguin Books</td>\n",
       "      <td>42</td>\n",
       "    </tr>\n",
       "  </tbody>\n",
       "</table>\n",
       "</div>"
      ],
      "text/plain": [
       "       publisher  book_count\n",
       "0  Penguin Books          42"
      ]
     },
     "execution_count": 12,
     "metadata": {},
     "output_type": "execute_result"
    }
   ],
   "source": [
    "query_one = '''SELECT    p.publisher as publisher,\n",
    "                         count(b.book_id) as book_count\n",
    "               FROM      publishers as p\n",
    "               LEFT JOIN books as b on b.publisher_id = p.publisher_id\n",
    "               WHERE     b.num_pages > 50\n",
    "               GROUP BY  publisher\n",
    "               ORDER BY  book_count desc\n",
    "               LIMIT     1\n",
    "             ''' \n",
    "\n",
    "con=engine.connect() \n",
    "pd.io.sql.read_sql(sql=text(query_one), con = con)"
   ]
  },
  {
   "cell_type": "markdown",
   "metadata": {},
   "source": [
    "Издательство 'Penguin Books' выпустило наибольшее число книг с количеством страниц больше 50  "
   ]
  },
  {
   "cell_type": "markdown",
   "metadata": {},
   "source": [
    "<a id=\"task_four\"></a> \n",
    "#### Определим  автора с самой высокой средней оценкой книг , будем  учитывать только книги с 50 и более оценками"
   ]
  },
  {
   "cell_type": "code",
   "execution_count": 13,
   "metadata": {},
   "outputs": [
    {
     "data": {
      "text/html": [
       "<div>\n",
       "<style scoped>\n",
       "    .dataframe tbody tr th:only-of-type {\n",
       "        vertical-align: middle;\n",
       "    }\n",
       "\n",
       "    .dataframe tbody tr th {\n",
       "        vertical-align: top;\n",
       "    }\n",
       "\n",
       "    .dataframe thead th {\n",
       "        text-align: right;\n",
       "    }\n",
       "</style>\n",
       "<table border=\"1\" class=\"dataframe\">\n",
       "  <thead>\n",
       "    <tr style=\"text-align: right;\">\n",
       "      <th></th>\n",
       "      <th>author</th>\n",
       "      <th>round</th>\n",
       "    </tr>\n",
       "  </thead>\n",
       "  <tbody>\n",
       "    <tr>\n",
       "      <th>0</th>\n",
       "      <td>J.K. Rowling/Mary GrandPré</td>\n",
       "      <td>4.29</td>\n",
       "    </tr>\n",
       "  </tbody>\n",
       "</table>\n",
       "</div>"
      ],
      "text/plain": [
       "                       author  round\n",
       "0  J.K. Rowling/Mary GrandPré   4.29"
      ]
     },
     "execution_count": 13,
     "metadata": {},
     "output_type": "execute_result"
    }
   ],
   "source": [
    "query_one = '''with \n",
    "               one as (SELECT    book_id,\n",
    "                                 round(avg(rating),2) as rating_avg\n",
    "                       FROM      ratings\n",
    "                       GROUP BY  book_id\n",
    "                       HAVING    COUNT(rating_id) >= 50\n",
    "                       ORDER BY  rating_avg desc),\n",
    "             \n",
    "               two as (SELECT      b.author_id,\n",
    "                                   avg(one.rating_avg) as rating_author_avg\n",
    "                       FROM        books as b\n",
    "                       INNER JOIN  one on one.book_id = b.book_id\n",
    "                       GROUP BY    author_id\n",
    "                       ORDER BY    rating_author_avg  desc\n",
    "                       LIMIT       1)\n",
    "               SELECT     a.author,\n",
    "                          round(two.rating_author_avg,2)\n",
    "               FROM       authors as a\n",
    "               INNER JOIN two on two.author_id = a.author_id           \n",
    "  \n",
    "            ''' \n",
    "con=engine.connect() \n",
    "pd.io.sql.read_sql(sql=text(query_one), con = con)"
   ]
  },
  {
   "cell_type": "markdown",
   "metadata": {},
   "source": [
    "J.K. Rowling/Mary GrandPre - дуэт авторов с самой высокой средней оценкой книг 4.29"
   ]
  },
  {
   "cell_type": "markdown",
   "metadata": {},
   "source": [
    "<a id=\"task_five\"></a> \n",
    "#### Посчитаем среднее количество обзоров от пользователей, которые поставили больше 48 оценок"
   ]
  },
  {
   "cell_type": "code",
   "execution_count": 14,
   "metadata": {},
   "outputs": [
    {
     "data": {
      "text/html": [
       "<div>\n",
       "<style scoped>\n",
       "    .dataframe tbody tr th:only-of-type {\n",
       "        vertical-align: middle;\n",
       "    }\n",
       "\n",
       "    .dataframe tbody tr th {\n",
       "        vertical-align: top;\n",
       "    }\n",
       "\n",
       "    .dataframe thead th {\n",
       "        text-align: right;\n",
       "    }\n",
       "</style>\n",
       "<table border=\"1\" class=\"dataframe\">\n",
       "  <thead>\n",
       "    <tr style=\"text-align: right;\">\n",
       "      <th></th>\n",
       "      <th>avg</th>\n",
       "    </tr>\n",
       "  </thead>\n",
       "  <tbody>\n",
       "    <tr>\n",
       "      <th>0</th>\n",
       "      <td>24.0</td>\n",
       "    </tr>\n",
       "  </tbody>\n",
       "</table>\n",
       "</div>"
      ],
      "text/plain": [
       "    avg\n",
       "0  24.0"
      ]
     },
     "execution_count": 14,
     "metadata": {},
     "output_type": "execute_result"
    }
   ],
   "source": [
    "query_one = '''SELECT AVG(rev_count) \n",
    "               FROM   (SELECT   username,\n",
    "                                COUNT(review_id) as rev_count\n",
    "                       FROM     reviews\n",
    "                       WHERE    username in (SELECT    username\n",
    "                                             FROM      ratings\n",
    "                                             GROUP BY  username\n",
    "                                             HAVING    COUNT(rating_id) > 48)\n",
    "                       GROUP BY username) as five\n",
    "                            \n",
    "             ''' \n",
    "con=engine.connect() \n",
    "pd.io.sql.read_sql(sql=text(query_one), con = con)"
   ]
  },
  {
   "cell_type": "markdown",
   "metadata": {},
   "source": [
    "Среднее количество обзоров от пользователей, которые поставили больше 48 оценок, равно 24"
   ]
  },
  {
   "cell_type": "markdown",
   "metadata": {},
   "source": [
    "<a id=\"conclusion\"></a>\n",
    "### Вывод\n",
    "\n",
    "__Цель__ нашего проекта заключалась в том, чтобы провести анализ базы данных сервиса для чтения книг по подписке.\n",
    "\n",
    "__Задачи__ проекта:\n",
    "1. Посчитать, сколько книг вышло после 1 января 2000 года;\n",
    "2. Для каждой книги посчитать количество обзоров и среднюю оценку;\n",
    "3. Определить издательство, которое выпустило наибольшее число книг толще 50 страниц — так мы исключим из анализа брошюры;\n",
    "4. Определить автора с самой высокой средней оценкой книг, учитывая только книги с 50 и более оценками;\n",
    "5. Посчитать среднее количество обзоров от пользователей, которые поставили больше 48 оценок.\n",
    "\n",
    "\n",
    "В нашем распоряжении пять таблиц:\n",
    "* таблица books содержит данные о книгах;\n",
    "* таблица authors содержит данные об авторах;\n",
    "* таблица publishers содержит данные об издательствах;\n",
    "* таблица ratings содержит данные о пользовательских оценках книг;\n",
    "* таблица reviews содержит данные о пользовательских обзорах\n",
    "\n",
    "Работу выполнили в два этапа.\n",
    "\n",
    "На __первом этапе__ загрузили и познакомились с данными\n",
    "\n",
    "На __втором этапе__  мы провели анализ данных и выяснили следующее:\n",
    "\n",
    "1. После 1 января 2000 года вышло __819__ книг\n",
    "2. Для каждой книги посчитали количество обзоров и среднюю оценку\n",
    "3. Издательство __'Penguin Books'__ выпустило наибольшее число книг с количеством страниц 50 и больше \n",
    "4. __J.K. Rowling/Mary GrandPre__ - дуэт авторов с самой высокой средней оценкой книг\n",
    "5. Среднее количество обзоров от пользователей, которые поставили больше 48 оценок, равно __24__ .\n",
    "\n"
   ]
  }
 ],
 "metadata": {
  "ExecuteTimeLog": [
   {
    "duration": 501,
    "start_time": "2024-05-02T15:47:29.534Z"
   },
   {
    "duration": 4,
    "start_time": "2024-05-02T15:47:30.460Z"
   },
   {
    "duration": 426,
    "start_time": "2024-05-02T15:47:41.692Z"
   },
   {
    "duration": 2,
    "start_time": "2024-05-02T15:53:15.125Z"
   },
   {
    "duration": 6972,
    "start_time": "2024-05-02T15:53:17.770Z"
   },
   {
    "duration": 45,
    "start_time": "2024-05-02T15:53:28.445Z"
   },
   {
    "duration": 35,
    "start_time": "2024-05-02T15:53:38.843Z"
   },
   {
    "duration": 10,
    "start_time": "2024-05-02T15:53:43.721Z"
   },
   {
    "duration": 12,
    "start_time": "2024-05-02T15:53:46.338Z"
   },
   {
    "duration": 65,
    "start_time": "2024-05-02T15:53:49.540Z"
   },
   {
    "duration": 11,
    "start_time": "2024-05-02T15:54:36.739Z"
   },
   {
    "duration": 64,
    "start_time": "2024-05-02T16:12:22.490Z"
   },
   {
    "duration": 57,
    "start_time": "2024-05-02T16:15:23.722Z"
   },
   {
    "duration": 67,
    "start_time": "2024-05-02T16:18:32.726Z"
   },
   {
    "duration": 75,
    "start_time": "2024-05-02T16:23:23.007Z"
   },
   {
    "duration": 73,
    "start_time": "2024-05-02T16:25:59.983Z"
   },
   {
    "duration": 25,
    "start_time": "2024-05-02T16:26:12.086Z"
   },
   {
    "duration": 20,
    "start_time": "2024-05-02T16:27:30.321Z"
   },
   {
    "duration": 44,
    "start_time": "2024-05-02T16:34:33.878Z"
   },
   {
    "duration": 56,
    "start_time": "2024-05-02T16:35:28.880Z"
   },
   {
    "duration": 10,
    "start_time": "2024-05-02T16:37:56.615Z"
   },
   {
    "duration": 23,
    "start_time": "2024-05-02T16:55:48.915Z"
   },
   {
    "duration": 25,
    "start_time": "2024-05-02T17:01:27.030Z"
   },
   {
    "duration": 57,
    "start_time": "2024-05-02T17:02:29.025Z"
   },
   {
    "duration": 24,
    "start_time": "2024-05-02T17:03:40.151Z"
   },
   {
    "duration": 20,
    "start_time": "2024-05-02T17:04:19.552Z"
   },
   {
    "duration": 588,
    "start_time": "2024-05-03T05:04:36.057Z"
   },
   {
    "duration": 7525,
    "start_time": "2024-05-03T05:04:36.846Z"
   },
   {
    "duration": 56,
    "start_time": "2024-05-03T05:04:44.373Z"
   },
   {
    "duration": 30,
    "start_time": "2024-05-03T05:04:44.431Z"
   },
   {
    "duration": 12,
    "start_time": "2024-05-03T05:04:44.463Z"
   },
   {
    "duration": 13,
    "start_time": "2024-05-03T05:04:44.476Z"
   },
   {
    "duration": 11,
    "start_time": "2024-05-03T05:04:44.490Z"
   },
   {
    "duration": 13,
    "start_time": "2024-05-03T05:04:53.484Z"
   },
   {
    "duration": 24,
    "start_time": "2024-05-03T05:06:00.326Z"
   },
   {
    "duration": 22,
    "start_time": "2024-05-03T05:16:02.236Z"
   },
   {
    "duration": 16,
    "start_time": "2024-05-03T05:16:25.302Z"
   },
   {
    "duration": 113,
    "start_time": "2024-05-03T05:25:34.923Z"
   },
   {
    "duration": 17,
    "start_time": "2024-05-03T05:26:50.201Z"
   },
   {
    "duration": 52,
    "start_time": "2024-05-03T05:28:40.972Z"
   },
   {
    "duration": 22,
    "start_time": "2024-05-03T05:30:19.291Z"
   },
   {
    "duration": 20,
    "start_time": "2024-05-03T05:31:11.378Z"
   },
   {
    "duration": 16,
    "start_time": "2024-05-03T05:31:31.785Z"
   },
   {
    "duration": 16,
    "start_time": "2024-05-03T05:32:08.390Z"
   },
   {
    "duration": 15,
    "start_time": "2024-05-03T05:35:05.508Z"
   },
   {
    "duration": 16,
    "start_time": "2024-05-03T05:35:43.201Z"
   },
   {
    "duration": 13,
    "start_time": "2024-05-03T05:36:13.168Z"
   },
   {
    "duration": 23,
    "start_time": "2024-05-03T05:38:07.897Z"
   },
   {
    "duration": 12,
    "start_time": "2024-05-03T05:38:24.041Z"
   },
   {
    "duration": 53,
    "start_time": "2024-05-03T05:49:41.842Z"
   },
   {
    "duration": 15,
    "start_time": "2024-05-03T05:49:50.585Z"
   },
   {
    "duration": 24,
    "start_time": "2024-05-03T05:58:05.076Z"
   },
   {
    "duration": 29,
    "start_time": "2024-05-03T05:58:53.453Z"
   },
   {
    "duration": 23,
    "start_time": "2024-05-03T06:00:38.028Z"
   },
   {
    "duration": 64,
    "start_time": "2024-05-03T06:00:58.468Z"
   },
   {
    "duration": 34,
    "start_time": "2024-05-03T06:01:14.545Z"
   },
   {
    "duration": 23,
    "start_time": "2024-05-03T06:02:26.231Z"
   },
   {
    "duration": 29,
    "start_time": "2024-05-03T06:03:50.245Z"
   },
   {
    "duration": 25,
    "start_time": "2024-05-03T06:05:17.166Z"
   },
   {
    "duration": 18,
    "start_time": "2024-05-03T06:48:17.776Z"
   },
   {
    "duration": 30,
    "start_time": "2024-05-03T07:28:11.907Z"
   },
   {
    "duration": 17,
    "start_time": "2024-05-03T07:29:15.733Z"
   },
   {
    "duration": 22,
    "start_time": "2024-05-03T07:30:04.832Z"
   },
   {
    "duration": 20,
    "start_time": "2024-05-03T07:34:11.822Z"
   },
   {
    "duration": 24,
    "start_time": "2024-05-03T07:38:15.742Z"
   },
   {
    "duration": 14,
    "start_time": "2024-05-03T07:40:13.246Z"
   },
   {
    "duration": 70,
    "start_time": "2024-05-03T07:43:09.715Z"
   },
   {
    "duration": 19,
    "start_time": "2024-05-03T08:17:04.311Z"
   },
   {
    "duration": 28,
    "start_time": "2024-05-03T08:18:40.500Z"
   },
   {
    "duration": 13,
    "start_time": "2024-05-03T08:18:45.428Z"
   },
   {
    "duration": 22,
    "start_time": "2024-05-03T08:21:55.701Z"
   },
   {
    "duration": 17,
    "start_time": "2024-05-03T08:32:17.970Z"
   },
   {
    "duration": 24,
    "start_time": "2024-05-03T08:32:58.665Z"
   },
   {
    "duration": 20,
    "start_time": "2024-05-03T08:34:12.215Z"
   },
   {
    "duration": 20,
    "start_time": "2024-05-03T08:34:24.680Z"
   },
   {
    "duration": 23,
    "start_time": "2024-05-03T08:40:11.057Z"
   },
   {
    "duration": 22,
    "start_time": "2024-05-03T08:40:42.861Z"
   },
   {
    "duration": 41,
    "start_time": "2024-05-03T08:41:14.283Z"
   },
   {
    "duration": 17,
    "start_time": "2024-05-03T08:41:26.275Z"
   },
   {
    "duration": 16,
    "start_time": "2024-05-03T08:42:43.705Z"
   },
   {
    "duration": 28,
    "start_time": "2024-05-03T08:42:59.992Z"
   },
   {
    "duration": 21,
    "start_time": "2024-05-03T08:45:12.385Z"
   },
   {
    "duration": 17,
    "start_time": "2024-05-03T08:46:58.473Z"
   },
   {
    "duration": 47,
    "start_time": "2024-05-03T08:48:12.046Z"
   },
   {
    "duration": 15,
    "start_time": "2024-05-03T08:50:59.493Z"
   },
   {
    "duration": 15,
    "start_time": "2024-05-03T08:52:51.914Z"
   },
   {
    "duration": 14,
    "start_time": "2024-05-03T08:53:08.194Z"
   },
   {
    "duration": 23,
    "start_time": "2024-05-03T08:54:07.986Z"
   },
   {
    "duration": 13,
    "start_time": "2024-05-03T08:54:22.829Z"
   },
   {
    "duration": 42,
    "start_time": "2024-05-03T08:55:00.259Z"
   },
   {
    "duration": 14,
    "start_time": "2024-05-03T08:56:03.880Z"
   },
   {
    "duration": 16,
    "start_time": "2024-05-03T08:57:04.560Z"
   },
   {
    "duration": 14,
    "start_time": "2024-05-03T08:58:42.271Z"
   },
   {
    "duration": 13,
    "start_time": "2024-05-03T09:01:48.558Z"
   },
   {
    "duration": 24,
    "start_time": "2024-05-03T09:03:26.032Z"
   },
   {
    "duration": 17,
    "start_time": "2024-05-03T09:04:49.413Z"
   },
   {
    "duration": 48,
    "start_time": "2024-05-03T09:05:54.846Z"
   },
   {
    "duration": 16,
    "start_time": "2024-05-03T09:06:02.622Z"
   },
   {
    "duration": 46,
    "start_time": "2024-05-03T09:08:18.794Z"
   },
   {
    "duration": 22,
    "start_time": "2024-05-03T09:11:11.746Z"
   },
   {
    "duration": 14,
    "start_time": "2024-05-03T09:11:26.883Z"
   },
   {
    "duration": 40,
    "start_time": "2024-05-03T09:11:38.915Z"
   },
   {
    "duration": 22,
    "start_time": "2024-05-03T09:15:25.365Z"
   },
   {
    "duration": 14,
    "start_time": "2024-05-03T09:16:46.282Z"
   },
   {
    "duration": 15,
    "start_time": "2024-05-03T09:17:10.522Z"
   },
   {
    "duration": 21,
    "start_time": "2024-05-03T09:18:35.121Z"
   },
   {
    "duration": 27,
    "start_time": "2024-05-03T09:24:14.000Z"
   },
   {
    "duration": 40,
    "start_time": "2024-05-03T09:24:27.296Z"
   },
   {
    "duration": 574,
    "start_time": "2024-05-03T10:18:40.058Z"
   },
   {
    "duration": 7737,
    "start_time": "2024-05-03T10:18:40.633Z"
   },
   {
    "duration": 49,
    "start_time": "2024-05-03T10:18:48.372Z"
   },
   {
    "duration": 33,
    "start_time": "2024-05-03T10:18:48.423Z"
   },
   {
    "duration": 14,
    "start_time": "2024-05-03T10:18:48.458Z"
   },
   {
    "duration": 28,
    "start_time": "2024-05-03T10:18:48.474Z"
   },
   {
    "duration": 17,
    "start_time": "2024-05-03T10:18:48.504Z"
   },
   {
    "duration": 11,
    "start_time": "2024-05-03T10:18:48.523Z"
   },
   {
    "duration": 24,
    "start_time": "2024-05-03T10:18:48.535Z"
   },
   {
    "duration": 13,
    "start_time": "2024-05-03T10:18:48.561Z"
   },
   {
    "duration": 15,
    "start_time": "2024-05-03T10:18:48.576Z"
   },
   {
    "duration": 15,
    "start_time": "2024-05-03T10:18:48.593Z"
   },
   {
    "duration": 28,
    "start_time": "2024-05-03T10:18:48.609Z"
   },
   {
    "duration": 14,
    "start_time": "2024-05-03T10:18:48.639Z"
   },
   {
    "duration": 33,
    "start_time": "2024-05-03T10:18:48.655Z"
   },
   {
    "duration": 12,
    "start_time": "2024-05-03T10:18:48.690Z"
   },
   {
    "duration": 15,
    "start_time": "2024-05-03T10:21:33.875Z"
   },
   {
    "duration": 13,
    "start_time": "2024-05-03T10:21:57.661Z"
   },
   {
    "duration": 14,
    "start_time": "2024-05-03T10:22:20.234Z"
   },
   {
    "duration": 12,
    "start_time": "2024-05-03T10:29:04.383Z"
   },
   {
    "duration": 25,
    "start_time": "2024-05-03T10:43:44.063Z"
   },
   {
    "duration": 28,
    "start_time": "2024-05-03T10:44:52.903Z"
   },
   {
    "duration": 547,
    "start_time": "2024-05-03T10:45:20.074Z"
   },
   {
    "duration": 498,
    "start_time": "2024-05-04T09:34:20.631Z"
   },
   {
    "duration": 7950,
    "start_time": "2024-05-04T09:34:21.132Z"
   },
   {
    "duration": 56,
    "start_time": "2024-05-04T09:34:29.083Z"
   },
   {
    "duration": 39,
    "start_time": "2024-05-04T09:34:29.141Z"
   },
   {
    "duration": 11,
    "start_time": "2024-05-04T09:34:29.182Z"
   },
   {
    "duration": 15,
    "start_time": "2024-05-04T09:34:29.194Z"
   },
   {
    "duration": 18,
    "start_time": "2024-05-04T09:34:29.211Z"
   },
   {
    "duration": 16,
    "start_time": "2024-05-04T09:34:29.230Z"
   },
   {
    "duration": 31,
    "start_time": "2024-05-04T09:34:29.248Z"
   },
   {
    "duration": 12,
    "start_time": "2024-05-04T09:34:29.281Z"
   },
   {
    "duration": 21,
    "start_time": "2024-05-04T09:34:29.294Z"
   },
   {
    "duration": 18,
    "start_time": "2024-05-04T09:34:29.317Z"
   },
   {
    "duration": 542,
    "start_time": "2024-05-04T10:54:56.870Z"
   },
   {
    "duration": 7686,
    "start_time": "2024-05-04T10:54:57.758Z"
   },
   {
    "duration": 66,
    "start_time": "2024-05-04T10:55:05.445Z"
   },
   {
    "duration": 40,
    "start_time": "2024-05-04T10:55:05.513Z"
   },
   {
    "duration": 12,
    "start_time": "2024-05-04T10:55:05.555Z"
   },
   {
    "duration": 22,
    "start_time": "2024-05-04T10:55:05.568Z"
   },
   {
    "duration": 20,
    "start_time": "2024-05-04T10:55:05.592Z"
   },
   {
    "duration": 11,
    "start_time": "2024-05-04T10:55:08.451Z"
   },
   {
    "duration": 24,
    "start_time": "2024-05-04T10:55:16.110Z"
   },
   {
    "duration": 13,
    "start_time": "2024-05-04T10:55:23.996Z"
   },
   {
    "duration": 65,
    "start_time": "2024-05-04T10:55:39.679Z"
   },
   {
    "duration": 99,
    "start_time": "2024-05-04T10:57:52.546Z"
   },
   {
    "duration": 15,
    "start_time": "2024-05-04T10:58:35.426Z"
   },
   {
    "duration": 44,
    "start_time": "2024-05-04T11:00:53.844Z"
   },
   {
    "duration": 22,
    "start_time": "2024-05-04T11:01:00.412Z"
   },
   {
    "duration": 51,
    "start_time": "2024-05-04T11:03:37.966Z"
   },
   {
    "duration": 15,
    "start_time": "2024-05-04T11:06:02.618Z"
   },
   {
    "duration": 16,
    "start_time": "2024-05-04T11:09:02.309Z"
   },
   {
    "duration": 14,
    "start_time": "2024-05-04T11:09:28.289Z"
   },
   {
    "duration": 15,
    "start_time": "2024-05-04T11:09:45.637Z"
   },
   {
    "duration": 14,
    "start_time": "2024-05-04T11:09:57.823Z"
   },
   {
    "duration": 14,
    "start_time": "2024-05-04T11:10:19.406Z"
   },
   {
    "duration": 15,
    "start_time": "2024-05-04T11:11:44.110Z"
   },
   {
    "duration": 14,
    "start_time": "2024-05-04T11:12:05.134Z"
   },
   {
    "duration": 15,
    "start_time": "2024-05-04T11:14:10.339Z"
   },
   {
    "duration": 16,
    "start_time": "2024-05-04T11:15:34.120Z"
   },
   {
    "duration": 16,
    "start_time": "2024-05-04T11:17:08.869Z"
   },
   {
    "duration": 15,
    "start_time": "2024-05-04T11:17:33.831Z"
   },
   {
    "duration": 16,
    "start_time": "2024-05-04T11:20:02.751Z"
   },
   {
    "duration": 15,
    "start_time": "2024-05-04T11:22:56.331Z"
   },
   {
    "duration": 14,
    "start_time": "2024-05-04T11:23:18.204Z"
   },
   {
    "duration": 14,
    "start_time": "2024-05-04T11:23:46.316Z"
   },
   {
    "duration": 22,
    "start_time": "2024-05-04T11:29:53.123Z"
   },
   {
    "duration": 20,
    "start_time": "2024-05-04T11:29:59.807Z"
   },
   {
    "duration": 11,
    "start_time": "2024-05-04T11:30:17.668Z"
   },
   {
    "duration": 47,
    "start_time": "2024-05-04T11:32:49.710Z"
   },
   {
    "duration": 23,
    "start_time": "2024-05-04T11:42:52.433Z"
   },
   {
    "duration": 18,
    "start_time": "2024-05-04T11:45:06.438Z"
   },
   {
    "duration": 17,
    "start_time": "2024-05-04T11:45:33.278Z"
   },
   {
    "duration": 15,
    "start_time": "2024-05-04T11:46:51.200Z"
   },
   {
    "duration": 19,
    "start_time": "2024-05-04T11:47:21.472Z"
   },
   {
    "duration": 24,
    "start_time": "2024-05-04T11:48:31.995Z"
   },
   {
    "duration": 22,
    "start_time": "2024-05-04T11:49:24.107Z"
   },
   {
    "duration": 17,
    "start_time": "2024-05-04T11:50:08.281Z"
   },
   {
    "duration": 19,
    "start_time": "2024-05-04T11:51:09.998Z"
   },
   {
    "duration": 20,
    "start_time": "2024-05-04T11:51:51.583Z"
   },
   {
    "duration": 18,
    "start_time": "2024-05-04T11:52:16.314Z"
   },
   {
    "duration": 18,
    "start_time": "2024-05-04T11:52:43.664Z"
   },
   {
    "duration": 18,
    "start_time": "2024-05-04T11:55:50.407Z"
   },
   {
    "duration": 18,
    "start_time": "2024-05-04T11:57:48.424Z"
   },
   {
    "duration": 19,
    "start_time": "2024-05-04T11:58:37.714Z"
   },
   {
    "duration": 18,
    "start_time": "2024-05-04T11:59:58.170Z"
   },
   {
    "duration": 18,
    "start_time": "2024-05-04T12:01:06.036Z"
   },
   {
    "duration": 18,
    "start_time": "2024-05-04T12:02:03.479Z"
   },
   {
    "duration": 18,
    "start_time": "2024-05-04T12:02:46.789Z"
   },
   {
    "duration": 12,
    "start_time": "2024-05-04T12:03:40.487Z"
   },
   {
    "duration": 25,
    "start_time": "2024-05-04T12:37:55.992Z"
   },
   {
    "duration": 2,
    "start_time": "2024-05-04T12:38:15.179Z"
   },
   {
    "duration": 4,
    "start_time": "2024-05-04T12:38:15.773Z"
   },
   {
    "duration": 100,
    "start_time": "2024-05-04T12:38:18.467Z"
   },
   {
    "duration": 25,
    "start_time": "2024-05-04T12:38:41.188Z"
   },
   {
    "duration": 23,
    "start_time": "2024-05-04T12:39:12.113Z"
   },
   {
    "duration": 22,
    "start_time": "2024-05-04T12:39:59.660Z"
   },
   {
    "duration": 25,
    "start_time": "2024-05-04T12:46:58.024Z"
   },
   {
    "duration": 5,
    "start_time": "2024-05-04T12:53:51.260Z"
   },
   {
    "duration": 4,
    "start_time": "2024-05-04T12:54:58.238Z"
   },
   {
    "duration": 4,
    "start_time": "2024-05-04T12:55:43.438Z"
   },
   {
    "duration": 19,
    "start_time": "2024-05-04T12:58:37.371Z"
   },
   {
    "duration": 38,
    "start_time": "2024-05-04T12:59:45.106Z"
   },
   {
    "duration": 21,
    "start_time": "2024-05-04T12:59:49.953Z"
   },
   {
    "duration": 2,
    "start_time": "2024-05-04T13:01:22.736Z"
   },
   {
    "duration": 4,
    "start_time": "2024-05-04T13:01:23.269Z"
   },
   {
    "duration": 92,
    "start_time": "2024-05-04T13:05:28.914Z"
   },
   {
    "duration": 25,
    "start_time": "2024-05-04T13:06:35.276Z"
   },
   {
    "duration": 15,
    "start_time": "2024-05-04T13:07:23.157Z"
   },
   {
    "duration": 3,
    "start_time": "2024-05-04T13:14:06.901Z"
   },
   {
    "duration": 4,
    "start_time": "2024-05-04T13:14:07.597Z"
   },
   {
    "duration": 58,
    "start_time": "2024-05-04T13:14:24.205Z"
   },
   {
    "duration": 46,
    "start_time": "2024-05-04T15:18:32.735Z"
   },
   {
    "duration": 474,
    "start_time": "2024-05-04T15:18:46.103Z"
   },
   {
    "duration": 4769,
    "start_time": "2024-05-04T15:18:48.437Z"
   },
   {
    "duration": 473,
    "start_time": "2024-05-04T15:18:53.207Z"
   },
   {
    "duration": 242,
    "start_time": "2024-05-04T15:19:27.062Z"
   },
   {
    "duration": 40,
    "start_time": "2024-05-04T15:20:08.734Z"
   },
   {
    "duration": 61,
    "start_time": "2024-05-04T15:20:18.991Z"
   },
   {
    "duration": 43,
    "start_time": "2024-05-04T15:20:35.456Z"
   },
   {
    "duration": 240,
    "start_time": "2024-05-04T15:20:53.774Z"
   },
   {
    "duration": 43,
    "start_time": "2024-05-04T15:21:33.288Z"
   },
   {
    "duration": 51,
    "start_time": "2024-05-04T15:27:27.264Z"
   },
   {
    "duration": 232,
    "start_time": "2024-05-04T15:28:04.511Z"
   },
   {
    "duration": 231,
    "start_time": "2024-05-04T15:29:41.449Z"
   },
   {
    "duration": 53,
    "start_time": "2024-05-04T15:30:15.843Z"
   },
   {
    "duration": 39,
    "start_time": "2024-05-04T15:31:11.615Z"
   },
   {
    "duration": 237,
    "start_time": "2024-05-04T15:33:16.448Z"
   },
   {
    "duration": 2,
    "start_time": "2024-05-04T15:35:30.969Z"
   },
   {
    "duration": 3,
    "start_time": "2024-05-04T15:35:31.464Z"
   },
   {
    "duration": 3,
    "start_time": "2024-05-04T15:35:32.736Z"
   },
   {
    "duration": 487,
    "start_time": "2024-05-04T15:35:37.138Z"
   },
   {
    "duration": 554,
    "start_time": "2024-05-06T08:35:37.997Z"
   },
   {
    "duration": 4,
    "start_time": "2024-05-06T08:35:38.703Z"
   },
   {
    "duration": 7430,
    "start_time": "2024-05-06T08:35:39.479Z"
   },
   {
    "duration": 102,
    "start_time": "2024-05-06T08:35:48.457Z"
   },
   {
    "duration": 34,
    "start_time": "2024-05-06T08:39:10.398Z"
   },
   {
    "duration": 608,
    "start_time": "2024-05-06T08:46:20.688Z"
   },
   {
    "duration": 3,
    "start_time": "2024-05-06T08:46:21.297Z"
   },
   {
    "duration": 7800,
    "start_time": "2024-05-06T08:46:21.302Z"
   },
   {
    "duration": 80,
    "start_time": "2024-05-06T08:46:29.105Z"
   },
   {
    "duration": 18,
    "start_time": "2024-05-06T08:46:29.187Z"
   },
   {
    "duration": 11,
    "start_time": "2024-05-06T08:46:29.206Z"
   },
   {
    "duration": 25,
    "start_time": "2024-05-06T08:46:29.218Z"
   },
   {
    "duration": 29,
    "start_time": "2024-05-06T08:46:29.244Z"
   },
   {
    "duration": 21,
    "start_time": "2024-05-06T08:46:29.275Z"
   },
   {
    "duration": 12,
    "start_time": "2024-05-06T08:46:29.299Z"
   },
   {
    "duration": 40,
    "start_time": "2024-05-06T08:46:29.312Z"
   },
   {
    "duration": 78,
    "start_time": "2024-05-06T08:46:29.354Z"
   },
   {
    "duration": 96,
    "start_time": "2024-05-06T08:46:29.433Z"
   },
   {
    "duration": 33,
    "start_time": "2024-05-06T08:46:29.531Z"
   },
   {
    "duration": 4,
    "start_time": "2024-05-06T09:43:52.076Z"
   },
   {
    "duration": 3,
    "start_time": "2024-05-06T09:43:52.670Z"
   },
   {
    "duration": 5,
    "start_time": "2024-05-06T09:43:53.268Z"
   },
   {
    "duration": 110,
    "start_time": "2024-05-06T09:44:05.150Z"
   }
  ],
  "kernelspec": {
   "display_name": "Python 3 (ipykernel)",
   "language": "python",
   "name": "python3"
  },
  "language_info": {
   "codemirror_mode": {
    "name": "ipython",
    "version": 3
   },
   "file_extension": ".py",
   "mimetype": "text/x-python",
   "name": "python",
   "nbconvert_exporter": "python",
   "pygments_lexer": "ipython3",
   "version": "3.9.5"
  },
  "toc": {
   "base_numbering": 1,
   "nav_menu": {},
   "number_sections": true,
   "sideBar": true,
   "skip_h1_title": true,
   "title_cell": "Table of Contents",
   "title_sidebar": "Contents",
   "toc_cell": false,
   "toc_position": {},
   "toc_section_display": true,
   "toc_window_display": false
  }
 },
 "nbformat": 4,
 "nbformat_minor": 2
}
